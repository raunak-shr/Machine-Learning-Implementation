{
 "cells": [
  {
   "cell_type": "markdown",
   "id": "439c208a",
   "metadata": {},
   "source": [
    "![pandas](https://i.redd.it/c6h7rok9c2v31.jpg)\n",
    "*By Shreeyansh Das, Source: gfg, Pandas Documentation*"
   ]
  },
  {
   "cell_type": "code",
   "execution_count": 1,
   "id": "e36e6a5f",
   "metadata": {},
   "outputs": [],
   "source": [
    "import pandas as pd\n",
    "import numpy as np\n",
    "import seaborn as sns"
   ]
  },
  {
   "cell_type": "markdown",
   "id": "8727d213",
   "metadata": {},
   "source": [
    "---\n",
    "---\n",
    "# 1. Manipulating Dataset\n",
    "---\n",
    "---\n",
    "Data Manipulation generally consists of adding rows/columns, deleting them, changing column names or their positions."
   ]
  },
  {
   "cell_type": "markdown",
   "id": "441b5edc",
   "metadata": {},
   "source": [
    "## 1.1 Insertion Operations\n",
    "\n",
    "### 1.1.1 Inserting Column\n",
    "\n",
    "`DataFrame.insert(location, columnName, values, allow_duplicates = False)` - Insert a column at specified Location. Raises a ValueError if column is already contained in the DataFrame, unless allow_duplicates is set to True.\n",
    "\n",
    "* **Insert at any place** "
   ]
  },
  {
   "cell_type": "code",
   "execution_count": 2,
   "id": "52b6e4a8",
   "metadata": {},
   "outputs": [],
   "source": [
    "df = sns.load_dataset('iris')"
   ]
  },
  {
   "cell_type": "code",
   "execution_count": 3,
   "id": "b8722cee",
   "metadata": {},
   "outputs": [],
   "source": [
    "df.insert(len(df.columns), \"New Column\", np.random.normal(size = (len(df),1) ) ) "
   ]
  },
  {
   "cell_type": "code",
   "execution_count": 4,
   "id": "4752ebdf",
   "metadata": {},
   "outputs": [
    {
     "data": {
      "text/html": [
       "<div>\n",
       "<style scoped>\n",
       "    .dataframe tbody tr th:only-of-type {\n",
       "        vertical-align: middle;\n",
       "    }\n",
       "\n",
       "    .dataframe tbody tr th {\n",
       "        vertical-align: top;\n",
       "    }\n",
       "\n",
       "    .dataframe thead th {\n",
       "        text-align: right;\n",
       "    }\n",
       "</style>\n",
       "<table border=\"1\" class=\"dataframe\">\n",
       "  <thead>\n",
       "    <tr style=\"text-align: right;\">\n",
       "      <th></th>\n",
       "      <th>sepal_length</th>\n",
       "      <th>sepal_width</th>\n",
       "      <th>petal_length</th>\n",
       "      <th>petal_width</th>\n",
       "      <th>species</th>\n",
       "      <th>New Column</th>\n",
       "    </tr>\n",
       "  </thead>\n",
       "  <tbody>\n",
       "    <tr>\n",
       "      <th>0</th>\n",
       "      <td>5.1</td>\n",
       "      <td>3.5</td>\n",
       "      <td>1.4</td>\n",
       "      <td>0.2</td>\n",
       "      <td>setosa</td>\n",
       "      <td>-1.309737</td>\n",
       "    </tr>\n",
       "    <tr>\n",
       "      <th>1</th>\n",
       "      <td>4.9</td>\n",
       "      <td>3.0</td>\n",
       "      <td>1.4</td>\n",
       "      <td>0.2</td>\n",
       "      <td>setosa</td>\n",
       "      <td>0.807481</td>\n",
       "    </tr>\n",
       "    <tr>\n",
       "      <th>2</th>\n",
       "      <td>4.7</td>\n",
       "      <td>3.2</td>\n",
       "      <td>1.3</td>\n",
       "      <td>0.2</td>\n",
       "      <td>setosa</td>\n",
       "      <td>-0.537893</td>\n",
       "    </tr>\n",
       "    <tr>\n",
       "      <th>3</th>\n",
       "      <td>4.6</td>\n",
       "      <td>3.1</td>\n",
       "      <td>1.5</td>\n",
       "      <td>0.2</td>\n",
       "      <td>setosa</td>\n",
       "      <td>-1.517388</td>\n",
       "    </tr>\n",
       "    <tr>\n",
       "      <th>4</th>\n",
       "      <td>5.0</td>\n",
       "      <td>3.6</td>\n",
       "      <td>1.4</td>\n",
       "      <td>0.2</td>\n",
       "      <td>setosa</td>\n",
       "      <td>-0.190272</td>\n",
       "    </tr>\n",
       "  </tbody>\n",
       "</table>\n",
       "</div>"
      ],
      "text/plain": [
       "   sepal_length  sepal_width  petal_length  petal_width species  New Column\n",
       "0           5.1          3.5           1.4          0.2  setosa   -1.309737\n",
       "1           4.9          3.0           1.4          0.2  setosa    0.807481\n",
       "2           4.7          3.2           1.3          0.2  setosa   -0.537893\n",
       "3           4.6          3.1           1.5          0.2  setosa   -1.517388\n",
       "4           5.0          3.6           1.4          0.2  setosa   -0.190272"
      ]
     },
     "execution_count": 4,
     "metadata": {},
     "output_type": "execute_result"
    }
   ],
   "source": [
    "df.head()"
   ]
  },
  {
   "cell_type": "markdown",
   "id": "8cb7affe",
   "metadata": {},
   "source": [
    "* **Insert at end**"
   ]
  },
  {
   "cell_type": "code",
   "execution_count": 5,
   "id": "80b7697d",
   "metadata": {},
   "outputs": [],
   "source": [
    "df['New Column 2'] = np.random.normal(size= (len(df),1) )"
   ]
  },
  {
   "cell_type": "code",
   "execution_count": 6,
   "id": "5cabeb7e",
   "metadata": {},
   "outputs": [
    {
     "data": {
      "text/html": [
       "<div>\n",
       "<style scoped>\n",
       "    .dataframe tbody tr th:only-of-type {\n",
       "        vertical-align: middle;\n",
       "    }\n",
       "\n",
       "    .dataframe tbody tr th {\n",
       "        vertical-align: top;\n",
       "    }\n",
       "\n",
       "    .dataframe thead th {\n",
       "        text-align: right;\n",
       "    }\n",
       "</style>\n",
       "<table border=\"1\" class=\"dataframe\">\n",
       "  <thead>\n",
       "    <tr style=\"text-align: right;\">\n",
       "      <th></th>\n",
       "      <th>sepal_length</th>\n",
       "      <th>sepal_width</th>\n",
       "      <th>petal_length</th>\n",
       "      <th>petal_width</th>\n",
       "      <th>species</th>\n",
       "      <th>New Column</th>\n",
       "      <th>New Column 2</th>\n",
       "    </tr>\n",
       "  </thead>\n",
       "  <tbody>\n",
       "    <tr>\n",
       "      <th>0</th>\n",
       "      <td>5.1</td>\n",
       "      <td>3.5</td>\n",
       "      <td>1.4</td>\n",
       "      <td>0.2</td>\n",
       "      <td>setosa</td>\n",
       "      <td>-1.309737</td>\n",
       "      <td>0.931180</td>\n",
       "    </tr>\n",
       "    <tr>\n",
       "      <th>1</th>\n",
       "      <td>4.9</td>\n",
       "      <td>3.0</td>\n",
       "      <td>1.4</td>\n",
       "      <td>0.2</td>\n",
       "      <td>setosa</td>\n",
       "      <td>0.807481</td>\n",
       "      <td>0.053178</td>\n",
       "    </tr>\n",
       "    <tr>\n",
       "      <th>2</th>\n",
       "      <td>4.7</td>\n",
       "      <td>3.2</td>\n",
       "      <td>1.3</td>\n",
       "      <td>0.2</td>\n",
       "      <td>setosa</td>\n",
       "      <td>-0.537893</td>\n",
       "      <td>1.233451</td>\n",
       "    </tr>\n",
       "  </tbody>\n",
       "</table>\n",
       "</div>"
      ],
      "text/plain": [
       "   sepal_length  sepal_width  petal_length  petal_width species  New Column  \\\n",
       "0           5.1          3.5           1.4          0.2  setosa   -1.309737   \n",
       "1           4.9          3.0           1.4          0.2  setosa    0.807481   \n",
       "2           4.7          3.2           1.3          0.2  setosa   -0.537893   \n",
       "\n",
       "   New Column 2  \n",
       "0      0.931180  \n",
       "1      0.053178  \n",
       "2      1.233451  "
      ]
     },
     "execution_count": 6,
     "metadata": {},
     "output_type": "execute_result"
    }
   ],
   "source": [
    "df.head(3)"
   ]
  },
  {
   "cell_type": "markdown",
   "id": "4d63e094",
   "metadata": {},
   "source": [
    "### 1.1.2 Inserting Rows\n",
    "\n",
    "* **Inserting at BOTTOM**\n",
    "\n",
    "`DataFrame.append(other, ignore_index=False)` - Append rows of *other* to the end of caller, returning a new object. Columns in *other* that are not in the caller are added as new columns. *other* can be a dictionary with key value pairs, **values being passed as a list**. Returns a copy of the DataFrame. Original dataframe remains unchanged."
   ]
  },
  {
   "cell_type": "code",
   "execution_count": 7,
   "id": "e93d5766",
   "metadata": {},
   "outputs": [
    {
     "data": {
      "text/html": [
       "<div>\n",
       "<style scoped>\n",
       "    .dataframe tbody tr th:only-of-type {\n",
       "        vertical-align: middle;\n",
       "    }\n",
       "\n",
       "    .dataframe tbody tr th {\n",
       "        vertical-align: top;\n",
       "    }\n",
       "\n",
       "    .dataframe thead th {\n",
       "        text-align: right;\n",
       "    }\n",
       "</style>\n",
       "<table border=\"1\" class=\"dataframe\">\n",
       "  <thead>\n",
       "    <tr style=\"text-align: right;\">\n",
       "      <th></th>\n",
       "      <th>sepal_length</th>\n",
       "      <th>sepal_width</th>\n",
       "      <th>petal_length</th>\n",
       "      <th>petal_width</th>\n",
       "      <th>species</th>\n",
       "      <th>New Column</th>\n",
       "      <th>New Column 2</th>\n",
       "    </tr>\n",
       "  </thead>\n",
       "  <tbody>\n",
       "    <tr>\n",
       "      <th>0</th>\n",
       "      <td>4.3</td>\n",
       "      <td>3.6</td>\n",
       "      <td>1.4</td>\n",
       "      <td>0.2</td>\n",
       "      <td>virginica</td>\n",
       "      <td>0.94447</td>\n",
       "      <td>0.495838</td>\n",
       "    </tr>\n",
       "  </tbody>\n",
       "</table>\n",
       "</div>"
      ],
      "text/plain": [
       "   sepal_length  sepal_width  petal_length  petal_width    species  \\\n",
       "0           4.3          3.6           1.4          0.2  virginica   \n",
       "\n",
       "   New Column  New Column 2  \n",
       "0     0.94447      0.495838  "
      ]
     },
     "execution_count": 7,
     "metadata": {},
     "output_type": "execute_result"
    }
   ],
   "source": [
    "new_entry = pd.DataFrame({\"sepal_length\":[4.3], \"sepal_width\":[3.6], \"petal_length\":[1.4], \"petal_width\":[0.2], \n",
    "                          \"species\":[\"virginica\"], \"New Column\":[np.random.rand()], \"New Column 2\":[np.random.rand()]})\n",
    "new_entry"
   ]
  },
  {
   "cell_type": "code",
   "execution_count": 8,
   "id": "010f43c5",
   "metadata": {},
   "outputs": [
    {
     "data": {
      "text/html": [
       "<div>\n",
       "<style scoped>\n",
       "    .dataframe tbody tr th:only-of-type {\n",
       "        vertical-align: middle;\n",
       "    }\n",
       "\n",
       "    .dataframe tbody tr th {\n",
       "        vertical-align: top;\n",
       "    }\n",
       "\n",
       "    .dataframe thead th {\n",
       "        text-align: right;\n",
       "    }\n",
       "</style>\n",
       "<table border=\"1\" class=\"dataframe\">\n",
       "  <thead>\n",
       "    <tr style=\"text-align: right;\">\n",
       "      <th></th>\n",
       "      <th>sepal_length</th>\n",
       "      <th>sepal_width</th>\n",
       "      <th>petal_length</th>\n",
       "      <th>petal_width</th>\n",
       "      <th>species</th>\n",
       "      <th>New Column</th>\n",
       "      <th>New Column 2</th>\n",
       "    </tr>\n",
       "  </thead>\n",
       "  <tbody>\n",
       "    <tr>\n",
       "      <th>146</th>\n",
       "      <td>6.3</td>\n",
       "      <td>2.5</td>\n",
       "      <td>5.0</td>\n",
       "      <td>1.9</td>\n",
       "      <td>virginica</td>\n",
       "      <td>-0.495434</td>\n",
       "      <td>-1.511856</td>\n",
       "    </tr>\n",
       "    <tr>\n",
       "      <th>147</th>\n",
       "      <td>6.5</td>\n",
       "      <td>3.0</td>\n",
       "      <td>5.2</td>\n",
       "      <td>2.0</td>\n",
       "      <td>virginica</td>\n",
       "      <td>1.709576</td>\n",
       "      <td>-0.819625</td>\n",
       "    </tr>\n",
       "    <tr>\n",
       "      <th>148</th>\n",
       "      <td>6.2</td>\n",
       "      <td>3.4</td>\n",
       "      <td>5.4</td>\n",
       "      <td>2.3</td>\n",
       "      <td>virginica</td>\n",
       "      <td>0.608338</td>\n",
       "      <td>-0.104263</td>\n",
       "    </tr>\n",
       "    <tr>\n",
       "      <th>149</th>\n",
       "      <td>5.9</td>\n",
       "      <td>3.0</td>\n",
       "      <td>5.1</td>\n",
       "      <td>1.8</td>\n",
       "      <td>virginica</td>\n",
       "      <td>1.714099</td>\n",
       "      <td>0.267996</td>\n",
       "    </tr>\n",
       "    <tr>\n",
       "      <th>150</th>\n",
       "      <td>4.3</td>\n",
       "      <td>3.6</td>\n",
       "      <td>1.4</td>\n",
       "      <td>0.2</td>\n",
       "      <td>virginica</td>\n",
       "      <td>0.944470</td>\n",
       "      <td>0.495838</td>\n",
       "    </tr>\n",
       "  </tbody>\n",
       "</table>\n",
       "</div>"
      ],
      "text/plain": [
       "     sepal_length  sepal_width  petal_length  petal_width    species  \\\n",
       "146           6.3          2.5           5.0          1.9  virginica   \n",
       "147           6.5          3.0           5.2          2.0  virginica   \n",
       "148           6.2          3.4           5.4          2.3  virginica   \n",
       "149           5.9          3.0           5.1          1.8  virginica   \n",
       "150           4.3          3.6           1.4          0.2  virginica   \n",
       "\n",
       "     New Column  New Column 2  \n",
       "146   -0.495434     -1.511856  \n",
       "147    1.709576     -0.819625  \n",
       "148    0.608338     -0.104263  \n",
       "149    1.714099      0.267996  \n",
       "150    0.944470      0.495838  "
      ]
     },
     "execution_count": 8,
     "metadata": {},
     "output_type": "execute_result"
    }
   ],
   "source": [
    "df.append(new_entry, ignore_index = True).tail()"
   ]
  },
  {
   "attachments": {
    "image.png": {
     "image/png": "[encoded data removed]"
    }
   },
   "cell_type": "markdown",
   "id": "464d6204",
   "metadata": {},
   "source": [
    "* **Inserting at TOP**\n",
    "\n",
    "The `pd.concat([df, new_entry])` helps to insert a new row at the top of the dataframe. The `reset_index()` index method resets index of DataFrame to row numbers.\n",
    "\n",
    "![image.png](attachment:image.png)\n",
    "\n",
    "The `DataFrame.reset_index()` resets the index of the DataFrame, and uses the default one instead. If the DataFrame has a MultiIndex, this method can remove one or more levels. When we reset the index, the old index is added as a column, and a new sequential index is used. We can use the `drop` parameter to avoid the old index being added as a column."
   ]
  },
  {
   "cell_type": "code",
   "execution_count": 9,
   "id": "0f981ee8",
   "metadata": {},
   "outputs": [
    {
     "data": {
      "text/html": [
       "<div>\n",
       "<style scoped>\n",
       "    .dataframe tbody tr th:only-of-type {\n",
       "        vertical-align: middle;\n",
       "    }\n",
       "\n",
       "    .dataframe tbody tr th {\n",
       "        vertical-align: top;\n",
       "    }\n",
       "\n",
       "    .dataframe thead th {\n",
       "        text-align: right;\n",
       "    }\n",
       "</style>\n",
       "<table border=\"1\" class=\"dataframe\">\n",
       "  <thead>\n",
       "    <tr style=\"text-align: right;\">\n",
       "      <th></th>\n",
       "      <th>index</th>\n",
       "      <th>sepal_length</th>\n",
       "      <th>sepal_width</th>\n",
       "      <th>petal_length</th>\n",
       "      <th>petal_width</th>\n",
       "      <th>species</th>\n",
       "      <th>New Column</th>\n",
       "      <th>New Column 2</th>\n",
       "    </tr>\n",
       "  </thead>\n",
       "  <tbody>\n",
       "    <tr>\n",
       "      <th>0</th>\n",
       "      <td>0</td>\n",
       "      <td>4.3</td>\n",
       "      <td>3.6</td>\n",
       "      <td>1.4</td>\n",
       "      <td>0.2</td>\n",
       "      <td>virginica</td>\n",
       "      <td>0.944470</td>\n",
       "      <td>0.495838</td>\n",
       "    </tr>\n",
       "    <tr>\n",
       "      <th>1</th>\n",
       "      <td>0</td>\n",
       "      <td>5.1</td>\n",
       "      <td>3.5</td>\n",
       "      <td>1.4</td>\n",
       "      <td>0.2</td>\n",
       "      <td>setosa</td>\n",
       "      <td>-1.309737</td>\n",
       "      <td>0.931180</td>\n",
       "    </tr>\n",
       "    <tr>\n",
       "      <th>2</th>\n",
       "      <td>1</td>\n",
       "      <td>4.9</td>\n",
       "      <td>3.0</td>\n",
       "      <td>1.4</td>\n",
       "      <td>0.2</td>\n",
       "      <td>setosa</td>\n",
       "      <td>0.807481</td>\n",
       "      <td>0.053178</td>\n",
       "    </tr>\n",
       "    <tr>\n",
       "      <th>3</th>\n",
       "      <td>2</td>\n",
       "      <td>4.7</td>\n",
       "      <td>3.2</td>\n",
       "      <td>1.3</td>\n",
       "      <td>0.2</td>\n",
       "      <td>setosa</td>\n",
       "      <td>-0.537893</td>\n",
       "      <td>1.233451</td>\n",
       "    </tr>\n",
       "  </tbody>\n",
       "</table>\n",
       "</div>"
      ],
      "text/plain": [
       "   index  sepal_length  sepal_width  petal_length  petal_width    species  \\\n",
       "0      0           4.3          3.6           1.4          0.2  virginica   \n",
       "1      0           5.1          3.5           1.4          0.2     setosa   \n",
       "2      1           4.9          3.0           1.4          0.2     setosa   \n",
       "3      2           4.7          3.2           1.3          0.2     setosa   \n",
       "\n",
       "   New Column  New Column 2  \n",
       "0    0.944470      0.495838  \n",
       "1   -1.309737      0.931180  \n",
       "2    0.807481      0.053178  \n",
       "3   -0.537893      1.233451  "
      ]
     },
     "execution_count": 9,
     "metadata": {},
     "output_type": "execute_result"
    }
   ],
   "source": [
    "pd.concat([new_entry, df]).reset_index().head(4) #new entry inserted at top"
   ]
  },
  {
   "cell_type": "code",
   "execution_count": 10,
   "id": "beb38bc9",
   "metadata": {},
   "outputs": [
    {
     "data": {
      "text/html": [
       "<div>\n",
       "<style scoped>\n",
       "    .dataframe tbody tr th:only-of-type {\n",
       "        vertical-align: middle;\n",
       "    }\n",
       "\n",
       "    .dataframe tbody tr th {\n",
       "        vertical-align: top;\n",
       "    }\n",
       "\n",
       "    .dataframe thead th {\n",
       "        text-align: right;\n",
       "    }\n",
       "</style>\n",
       "<table border=\"1\" class=\"dataframe\">\n",
       "  <thead>\n",
       "    <tr style=\"text-align: right;\">\n",
       "      <th></th>\n",
       "      <th>sepal_length</th>\n",
       "      <th>sepal_width</th>\n",
       "      <th>petal_length</th>\n",
       "      <th>petal_width</th>\n",
       "      <th>species</th>\n",
       "      <th>New Column</th>\n",
       "      <th>New Column 2</th>\n",
       "    </tr>\n",
       "  </thead>\n",
       "  <tbody>\n",
       "    <tr>\n",
       "      <th>0</th>\n",
       "      <td>4.3</td>\n",
       "      <td>3.6</td>\n",
       "      <td>1.4</td>\n",
       "      <td>0.2</td>\n",
       "      <td>virginica</td>\n",
       "      <td>0.944470</td>\n",
       "      <td>0.495838</td>\n",
       "    </tr>\n",
       "    <tr>\n",
       "      <th>1</th>\n",
       "      <td>5.1</td>\n",
       "      <td>3.5</td>\n",
       "      <td>1.4</td>\n",
       "      <td>0.2</td>\n",
       "      <td>setosa</td>\n",
       "      <td>-1.309737</td>\n",
       "      <td>0.931180</td>\n",
       "    </tr>\n",
       "    <tr>\n",
       "      <th>2</th>\n",
       "      <td>4.9</td>\n",
       "      <td>3.0</td>\n",
       "      <td>1.4</td>\n",
       "      <td>0.2</td>\n",
       "      <td>setosa</td>\n",
       "      <td>0.807481</td>\n",
       "      <td>0.053178</td>\n",
       "    </tr>\n",
       "    <tr>\n",
       "      <th>3</th>\n",
       "      <td>4.7</td>\n",
       "      <td>3.2</td>\n",
       "      <td>1.3</td>\n",
       "      <td>0.2</td>\n",
       "      <td>setosa</td>\n",
       "      <td>-0.537893</td>\n",
       "      <td>1.233451</td>\n",
       "    </tr>\n",
       "  </tbody>\n",
       "</table>\n",
       "</div>"
      ],
      "text/plain": [
       "   sepal_length  sepal_width  petal_length  petal_width    species  \\\n",
       "0           4.3          3.6           1.4          0.2  virginica   \n",
       "1           5.1          3.5           1.4          0.2     setosa   \n",
       "2           4.9          3.0           1.4          0.2     setosa   \n",
       "3           4.7          3.2           1.3          0.2     setosa   \n",
       "\n",
       "   New Column  New Column 2  \n",
       "0    0.944470      0.495838  \n",
       "1   -1.309737      0.931180  \n",
       "2    0.807481      0.053178  \n",
       "3   -0.537893      1.233451  "
      ]
     },
     "execution_count": 10,
     "metadata": {},
     "output_type": "execute_result"
    }
   ],
   "source": [
    "pd.concat([new_entry, df]).reset_index(drop = True).head(4) #remove the index column"
   ]
  },
  {
   "cell_type": "markdown",
   "id": "c907687e",
   "metadata": {},
   "source": [
    "* **Insert at any place**\n",
    "\n",
    "To insert at any place, simply concatenate and then use `DataFrame.sort_index(axis)`"
   ]
  },
  {
   "cell_type": "code",
   "execution_count": 11,
   "id": "81219958",
   "metadata": {},
   "outputs": [
    {
     "data": {
      "text/html": [
       "<div>\n",
       "<style scoped>\n",
       "    .dataframe tbody tr th:only-of-type {\n",
       "        vertical-align: middle;\n",
       "    }\n",
       "\n",
       "    .dataframe tbody tr th {\n",
       "        vertical-align: top;\n",
       "    }\n",
       "\n",
       "    .dataframe thead th {\n",
       "        text-align: right;\n",
       "    }\n",
       "</style>\n",
       "<table border=\"1\" class=\"dataframe\">\n",
       "  <thead>\n",
       "    <tr style=\"text-align: right;\">\n",
       "      <th></th>\n",
       "      <th>sepal_length</th>\n",
       "      <th>sepal_width</th>\n",
       "      <th>petal_length</th>\n",
       "      <th>petal_width</th>\n",
       "      <th>species</th>\n",
       "      <th>New Column</th>\n",
       "      <th>New Column 2</th>\n",
       "    </tr>\n",
       "  </thead>\n",
       "  <tbody>\n",
       "    <tr>\n",
       "      <th>4</th>\n",
       "      <td>4.3</td>\n",
       "      <td>3.6</td>\n",
       "      <td>1.4</td>\n",
       "      <td>0.2</td>\n",
       "      <td>virginica</td>\n",
       "      <td>0.641978</td>\n",
       "      <td>0.297237</td>\n",
       "    </tr>\n",
       "  </tbody>\n",
       "</table>\n",
       "</div>"
      ],
      "text/plain": [
       "   sepal_length  sepal_width  petal_length  petal_width    species  \\\n",
       "4           4.3          3.6           1.4          0.2  virginica   \n",
       "\n",
       "   New Column  New Column 2  \n",
       "4    0.641978      0.297237  "
      ]
     },
     "execution_count": 11,
     "metadata": {},
     "output_type": "execute_result"
    }
   ],
   "source": [
    "entry = pd.DataFrame({\"sepal_length\":[4.3], \"sepal_width\":[3.6], \"petal_length\":[1.4], \"petal_width\":[0.2], \n",
    "                     \"species\":[\"virginica\"], \"New Column\":[np.random.rand()], \"New Column 2\":[np.random.rand()]}, index = [4])\n",
    "entry"
   ]
  },
  {
   "cell_type": "code",
   "execution_count": 12,
   "id": "0d6e919e",
   "metadata": {},
   "outputs": [
    {
     "data": {
      "text/html": [
       "<div>\n",
       "<style scoped>\n",
       "    .dataframe tbody tr th:only-of-type {\n",
       "        vertical-align: middle;\n",
       "    }\n",
       "\n",
       "    .dataframe tbody tr th {\n",
       "        vertical-align: top;\n",
       "    }\n",
       "\n",
       "    .dataframe thead th {\n",
       "        text-align: right;\n",
       "    }\n",
       "</style>\n",
       "<table border=\"1\" class=\"dataframe\">\n",
       "  <thead>\n",
       "    <tr style=\"text-align: right;\">\n",
       "      <th></th>\n",
       "      <th>sepal_length</th>\n",
       "      <th>sepal_width</th>\n",
       "      <th>petal_length</th>\n",
       "      <th>petal_width</th>\n",
       "      <th>species</th>\n",
       "      <th>New Column</th>\n",
       "      <th>New Column 2</th>\n",
       "    </tr>\n",
       "  </thead>\n",
       "  <tbody>\n",
       "    <tr>\n",
       "      <th>146</th>\n",
       "      <td>6.3</td>\n",
       "      <td>2.5</td>\n",
       "      <td>5.0</td>\n",
       "      <td>1.9</td>\n",
       "      <td>virginica</td>\n",
       "      <td>-0.495434</td>\n",
       "      <td>-1.511856</td>\n",
       "    </tr>\n",
       "    <tr>\n",
       "      <th>147</th>\n",
       "      <td>6.5</td>\n",
       "      <td>3.0</td>\n",
       "      <td>5.2</td>\n",
       "      <td>2.0</td>\n",
       "      <td>virginica</td>\n",
       "      <td>1.709576</td>\n",
       "      <td>-0.819625</td>\n",
       "    </tr>\n",
       "    <tr>\n",
       "      <th>148</th>\n",
       "      <td>6.2</td>\n",
       "      <td>3.4</td>\n",
       "      <td>5.4</td>\n",
       "      <td>2.3</td>\n",
       "      <td>virginica</td>\n",
       "      <td>0.608338</td>\n",
       "      <td>-0.104263</td>\n",
       "    </tr>\n",
       "    <tr>\n",
       "      <th>149</th>\n",
       "      <td>5.9</td>\n",
       "      <td>3.0</td>\n",
       "      <td>5.1</td>\n",
       "      <td>1.8</td>\n",
       "      <td>virginica</td>\n",
       "      <td>1.714099</td>\n",
       "      <td>0.267996</td>\n",
       "    </tr>\n",
       "    <tr>\n",
       "      <th>4</th>\n",
       "      <td>4.3</td>\n",
       "      <td>3.6</td>\n",
       "      <td>1.4</td>\n",
       "      <td>0.2</td>\n",
       "      <td>virginica</td>\n",
       "      <td>0.641978</td>\n",
       "      <td>0.297237</td>\n",
       "    </tr>\n",
       "  </tbody>\n",
       "</table>\n",
       "</div>"
      ],
      "text/plain": [
       "     sepal_length  sepal_width  petal_length  petal_width    species  \\\n",
       "146           6.3          2.5           5.0          1.9  virginica   \n",
       "147           6.5          3.0           5.2          2.0  virginica   \n",
       "148           6.2          3.4           5.4          2.3  virginica   \n",
       "149           5.9          3.0           5.1          1.8  virginica   \n",
       "4             4.3          3.6           1.4          0.2  virginica   \n",
       "\n",
       "     New Column  New Column 2  \n",
       "146   -0.495434     -1.511856  \n",
       "147    1.709576     -0.819625  \n",
       "148    0.608338     -0.104263  \n",
       "149    1.714099      0.267996  \n",
       "4      0.641978      0.297237  "
      ]
     },
     "execution_count": 12,
     "metadata": {},
     "output_type": "execute_result"
    }
   ],
   "source": [
    "df = pd.concat([df,entry])\n",
    "df.tail()"
   ]
  },
  {
   "cell_type": "code",
   "execution_count": 13,
   "id": "9f4fe3ff",
   "metadata": {},
   "outputs": [],
   "source": [
    "df.sort_index(axis=0, inplace = True)"
   ]
  },
  {
   "cell_type": "code",
   "execution_count": 14,
   "id": "dbf8f762",
   "metadata": {},
   "outputs": [
    {
     "data": {
      "text/html": [
       "<div>\n",
       "<style scoped>\n",
       "    .dataframe tbody tr th:only-of-type {\n",
       "        vertical-align: middle;\n",
       "    }\n",
       "\n",
       "    .dataframe tbody tr th {\n",
       "        vertical-align: top;\n",
       "    }\n",
       "\n",
       "    .dataframe thead th {\n",
       "        text-align: right;\n",
       "    }\n",
       "</style>\n",
       "<table border=\"1\" class=\"dataframe\">\n",
       "  <thead>\n",
       "    <tr style=\"text-align: right;\">\n",
       "      <th></th>\n",
       "      <th>sepal_length</th>\n",
       "      <th>sepal_width</th>\n",
       "      <th>petal_length</th>\n",
       "      <th>petal_width</th>\n",
       "      <th>species</th>\n",
       "      <th>New Column</th>\n",
       "      <th>New Column 2</th>\n",
       "    </tr>\n",
       "  </thead>\n",
       "  <tbody>\n",
       "    <tr>\n",
       "      <th>0</th>\n",
       "      <td>5.1</td>\n",
       "      <td>3.5</td>\n",
       "      <td>1.4</td>\n",
       "      <td>0.2</td>\n",
       "      <td>setosa</td>\n",
       "      <td>-1.309737</td>\n",
       "      <td>0.931180</td>\n",
       "    </tr>\n",
       "    <tr>\n",
       "      <th>1</th>\n",
       "      <td>4.9</td>\n",
       "      <td>3.0</td>\n",
       "      <td>1.4</td>\n",
       "      <td>0.2</td>\n",
       "      <td>setosa</td>\n",
       "      <td>0.807481</td>\n",
       "      <td>0.053178</td>\n",
       "    </tr>\n",
       "    <tr>\n",
       "      <th>2</th>\n",
       "      <td>4.7</td>\n",
       "      <td>3.2</td>\n",
       "      <td>1.3</td>\n",
       "      <td>0.2</td>\n",
       "      <td>setosa</td>\n",
       "      <td>-0.537893</td>\n",
       "      <td>1.233451</td>\n",
       "    </tr>\n",
       "    <tr>\n",
       "      <th>3</th>\n",
       "      <td>4.6</td>\n",
       "      <td>3.1</td>\n",
       "      <td>1.5</td>\n",
       "      <td>0.2</td>\n",
       "      <td>setosa</td>\n",
       "      <td>-1.517388</td>\n",
       "      <td>0.244468</td>\n",
       "    </tr>\n",
       "    <tr>\n",
       "      <th>4</th>\n",
       "      <td>4.3</td>\n",
       "      <td>3.6</td>\n",
       "      <td>1.4</td>\n",
       "      <td>0.2</td>\n",
       "      <td>virginica</td>\n",
       "      <td>0.641978</td>\n",
       "      <td>0.297237</td>\n",
       "    </tr>\n",
       "    <tr>\n",
       "      <th>4</th>\n",
       "      <td>5.0</td>\n",
       "      <td>3.6</td>\n",
       "      <td>1.4</td>\n",
       "      <td>0.2</td>\n",
       "      <td>setosa</td>\n",
       "      <td>-0.190272</td>\n",
       "      <td>-0.766976</td>\n",
       "    </tr>\n",
       "    <tr>\n",
       "      <th>5</th>\n",
       "      <td>5.4</td>\n",
       "      <td>3.9</td>\n",
       "      <td>1.7</td>\n",
       "      <td>0.4</td>\n",
       "      <td>setosa</td>\n",
       "      <td>-0.525090</td>\n",
       "      <td>-2.357561</td>\n",
       "    </tr>\n",
       "  </tbody>\n",
       "</table>\n",
       "</div>"
      ],
      "text/plain": [
       "   sepal_length  sepal_width  petal_length  petal_width    species  \\\n",
       "0           5.1          3.5           1.4          0.2     setosa   \n",
       "1           4.9          3.0           1.4          0.2     setosa   \n",
       "2           4.7          3.2           1.3          0.2     setosa   \n",
       "3           4.6          3.1           1.5          0.2     setosa   \n",
       "4           4.3          3.6           1.4          0.2  virginica   \n",
       "4           5.0          3.6           1.4          0.2     setosa   \n",
       "5           5.4          3.9           1.7          0.4     setosa   \n",
       "\n",
       "   New Column  New Column 2  \n",
       "0   -1.309737      0.931180  \n",
       "1    0.807481      0.053178  \n",
       "2   -0.537893      1.233451  \n",
       "3   -1.517388      0.244468  \n",
       "4    0.641978      0.297237  \n",
       "4   -0.190272     -0.766976  \n",
       "5   -0.525090     -2.357561  "
      ]
     },
     "execution_count": 14,
     "metadata": {},
     "output_type": "execute_result"
    }
   ],
   "source": [
    "df.head(7)"
   ]
  },
  {
   "cell_type": "code",
   "execution_count": 15,
   "id": "1155361d",
   "metadata": {},
   "outputs": [],
   "source": [
    "df.reset_index(inplace = True, drop = True)"
   ]
  },
  {
   "cell_type": "code",
   "execution_count": 16,
   "id": "0eddbbe0",
   "metadata": {},
   "outputs": [
    {
     "data": {
      "text/html": [
       "<div>\n",
       "<style scoped>\n",
       "    .dataframe tbody tr th:only-of-type {\n",
       "        vertical-align: middle;\n",
       "    }\n",
       "\n",
       "    .dataframe tbody tr th {\n",
       "        vertical-align: top;\n",
       "    }\n",
       "\n",
       "    .dataframe thead th {\n",
       "        text-align: right;\n",
       "    }\n",
       "</style>\n",
       "<table border=\"1\" class=\"dataframe\">\n",
       "  <thead>\n",
       "    <tr style=\"text-align: right;\">\n",
       "      <th></th>\n",
       "      <th>sepal_length</th>\n",
       "      <th>sepal_width</th>\n",
       "      <th>petal_length</th>\n",
       "      <th>petal_width</th>\n",
       "      <th>species</th>\n",
       "      <th>New Column</th>\n",
       "      <th>New Column 2</th>\n",
       "    </tr>\n",
       "  </thead>\n",
       "  <tbody>\n",
       "    <tr>\n",
       "      <th>0</th>\n",
       "      <td>5.1</td>\n",
       "      <td>3.5</td>\n",
       "      <td>1.4</td>\n",
       "      <td>0.2</td>\n",
       "      <td>setosa</td>\n",
       "      <td>-1.309737</td>\n",
       "      <td>0.931180</td>\n",
       "    </tr>\n",
       "    <tr>\n",
       "      <th>1</th>\n",
       "      <td>4.9</td>\n",
       "      <td>3.0</td>\n",
       "      <td>1.4</td>\n",
       "      <td>0.2</td>\n",
       "      <td>setosa</td>\n",
       "      <td>0.807481</td>\n",
       "      <td>0.053178</td>\n",
       "    </tr>\n",
       "    <tr>\n",
       "      <th>2</th>\n",
       "      <td>4.7</td>\n",
       "      <td>3.2</td>\n",
       "      <td>1.3</td>\n",
       "      <td>0.2</td>\n",
       "      <td>setosa</td>\n",
       "      <td>-0.537893</td>\n",
       "      <td>1.233451</td>\n",
       "    </tr>\n",
       "    <tr>\n",
       "      <th>3</th>\n",
       "      <td>4.6</td>\n",
       "      <td>3.1</td>\n",
       "      <td>1.5</td>\n",
       "      <td>0.2</td>\n",
       "      <td>setosa</td>\n",
       "      <td>-1.517388</td>\n",
       "      <td>0.244468</td>\n",
       "    </tr>\n",
       "    <tr>\n",
       "      <th>4</th>\n",
       "      <td>4.3</td>\n",
       "      <td>3.6</td>\n",
       "      <td>1.4</td>\n",
       "      <td>0.2</td>\n",
       "      <td>virginica</td>\n",
       "      <td>0.641978</td>\n",
       "      <td>0.297237</td>\n",
       "    </tr>\n",
       "    <tr>\n",
       "      <th>5</th>\n",
       "      <td>5.0</td>\n",
       "      <td>3.6</td>\n",
       "      <td>1.4</td>\n",
       "      <td>0.2</td>\n",
       "      <td>setosa</td>\n",
       "      <td>-0.190272</td>\n",
       "      <td>-0.766976</td>\n",
       "    </tr>\n",
       "    <tr>\n",
       "      <th>6</th>\n",
       "      <td>5.4</td>\n",
       "      <td>3.9</td>\n",
       "      <td>1.7</td>\n",
       "      <td>0.4</td>\n",
       "      <td>setosa</td>\n",
       "      <td>-0.525090</td>\n",
       "      <td>-2.357561</td>\n",
       "    </tr>\n",
       "  </tbody>\n",
       "</table>\n",
       "</div>"
      ],
      "text/plain": [
       "   sepal_length  sepal_width  petal_length  petal_width    species  \\\n",
       "0           5.1          3.5           1.4          0.2     setosa   \n",
       "1           4.9          3.0           1.4          0.2     setosa   \n",
       "2           4.7          3.2           1.3          0.2     setosa   \n",
       "3           4.6          3.1           1.5          0.2     setosa   \n",
       "4           4.3          3.6           1.4          0.2  virginica   \n",
       "5           5.0          3.6           1.4          0.2     setosa   \n",
       "6           5.4          3.9           1.7          0.4     setosa   \n",
       "\n",
       "   New Column  New Column 2  \n",
       "0   -1.309737      0.931180  \n",
       "1    0.807481      0.053178  \n",
       "2   -0.537893      1.233451  \n",
       "3   -1.517388      0.244468  \n",
       "4    0.641978      0.297237  \n",
       "5   -0.190272     -0.766976  \n",
       "6   -0.525090     -2.357561  "
      ]
     },
     "execution_count": 16,
     "metadata": {},
     "output_type": "execute_result"
    }
   ],
   "source": [
    "df.head(7)"
   ]
  },
  {
   "cell_type": "markdown",
   "id": "8d47956b",
   "metadata": {},
   "source": [
    "**Note that `sort_index` sorts the dataset into ascending order as per index values while `reset_index` overwrites the indices as per their current position in the dataset**"
   ]
  },
  {
   "cell_type": "markdown",
   "id": "50da9b23",
   "metadata": {},
   "source": [
    "---\n",
    "## 1.2 Deletion Operations\n",
    "\n",
    "**Deleting Columns/rows**\n",
    " \n",
    " Rows or columns can be removed using index label or column name using `DataFrame.drop()` method."
   ]
  },
  {
   "cell_type": "code",
   "execution_count": 17,
   "id": "f3000d3a",
   "metadata": {},
   "outputs": [
    {
     "data": {
      "text/html": [
       "<div>\n",
       "<style scoped>\n",
       "    .dataframe tbody tr th:only-of-type {\n",
       "        vertical-align: middle;\n",
       "    }\n",
       "\n",
       "    .dataframe tbody tr th {\n",
       "        vertical-align: top;\n",
       "    }\n",
       "\n",
       "    .dataframe thead th {\n",
       "        text-align: right;\n",
       "    }\n",
       "</style>\n",
       "<table border=\"1\" class=\"dataframe\">\n",
       "  <thead>\n",
       "    <tr style=\"text-align: right;\">\n",
       "      <th></th>\n",
       "      <th>sepal_length</th>\n",
       "      <th>sepal_width</th>\n",
       "      <th>petal_length</th>\n",
       "      <th>petal_width</th>\n",
       "      <th>species</th>\n",
       "      <th>New Column</th>\n",
       "      <th>New Column 2</th>\n",
       "    </tr>\n",
       "  </thead>\n",
       "  <tbody>\n",
       "    <tr>\n",
       "      <th>0</th>\n",
       "      <td>5.1</td>\n",
       "      <td>3.5</td>\n",
       "      <td>1.4</td>\n",
       "      <td>0.2</td>\n",
       "      <td>setosa</td>\n",
       "      <td>-1.309737</td>\n",
       "      <td>0.931180</td>\n",
       "    </tr>\n",
       "    <tr>\n",
       "      <th>1</th>\n",
       "      <td>4.9</td>\n",
       "      <td>3.0</td>\n",
       "      <td>1.4</td>\n",
       "      <td>0.2</td>\n",
       "      <td>setosa</td>\n",
       "      <td>0.807481</td>\n",
       "      <td>0.053178</td>\n",
       "    </tr>\n",
       "    <tr>\n",
       "      <th>2</th>\n",
       "      <td>4.7</td>\n",
       "      <td>3.2</td>\n",
       "      <td>1.3</td>\n",
       "      <td>0.2</td>\n",
       "      <td>setosa</td>\n",
       "      <td>-0.537893</td>\n",
       "      <td>1.233451</td>\n",
       "    </tr>\n",
       "    <tr>\n",
       "      <th>4</th>\n",
       "      <td>4.3</td>\n",
       "      <td>3.6</td>\n",
       "      <td>1.4</td>\n",
       "      <td>0.2</td>\n",
       "      <td>virginica</td>\n",
       "      <td>0.641978</td>\n",
       "      <td>0.297237</td>\n",
       "    </tr>\n",
       "    <tr>\n",
       "      <th>5</th>\n",
       "      <td>5.0</td>\n",
       "      <td>3.6</td>\n",
       "      <td>1.4</td>\n",
       "      <td>0.2</td>\n",
       "      <td>setosa</td>\n",
       "      <td>-0.190272</td>\n",
       "      <td>-0.766976</td>\n",
       "    </tr>\n",
       "  </tbody>\n",
       "</table>\n",
       "</div>"
      ],
      "text/plain": [
       "   sepal_length  sepal_width  petal_length  petal_width    species  \\\n",
       "0           5.1          3.5           1.4          0.2     setosa   \n",
       "1           4.9          3.0           1.4          0.2     setosa   \n",
       "2           4.7          3.2           1.3          0.2     setosa   \n",
       "4           4.3          3.6           1.4          0.2  virginica   \n",
       "5           5.0          3.6           1.4          0.2     setosa   \n",
       "\n",
       "   New Column  New Column 2  \n",
       "0   -1.309737      0.931180  \n",
       "1    0.807481      0.053178  \n",
       "2   -0.537893      1.233451  \n",
       "4    0.641978      0.297237  \n",
       "5   -0.190272     -0.766976  "
      ]
     },
     "execution_count": 17,
     "metadata": {},
     "output_type": "execute_result"
    }
   ],
   "source": [
    "df.drop([3]).head()  #Deleting row by specifying index. Use df.reset_index then to reset the indices."
   ]
  },
  {
   "cell_type": "code",
   "execution_count": 18,
   "id": "356840df",
   "metadata": {},
   "outputs": [
    {
     "data": {
      "text/html": [
       "<div>\n",
       "<style scoped>\n",
       "    .dataframe tbody tr th:only-of-type {\n",
       "        vertical-align: middle;\n",
       "    }\n",
       "\n",
       "    .dataframe tbody tr th {\n",
       "        vertical-align: top;\n",
       "    }\n",
       "\n",
       "    .dataframe thead th {\n",
       "        text-align: right;\n",
       "    }\n",
       "</style>\n",
       "<table border=\"1\" class=\"dataframe\">\n",
       "  <thead>\n",
       "    <tr style=\"text-align: right;\">\n",
       "      <th></th>\n",
       "      <th>sepal_length</th>\n",
       "      <th>sepal_width</th>\n",
       "      <th>petal_length</th>\n",
       "      <th>petal_width</th>\n",
       "      <th>species</th>\n",
       "      <th>New Column</th>\n",
       "    </tr>\n",
       "  </thead>\n",
       "  <tbody>\n",
       "    <tr>\n",
       "      <th>0</th>\n",
       "      <td>5.1</td>\n",
       "      <td>3.5</td>\n",
       "      <td>1.4</td>\n",
       "      <td>0.2</td>\n",
       "      <td>setosa</td>\n",
       "      <td>-1.309737</td>\n",
       "    </tr>\n",
       "    <tr>\n",
       "      <th>1</th>\n",
       "      <td>4.9</td>\n",
       "      <td>3.0</td>\n",
       "      <td>1.4</td>\n",
       "      <td>0.2</td>\n",
       "      <td>setosa</td>\n",
       "      <td>0.807481</td>\n",
       "    </tr>\n",
       "    <tr>\n",
       "      <th>2</th>\n",
       "      <td>4.7</td>\n",
       "      <td>3.2</td>\n",
       "      <td>1.3</td>\n",
       "      <td>0.2</td>\n",
       "      <td>setosa</td>\n",
       "      <td>-0.537893</td>\n",
       "    </tr>\n",
       "    <tr>\n",
       "      <th>3</th>\n",
       "      <td>4.6</td>\n",
       "      <td>3.1</td>\n",
       "      <td>1.5</td>\n",
       "      <td>0.2</td>\n",
       "      <td>setosa</td>\n",
       "      <td>-1.517388</td>\n",
       "    </tr>\n",
       "    <tr>\n",
       "      <th>4</th>\n",
       "      <td>4.3</td>\n",
       "      <td>3.6</td>\n",
       "      <td>1.4</td>\n",
       "      <td>0.2</td>\n",
       "      <td>virginica</td>\n",
       "      <td>0.641978</td>\n",
       "    </tr>\n",
       "  </tbody>\n",
       "</table>\n",
       "</div>"
      ],
      "text/plain": [
       "   sepal_length  sepal_width  petal_length  petal_width    species  New Column\n",
       "0           5.1          3.5           1.4          0.2     setosa   -1.309737\n",
       "1           4.9          3.0           1.4          0.2     setosa    0.807481\n",
       "2           4.7          3.2           1.3          0.2     setosa   -0.537893\n",
       "3           4.6          3.1           1.5          0.2     setosa   -1.517388\n",
       "4           4.3          3.6           1.4          0.2  virginica    0.641978"
      ]
     },
     "execution_count": 18,
     "metadata": {},
     "output_type": "execute_result"
    }
   ],
   "source": [
    "df.drop(['New Column 2'], axis = 1).head() #Deleting row by specifying column name, along with axis"
   ]
  },
  {
   "cell_type": "markdown",
   "id": "43e4e5df",
   "metadata": {},
   "source": [
    "The `df.pop(col_name)` method drops the column name passed as an argument **in the original DataFrame**."
   ]
  },
  {
   "cell_type": "code",
   "execution_count": 19,
   "id": "4ac25425",
   "metadata": {},
   "outputs": [
    {
     "data": {
      "text/plain": [
       "0     -1.309737\n",
       "1      0.807481\n",
       "2     -0.537893\n",
       "3     -1.517388\n",
       "4      0.641978\n",
       "         ...   \n",
       "146   -1.946547\n",
       "147   -0.495434\n",
       "148    1.709576\n",
       "149    0.608338\n",
       "150    1.714099\n",
       "Name: New Column, Length: 151, dtype: float64"
      ]
     },
     "execution_count": 19,
     "metadata": {},
     "output_type": "execute_result"
    }
   ],
   "source": [
    "df.pop('New Column')"
   ]
  },
  {
   "cell_type": "markdown",
   "id": "a9910329",
   "metadata": {},
   "source": [
    "---\n",
    "## 1.3 Renaming Operations\n",
    "\n",
    "### 1.3.1 Renaming Columns/Rows\n",
    "\n",
    "**Method 1** : Use `DataFrame.rename(columns/index, inplace)`\n",
    "\n",
    "One way of renaming the columns or rows' indices in a Pandas dataframe is by using the rename() function. This method is quite useful when we need to rename some selected columns because we need to specify information only for the columns which are to be renamed."
   ]
  },
  {
   "cell_type": "code",
   "execution_count": 20,
   "id": "7174f9cc",
   "metadata": {},
   "outputs": [],
   "source": [
    "df.rename(columns = {'New Column 2':'New Feature', 'species':'SPECIES'}, inplace = True)"
   ]
  },
  {
   "cell_type": "code",
   "execution_count": 21,
   "id": "ca5625ca",
   "metadata": {},
   "outputs": [
    {
     "data": {
      "text/plain": [
       "['sepal_length',\n",
       " 'sepal_width',\n",
       " 'petal_length',\n",
       " 'petal_width',\n",
       " 'SPECIES',\n",
       " 'New Feature']"
      ]
     },
     "execution_count": 21,
     "metadata": {},
     "output_type": "execute_result"
    }
   ],
   "source": [
    "list(df)"
   ]
  },
  {
   "cell_type": "markdown",
   "id": "294ac62e",
   "metadata": {},
   "source": [
    "**Method 2** : Assign a new list of column names\n",
    "\n",
    "The columns can also be renamed by directly assigning a list containing the new names to the columns attribute of the dataframe object for which we want to rename the columns. The **disadvantage with this method is that we need to provide new names for all the columns even if want to rename only some of the columns.**"
   ]
  },
  {
   "cell_type": "code",
   "execution_count": 22,
   "id": "ae1d96f6",
   "metadata": {},
   "outputs": [],
   "source": [
    "df.columns = ['sepal length', 'sepal width', 'petal length', 'petal width', 'SPECIES', 'New Feature']"
   ]
  },
  {
   "cell_type": "code",
   "execution_count": 23,
   "id": "684f7a30",
   "metadata": {},
   "outputs": [
    {
     "data": {
      "text/plain": [
       "['sepal length',\n",
       " 'sepal width',\n",
       " 'petal length',\n",
       " 'petal width',\n",
       " 'SPECIES',\n",
       " 'New Feature']"
      ]
     },
     "execution_count": 23,
     "metadata": {},
     "output_type": "execute_result"
    }
   ],
   "source": [
    "list(df)"
   ]
  },
  {
   "cell_type": "markdown",
   "id": "04148b74",
   "metadata": {},
   "source": [
    "### 1.3.2 Renaming Rows (Swapping Rows)"
   ]
  },
  {
   "cell_type": "code",
   "execution_count": 24,
   "id": "14717d20",
   "metadata": {},
   "outputs": [],
   "source": [
    "df_iso = df.head(5)"
   ]
  },
  {
   "cell_type": "code",
   "execution_count": 25,
   "id": "82fc6831",
   "metadata": {},
   "outputs": [
    {
     "data": {
      "text/html": [
       "<div>\n",
       "<style scoped>\n",
       "    .dataframe tbody tr th:only-of-type {\n",
       "        vertical-align: middle;\n",
       "    }\n",
       "\n",
       "    .dataframe tbody tr th {\n",
       "        vertical-align: top;\n",
       "    }\n",
       "\n",
       "    .dataframe thead th {\n",
       "        text-align: right;\n",
       "    }\n",
       "</style>\n",
       "<table border=\"1\" class=\"dataframe\">\n",
       "  <thead>\n",
       "    <tr style=\"text-align: right;\">\n",
       "      <th></th>\n",
       "      <th>sepal length</th>\n",
       "      <th>sepal width</th>\n",
       "      <th>petal length</th>\n",
       "      <th>petal width</th>\n",
       "      <th>SPECIES</th>\n",
       "      <th>New Feature</th>\n",
       "    </tr>\n",
       "  </thead>\n",
       "  <tbody>\n",
       "    <tr>\n",
       "      <th>0</th>\n",
       "      <td>5.1</td>\n",
       "      <td>3.5</td>\n",
       "      <td>1.4</td>\n",
       "      <td>0.2</td>\n",
       "      <td>setosa</td>\n",
       "      <td>0.931180</td>\n",
       "    </tr>\n",
       "    <tr>\n",
       "      <th>1</th>\n",
       "      <td>4.9</td>\n",
       "      <td>3.0</td>\n",
       "      <td>1.4</td>\n",
       "      <td>0.2</td>\n",
       "      <td>setosa</td>\n",
       "      <td>0.053178</td>\n",
       "    </tr>\n",
       "    <tr>\n",
       "      <th>2</th>\n",
       "      <td>4.7</td>\n",
       "      <td>3.2</td>\n",
       "      <td>1.3</td>\n",
       "      <td>0.2</td>\n",
       "      <td>setosa</td>\n",
       "      <td>1.233451</td>\n",
       "    </tr>\n",
       "    <tr>\n",
       "      <th>3</th>\n",
       "      <td>4.6</td>\n",
       "      <td>3.1</td>\n",
       "      <td>1.5</td>\n",
       "      <td>0.2</td>\n",
       "      <td>setosa</td>\n",
       "      <td>0.244468</td>\n",
       "    </tr>\n",
       "    <tr>\n",
       "      <th>4</th>\n",
       "      <td>4.3</td>\n",
       "      <td>3.6</td>\n",
       "      <td>1.4</td>\n",
       "      <td>0.2</td>\n",
       "      <td>virginica</td>\n",
       "      <td>0.297237</td>\n",
       "    </tr>\n",
       "  </tbody>\n",
       "</table>\n",
       "</div>"
      ],
      "text/plain": [
       "   sepal length  sepal width  petal length  petal width    SPECIES  \\\n",
       "0           5.1          3.5           1.4          0.2     setosa   \n",
       "1           4.9          3.0           1.4          0.2     setosa   \n",
       "2           4.7          3.2           1.3          0.2     setosa   \n",
       "3           4.6          3.1           1.5          0.2     setosa   \n",
       "4           4.3          3.6           1.4          0.2  virginica   \n",
       "\n",
       "   New Feature  \n",
       "0     0.931180  \n",
       "1     0.053178  \n",
       "2     1.233451  \n",
       "3     0.244468  \n",
       "4     0.297237  "
      ]
     },
     "execution_count": 25,
     "metadata": {},
     "output_type": "execute_result"
    }
   ],
   "source": [
    "df_iso"
   ]
  },
  {
   "cell_type": "markdown",
   "id": "2b23e356",
   "metadata": {},
   "source": [
    "Keep `inplace = False` to avoid *Chained Indexing* errors"
   ]
  },
  {
   "cell_type": "code",
   "execution_count": 26,
   "id": "80e9fc58",
   "metadata": {},
   "outputs": [
    {
     "data": {
      "text/html": [
       "<div>\n",
       "<style scoped>\n",
       "    .dataframe tbody tr th:only-of-type {\n",
       "        vertical-align: middle;\n",
       "    }\n",
       "\n",
       "    .dataframe tbody tr th {\n",
       "        vertical-align: top;\n",
       "    }\n",
       "\n",
       "    .dataframe thead th {\n",
       "        text-align: right;\n",
       "    }\n",
       "</style>\n",
       "<table border=\"1\" class=\"dataframe\">\n",
       "  <thead>\n",
       "    <tr style=\"text-align: right;\">\n",
       "      <th></th>\n",
       "      <th>sepal length</th>\n",
       "      <th>sepal width</th>\n",
       "      <th>petal length</th>\n",
       "      <th>petal width</th>\n",
       "      <th>SPECIES</th>\n",
       "      <th>New Feature</th>\n",
       "    </tr>\n",
       "  </thead>\n",
       "  <tbody>\n",
       "    <tr>\n",
       "      <th>0</th>\n",
       "      <td>5.1</td>\n",
       "      <td>3.5</td>\n",
       "      <td>1.4</td>\n",
       "      <td>0.2</td>\n",
       "      <td>setosa</td>\n",
       "      <td>0.931180</td>\n",
       "    </tr>\n",
       "    <tr>\n",
       "      <th>4</th>\n",
       "      <td>4.9</td>\n",
       "      <td>3.0</td>\n",
       "      <td>1.4</td>\n",
       "      <td>0.2</td>\n",
       "      <td>setosa</td>\n",
       "      <td>0.053178</td>\n",
       "    </tr>\n",
       "    <tr>\n",
       "      <th>2</th>\n",
       "      <td>4.7</td>\n",
       "      <td>3.2</td>\n",
       "      <td>1.3</td>\n",
       "      <td>0.2</td>\n",
       "      <td>setosa</td>\n",
       "      <td>1.233451</td>\n",
       "    </tr>\n",
       "    <tr>\n",
       "      <th>3</th>\n",
       "      <td>4.6</td>\n",
       "      <td>3.1</td>\n",
       "      <td>1.5</td>\n",
       "      <td>0.2</td>\n",
       "      <td>setosa</td>\n",
       "      <td>0.244468</td>\n",
       "    </tr>\n",
       "    <tr>\n",
       "      <th>1</th>\n",
       "      <td>4.3</td>\n",
       "      <td>3.6</td>\n",
       "      <td>1.4</td>\n",
       "      <td>0.2</td>\n",
       "      <td>virginica</td>\n",
       "      <td>0.297237</td>\n",
       "    </tr>\n",
       "  </tbody>\n",
       "</table>\n",
       "</div>"
      ],
      "text/plain": [
       "   sepal length  sepal width  petal length  petal width    SPECIES  \\\n",
       "0           5.1          3.5           1.4          0.2     setosa   \n",
       "4           4.9          3.0           1.4          0.2     setosa   \n",
       "2           4.7          3.2           1.3          0.2     setosa   \n",
       "3           4.6          3.1           1.5          0.2     setosa   \n",
       "1           4.3          3.6           1.4          0.2  virginica   \n",
       "\n",
       "   New Feature  \n",
       "0     0.931180  \n",
       "4     0.053178  \n",
       "2     1.233451  \n",
       "3     0.244468  \n",
       "1     0.297237  "
      ]
     },
     "execution_count": 26,
     "metadata": {},
     "output_type": "execute_result"
    }
   ],
   "source": [
    "df_iso = df_iso.rename(index = {1:4, 4:1}, inplace = False)  # Record 1 and Record 4 'index' changed\n",
    "df_iso"
   ]
  },
  {
   "cell_type": "code",
   "execution_count": 27,
   "id": "dce8ff26",
   "metadata": {},
   "outputs": [
    {
     "data": {
      "text/html": [
       "<div>\n",
       "<style scoped>\n",
       "    .dataframe tbody tr th:only-of-type {\n",
       "        vertical-align: middle;\n",
       "    }\n",
       "\n",
       "    .dataframe tbody tr th {\n",
       "        vertical-align: top;\n",
       "    }\n",
       "\n",
       "    .dataframe thead th {\n",
       "        text-align: right;\n",
       "    }\n",
       "</style>\n",
       "<table border=\"1\" class=\"dataframe\">\n",
       "  <thead>\n",
       "    <tr style=\"text-align: right;\">\n",
       "      <th></th>\n",
       "      <th>sepal length</th>\n",
       "      <th>sepal width</th>\n",
       "      <th>petal length</th>\n",
       "      <th>petal width</th>\n",
       "      <th>SPECIES</th>\n",
       "      <th>New Feature</th>\n",
       "    </tr>\n",
       "  </thead>\n",
       "  <tbody>\n",
       "    <tr>\n",
       "      <th>0</th>\n",
       "      <td>5.1</td>\n",
       "      <td>3.5</td>\n",
       "      <td>1.4</td>\n",
       "      <td>0.2</td>\n",
       "      <td>setosa</td>\n",
       "      <td>0.931180</td>\n",
       "    </tr>\n",
       "    <tr>\n",
       "      <th>1</th>\n",
       "      <td>4.3</td>\n",
       "      <td>3.6</td>\n",
       "      <td>1.4</td>\n",
       "      <td>0.2</td>\n",
       "      <td>virginica</td>\n",
       "      <td>0.297237</td>\n",
       "    </tr>\n",
       "    <tr>\n",
       "      <th>2</th>\n",
       "      <td>4.7</td>\n",
       "      <td>3.2</td>\n",
       "      <td>1.3</td>\n",
       "      <td>0.2</td>\n",
       "      <td>setosa</td>\n",
       "      <td>1.233451</td>\n",
       "    </tr>\n",
       "    <tr>\n",
       "      <th>3</th>\n",
       "      <td>4.6</td>\n",
       "      <td>3.1</td>\n",
       "      <td>1.5</td>\n",
       "      <td>0.2</td>\n",
       "      <td>setosa</td>\n",
       "      <td>0.244468</td>\n",
       "    </tr>\n",
       "    <tr>\n",
       "      <th>4</th>\n",
       "      <td>4.9</td>\n",
       "      <td>3.0</td>\n",
       "      <td>1.4</td>\n",
       "      <td>0.2</td>\n",
       "      <td>setosa</td>\n",
       "      <td>0.053178</td>\n",
       "    </tr>\n",
       "  </tbody>\n",
       "</table>\n",
       "</div>"
      ],
      "text/plain": [
       "   sepal length  sepal width  petal length  petal width    SPECIES  \\\n",
       "0           5.1          3.5           1.4          0.2     setosa   \n",
       "1           4.3          3.6           1.4          0.2  virginica   \n",
       "2           4.7          3.2           1.3          0.2     setosa   \n",
       "3           4.6          3.1           1.5          0.2     setosa   \n",
       "4           4.9          3.0           1.4          0.2     setosa   \n",
       "\n",
       "   New Feature  \n",
       "0     0.931180  \n",
       "1     0.297237  \n",
       "2     1.233451  \n",
       "3     0.244468  \n",
       "4     0.053178  "
      ]
     },
     "execution_count": 27,
     "metadata": {},
     "output_type": "execute_result"
    }
   ],
   "source": [
    "df_iso.sort_index() # Sorting indices"
   ]
  },
  {
   "cell_type": "markdown",
   "id": "413359b1",
   "metadata": {},
   "source": [
    "\n",
    "### 1.3.3 Changing Column Names' Case"
   ]
  },
  {
   "cell_type": "code",
   "execution_count": 28,
   "id": "27a570d6",
   "metadata": {},
   "outputs": [
    {
     "data": {
      "text/plain": [
       "Index(['SEPAL LENGTH', 'SEPAL WIDTH', 'PETAL LENGTH', 'PETAL WIDTH', 'SPECIES',\n",
       "       'NEW FEATURE'],\n",
       "      dtype='object')"
      ]
     },
     "execution_count": 28,
     "metadata": {},
     "output_type": "execute_result"
    }
   ],
   "source": [
    "df.columns.str.upper()"
   ]
  },
  {
   "cell_type": "code",
   "execution_count": 29,
   "id": "942e5824",
   "metadata": {},
   "outputs": [
    {
     "data": {
      "text/plain": [
       "Index(['sepal length', 'sepal width', 'petal length', 'petal width', 'species',\n",
       "       'new feature'],\n",
       "      dtype='object')"
      ]
     },
     "execution_count": 29,
     "metadata": {},
     "output_type": "execute_result"
    }
   ],
   "source": [
    "df.columns.str.lower()"
   ]
  },
  {
   "cell_type": "code",
   "execution_count": 30,
   "id": "a848c382",
   "metadata": {},
   "outputs": [
    {
     "data": {
      "text/plain": [
       "Index(['Sepal length', 'Sepal width', 'Petal length', 'Petal width', 'Species',\n",
       "       'New feature'],\n",
       "      dtype='object')"
      ]
     },
     "execution_count": 30,
     "metadata": {},
     "output_type": "execute_result"
    }
   ],
   "source": [
    "df.columns.str.capitalize()"
   ]
  },
  {
   "cell_type": "markdown",
   "id": "b582aab6",
   "metadata": {},
   "source": [
    "## 1.4 Interchanging Operations "
   ]
  },
  {
   "cell_type": "markdown",
   "id": "d6d0ba25",
   "metadata": {},
   "source": [
    "### 1.4.1 Interchanging Columns"
   ]
  },
  {
   "cell_type": "code",
   "execution_count": 31,
   "id": "9b9167ad",
   "metadata": {},
   "outputs": [
    {
     "data": {
      "text/html": [
       "<div>\n",
       "<style scoped>\n",
       "    .dataframe tbody tr th:only-of-type {\n",
       "        vertical-align: middle;\n",
       "    }\n",
       "\n",
       "    .dataframe tbody tr th {\n",
       "        vertical-align: top;\n",
       "    }\n",
       "\n",
       "    .dataframe thead th {\n",
       "        text-align: right;\n",
       "    }\n",
       "</style>\n",
       "<table border=\"1\" class=\"dataframe\">\n",
       "  <thead>\n",
       "    <tr style=\"text-align: right;\">\n",
       "      <th></th>\n",
       "      <th>sepal length</th>\n",
       "      <th>sepal width</th>\n",
       "      <th>petal length</th>\n",
       "      <th>petal width</th>\n",
       "      <th>SPECIES</th>\n",
       "      <th>New Feature</th>\n",
       "    </tr>\n",
       "  </thead>\n",
       "  <tbody>\n",
       "    <tr>\n",
       "      <th>0</th>\n",
       "      <td>5.1</td>\n",
       "      <td>3.5</td>\n",
       "      <td>1.4</td>\n",
       "      <td>0.2</td>\n",
       "      <td>setosa</td>\n",
       "      <td>0.931180</td>\n",
       "    </tr>\n",
       "    <tr>\n",
       "      <th>1</th>\n",
       "      <td>4.9</td>\n",
       "      <td>3.0</td>\n",
       "      <td>1.4</td>\n",
       "      <td>0.2</td>\n",
       "      <td>setosa</td>\n",
       "      <td>0.053178</td>\n",
       "    </tr>\n",
       "    <tr>\n",
       "      <th>2</th>\n",
       "      <td>4.7</td>\n",
       "      <td>3.2</td>\n",
       "      <td>1.3</td>\n",
       "      <td>0.2</td>\n",
       "      <td>setosa</td>\n",
       "      <td>1.233451</td>\n",
       "    </tr>\n",
       "  </tbody>\n",
       "</table>\n",
       "</div>"
      ],
      "text/plain": [
       "   sepal length  sepal width  petal length  petal width SPECIES  New Feature\n",
       "0           5.1          3.5           1.4          0.2  setosa     0.931180\n",
       "1           4.9          3.0           1.4          0.2  setosa     0.053178\n",
       "2           4.7          3.2           1.3          0.2  setosa     1.233451"
      ]
     },
     "execution_count": 31,
     "metadata": {},
     "output_type": "execute_result"
    }
   ],
   "source": [
    "df.head(3)"
   ]
  },
  {
   "cell_type": "code",
   "execution_count": 32,
   "id": "327a400c",
   "metadata": {},
   "outputs": [],
   "source": [
    "df = df.loc[:, ['sepal length','petal length', 'sepal width', 'petal width', 'SPECIES', 'New Feature']]"
   ]
  },
  {
   "cell_type": "code",
   "execution_count": 33,
   "id": "d92654f8",
   "metadata": {},
   "outputs": [
    {
     "data": {
      "text/html": [
       "<div>\n",
       "<style scoped>\n",
       "    .dataframe tbody tr th:only-of-type {\n",
       "        vertical-align: middle;\n",
       "    }\n",
       "\n",
       "    .dataframe tbody tr th {\n",
       "        vertical-align: top;\n",
       "    }\n",
       "\n",
       "    .dataframe thead th {\n",
       "        text-align: right;\n",
       "    }\n",
       "</style>\n",
       "<table border=\"1\" class=\"dataframe\">\n",
       "  <thead>\n",
       "    <tr style=\"text-align: right;\">\n",
       "      <th></th>\n",
       "      <th>sepal length</th>\n",
       "      <th>petal length</th>\n",
       "      <th>sepal width</th>\n",
       "      <th>petal width</th>\n",
       "      <th>SPECIES</th>\n",
       "      <th>New Feature</th>\n",
       "    </tr>\n",
       "  </thead>\n",
       "  <tbody>\n",
       "    <tr>\n",
       "      <th>0</th>\n",
       "      <td>5.1</td>\n",
       "      <td>1.4</td>\n",
       "      <td>3.5</td>\n",
       "      <td>0.2</td>\n",
       "      <td>setosa</td>\n",
       "      <td>0.931180</td>\n",
       "    </tr>\n",
       "    <tr>\n",
       "      <th>1</th>\n",
       "      <td>4.9</td>\n",
       "      <td>1.4</td>\n",
       "      <td>3.0</td>\n",
       "      <td>0.2</td>\n",
       "      <td>setosa</td>\n",
       "      <td>0.053178</td>\n",
       "    </tr>\n",
       "    <tr>\n",
       "      <th>2</th>\n",
       "      <td>4.7</td>\n",
       "      <td>1.3</td>\n",
       "      <td>3.2</td>\n",
       "      <td>0.2</td>\n",
       "      <td>setosa</td>\n",
       "      <td>1.233451</td>\n",
       "    </tr>\n",
       "    <tr>\n",
       "      <th>3</th>\n",
       "      <td>4.6</td>\n",
       "      <td>1.5</td>\n",
       "      <td>3.1</td>\n",
       "      <td>0.2</td>\n",
       "      <td>setosa</td>\n",
       "      <td>0.244468</td>\n",
       "    </tr>\n",
       "    <tr>\n",
       "      <th>4</th>\n",
       "      <td>4.3</td>\n",
       "      <td>1.4</td>\n",
       "      <td>3.6</td>\n",
       "      <td>0.2</td>\n",
       "      <td>virginica</td>\n",
       "      <td>0.297237</td>\n",
       "    </tr>\n",
       "  </tbody>\n",
       "</table>\n",
       "</div>"
      ],
      "text/plain": [
       "   sepal length  petal length  sepal width  petal width    SPECIES  \\\n",
       "0           5.1           1.4          3.5          0.2     setosa   \n",
       "1           4.9           1.4          3.0          0.2     setosa   \n",
       "2           4.7           1.3          3.2          0.2     setosa   \n",
       "3           4.6           1.5          3.1          0.2     setosa   \n",
       "4           4.3           1.4          3.6          0.2  virginica   \n",
       "\n",
       "   New Feature  \n",
       "0     0.931180  \n",
       "1     0.053178  \n",
       "2     1.233451  \n",
       "3     0.244468  \n",
       "4     0.297237  "
      ]
     },
     "execution_count": 33,
     "metadata": {},
     "output_type": "execute_result"
    }
   ],
   "source": [
    "df.head()"
   ]
  },
  {
   "cell_type": "markdown",
   "id": "928dbd38",
   "metadata": {},
   "source": [
    "\n",
    "### 1.4.2 Interchanging Rows\n",
    "\n",
    "Refer to section **1.3.2**"
   ]
  },
  {
   "cell_type": "markdown",
   "id": "9ec45604",
   "metadata": {},
   "source": [
    "---\n",
    "## 1.5 Truncating Operations\n",
    "Pandas `DataFrame.truncate()` function is used to truncate a Series or DataFrame before and after some index value. This is a useful shorthand for boolean indexing based on index values above or below certain thresholds.\n",
    "<br>`before` : Truncate all rows **before this index value**.\n",
    "<br>`after` : Truncate all rows **after this index value**.\n",
    "<br>`axis` : Axis to truncate. Truncates the index (rows) by default."
   ]
  },
  {
   "cell_type": "code",
   "execution_count": 34,
   "id": "ef074e46",
   "metadata": {},
   "outputs": [
    {
     "data": {
      "text/html": [
       "<div>\n",
       "<style scoped>\n",
       "    .dataframe tbody tr th:only-of-type {\n",
       "        vertical-align: middle;\n",
       "    }\n",
       "\n",
       "    .dataframe tbody tr th {\n",
       "        vertical-align: top;\n",
       "    }\n",
       "\n",
       "    .dataframe thead th {\n",
       "        text-align: right;\n",
       "    }\n",
       "</style>\n",
       "<table border=\"1\" class=\"dataframe\">\n",
       "  <thead>\n",
       "    <tr style=\"text-align: right;\">\n",
       "      <th></th>\n",
       "      <th>sepal length</th>\n",
       "      <th>petal length</th>\n",
       "      <th>sepal width</th>\n",
       "      <th>petal width</th>\n",
       "      <th>SPECIES</th>\n",
       "      <th>New Feature</th>\n",
       "    </tr>\n",
       "  </thead>\n",
       "  <tbody>\n",
       "    <tr>\n",
       "      <th>12</th>\n",
       "      <td>4.8</td>\n",
       "      <td>1.6</td>\n",
       "      <td>3.4</td>\n",
       "      <td>0.2</td>\n",
       "      <td>setosa</td>\n",
       "      <td>-0.462617</td>\n",
       "    </tr>\n",
       "    <tr>\n",
       "      <th>13</th>\n",
       "      <td>4.8</td>\n",
       "      <td>1.4</td>\n",
       "      <td>3.0</td>\n",
       "      <td>0.1</td>\n",
       "      <td>setosa</td>\n",
       "      <td>-0.762512</td>\n",
       "    </tr>\n",
       "    <tr>\n",
       "      <th>14</th>\n",
       "      <td>4.3</td>\n",
       "      <td>1.1</td>\n",
       "      <td>3.0</td>\n",
       "      <td>0.1</td>\n",
       "      <td>setosa</td>\n",
       "      <td>0.065553</td>\n",
       "    </tr>\n",
       "    <tr>\n",
       "      <th>15</th>\n",
       "      <td>5.8</td>\n",
       "      <td>1.2</td>\n",
       "      <td>4.0</td>\n",
       "      <td>0.2</td>\n",
       "      <td>setosa</td>\n",
       "      <td>2.083653</td>\n",
       "    </tr>\n",
       "    <tr>\n",
       "      <th>16</th>\n",
       "      <td>5.7</td>\n",
       "      <td>1.5</td>\n",
       "      <td>4.4</td>\n",
       "      <td>0.4</td>\n",
       "      <td>setosa</td>\n",
       "      <td>-1.444299</td>\n",
       "    </tr>\n",
       "  </tbody>\n",
       "</table>\n",
       "</div>"
      ],
      "text/plain": [
       "    sepal length  petal length  sepal width  petal width SPECIES  New Feature\n",
       "12           4.8           1.6          3.4          0.2  setosa    -0.462617\n",
       "13           4.8           1.4          3.0          0.1  setosa    -0.762512\n",
       "14           4.3           1.1          3.0          0.1  setosa     0.065553\n",
       "15           5.8           1.2          4.0          0.2  setosa     2.083653\n",
       "16           5.7           1.5          4.4          0.4  setosa    -1.444299"
      ]
     },
     "execution_count": 34,
     "metadata": {},
     "output_type": "execute_result"
    }
   ],
   "source": [
    "df.truncate(before = 12 , after = 16)"
   ]
  },
  {
   "cell_type": "code",
   "execution_count": 35,
   "id": "e49ced85",
   "metadata": {},
   "outputs": [
    {
     "data": {
      "text/plain": [
       "12    4.8\n",
       "13    4.8\n",
       "14    4.3\n",
       "15    5.8\n",
       "16    5.7\n",
       "Name: sepal length, dtype: float64"
      ]
     },
     "execution_count": 35,
     "metadata": {},
     "output_type": "execute_result"
    }
   ],
   "source": [
    "df['sepal length'].truncate(before = 12 , after = 16)"
   ]
  },
  {
   "cell_type": "markdown",
   "id": "ae06c334",
   "metadata": {},
   "source": [
    "---\n",
    "## 1.6 Iterating over Rows and Columns\n",
    "Pandas DataFrame consists of rows and columns so, in order to iterate over dataframe, we have to iterate a dataframe like a dictionary. In a dictionary, we iterate over the keys of the object in the same way we have to iterate in dataframe. In Pandas Dataframe we can iterate an element in two ways: \n",
    "\n",
    "* Iterating over rows\n",
    "* Iterating over columns "
   ]
  },
  {
   "cell_type": "markdown",
   "id": "a12df731",
   "metadata": {},
   "source": [
    "### 1.6.1 Iterating over Rows\n",
    "In order to iterate over rows, we can use three function `iteritems()`, `iterrows()`, `itertuples()`. These three function will help in iteration over rows.  "
   ]
  },
  {
   "cell_type": "code",
   "execution_count": 36,
   "id": "7fcf657d",
   "metadata": {},
   "outputs": [
    {
     "name": "stdout",
     "output_type": "stream",
     "text": [
      "0 sepal length        5.1\n",
      "petal length        1.4\n",
      "sepal width         3.5\n",
      "petal width         0.2\n",
      "SPECIES          setosa\n",
      "New Feature     0.93118\n",
      "Name: 0, dtype: object\n",
      "\n",
      "\n",
      "0 sepal length        5.1\n",
      "petal length        1.4\n",
      "sepal width         3.5\n",
      "petal width         0.2\n",
      "SPECIES          setosa\n",
      "New Feature     0.93118\n",
      "Name: 0, dtype: object\n",
      "\n",
      "\n",
      "0 sepal length        5.1\n",
      "petal length        1.4\n",
      "sepal width         3.5\n",
      "petal width         0.2\n",
      "SPECIES          setosa\n",
      "New Feature     0.93118\n",
      "Name: 0, dtype: object\n",
      "\n",
      "\n"
     ]
    }
   ],
   "source": [
    "k = 0\n",
    "for i,j in df.iterrows():\n",
    "    while k<3:\n",
    "        print(i,j)\n",
    "        print(\"\\n\")\n",
    "        k = k+1"
   ]
  },
  {
   "cell_type": "code",
   "execution_count": 37,
   "id": "d032d134",
   "metadata": {
    "scrolled": true
   },
   "outputs": [
    {
     "name": "stdout",
     "output_type": "stream",
     "text": [
      "sepal length 0      5.1\n",
      "1      4.9\n",
      "2      4.7\n",
      "3      4.6\n",
      "4      4.3\n",
      "      ... \n",
      "146    6.7\n",
      "147    6.3\n",
      "148    6.5\n",
      "149    6.2\n",
      "150    5.9\n",
      "Name: sepal length, Length: 151, dtype: float64\n",
      "\n",
      "\n",
      "petal length 0      1.4\n",
      "1      1.4\n",
      "2      1.3\n",
      "3      1.5\n",
      "4      1.4\n",
      "      ... \n",
      "146    5.2\n",
      "147    5.0\n",
      "148    5.2\n",
      "149    5.4\n",
      "150    5.1\n",
      "Name: petal length, Length: 151, dtype: float64\n",
      "\n",
      "\n",
      "sepal width 0      3.5\n",
      "1      3.0\n",
      "2      3.2\n",
      "3      3.1\n",
      "4      3.6\n",
      "      ... \n",
      "146    3.0\n",
      "147    2.5\n",
      "148    3.0\n",
      "149    3.4\n",
      "150    3.0\n",
      "Name: sepal width, Length: 151, dtype: float64\n",
      "\n",
      "\n",
      "petal width 0      0.2\n",
      "1      0.2\n",
      "2      0.2\n",
      "3      0.2\n",
      "4      0.2\n",
      "      ... \n",
      "146    2.3\n",
      "147    1.9\n",
      "148    2.0\n",
      "149    2.3\n",
      "150    1.8\n",
      "Name: petal width, Length: 151, dtype: float64\n",
      "\n",
      "\n",
      "SPECIES 0         setosa\n",
      "1         setosa\n",
      "2         setosa\n",
      "3         setosa\n",
      "4      virginica\n",
      "         ...    \n",
      "146    virginica\n",
      "147    virginica\n",
      "148    virginica\n",
      "149    virginica\n",
      "150    virginica\n",
      "Name: SPECIES, Length: 151, dtype: object\n",
      "\n",
      "\n",
      "New Feature 0      0.931180\n",
      "1      0.053178\n",
      "2      1.233451\n",
      "3      0.244468\n",
      "4      0.297237\n",
      "         ...   \n",
      "146   -0.829942\n",
      "147   -1.511856\n",
      "148   -0.819625\n",
      "149   -0.104263\n",
      "150    0.267996\n",
      "Name: New Feature, Length: 151, dtype: float64\n",
      "\n",
      "\n"
     ]
    }
   ],
   "source": [
    "for key,value in df.iteritems():\n",
    "        print(key,value)\n",
    "        print(\"\\n\")"
   ]
  },
  {
   "cell_type": "code",
   "execution_count": 38,
   "id": "d9d811f1",
   "metadata": {},
   "outputs": [
    {
     "name": "stdout",
     "output_type": "stream",
     "text": [
      "Pandas(Index=0, _1=5.1, _2=1.4, _3=3.5, _4=0.2, SPECIES='setosa', _6=0.9311795518081465)\n",
      "\n",
      "Pandas(Index=1, _1=4.9, _2=1.4, _3=3.0, _4=0.2, SPECIES='setosa', _6=0.0531776385150014)\n",
      "\n",
      "Pandas(Index=2, _1=4.7, _2=1.3, _3=3.2, _4=0.2, SPECIES='setosa', _6=1.2334510457821326)\n",
      "\n",
      "Pandas(Index=3, _1=4.6, _2=1.5, _3=3.1, _4=0.2, SPECIES='setosa', _6=0.24446798924864063)\n",
      "\n",
      "Pandas(Index=4, _1=4.3, _2=1.4, _3=3.6, _4=0.2, SPECIES='virginica', _6=0.29723682764870996)\n",
      "\n"
     ]
    }
   ],
   "source": [
    "for i in df.head().itertuples():\n",
    "    print(i)\n",
    "    print()"
   ]
  },
  {
   "cell_type": "markdown",
   "id": "3b6bd5de",
   "metadata": {},
   "source": [
    "### 1.6.1 Iterating over Columns\n",
    "In order to iterate over columns, we need to create a list of DataFrame columns and then iterate through that list to pull out the dataframe columns."
   ]
  },
  {
   "cell_type": "code",
   "execution_count": 39,
   "id": "31b57036",
   "metadata": {},
   "outputs": [],
   "source": [
    "columns = list(df)"
   ]
  },
  {
   "cell_type": "code",
   "execution_count": 40,
   "id": "9ecd0d8d",
   "metadata": {},
   "outputs": [
    {
     "name": "stdout",
     "output_type": "stream",
     "text": [
      "4.7\n",
      "1.3\n",
      "3.2\n",
      "0.2\n",
      "setosa\n",
      "1.2334510457821326\n"
     ]
    }
   ],
   "source": [
    "for i in columns:\n",
    "    print(df[i][2])"
   ]
  },
  {
   "cell_type": "markdown",
   "id": "9d464c12",
   "metadata": {},
   "source": [
    "---\n",
    "## 1.7 Sorting DataSet\n",
    "Pandas `sort_values()` function sorts a data frame in Ascending or Descending order of passed Column. It’s different than the sorted Python function since it cannot sort a data frame and particular column cannot be selected. Pass the `na_position` argument to set the position of NaNs."
   ]
  },
  {
   "cell_type": "code",
   "execution_count": 41,
   "id": "0e603610",
   "metadata": {},
   "outputs": [
    {
     "data": {
      "text/html": [
       "<div>\n",
       "<style scoped>\n",
       "    .dataframe tbody tr th:only-of-type {\n",
       "        vertical-align: middle;\n",
       "    }\n",
       "\n",
       "    .dataframe tbody tr th {\n",
       "        vertical-align: top;\n",
       "    }\n",
       "\n",
       "    .dataframe thead th {\n",
       "        text-align: right;\n",
       "    }\n",
       "</style>\n",
       "<table border=\"1\" class=\"dataframe\">\n",
       "  <thead>\n",
       "    <tr style=\"text-align: right;\">\n",
       "      <th></th>\n",
       "      <th>sepal length</th>\n",
       "      <th>petal length</th>\n",
       "      <th>sepal width</th>\n",
       "      <th>petal width</th>\n",
       "      <th>SPECIES</th>\n",
       "      <th>New Feature</th>\n",
       "    </tr>\n",
       "  </thead>\n",
       "  <tbody>\n",
       "    <tr>\n",
       "      <th>4</th>\n",
       "      <td>4.3</td>\n",
       "      <td>1.4</td>\n",
       "      <td>3.6</td>\n",
       "      <td>0.2</td>\n",
       "      <td>virginica</td>\n",
       "      <td>0.297237</td>\n",
       "    </tr>\n",
       "    <tr>\n",
       "      <th>3</th>\n",
       "      <td>4.6</td>\n",
       "      <td>1.5</td>\n",
       "      <td>3.1</td>\n",
       "      <td>0.2</td>\n",
       "      <td>setosa</td>\n",
       "      <td>0.244468</td>\n",
       "    </tr>\n",
       "    <tr>\n",
       "      <th>2</th>\n",
       "      <td>4.7</td>\n",
       "      <td>1.3</td>\n",
       "      <td>3.2</td>\n",
       "      <td>0.2</td>\n",
       "      <td>setosa</td>\n",
       "      <td>1.233451</td>\n",
       "    </tr>\n",
       "    <tr>\n",
       "      <th>1</th>\n",
       "      <td>4.9</td>\n",
       "      <td>1.4</td>\n",
       "      <td>3.0</td>\n",
       "      <td>0.2</td>\n",
       "      <td>setosa</td>\n",
       "      <td>0.053178</td>\n",
       "    </tr>\n",
       "    <tr>\n",
       "      <th>0</th>\n",
       "      <td>5.1</td>\n",
       "      <td>1.4</td>\n",
       "      <td>3.5</td>\n",
       "      <td>0.2</td>\n",
       "      <td>setosa</td>\n",
       "      <td>0.931180</td>\n",
       "    </tr>\n",
       "  </tbody>\n",
       "</table>\n",
       "</div>"
      ],
      "text/plain": [
       "   sepal length  petal length  sepal width  petal width    SPECIES  \\\n",
       "4           4.3           1.4          3.6          0.2  virginica   \n",
       "3           4.6           1.5          3.1          0.2     setosa   \n",
       "2           4.7           1.3          3.2          0.2     setosa   \n",
       "1           4.9           1.4          3.0          0.2     setosa   \n",
       "0           5.1           1.4          3.5          0.2     setosa   \n",
       "\n",
       "   New Feature  \n",
       "4     0.297237  \n",
       "3     0.244468  \n",
       "2     1.233451  \n",
       "1     0.053178  \n",
       "0     0.931180  "
      ]
     },
     "execution_count": 41,
     "metadata": {},
     "output_type": "execute_result"
    }
   ],
   "source": [
    "df.head().sort_values('sepal length', axis = 0, ascending = True)"
   ]
  },
  {
   "cell_type": "markdown",
   "id": "1674d80e",
   "metadata": {},
   "source": [
    "As shown above, index column is now jumbled since the data frame is sorted by sepal length."
   ]
  },
  {
   "cell_type": "code",
   "execution_count": 42,
   "id": "aeeeb0cf",
   "metadata": {},
   "outputs": [
    {
     "data": {
      "text/html": [
       "<div>\n",
       "<style scoped>\n",
       "    .dataframe tbody tr th:only-of-type {\n",
       "        vertical-align: middle;\n",
       "    }\n",
       "\n",
       "    .dataframe tbody tr th {\n",
       "        vertical-align: top;\n",
       "    }\n",
       "\n",
       "    .dataframe thead th {\n",
       "        text-align: right;\n",
       "    }\n",
       "</style>\n",
       "<table border=\"1\" class=\"dataframe\">\n",
       "  <thead>\n",
       "    <tr style=\"text-align: right;\">\n",
       "      <th></th>\n",
       "      <th>sepal length</th>\n",
       "      <th>petal length</th>\n",
       "      <th>sepal width</th>\n",
       "      <th>petal width</th>\n",
       "      <th>SPECIES</th>\n",
       "      <th>New Feature</th>\n",
       "    </tr>\n",
       "  </thead>\n",
       "  <tbody>\n",
       "    <tr>\n",
       "      <th>4</th>\n",
       "      <td>4.3</td>\n",
       "      <td>1.4</td>\n",
       "      <td>3.6</td>\n",
       "      <td>0.2</td>\n",
       "      <td>virginica</td>\n",
       "      <td>0.297237</td>\n",
       "    </tr>\n",
       "    <tr>\n",
       "      <th>3</th>\n",
       "      <td>4.6</td>\n",
       "      <td>1.5</td>\n",
       "      <td>3.1</td>\n",
       "      <td>0.2</td>\n",
       "      <td>setosa</td>\n",
       "      <td>0.244468</td>\n",
       "    </tr>\n",
       "    <tr>\n",
       "      <th>2</th>\n",
       "      <td>4.7</td>\n",
       "      <td>1.3</td>\n",
       "      <td>3.2</td>\n",
       "      <td>0.2</td>\n",
       "      <td>setosa</td>\n",
       "      <td>1.233451</td>\n",
       "    </tr>\n",
       "    <tr>\n",
       "      <th>1</th>\n",
       "      <td>4.9</td>\n",
       "      <td>1.4</td>\n",
       "      <td>3.0</td>\n",
       "      <td>0.2</td>\n",
       "      <td>setosa</td>\n",
       "      <td>0.053178</td>\n",
       "    </tr>\n",
       "    <tr>\n",
       "      <th>0</th>\n",
       "      <td>5.1</td>\n",
       "      <td>1.4</td>\n",
       "      <td>3.5</td>\n",
       "      <td>0.2</td>\n",
       "      <td>setosa</td>\n",
       "      <td>0.931180</td>\n",
       "    </tr>\n",
       "  </tbody>\n",
       "</table>\n",
       "</div>"
      ],
      "text/plain": [
       "   sepal length  petal length  sepal width  petal width    SPECIES  \\\n",
       "4           4.3           1.4          3.6          0.2  virginica   \n",
       "3           4.6           1.5          3.1          0.2     setosa   \n",
       "2           4.7           1.3          3.2          0.2     setosa   \n",
       "1           4.9           1.4          3.0          0.2     setosa   \n",
       "0           5.1           1.4          3.5          0.2     setosa   \n",
       "\n",
       "   New Feature  \n",
       "4     0.297237  \n",
       "3     0.244468  \n",
       "2     1.233451  \n",
       "1     0.053178  \n",
       "0     0.931180  "
      ]
     },
     "execution_count": 42,
     "metadata": {},
     "output_type": "execute_result"
    }
   ],
   "source": [
    "df.head().sort_values(['sepal length','petal length'], axis = 0, ascending = True)"
   ]
  },
  {
   "cell_type": "markdown",
   "id": "a3d48fa6",
   "metadata": {},
   "source": [
    "---\n",
    "## 1.8 Miscellaneous Operations"
   ]
  },
  {
   "cell_type": "markdown",
   "id": "eebc8145",
   "metadata": {},
   "source": [
    "* **Set a column as index**"
   ]
  },
  {
   "cell_type": "markdown",
   "id": "599d8c49",
   "metadata": {},
   "source": [
    "*Method 1* : Use `DataFrame.set_index(column)`"
   ]
  },
  {
   "cell_type": "code",
   "execution_count": 43,
   "id": "e7b8f37d",
   "metadata": {},
   "outputs": [],
   "source": [
    "data = {'Name':[\"Akash\", \"Geeku\", \"Pankaj\", \"Sumitra\",\"Ramlal\"],\n",
    "       'Branch':[\"B.Tech\", \"MBA\", \"BCA\", \"B.Tech\", \"BCA\"],\n",
    "       'Score':[\"80\",\"90\",\"60\", \"30\", \"50\"],\n",
    "       'Result': [\"Pass\",\"Pass\",\"Pass\",\"Fail\",\"Fail\"]}\n",
    "df_mis = pd.DataFrame(data)"
   ]
  },
  {
   "cell_type": "code",
   "execution_count": 44,
   "id": "ecb2007f",
   "metadata": {
    "scrolled": true
   },
   "outputs": [],
   "source": [
    "df_mis = df_mis.set_index('Name').head()"
   ]
  },
  {
   "cell_type": "code",
   "execution_count": 45,
   "id": "f6c7d6d8",
   "metadata": {},
   "outputs": [],
   "source": [
    "df_mis.index.names = [None]"
   ]
  },
  {
   "cell_type": "code",
   "execution_count": 46,
   "id": "17a73539",
   "metadata": {},
   "outputs": [
    {
     "data": {
      "text/html": [
       "<div>\n",
       "<style scoped>\n",
       "    .dataframe tbody tr th:only-of-type {\n",
       "        vertical-align: middle;\n",
       "    }\n",
       "\n",
       "    .dataframe tbody tr th {\n",
       "        vertical-align: top;\n",
       "    }\n",
       "\n",
       "    .dataframe thead th {\n",
       "        text-align: right;\n",
       "    }\n",
       "</style>\n",
       "<table border=\"1\" class=\"dataframe\">\n",
       "  <thead>\n",
       "    <tr style=\"text-align: right;\">\n",
       "      <th></th>\n",
       "      <th>Branch</th>\n",
       "      <th>Score</th>\n",
       "      <th>Result</th>\n",
       "    </tr>\n",
       "  </thead>\n",
       "  <tbody>\n",
       "    <tr>\n",
       "      <th>Akash</th>\n",
       "      <td>B.Tech</td>\n",
       "      <td>80</td>\n",
       "      <td>Pass</td>\n",
       "    </tr>\n",
       "    <tr>\n",
       "      <th>Geeku</th>\n",
       "      <td>MBA</td>\n",
       "      <td>90</td>\n",
       "      <td>Pass</td>\n",
       "    </tr>\n",
       "    <tr>\n",
       "      <th>Pankaj</th>\n",
       "      <td>BCA</td>\n",
       "      <td>60</td>\n",
       "      <td>Pass</td>\n",
       "    </tr>\n",
       "    <tr>\n",
       "      <th>Sumitra</th>\n",
       "      <td>B.Tech</td>\n",
       "      <td>30</td>\n",
       "      <td>Fail</td>\n",
       "    </tr>\n",
       "    <tr>\n",
       "      <th>Ramlal</th>\n",
       "      <td>BCA</td>\n",
       "      <td>50</td>\n",
       "      <td>Fail</td>\n",
       "    </tr>\n",
       "  </tbody>\n",
       "</table>\n",
       "</div>"
      ],
      "text/plain": [
       "         Branch Score Result\n",
       "Akash    B.Tech    80   Pass\n",
       "Geeku       MBA    90   Pass\n",
       "Pankaj      BCA    60   Pass\n",
       "Sumitra  B.Tech    30   Fail\n",
       "Ramlal      BCA    50   Fail"
      ]
     },
     "execution_count": 46,
     "metadata": {},
     "output_type": "execute_result"
    }
   ],
   "source": [
    "df_mis"
   ]
  },
  {
   "attachments": {
    "image.png": {
     "image/png": "[encoded data removed]"
    }
   },
   "cell_type": "markdown",
   "id": "69e6971e",
   "metadata": {},
   "source": [
    "*Method 2* : Use `DataFrame.pivot(index, columns)`\n",
    "\n",
    "In order to convert a column to row name/index in dataframe, Pandas has a built-in function Pivot.\n",
    "Now, let’s say we want Result to be the rows/index, and columns be name in our dataframe, to achieve this pandas has provided a method called Pivot.\n",
    "\n",
    "![image.png](attachment:image.png)"
   ]
  },
  {
   "cell_type": "code",
   "execution_count": 47,
   "id": "4aea3aba",
   "metadata": {},
   "outputs": [],
   "source": [
    "data = {'Name':[\"Akash\", \"Geeku\", \"Pankaj\", \"Sumitra\",\"Ramlal\"],\n",
    "       'Branch':[\"B.Tech\", \"MBA\", \"BCA\", \"B.Tech\", \"BCA\"],\n",
    "       'Score':[\"80\",\"90\",\"60\", \"30\", \"50\"],\n",
    "       'Result': [\"Pass\",\"Pass\",\"Pass\",\"Fail\",\"Fail\"]}\n",
    "df_mis = pd.DataFrame(data)"
   ]
  },
  {
   "cell_type": "code",
   "execution_count": 48,
   "id": "172054c6",
   "metadata": {},
   "outputs": [
    {
     "data": {
      "text/html": [
       "<div>\n",
       "<style scoped>\n",
       "    .dataframe tbody tr th:only-of-type {\n",
       "        vertical-align: middle;\n",
       "    }\n",
       "\n",
       "    .dataframe tbody tr th {\n",
       "        vertical-align: top;\n",
       "    }\n",
       "\n",
       "    .dataframe thead tr th {\n",
       "        text-align: left;\n",
       "    }\n",
       "\n",
       "    .dataframe thead tr:last-of-type th {\n",
       "        text-align: right;\n",
       "    }\n",
       "</style>\n",
       "<table border=\"1\" class=\"dataframe\">\n",
       "  <thead>\n",
       "    <tr>\n",
       "      <th></th>\n",
       "      <th colspan=\"5\" halign=\"left\">Branch</th>\n",
       "      <th colspan=\"5\" halign=\"left\">Score</th>\n",
       "    </tr>\n",
       "    <tr>\n",
       "      <th>Name</th>\n",
       "      <th>Akash</th>\n",
       "      <th>Geeku</th>\n",
       "      <th>Pankaj</th>\n",
       "      <th>Ramlal</th>\n",
       "      <th>Sumitra</th>\n",
       "      <th>Akash</th>\n",
       "      <th>Geeku</th>\n",
       "      <th>Pankaj</th>\n",
       "      <th>Ramlal</th>\n",
       "      <th>Sumitra</th>\n",
       "    </tr>\n",
       "    <tr>\n",
       "      <th>Result</th>\n",
       "      <th></th>\n",
       "      <th></th>\n",
       "      <th></th>\n",
       "      <th></th>\n",
       "      <th></th>\n",
       "      <th></th>\n",
       "      <th></th>\n",
       "      <th></th>\n",
       "      <th></th>\n",
       "      <th></th>\n",
       "    </tr>\n",
       "  </thead>\n",
       "  <tbody>\n",
       "    <tr>\n",
       "      <th>Fail</th>\n",
       "      <td>NaN</td>\n",
       "      <td>NaN</td>\n",
       "      <td>NaN</td>\n",
       "      <td>BCA</td>\n",
       "      <td>B.Tech</td>\n",
       "      <td>NaN</td>\n",
       "      <td>NaN</td>\n",
       "      <td>NaN</td>\n",
       "      <td>50</td>\n",
       "      <td>30</td>\n",
       "    </tr>\n",
       "    <tr>\n",
       "      <th>Pass</th>\n",
       "      <td>B.Tech</td>\n",
       "      <td>MBA</td>\n",
       "      <td>BCA</td>\n",
       "      <td>NaN</td>\n",
       "      <td>NaN</td>\n",
       "      <td>80</td>\n",
       "      <td>90</td>\n",
       "      <td>60</td>\n",
       "      <td>NaN</td>\n",
       "      <td>NaN</td>\n",
       "    </tr>\n",
       "  </tbody>\n",
       "</table>\n",
       "</div>"
      ],
      "text/plain": [
       "        Branch                             Score                            \n",
       "Name     Akash Geeku Pankaj Ramlal Sumitra Akash Geeku Pankaj Ramlal Sumitra\n",
       "Result                                                                      \n",
       "Fail       NaN   NaN    NaN    BCA  B.Tech   NaN   NaN    NaN     50      30\n",
       "Pass    B.Tech   MBA    BCA    NaN     NaN    80    90     60    NaN     NaN"
      ]
     },
     "execution_count": 48,
     "metadata": {},
     "output_type": "execute_result"
    }
   ],
   "source": [
    "df_mis.pivot(index ='Result', columns ='Name')"
   ]
  },
  {
   "cell_type": "markdown",
   "id": "0ae71c65",
   "metadata": {},
   "source": [
    "---\n",
    "* **Get n-Largest/Smallest values from a Column**"
   ]
  },
  {
   "cell_type": "code",
   "execution_count": 49,
   "id": "95cf0ffc",
   "metadata": {},
   "outputs": [
    {
     "data": {
      "text/html": [
       "<div>\n",
       "<style scoped>\n",
       "    .dataframe tbody tr th:only-of-type {\n",
       "        vertical-align: middle;\n",
       "    }\n",
       "\n",
       "    .dataframe tbody tr th {\n",
       "        vertical-align: top;\n",
       "    }\n",
       "\n",
       "    .dataframe thead th {\n",
       "        text-align: right;\n",
       "    }\n",
       "</style>\n",
       "<table border=\"1\" class=\"dataframe\">\n",
       "  <thead>\n",
       "    <tr style=\"text-align: right;\">\n",
       "      <th></th>\n",
       "      <th>sepal length</th>\n",
       "      <th>petal length</th>\n",
       "      <th>sepal width</th>\n",
       "      <th>petal width</th>\n",
       "      <th>SPECIES</th>\n",
       "      <th>New Feature</th>\n",
       "    </tr>\n",
       "  </thead>\n",
       "  <tbody>\n",
       "    <tr>\n",
       "      <th>132</th>\n",
       "      <td>7.9</td>\n",
       "      <td>6.4</td>\n",
       "      <td>3.8</td>\n",
       "      <td>2.0</td>\n",
       "      <td>virginica</td>\n",
       "      <td>0.007566</td>\n",
       "    </tr>\n",
       "    <tr>\n",
       "      <th>118</th>\n",
       "      <td>7.7</td>\n",
       "      <td>6.7</td>\n",
       "      <td>3.8</td>\n",
       "      <td>2.2</td>\n",
       "      <td>virginica</td>\n",
       "      <td>-0.100209</td>\n",
       "    </tr>\n",
       "    <tr>\n",
       "      <th>119</th>\n",
       "      <td>7.7</td>\n",
       "      <td>6.9</td>\n",
       "      <td>2.6</td>\n",
       "      <td>2.3</td>\n",
       "      <td>virginica</td>\n",
       "      <td>1.299605</td>\n",
       "    </tr>\n",
       "    <tr>\n",
       "      <th>123</th>\n",
       "      <td>7.7</td>\n",
       "      <td>6.7</td>\n",
       "      <td>2.8</td>\n",
       "      <td>2.0</td>\n",
       "      <td>virginica</td>\n",
       "      <td>0.040535</td>\n",
       "    </tr>\n",
       "    <tr>\n",
       "      <th>136</th>\n",
       "      <td>7.7</td>\n",
       "      <td>6.1</td>\n",
       "      <td>3.0</td>\n",
       "      <td>2.3</td>\n",
       "      <td>virginica</td>\n",
       "      <td>-0.117319</td>\n",
       "    </tr>\n",
       "  </tbody>\n",
       "</table>\n",
       "</div>"
      ],
      "text/plain": [
       "     sepal length  petal length  sepal width  petal width    SPECIES  \\\n",
       "132           7.9           6.4          3.8          2.0  virginica   \n",
       "118           7.7           6.7          3.8          2.2  virginica   \n",
       "119           7.7           6.9          2.6          2.3  virginica   \n",
       "123           7.7           6.7          2.8          2.0  virginica   \n",
       "136           7.7           6.1          3.0          2.3  virginica   \n",
       "\n",
       "     New Feature  \n",
       "132     0.007566  \n",
       "118    -0.100209  \n",
       "119     1.299605  \n",
       "123     0.040535  \n",
       "136    -0.117319  "
      ]
     },
     "execution_count": 49,
     "metadata": {},
     "output_type": "execute_result"
    }
   ],
   "source": [
    "df.nlargest(5, ['sepal length'])"
   ]
  },
  {
   "cell_type": "code",
   "execution_count": 50,
   "id": "625f8561",
   "metadata": {},
   "outputs": [
    {
     "data": {
      "text/html": [
       "<div>\n",
       "<style scoped>\n",
       "    .dataframe tbody tr th:only-of-type {\n",
       "        vertical-align: middle;\n",
       "    }\n",
       "\n",
       "    .dataframe tbody tr th {\n",
       "        vertical-align: top;\n",
       "    }\n",
       "\n",
       "    .dataframe thead th {\n",
       "        text-align: right;\n",
       "    }\n",
       "</style>\n",
       "<table border=\"1\" class=\"dataframe\">\n",
       "  <thead>\n",
       "    <tr style=\"text-align: right;\">\n",
       "      <th></th>\n",
       "      <th>sepal length</th>\n",
       "      <th>petal length</th>\n",
       "      <th>sepal width</th>\n",
       "      <th>petal width</th>\n",
       "      <th>SPECIES</th>\n",
       "      <th>New Feature</th>\n",
       "    </tr>\n",
       "  </thead>\n",
       "  <tbody>\n",
       "    <tr>\n",
       "      <th>4</th>\n",
       "      <td>4.3</td>\n",
       "      <td>1.4</td>\n",
       "      <td>3.6</td>\n",
       "      <td>0.2</td>\n",
       "      <td>virginica</td>\n",
       "      <td>0.297237</td>\n",
       "    </tr>\n",
       "    <tr>\n",
       "      <th>14</th>\n",
       "      <td>4.3</td>\n",
       "      <td>1.1</td>\n",
       "      <td>3.0</td>\n",
       "      <td>0.1</td>\n",
       "      <td>setosa</td>\n",
       "      <td>0.065553</td>\n",
       "    </tr>\n",
       "    <tr>\n",
       "      <th>9</th>\n",
       "      <td>4.4</td>\n",
       "      <td>1.4</td>\n",
       "      <td>2.9</td>\n",
       "      <td>0.2</td>\n",
       "      <td>setosa</td>\n",
       "      <td>0.132723</td>\n",
       "    </tr>\n",
       "    <tr>\n",
       "      <th>39</th>\n",
       "      <td>4.4</td>\n",
       "      <td>1.3</td>\n",
       "      <td>3.0</td>\n",
       "      <td>0.2</td>\n",
       "      <td>setosa</td>\n",
       "      <td>0.309329</td>\n",
       "    </tr>\n",
       "    <tr>\n",
       "      <th>43</th>\n",
       "      <td>4.4</td>\n",
       "      <td>1.3</td>\n",
       "      <td>3.2</td>\n",
       "      <td>0.2</td>\n",
       "      <td>setosa</td>\n",
       "      <td>-0.371788</td>\n",
       "    </tr>\n",
       "  </tbody>\n",
       "</table>\n",
       "</div>"
      ],
      "text/plain": [
       "    sepal length  petal length  sepal width  petal width    SPECIES  \\\n",
       "4            4.3           1.4          3.6          0.2  virginica   \n",
       "14           4.3           1.1          3.0          0.1     setosa   \n",
       "9            4.4           1.4          2.9          0.2     setosa   \n",
       "39           4.4           1.3          3.0          0.2     setosa   \n",
       "43           4.4           1.3          3.2          0.2     setosa   \n",
       "\n",
       "    New Feature  \n",
       "4      0.297237  \n",
       "14     0.065553  \n",
       "9      0.132723  \n",
       "39     0.309329  \n",
       "43    -0.371788  "
      ]
     },
     "execution_count": 50,
     "metadata": {},
     "output_type": "execute_result"
    }
   ],
   "source": [
    "df.nsmallest(5, ['sepal length'])"
   ]
  },
  {
   "cell_type": "markdown",
   "id": "9d0e8c79",
   "metadata": {},
   "source": [
    "---\n",
    "* **Getting Row Names**\n",
    "\n",
    "While analyzing the real datasets which are often very huge in size, we might need to get the rows or index names in order to perform some certain operations."
   ]
  },
  {
   "cell_type": "markdown",
   "id": "776b198d",
   "metadata": {},
   "source": [
    "**Method 1** : Iterate over indices"
   ]
  },
  {
   "cell_type": "code",
   "execution_count": 51,
   "id": "19db84a9",
   "metadata": {},
   "outputs": [
    {
     "name": "stdout",
     "output_type": "stream",
     "text": [
      "0 1 2 3 4 "
     ]
    }
   ],
   "source": [
    "for row in df.head().index:\n",
    "    print(row, end = \" \")"
   ]
  },
  {
   "cell_type": "markdown",
   "id": "32082ea7",
   "metadata": {},
   "source": [
    "**Method 2** : Use `list(DataFrame.index)`"
   ]
  },
  {
   "cell_type": "code",
   "execution_count": 52,
   "id": "6542bfba",
   "metadata": {},
   "outputs": [
    {
     "data": {
      "text/plain": [
       "[0, 1, 2, 3, 4]"
      ]
     },
     "execution_count": 52,
     "metadata": {},
     "output_type": "execute_result"
    }
   ],
   "source": [
    "list(df.head().index)"
   ]
  },
  {
   "cell_type": "markdown",
   "id": "b5ea36ed",
   "metadata": {},
   "source": [
    "**Method 3** : Use `DataFrame.values`"
   ]
  },
  {
   "cell_type": "code",
   "execution_count": 53,
   "id": "e5f099da",
   "metadata": {},
   "outputs": [
    {
     "data": {
      "text/plain": [
       "array([[5.1, 1.4, 3.5, 0.2, 'setosa', 0.9311795518081465],\n",
       "       [4.9, 1.4, 3.0, 0.2, 'setosa', 0.0531776385150014],\n",
       "       [4.7, 1.3, 3.2, 0.2, 'setosa', 1.2334510457821326],\n",
       "       [4.6, 1.5, 3.1, 0.2, 'setosa', 0.24446798924864063],\n",
       "       [4.3, 1.4, 3.6, 0.2, 'virginica', 0.29723682764870996]],\n",
       "      dtype=object)"
      ]
     },
     "execution_count": 53,
     "metadata": {},
     "output_type": "execute_result"
    }
   ],
   "source": [
    "df.head().values"
   ]
  },
  {
   "cell_type": "markdown",
   "id": "c665685b",
   "metadata": {},
   "source": [
    "---\n",
    "* **Fetch no. of Unique Values**\n",
    "\n",
    "Pass `dropna = True` to ignore NaN's"
   ]
  },
  {
   "cell_type": "code",
   "execution_count": 54,
   "id": "fe6f3fc9",
   "metadata": {},
   "outputs": [
    {
     "data": {
      "text/plain": [
       "virginica     51\n",
       "versicolor    50\n",
       "setosa        50\n",
       "Name: SPECIES, dtype: int64"
      ]
     },
     "execution_count": 54,
     "metadata": {},
     "output_type": "execute_result"
    }
   ],
   "source": [
    "df['SPECIES'].value_counts()"
   ]
  },
  {
   "cell_type": "markdown",
   "id": "330ee333",
   "metadata": {},
   "source": [
    "---\n",
    "---\n",
    " # 2. Operating Over Data\n",
    "---\n",
    "---\n",
    "Consists of applying a function over a series/record, aggregating data, deriving statistics for different axes\n",
    "\n",
    "## 2.1 Apply a function on all records/series\n",
    "\n",
    "`Pandas.apply(function, axis)` allow the users to pass a function and apply it on every single value of the Pandas series/record. It comes as a huge improvement for the pandas library as this function helps to segregate data according to the conditions required due to which it is efficiently used in data science and machine learning.\n",
    "\n",
    "---\n",
    "**On record**\n",
    "\n",
    "$\n",
    "\\LARGE x_{normal} = \\frac{ x_i - \\mu_x}{ \\sigma }\n",
    "$"
   ]
  },
  {
   "cell_type": "code",
   "execution_count": 55,
   "id": "41493475",
   "metadata": {},
   "outputs": [],
   "source": [
    "def normalize(x,y):\n",
    "    x_new = (x - np.mean([x,y])) / (max(x,y) - min(x,y))\n",
    "    return x_new"
   ]
  },
  {
   "cell_type": "code",
   "execution_count": 56,
   "id": "980c4330",
   "metadata": {},
   "outputs": [
    {
     "data": {
      "text/html": [
       "<div>\n",
       "<style scoped>\n",
       "    .dataframe tbody tr th:only-of-type {\n",
       "        vertical-align: middle;\n",
       "    }\n",
       "\n",
       "    .dataframe tbody tr th {\n",
       "        vertical-align: top;\n",
       "    }\n",
       "\n",
       "    .dataframe thead th {\n",
       "        text-align: right;\n",
       "    }\n",
       "</style>\n",
       "<table border=\"1\" class=\"dataframe\">\n",
       "  <thead>\n",
       "    <tr style=\"text-align: right;\">\n",
       "      <th></th>\n",
       "      <th>X</th>\n",
       "      <th>Y</th>\n",
       "    </tr>\n",
       "  </thead>\n",
       "  <tbody>\n",
       "    <tr>\n",
       "      <th>0</th>\n",
       "      <td>28</td>\n",
       "      <td>42</td>\n",
       "    </tr>\n",
       "    <tr>\n",
       "      <th>1</th>\n",
       "      <td>84</td>\n",
       "      <td>22</td>\n",
       "    </tr>\n",
       "    <tr>\n",
       "      <th>2</th>\n",
       "      <td>66</td>\n",
       "      <td>84</td>\n",
       "    </tr>\n",
       "    <tr>\n",
       "      <th>3</th>\n",
       "      <td>18</td>\n",
       "      <td>27</td>\n",
       "    </tr>\n",
       "    <tr>\n",
       "      <th>4</th>\n",
       "      <td>98</td>\n",
       "      <td>32</td>\n",
       "    </tr>\n",
       "  </tbody>\n",
       "</table>\n",
       "</div>"
      ],
      "text/plain": [
       "    X   Y\n",
       "0  28  42\n",
       "1  84  22\n",
       "2  66  84\n",
       "3  18  27\n",
       "4  98  32"
      ]
     },
     "execution_count": 56,
     "metadata": {},
     "output_type": "execute_result"
    }
   ],
   "source": [
    "df_con = pd.DataFrame( { 'X':( np.random.randint( 100, size = (5) ) ), \n",
    "                         'Y':( np.random.randint( 100, size = (5) ) ) } )\n",
    "df_con"
   ]
  },
  {
   "cell_type": "code",
   "execution_count": 57,
   "id": "016ebf76",
   "metadata": {},
   "outputs": [],
   "source": [
    "df_con['Norm(X,Y)'] = df_con.apply( lambda row: normalize(row['X'], row['Y']), axis = 1)"
   ]
  },
  {
   "cell_type": "code",
   "execution_count": 58,
   "id": "6e9331c2",
   "metadata": {
    "scrolled": true
   },
   "outputs": [
    {
     "data": {
      "text/html": [
       "<div>\n",
       "<style scoped>\n",
       "    .dataframe tbody tr th:only-of-type {\n",
       "        vertical-align: middle;\n",
       "    }\n",
       "\n",
       "    .dataframe tbody tr th {\n",
       "        vertical-align: top;\n",
       "    }\n",
       "\n",
       "    .dataframe thead th {\n",
       "        text-align: right;\n",
       "    }\n",
       "</style>\n",
       "<table border=\"1\" class=\"dataframe\">\n",
       "  <thead>\n",
       "    <tr style=\"text-align: right;\">\n",
       "      <th></th>\n",
       "      <th>X</th>\n",
       "      <th>Y</th>\n",
       "      <th>Norm(X,Y)</th>\n",
       "    </tr>\n",
       "  </thead>\n",
       "  <tbody>\n",
       "    <tr>\n",
       "      <th>0</th>\n",
       "      <td>28</td>\n",
       "      <td>42</td>\n",
       "      <td>-0.5</td>\n",
       "    </tr>\n",
       "    <tr>\n",
       "      <th>1</th>\n",
       "      <td>84</td>\n",
       "      <td>22</td>\n",
       "      <td>0.5</td>\n",
       "    </tr>\n",
       "    <tr>\n",
       "      <th>2</th>\n",
       "      <td>66</td>\n",
       "      <td>84</td>\n",
       "      <td>-0.5</td>\n",
       "    </tr>\n",
       "    <tr>\n",
       "      <th>3</th>\n",
       "      <td>18</td>\n",
       "      <td>27</td>\n",
       "      <td>-0.5</td>\n",
       "    </tr>\n",
       "    <tr>\n",
       "      <th>4</th>\n",
       "      <td>98</td>\n",
       "      <td>32</td>\n",
       "      <td>0.5</td>\n",
       "    </tr>\n",
       "  </tbody>\n",
       "</table>\n",
       "</div>"
      ],
      "text/plain": [
       "    X   Y  Norm(X,Y)\n",
       "0  28  42       -0.5\n",
       "1  84  22        0.5\n",
       "2  66  84       -0.5\n",
       "3  18  27       -0.5\n",
       "4  98  32        0.5"
      ]
     },
     "execution_count": 58,
     "metadata": {},
     "output_type": "execute_result"
    }
   ],
   "source": [
    "df_con"
   ]
  },
  {
   "cell_type": "markdown",
   "id": "609fc0cc",
   "metadata": {},
   "source": [
    "---\n",
    "**On Series**"
   ]
  },
  {
   "cell_type": "markdown",
   "id": "30a5e1dc",
   "metadata": {},
   "source": [
    "Example 1"
   ]
  },
  {
   "cell_type": "code",
   "execution_count": 59,
   "id": "4c602652",
   "metadata": {},
   "outputs": [],
   "source": [
    "def add(x):\n",
    "    x_new = x+5\n",
    "    return x_new"
   ]
  },
  {
   "cell_type": "code",
   "execution_count": 60,
   "id": "a743e66e",
   "metadata": {},
   "outputs": [],
   "source": [
    "df_con['added_X'] = df_con.apply(lambda ser: add(ser['X']), axis = 1)"
   ]
  },
  {
   "cell_type": "code",
   "execution_count": 61,
   "id": "251717af",
   "metadata": {},
   "outputs": [
    {
     "data": {
      "text/html": [
       "<div>\n",
       "<style scoped>\n",
       "    .dataframe tbody tr th:only-of-type {\n",
       "        vertical-align: middle;\n",
       "    }\n",
       "\n",
       "    .dataframe tbody tr th {\n",
       "        vertical-align: top;\n",
       "    }\n",
       "\n",
       "    .dataframe thead th {\n",
       "        text-align: right;\n",
       "    }\n",
       "</style>\n",
       "<table border=\"1\" class=\"dataframe\">\n",
       "  <thead>\n",
       "    <tr style=\"text-align: right;\">\n",
       "      <th></th>\n",
       "      <th>X</th>\n",
       "      <th>Y</th>\n",
       "      <th>Norm(X,Y)</th>\n",
       "      <th>added_X</th>\n",
       "    </tr>\n",
       "  </thead>\n",
       "  <tbody>\n",
       "    <tr>\n",
       "      <th>0</th>\n",
       "      <td>28</td>\n",
       "      <td>42</td>\n",
       "      <td>-0.5</td>\n",
       "      <td>33.0</td>\n",
       "    </tr>\n",
       "    <tr>\n",
       "      <th>1</th>\n",
       "      <td>84</td>\n",
       "      <td>22</td>\n",
       "      <td>0.5</td>\n",
       "      <td>89.0</td>\n",
       "    </tr>\n",
       "    <tr>\n",
       "      <th>2</th>\n",
       "      <td>66</td>\n",
       "      <td>84</td>\n",
       "      <td>-0.5</td>\n",
       "      <td>71.0</td>\n",
       "    </tr>\n",
       "    <tr>\n",
       "      <th>3</th>\n",
       "      <td>18</td>\n",
       "      <td>27</td>\n",
       "      <td>-0.5</td>\n",
       "      <td>23.0</td>\n",
       "    </tr>\n",
       "    <tr>\n",
       "      <th>4</th>\n",
       "      <td>98</td>\n",
       "      <td>32</td>\n",
       "      <td>0.5</td>\n",
       "      <td>103.0</td>\n",
       "    </tr>\n",
       "  </tbody>\n",
       "</table>\n",
       "</div>"
      ],
      "text/plain": [
       "    X   Y  Norm(X,Y)  added_X\n",
       "0  28  42       -0.5     33.0\n",
       "1  84  22        0.5     89.0\n",
       "2  66  84       -0.5     71.0\n",
       "3  18  27       -0.5     23.0\n",
       "4  98  32        0.5    103.0"
      ]
     },
     "execution_count": 61,
     "metadata": {},
     "output_type": "execute_result"
    }
   ],
   "source": [
    "df_con"
   ]
  },
  {
   "cell_type": "markdown",
   "id": "5334902d",
   "metadata": {},
   "source": [
    "Example 2"
   ]
  },
  {
   "cell_type": "code",
   "execution_count": 62,
   "id": "f7ef594c",
   "metadata": {},
   "outputs": [],
   "source": [
    "df_con['sub_Y'] = df_con['Y'].apply(lambda y: y-5)"
   ]
  },
  {
   "cell_type": "code",
   "execution_count": 63,
   "id": "2f5178a9",
   "metadata": {},
   "outputs": [
    {
     "data": {
      "text/html": [
       "<div>\n",
       "<style scoped>\n",
       "    .dataframe tbody tr th:only-of-type {\n",
       "        vertical-align: middle;\n",
       "    }\n",
       "\n",
       "    .dataframe tbody tr th {\n",
       "        vertical-align: top;\n",
       "    }\n",
       "\n",
       "    .dataframe thead th {\n",
       "        text-align: right;\n",
       "    }\n",
       "</style>\n",
       "<table border=\"1\" class=\"dataframe\">\n",
       "  <thead>\n",
       "    <tr style=\"text-align: right;\">\n",
       "      <th></th>\n",
       "      <th>X</th>\n",
       "      <th>Y</th>\n",
       "      <th>Norm(X,Y)</th>\n",
       "      <th>added_X</th>\n",
       "      <th>sub_Y</th>\n",
       "    </tr>\n",
       "  </thead>\n",
       "  <tbody>\n",
       "    <tr>\n",
       "      <th>0</th>\n",
       "      <td>28</td>\n",
       "      <td>42</td>\n",
       "      <td>-0.5</td>\n",
       "      <td>33.0</td>\n",
       "      <td>37</td>\n",
       "    </tr>\n",
       "    <tr>\n",
       "      <th>1</th>\n",
       "      <td>84</td>\n",
       "      <td>22</td>\n",
       "      <td>0.5</td>\n",
       "      <td>89.0</td>\n",
       "      <td>17</td>\n",
       "    </tr>\n",
       "    <tr>\n",
       "      <th>2</th>\n",
       "      <td>66</td>\n",
       "      <td>84</td>\n",
       "      <td>-0.5</td>\n",
       "      <td>71.0</td>\n",
       "      <td>79</td>\n",
       "    </tr>\n",
       "    <tr>\n",
       "      <th>3</th>\n",
       "      <td>18</td>\n",
       "      <td>27</td>\n",
       "      <td>-0.5</td>\n",
       "      <td>23.0</td>\n",
       "      <td>22</td>\n",
       "    </tr>\n",
       "    <tr>\n",
       "      <th>4</th>\n",
       "      <td>98</td>\n",
       "      <td>32</td>\n",
       "      <td>0.5</td>\n",
       "      <td>103.0</td>\n",
       "      <td>27</td>\n",
       "    </tr>\n",
       "  </tbody>\n",
       "</table>\n",
       "</div>"
      ],
      "text/plain": [
       "    X   Y  Norm(X,Y)  added_X  sub_Y\n",
       "0  28  42       -0.5     33.0     37\n",
       "1  84  22        0.5     89.0     17\n",
       "2  66  84       -0.5     71.0     79\n",
       "3  18  27       -0.5     23.0     22\n",
       "4  98  32        0.5    103.0     27"
      ]
     },
     "execution_count": 63,
     "metadata": {},
     "output_type": "execute_result"
    }
   ],
   "source": [
    "df_con"
   ]
  },
  {
   "cell_type": "markdown",
   "id": "820ccd45",
   "metadata": {},
   "source": [
    "---\n",
    "## 2.2 Aggregating Data Across One or More Columns\n",
    "`DataFrame.aggregate()` function is used to apply some aggregation across one or more column. Aggregation is done using callable, string, dict, or list of string/callables. Most frequently used aggregations are:\n",
    "* `sum`: Return the sum of the values for the requested axis\n",
    "* `min`: Return the minimum of the values for the requested axis\n",
    "* `max`: Return the maximum of the values for the requested axis"
   ]
  },
  {
   "cell_type": "code",
   "execution_count": 64,
   "id": "49fa620f",
   "metadata": {},
   "outputs": [
    {
     "data": {
      "text/html": [
       "<div>\n",
       "<style scoped>\n",
       "    .dataframe tbody tr th:only-of-type {\n",
       "        vertical-align: middle;\n",
       "    }\n",
       "\n",
       "    .dataframe tbody tr th {\n",
       "        vertical-align: top;\n",
       "    }\n",
       "\n",
       "    .dataframe thead th {\n",
       "        text-align: right;\n",
       "    }\n",
       "</style>\n",
       "<table border=\"1\" class=\"dataframe\">\n",
       "  <thead>\n",
       "    <tr style=\"text-align: right;\">\n",
       "      <th></th>\n",
       "      <th>X</th>\n",
       "      <th>Y</th>\n",
       "      <th>Norm(X,Y)</th>\n",
       "      <th>added_X</th>\n",
       "      <th>sub_Y</th>\n",
       "    </tr>\n",
       "  </thead>\n",
       "  <tbody>\n",
       "    <tr>\n",
       "      <th>sum</th>\n",
       "      <td>294</td>\n",
       "      <td>207</td>\n",
       "      <td>-0.5</td>\n",
       "      <td>319.0</td>\n",
       "      <td>182</td>\n",
       "    </tr>\n",
       "    <tr>\n",
       "      <th>min</th>\n",
       "      <td>18</td>\n",
       "      <td>22</td>\n",
       "      <td>-0.5</td>\n",
       "      <td>23.0</td>\n",
       "      <td>17</td>\n",
       "    </tr>\n",
       "  </tbody>\n",
       "</table>\n",
       "</div>"
      ],
      "text/plain": [
       "       X    Y  Norm(X,Y)  added_X  sub_Y\n",
       "sum  294  207       -0.5    319.0    182\n",
       "min   18   22       -0.5     23.0     17"
      ]
     },
     "execution_count": 64,
     "metadata": {},
     "output_type": "execute_result"
    }
   ],
   "source": [
    "df_con.aggregate(['sum','min'])"
   ]
  },
  {
   "cell_type": "code",
   "execution_count": 65,
   "id": "bcdc0d22",
   "metadata": {},
   "outputs": [
    {
     "data": {
      "text/html": [
       "<div>\n",
       "<style scoped>\n",
       "    .dataframe tbody tr th:only-of-type {\n",
       "        vertical-align: middle;\n",
       "    }\n",
       "\n",
       "    .dataframe tbody tr th {\n",
       "        vertical-align: top;\n",
       "    }\n",
       "\n",
       "    .dataframe thead th {\n",
       "        text-align: right;\n",
       "    }\n",
       "</style>\n",
       "<table border=\"1\" class=\"dataframe\">\n",
       "  <thead>\n",
       "    <tr style=\"text-align: right;\">\n",
       "      <th></th>\n",
       "      <th>sepal length</th>\n",
       "      <th>petal length</th>\n",
       "    </tr>\n",
       "  </thead>\n",
       "  <tbody>\n",
       "    <tr>\n",
       "      <th>max</th>\n",
       "      <td>7.9</td>\n",
       "      <td>NaN</td>\n",
       "    </tr>\n",
       "    <tr>\n",
       "      <th>min</th>\n",
       "      <td>4.3</td>\n",
       "      <td>1.0</td>\n",
       "    </tr>\n",
       "    <tr>\n",
       "      <th>sum</th>\n",
       "      <td>NaN</td>\n",
       "      <td>565.1</td>\n",
       "    </tr>\n",
       "  </tbody>\n",
       "</table>\n",
       "</div>"
      ],
      "text/plain": [
       "     sepal length  petal length\n",
       "max           7.9           NaN\n",
       "min           4.3           1.0\n",
       "sum           NaN         565.1"
      ]
     },
     "execution_count": 65,
     "metadata": {},
     "output_type": "execute_result"
    }
   ],
   "source": [
    "df.aggregate({\"sepal length\":['max','min'], \"petal length\":['sum','min']})"
   ]
  },
  {
   "cell_type": "markdown",
   "id": "b8717d92",
   "metadata": {},
   "source": [
    "---\n",
    "## 2.3 Statistics of Values for any axis\n",
    "Pandas `DataFrame.mean()` function returns the mean of the values for the requested axis. If the method is applied on a pandas series object, then the method returns a scalar value which is the mean value of all the observations in the dataframe. If the method is applied on a pandas dataframe object, then the method returns a pandas series object which contains the mean of the values over the specified axis. We can pass the `skipna = True` argument to ignore NaNs. Similarly, \n",
    "* `DataFrame.median()` returns the median over requested axis\n",
    "* `DataFrame.mode()` returns mode of each element.\n",
    "* `DataFrame.var()` returns variance over axis. Normalized by N-1 by default. This can be changed using the `ddof` argument\n",
    "* `DataFrame.std()` returns sample standard deviation over axis. Normalized by N-1 by default. This can be changed using the `ddof` argument"
   ]
  },
  {
   "cell_type": "code",
   "execution_count": 66,
   "id": "49709194",
   "metadata": {},
   "outputs": [
    {
     "data": {
      "text/plain": [
       "X            58.8\n",
       "Y            41.4\n",
       "Norm(X,Y)    -0.1\n",
       "added_X      63.8\n",
       "sub_Y        36.4\n",
       "dtype: float64"
      ]
     },
     "execution_count": 66,
     "metadata": {},
     "output_type": "execute_result"
    }
   ],
   "source": [
    "df_con.mean(axis = 0)"
   ]
  },
  {
   "cell_type": "code",
   "execution_count": 67,
   "id": "e631b91a",
   "metadata": {},
   "outputs": [
    {
     "data": {
      "text/plain": [
       "0    27.9\n",
       "1    42.5\n",
       "2    59.9\n",
       "3    17.9\n",
       "4    52.1\n",
       "dtype: float64"
      ]
     },
     "execution_count": 67,
     "metadata": {},
     "output_type": "execute_result"
    }
   ],
   "source": [
    "df_con.mean(axis = 1)"
   ]
  },
  {
   "cell_type": "code",
   "execution_count": 68,
   "id": "c289e6f3",
   "metadata": {},
   "outputs": [
    {
     "data": {
      "text/plain": [
       "5.8331125827814585"
      ]
     },
     "execution_count": 68,
     "metadata": {},
     "output_type": "execute_result"
    }
   ],
   "source": [
    "df['sepal length'].mean()"
   ]
  },
  {
   "cell_type": "markdown",
   "id": "f68606e0",
   "metadata": {},
   "source": [
    "---\n",
    "## 2.4 Mean Absolute Deviation Values for any axis\n",
    "Pandas `DataFrame.mad()` function returns the mean absolute deviation of the values for the requested axis. The mean absolute deviation of a dataset is the average distance between each data point and the mean. It gives us an idea about the variability in a dataset.We can pass the `skipna = True` argument to ignore NaNs\n",
    "\n",
    "$\\large M.A.D = \\frac1n  \\sum_{i = 1}^{n}(x_i - \\bar{X})$\n",
    "\n",
    "$where,$  $\\bar{X} = Avg. value$ $of DataSet$"
   ]
  },
  {
   "cell_type": "code",
   "execution_count": 69,
   "id": "71460fda",
   "metadata": {},
   "outputs": [
    {
     "data": {
      "text/plain": [
       "X            28.64\n",
       "Y            17.28\n",
       "Norm(X,Y)     0.48\n",
       "added_X      28.64\n",
       "sub_Y        17.28\n",
       "dtype: float64"
      ]
     },
     "execution_count": 69,
     "metadata": {},
     "output_type": "execute_result"
    }
   ],
   "source": [
    "df_con.mad(axis = 0)"
   ]
  },
  {
   "cell_type": "code",
   "execution_count": 70,
   "id": "6e246878",
   "metadata": {},
   "outputs": [
    {
     "data": {
      "text/plain": [
       "0.6924784000701721"
      ]
     },
     "execution_count": 70,
     "metadata": {},
     "output_type": "execute_result"
    }
   ],
   "source": [
    "df['sepal length'].mad()"
   ]
  },
  {
   "cell_type": "markdown",
   "id": "f3704eae",
   "metadata": {},
   "source": [
    "---\n",
    "## 2.5 Standard Error of the Mean\n",
    "The standard error (SE) of a statistic (usually an estimate of a parameter) is the standard deviation of its sampling distribution or an estimate of that standard deviation. If the statistic is the sample mean, it is called the standard error of the mean (SEM). \n",
    "* **<u>Exact</u>**\n",
    "\n",
    "If a statistically independent sample of ${\\displaystyle n}$ observations $x_{1},x_{2},\\ldots ,x_{n}$ is taken from a statistical population with a standard deviation of $\\sigma$ , then the mean value calculated from the sample $\\bar {x}$ will have an associated standard error on the mean $\\sigma_{\\bar {x}}$ given by:\n",
    "\n",
    "$\\large {\\sigma_{\\bar {x}}\\ = \\frac {\\sigma } {\\sqrt {n}} }$\n",
    "\n",
    "$where$ \n",
    "\n",
    "$\\large \\sigma = \\sqrt {\\frac {\\sum {(x_i - \\mu)^2} } {n} }$\n",
    "\n",
    "\n",
    "* **<u>Estimate</u>**\n",
    "\n",
    "The standard deviation $\\sigma$  of the population being sampled is seldom known. Therefore, the **standard error of the mean** is usually estimated by replacing $\\sigma$  with the sample standard deviation $\\sigma _{x}$ instead:\n",
    "\n",
    "$\\large \\sigma_{\\bar {x}}\\ \\approx \\frac {\\sigma _{x}} {\\sqrt{n}}$.\n",
    "\n",
    "As this is only an estimator for the true \"standard error\", it is common to see other notations here such as:\n",
    "\n",
    "$\\large \\widehat{\\sigma}_{\\bar {x}} = \\frac {\\sigma _{x}} {\\sqrt {n} }$    or \n",
    "$ \\large s_{\\bar {x}} = \\frac {s} {\\sqrt {n}} $\n",
    "\n",
    "Remember that,\n",
    "* $\\large \\sigma$ = Standard Deviation of *population*\n",
    "* $\\large \\sigma_x$ = Standard Deviation of *sample*\n",
    "* $\\large \\sigma_{ \\bar{x} }$ = Standard Deviation of Sample Mean OR Standard Error of Mean (S.E.M)\n",
    "* $\\large { \\widehat{\\sigma} }_{\\bar {x}}$ = Estimator of S.E.M, which is the most often calculated quantity, and is also often colloquially called the standard error (S.E.).\n",
    "\n",
    "Pandas `DataFrame.sem()` function return unbiased standard error, $\\large \\widehat{\\sigma}_{\\bar {x}}$, of the mean over requested axis."
   ]
  },
  {
   "cell_type": "code",
   "execution_count": 71,
   "id": "a6655d74",
   "metadata": {},
   "outputs": [
    {
     "data": {
      "text/plain": [
       "X            15.551206\n",
       "Y            11.151681\n",
       "Norm(X,Y)     0.244949\n",
       "added_X      15.551206\n",
       "sub_Y        11.151681\n",
       "dtype: float64"
      ]
     },
     "execution_count": 71,
     "metadata": {},
     "output_type": "execute_result"
    }
   ],
   "source": [
    "df_con.sem()"
   ]
  },
  {
   "cell_type": "markdown",
   "id": "3894cc99",
   "metadata": {},
   "source": [
    "---\n",
    "---\n",
    "---\n",
    "$\\LARGE CONTINUED...$"
   ]
  }
 ],
 "metadata": {
  "kernelspec": {
   "display_name": "Python 3",
   "language": "python",
   "name": "python3"
  },
  "language_info": {
   "codemirror_mode": {
    "name": "ipython",
    "version": 3
   },
   "file_extension": ".py",
   "mimetype": "text/x-python",
   "name": "python",
   "nbconvert_exporter": "python",
   "pygments_lexer": "ipython3",
   "version": "3.8.8"
  }
 },
 "nbformat": 4,
 "nbformat_minor": 5
}
