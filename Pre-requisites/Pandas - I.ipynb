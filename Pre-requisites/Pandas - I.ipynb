{
 "cells": [
  {
   "cell_type": "markdown",
   "id": "c7337704",
   "metadata": {},
   "source": [
    "![pandas](https://i.redd.it/c6h7rok9c2v31.jpg)\n",
    "*By Shreeyansh Das, Source: gfg, Pandas Documentation*"
   ]
  },
  {
   "cell_type": "markdown",
   "id": "f53e41f9",
   "metadata": {},
   "source": [
    "Pandas is an open-source library that is built on top of NumPy library. It is a Python package that offers various data structures and operations for manipulating numerical data and time series. It is mainly popular for importing and analyzing data much easier. Pandas is fast and it has high-performance & productivity for users.\n",
    "\n",
    "**Advantages** \n",
    "* Fast and efficient for manipulating and analyzing data. \n",
    "* Data from different file objects can be loaded. \n",
    "* Easy handling of missing data (represented as NaN) in floating point as well as non-floating point data \n",
    "* *Size mutability*: columns can be inserted and deleted from DataFrame and higher dimensional objects \n",
    "* Data set merging and joining. \n",
    "* Flexible reshaping and pivoting of data sets \n",
    "* Provides time-series functionality. \n",
    "* Powerful group by functionality for performing split-apply-combine operations on data sets. \n",
    "\n",
    "**Why Pandas is used for Data Science** - \n",
    "This is because pandas are used in conjunction with other libraries that are used for data science. It is built on the top of the NumPy library which means that a lot of structures of NumPy are used or replicated in Pandas. The data produced by Pandas are often used as input for plotting functions of Matplotlib, statistical analysis in SciPy, machine learning algorithms in Scikit-learn.\n",
    "Pandas program can be run from any text editor but it is recommended to use Jupyter Notebook for this as Jupyter given the ability to execute code in a particular cell rather than executing the entire file. Jupyter also provides an easy way to visualize pandas data frames and plots."
   ]
  },
  {
   "cell_type": "code",
   "execution_count": 1,
   "id": "df6bc464",
   "metadata": {},
   "outputs": [],
   "source": [
    "import pandas as pd\n",
    "import numpy as np\n",
    "import seaborn as sns"
   ]
  },
  {
   "cell_type": "markdown",
   "id": "13241cfd",
   "metadata": {},
   "source": [
    "---\n",
    "# 1. Introduction\n",
    "---\n",
    "Pandas generally provide two data structures for manipulating data, They are: \n",
    "* Series \n",
    "* DataFrame "
   ]
  },
  {
   "cell_type": "markdown",
   "id": "18e88000",
   "metadata": {},
   "source": [
    "## 1.1 Series\n",
    "Pandas Series is a one-dimensional labelled array capable of holding data of any type (integer, string, float, python objects, etc.). The axis labels are collectively called indexes. **Pandas Series is nothing but a column in an excel sheet**. Labels need not be unique but must be a hashable type. The object supports both integer and label-based indexing and provides a host of methods for performing operations involving the index.\n",
    "\n",
    "![series](https://media.geeksforgeeks.org/wp-content/uploads/20200225170506/pandas-series.png)"
   ]
  },
  {
   "cell_type": "markdown",
   "id": "6e71aba2",
   "metadata": {},
   "source": [
    "### 1.1.1 Creating a Pandas Series\n",
    "In the real world, a Pandas Series will be created by loading the datasets from existing storage, storage can be SQL Database, CSV file, and Excel file. Pandas Series can be created from the lists, dictionary, and from a scalar value etc. Series can be created in different ways, here are some ways by which we create a series:\n",
    "\n",
    "**Creating a series from array** : In order to create a series from array, we have to import a numpy module and have to use `array()` function."
   ]
  },
  {
   "cell_type": "code",
   "execution_count": 2,
   "id": "9561a625",
   "metadata": {},
   "outputs": [],
   "source": [
    "arr = np.array(['Volt','Excalibur','Gauss','Mag','Xaku','Revenant','Rhino','Garuda','Loki','Nidus'])"
   ]
  },
  {
   "cell_type": "code",
   "execution_count": 3,
   "id": "00708d76",
   "metadata": {},
   "outputs": [
    {
     "data": {
      "text/plain": [
       "0         Volt\n",
       "1    Excalibur\n",
       "2        Gauss\n",
       "3          Mag\n",
       "4         Xaku\n",
       "5     Revenant\n",
       "6        Rhino\n",
       "7       Garuda\n",
       "8         Loki\n",
       "9        Nidus\n",
       "dtype: object"
      ]
     },
     "execution_count": 3,
     "metadata": {},
     "output_type": "execute_result"
    }
   ],
   "source": [
    "S = pd.Series(arr)\n",
    "S"
   ]
  },
  {
   "cell_type": "markdown",
   "id": "df43241f",
   "metadata": {},
   "source": [
    "**Creating series from list** :  In order to create a series from list, we have to first create a list after that we can create a series from list."
   ]
  },
  {
   "cell_type": "code",
   "execution_count": 4,
   "id": "8fdf3dcd",
   "metadata": {},
   "outputs": [],
   "source": [
    "lst = list(arr)"
   ]
  },
  {
   "cell_type": "code",
   "execution_count": 5,
   "id": "da0214c5",
   "metadata": {},
   "outputs": [
    {
     "data": {
      "text/plain": [
       "0         Volt\n",
       "1    Excalibur\n",
       "2        Gauss\n",
       "3          Mag\n",
       "4         Xaku\n",
       "5     Revenant\n",
       "6        Rhino\n",
       "7       Garuda\n",
       "8         Loki\n",
       "9        Nidus\n",
       "dtype: object"
      ]
     },
     "execution_count": 5,
     "metadata": {},
     "output_type": "execute_result"
    }
   ],
   "source": [
    "L = pd.Series(lst)\n",
    "L"
   ]
  },
  {
   "cell_type": "markdown",
   "id": "33aa84dd",
   "metadata": {},
   "source": [
    "**Creating Series From Dictionary** : In order to create a series from dictionary, we have to first create a dictionary after that we can make a series using dictionary. Dictionary key are used to construct a index."
   ]
  },
  {
   "cell_type": "code",
   "execution_count": 6,
   "id": "bf014f2c",
   "metadata": {},
   "outputs": [
    {
     "data": {
      "text/plain": [
       "1              Nidus\n",
       "2    Excalibur Umbra\n",
       "3         Volt Prime\n",
       "4        Gauss Prime\n",
       "5        Atlas Prime\n",
       "dtype: object"
      ]
     },
     "execution_count": 6,
     "metadata": {},
     "output_type": "execute_result"
    }
   ],
   "source": [
    "dct = {1:'Nidus', 2:'Excalibur Umbra', 3:'Volt Prime', 4:'Gauss Prime', 5: 'Atlas Prime'}\n",
    "pd.Series(dct)"
   ]
  },
  {
   "cell_type": "markdown",
   "id": "943bd1a9",
   "metadata": {},
   "source": [
    "**Creating a series from Scalar value** : In order to create a series from scalar value, an index must be provided. The scalar value will be repeated to match the length of index."
   ]
  },
  {
   "cell_type": "code",
   "execution_count": 7,
   "id": "e60e1ae6",
   "metadata": {},
   "outputs": [
    {
     "data": {
      "text/plain": [
       "0    10\n",
       "1    10\n",
       "2    10\n",
       "3    10\n",
       "4    10\n",
       "5    10\n",
       "dtype: int64"
      ]
     },
     "execution_count": 7,
     "metadata": {},
     "output_type": "execute_result"
    }
   ],
   "source": [
    "pd.Series(10, index = np.asarray(np.arange(0,6,1)))"
   ]
  },
  {
   "cell_type": "markdown",
   "id": "08d93e8b",
   "metadata": {},
   "source": [
    "### 1.1.2 Accessing Elements\n",
    "There are two ways through which we can access element of series, they are :\n",
    "* Accessing Element from Series with Position\n",
    "* Accessing Element Using Label (index)\n",
    "\n",
    "**Accessing Elements via Position** :  In order to access the series element refers to the index number. Use the index operator `[ ]` to access an element in a series. The index must be an integer. In order to access multiple elements from a series, we use Slice operation."
   ]
  },
  {
   "cell_type": "code",
   "execution_count": 8,
   "id": "72bb3e00",
   "metadata": {},
   "outputs": [
    {
     "data": {
      "text/plain": [
       "0         Volt\n",
       "1    Excalibur\n",
       "2        Gauss\n",
       "3          Mag\n",
       "4         Xaku\n",
       "dtype: object"
      ]
     },
     "execution_count": 8,
     "metadata": {},
     "output_type": "execute_result"
    }
   ],
   "source": [
    "# Accessing 1st five elements\n",
    "S[:5]"
   ]
  },
  {
   "cell_type": "code",
   "execution_count": 9,
   "id": "f81c0a26",
   "metadata": {},
   "outputs": [
    {
     "data": {
      "text/plain": [
       "4        Xaku\n",
       "5    Revenant\n",
       "6       Rhino\n",
       "7      Garuda\n",
       "dtype: object"
      ]
     },
     "execution_count": 9,
     "metadata": {},
     "output_type": "execute_result"
    }
   ],
   "source": [
    "# Accessing elements from position 4 to position 7\n",
    "S[4:8]"
   ]
  },
  {
   "cell_type": "markdown",
   "id": "ea1bede6",
   "metadata": {},
   "source": [
    "**Accessing Elements via Labels** :  In order to access an element from series, we have to set values by index label. A Series is like a fixed-size dictionary in that you can get and set values by index label."
   ]
  },
  {
   "cell_type": "code",
   "execution_count": 10,
   "id": "b4045593",
   "metadata": {},
   "outputs": [],
   "source": [
    "data = np.array(['g','e','e','k','s','f', 'o','r','g','e','e','k','s'])\n",
    "ser = pd.Series(data, index = np.asarray(np.arange(10,23,1)))"
   ]
  },
  {
   "cell_type": "code",
   "execution_count": 11,
   "id": "64ff2107",
   "metadata": {},
   "outputs": [
    {
     "data": {
      "text/plain": [
       "'f'"
      ]
     },
     "execution_count": 11,
     "metadata": {},
     "output_type": "execute_result"
    }
   ],
   "source": [
    "ser[15]"
   ]
  },
  {
   "cell_type": "markdown",
   "id": "edc2c13a",
   "metadata": {},
   "source": [
    "### 1.1.3. Indexing and Selecting Data\n",
    "Indexing in pandas means simply selecting particular data from a Series. Indexing could mean selecting all the data, some of the data from particular columns. Indexing can also be known as Subset Selection. It can be done via 3 methods\n",
    "* Index Operator - `[ ]`\n",
    "* Using `.loc`\n",
    "* Using `.iloc`\n",
    "\n",
    "**Index Operator** : \n",
    "Indexing operator is used to refer to the square brackets following an object. In this indexing operator to refer to `df[ ]`"
   ]
  },
  {
   "cell_type": "code",
   "execution_count": 12,
   "id": "541e82e0",
   "metadata": {},
   "outputs": [
    {
     "data": {
      "text/plain": [
       "4        Xaku\n",
       "5    Revenant\n",
       "6       Rhino\n",
       "7      Garuda\n",
       "8        Loki\n",
       "dtype: object"
      ]
     },
     "execution_count": 12,
     "metadata": {},
     "output_type": "execute_result"
    }
   ],
   "source": [
    "S[4:9]                                         #from index 4 to index 8"
   ]
  },
  {
   "cell_type": "markdown",
   "id": "e4a65403",
   "metadata": {},
   "source": [
    "**`df.loc[ ]` Method** : This function selects data by refering the explicit index . The `df.loc[ ]` indexer selects data in a different way than just the indexing operator. It can select subsets of data. *It doesnt excludes the last index.*"
   ]
  },
  {
   "cell_type": "code",
   "execution_count": 13,
   "id": "4cedb9f5",
   "metadata": {},
   "outputs": [
    {
     "data": {
      "text/plain": [
       "4        Xaku\n",
       "5    Revenant\n",
       "6       Rhino\n",
       "7      Garuda\n",
       "8        Loki\n",
       "9       Nidus\n",
       "dtype: object"
      ]
     },
     "execution_count": 13,
     "metadata": {},
     "output_type": "execute_result"
    }
   ],
   "source": [
    "S.loc[4:9]                                   #from index 4 to index 9"
   ]
  },
  {
   "cell_type": "markdown",
   "id": "65fe9a05",
   "metadata": {},
   "source": [
    "**`df.iloc[ ]` Method** : This function allows us to retrieve data by position. In order to do that, we’ll need to specify the positions of the data that we want. The `df.iloc` indexer is very similar to `df.loc` but only uses integer locations to make its selections. *This is similar to index operator since it excludes the last index*"
   ]
  },
  {
   "cell_type": "code",
   "execution_count": 14,
   "id": "6ea237ec",
   "metadata": {},
   "outputs": [
    {
     "data": {
      "text/plain": [
       "4        Xaku\n",
       "5    Revenant\n",
       "6       Rhino\n",
       "7      Garuda\n",
       "8        Loki\n",
       "dtype: object"
      ]
     },
     "execution_count": 14,
     "metadata": {},
     "output_type": "execute_result"
    }
   ],
   "source": [
    "S.iloc[4:9]                               #from index 4 to index 8"
   ]
  },
  {
   "cell_type": "markdown",
   "id": "a890d6db",
   "metadata": {},
   "source": [
    "The main distinction between `loc` and `iloc` is:\n",
    "* `loc` is label-based, which means that you have to specify rows and columns based on their row and column labels.\n",
    "* `iloc` is integer position-based, so you have to specify rows and columns by their integer position values (0-based integer position).\n",
    "\n",
    "![difference](https://miro.medium.com/max/2000/1*CgAWzayEQY8PQuMpRkSGfQ.png)"
   ]
  },
  {
   "cell_type": "markdown",
   "id": "2221125a",
   "metadata": {},
   "source": [
    "### 1.1.4 Binary Operations on Series\n",
    "We can perform binary operation on series like addition, subtraction and many other operation. In order to perform binary operation on series we have to use some function like `.add()`,`.sub()`,`.mul()`, etc.\n",
    "\n",
    "* `add()` - Method is used to add series or list like objects with same length to the caller series\n",
    "* `sub()` - Method is used to subtract series or list like objects with same length from the caller series\n",
    "* `mul()` - Method is used to multiply series or list like objects with same length with the caller series\n",
    "* `div()` - Method is used to divide series or list like objects with same length by the caller series\n",
    "* `sum()` - Returns the sum of the values for the requested axis\n",
    "* `prod()`- Returns the product of the values for the requested axis\n",
    "* `mean()`- Returns the mean of the values for the requested axis\n",
    "* `pow()` - Method is used to put each element of passed series as exponential power of caller series and returned the results\n",
    "* `abs()` - Method is used to get the absolute numeric value of each element in Series/DataFrame\n",
    "* `cov()` - Method is used to find covariance of two series\n",
    "\n",
    "For non matching indices, pass the `fill_value` argument."
   ]
  },
  {
   "cell_type": "code",
   "execution_count": 15,
   "id": "dd03cff2",
   "metadata": {},
   "outputs": [],
   "source": [
    "d1 = pd.Series([5, 2, 3,7], index=['a', 'b', 'c', 'd'])\n",
    "d2 = pd.Series([1, 6, 4, 9], index=['a', 'b', 'd', 'e'])"
   ]
  },
  {
   "cell_type": "code",
   "execution_count": 16,
   "id": "0bd6f45f",
   "metadata": {},
   "outputs": [
    {
     "data": {
      "text/plain": [
       "a     6.0\n",
       "b     8.0\n",
       "c     3.0\n",
       "d    11.0\n",
       "e     9.0\n",
       "dtype: float64"
      ]
     },
     "execution_count": 16,
     "metadata": {},
     "output_type": "execute_result"
    }
   ],
   "source": [
    "d1.add(d2, fill_value = 0)"
   ]
  },
  {
   "cell_type": "code",
   "execution_count": 17,
   "id": "e9195044",
   "metadata": {},
   "outputs": [
    {
     "data": {
      "text/plain": [
       "a    4.0\n",
       "b   -4.0\n",
       "c    3.0\n",
       "d    3.0\n",
       "e   -9.0\n",
       "dtype: float64"
      ]
     },
     "execution_count": 17,
     "metadata": {},
     "output_type": "execute_result"
    }
   ],
   "source": [
    "d1.sub(d2, fill_value = 0)"
   ]
  },
  {
   "cell_type": "markdown",
   "id": "86a56003",
   "metadata": {},
   "source": [
    "### 1.1.4 Conversion Operation on Series\n",
    "In conversion operation we perform various operation like changing datatype of series, changing a series to list etc. In order to perform conversion operation we have various function which help in conversion like `.astype()`, `.tolist()` etc. Changing the Series into numpy array is acheived by using a method `Series.to_numpy()` or `Series.as_matrix()`."
   ]
  },
  {
   "cell_type": "code",
   "execution_count": 18,
   "id": "a6e25afc",
   "metadata": {},
   "outputs": [],
   "source": [
    "iris = sns.load_dataset('iris')"
   ]
  },
  {
   "cell_type": "code",
   "execution_count": 19,
   "id": "afaef2bd",
   "metadata": {},
   "outputs": [
    {
     "data": {
      "text/html": [
       "<div>\n",
       "<style scoped>\n",
       "    .dataframe tbody tr th:only-of-type {\n",
       "        vertical-align: middle;\n",
       "    }\n",
       "\n",
       "    .dataframe tbody tr th {\n",
       "        vertical-align: top;\n",
       "    }\n",
       "\n",
       "    .dataframe thead th {\n",
       "        text-align: right;\n",
       "    }\n",
       "</style>\n",
       "<table border=\"1\" class=\"dataframe\">\n",
       "  <thead>\n",
       "    <tr style=\"text-align: right;\">\n",
       "      <th></th>\n",
       "      <th>sepal_length</th>\n",
       "      <th>sepal_width</th>\n",
       "      <th>petal_length</th>\n",
       "      <th>petal_width</th>\n",
       "      <th>species</th>\n",
       "    </tr>\n",
       "  </thead>\n",
       "  <tbody>\n",
       "    <tr>\n",
       "      <th>0</th>\n",
       "      <td>5.1</td>\n",
       "      <td>3.5</td>\n",
       "      <td>1.4</td>\n",
       "      <td>0.2</td>\n",
       "      <td>setosa</td>\n",
       "    </tr>\n",
       "    <tr>\n",
       "      <th>1</th>\n",
       "      <td>4.9</td>\n",
       "      <td>3.0</td>\n",
       "      <td>1.4</td>\n",
       "      <td>0.2</td>\n",
       "      <td>setosa</td>\n",
       "    </tr>\n",
       "    <tr>\n",
       "      <th>2</th>\n",
       "      <td>4.7</td>\n",
       "      <td>3.2</td>\n",
       "      <td>1.3</td>\n",
       "      <td>0.2</td>\n",
       "      <td>setosa</td>\n",
       "    </tr>\n",
       "    <tr>\n",
       "      <th>3</th>\n",
       "      <td>4.6</td>\n",
       "      <td>3.1</td>\n",
       "      <td>1.5</td>\n",
       "      <td>0.2</td>\n",
       "      <td>setosa</td>\n",
       "    </tr>\n",
       "    <tr>\n",
       "      <th>4</th>\n",
       "      <td>5.0</td>\n",
       "      <td>3.6</td>\n",
       "      <td>1.4</td>\n",
       "      <td>0.2</td>\n",
       "      <td>setosa</td>\n",
       "    </tr>\n",
       "  </tbody>\n",
       "</table>\n",
       "</div>"
      ],
      "text/plain": [
       "   sepal_length  sepal_width  petal_length  petal_width species\n",
       "0           5.1          3.5           1.4          0.2  setosa\n",
       "1           4.9          3.0           1.4          0.2  setosa\n",
       "2           4.7          3.2           1.3          0.2  setosa\n",
       "3           4.6          3.1           1.5          0.2  setosa\n",
       "4           5.0          3.6           1.4          0.2  setosa"
      ]
     },
     "execution_count": 19,
     "metadata": {},
     "output_type": "execute_result"
    }
   ],
   "source": [
    "iris.head()"
   ]
  },
  {
   "cell_type": "code",
   "execution_count": 20,
   "id": "fa553076",
   "metadata": {},
   "outputs": [
    {
     "data": {
      "text/plain": [
       "0      3\n",
       "1      3\n",
       "2      3\n",
       "3      3\n",
       "4      3\n",
       "      ..\n",
       "145    3\n",
       "146    2\n",
       "147    3\n",
       "148    3\n",
       "149    3\n",
       "Name: sepal_width, Length: 150, dtype: int32"
      ]
     },
     "execution_count": 20,
     "metadata": {},
     "output_type": "execute_result"
    }
   ],
   "source": [
    "iris['sepal_width'].astype(int)"
   ]
  },
  {
   "cell_type": "code",
   "execution_count": 21,
   "id": "37278a13",
   "metadata": {},
   "outputs": [
    {
     "data": {
      "text/plain": [
       "[1.4, 1.4, 1.3, 1.5, 1.4, 1.7, 1.4, 1.5, 1.4, 1.5]"
      ]
     },
     "execution_count": 21,
     "metadata": {},
     "output_type": "execute_result"
    }
   ],
   "source": [
    "iris['petal_length'].tolist()[:10]     #showing only first 10 conversions"
   ]
  },
  {
   "cell_type": "code",
   "execution_count": 22,
   "id": "b0dfcaee",
   "metadata": {},
   "outputs": [
    {
     "data": {
      "text/plain": [
       "array([1.4, 1.4, 1.3, 1.5, 1.4, 1.7, 1.4, 1.5, 1.4, 1.5])"
      ]
     },
     "execution_count": 22,
     "metadata": {},
     "output_type": "execute_result"
    }
   ],
   "source": [
    "iris['petal_length'].to_numpy()[:10]"
   ]
  },
  {
   "cell_type": "markdown",
   "id": "b238a59b",
   "metadata": {},
   "source": [
    "### 1.1.5 Miscellaneous Pandas Series Operations"
   ]
  },
  {
   "cell_type": "code",
   "execution_count": 23,
   "id": "d3af09cc",
   "metadata": {},
   "outputs": [
    {
     "data": {
      "text/plain": [
       "150"
      ]
     },
     "execution_count": 23,
     "metadata": {},
     "output_type": "execute_result"
    }
   ],
   "source": [
    "iris['sepal_length'].count()      #Returns number of non-NA/null observations in the Series"
   ]
  },
  {
   "cell_type": "code",
   "execution_count": 24,
   "id": "e256e2e0",
   "metadata": {},
   "outputs": [
    {
     "data": {
      "text/plain": [
       "750"
      ]
     },
     "execution_count": 24,
     "metadata": {},
     "output_type": "execute_result"
    }
   ],
   "source": [
    "iris.size                         #Returns the number of elements in the underlying data"
   ]
  },
  {
   "cell_type": "code",
   "execution_count": 25,
   "id": "2fb1e3f1",
   "metadata": {},
   "outputs": [],
   "source": [
    "S.name = \"Warframes\"              #Method allows to give a name to a Series object, i.e. to the column"
   ]
  },
  {
   "cell_type": "code",
   "execution_count": 26,
   "id": "20f5fb97",
   "metadata": {},
   "outputs": [
    {
     "data": {
      "text/plain": [
       "False"
      ]
     },
     "execution_count": 26,
     "metadata": {},
     "output_type": "execute_result"
    }
   ],
   "source": [
    "iris['sepal_length'].is_unique    #Method returns boolean if values in the object are unique"
   ]
  },
  {
   "cell_type": "code",
   "execution_count": 27,
   "id": "c3b0ab6c",
   "metadata": {},
   "outputs": [
    {
     "data": {
      "text/plain": [
       "array(['setosa', 'versicolor', 'virginica'], dtype=object)"
      ]
     },
     "execution_count": 27,
     "metadata": {},
     "output_type": "execute_result"
    }
   ],
   "source": [
    "iris['species'].unique()        #to see the unique values in a particular column"
   ]
  },
  {
   "cell_type": "code",
   "execution_count": 28,
   "id": "c65306e7",
   "metadata": {},
   "outputs": [
    {
     "data": {
      "text/plain": [
       "3"
      ]
     },
     "execution_count": 28,
     "metadata": {},
     "output_type": "execute_result"
    }
   ],
   "source": [
    "iris['species'].nunique()  #to see the no. of unique values in a particular column"
   ]
  },
  {
   "cell_type": "code",
   "execution_count": 29,
   "id": "733041a2",
   "metadata": {},
   "outputs": [
    {
     "data": {
      "text/plain": [
       "13"
      ]
     },
     "execution_count": 29,
     "metadata": {},
     "output_type": "execute_result"
    }
   ],
   "source": [
    "iris['sepal_length'].idxmin()  #To see the idx with minimum value in a series, for max use Series.idxmax()"
   ]
  },
  {
   "cell_type": "markdown",
   "id": "adcd4476",
   "metadata": {},
   "source": [
    "* **Comapre Series** - `le()`, `ge()`, `lt()`, `gt()`, `eq()`, `ne()`"
   ]
  },
  {
   "cell_type": "code",
   "execution_count": 30,
   "id": "8bcafca5",
   "metadata": {},
   "outputs": [
    {
     "data": {
      "text/plain": [
       "a     True\n",
       "b    False\n",
       "c    False\n",
       "d     True\n",
       "e    False\n",
       "dtype: bool"
      ]
     },
     "execution_count": 30,
     "metadata": {},
     "output_type": "execute_result"
    }
   ],
   "source": [
    "a = pd.Series([1, 1, 1, np.nan], index = ['a', 'b', 'c', 'd'])\n",
    "b = pd.Series([2, np.nan, 0.5, np.nan], index = ['a', 'b', 'd', 'e'])\n",
    "\n",
    "a.le(b, fill_value = 0) #Used to compare every element of Caller series (a here) less than or equal to passed series (b here)"
   ]
  },
  {
   "cell_type": "code",
   "execution_count": 31,
   "id": "7255a8f6",
   "metadata": {},
   "outputs": [
    {
     "data": {
      "text/plain": [
       "a     True\n",
       "b    False\n",
       "c    False\n",
       "d    False\n",
       "e    False\n",
       "dtype: bool"
      ]
     },
     "execution_count": 31,
     "metadata": {},
     "output_type": "execute_result"
    }
   ],
   "source": [
    "a = pd.Series([1, 1, 1, np.nan], index = ['a', 'b', 'c', 'd'])\n",
    "b = pd.Series([1, np.nan, 1, np.nan], index = ['a', 'b', 'd', 'e'])\n",
    "\n",
    "a.eq(b, fill_value = 0) #returns True for every element in Caller Series which is Equal to the element in passed series"
   ]
  },
  {
   "cell_type": "code",
   "execution_count": 32,
   "id": "4d5bc720",
   "metadata": {},
   "outputs": [
    {
     "data": {
      "text/plain": [
       "a     True\n",
       "b    False\n",
       "c    False\n",
       "d    False\n",
       "e    False\n",
       "dtype: bool"
      ]
     },
     "execution_count": 32,
     "metadata": {},
     "output_type": "execute_result"
    }
   ],
   "source": [
    "a.eq(b, fill_value = 0) #Return Equal to of series and other, element-wise (binary operator eq)."
   ]
  },
  {
   "cell_type": "markdown",
   "id": "589084a0",
   "metadata": {},
   "source": [
    "* **Check for Empty Dataframe**"
   ]
  },
  {
   "cell_type": "code",
   "execution_count": 33,
   "id": "c33fcced",
   "metadata": {},
   "outputs": [
    {
     "data": {
      "text/plain": [
       "False"
      ]
     },
     "execution_count": 33,
     "metadata": {},
     "output_type": "execute_result"
    }
   ],
   "source": [
    "iris = sns.load_dataset('iris') \n",
    "iris.empty"
   ]
  },
  {
   "cell_type": "markdown",
   "id": "c91cbfbf",
   "metadata": {},
   "source": [
    "* **Check for NaN's**\n",
    "\n",
    "`df.hasnans` - Return if true have any nans; enables various perf speedups."
   ]
  },
  {
   "cell_type": "code",
   "execution_count": 34,
   "id": "b323e46b",
   "metadata": {},
   "outputs": [
    {
     "data": {
      "text/plain": [
       "True"
      ]
     },
     "execution_count": 34,
     "metadata": {},
     "output_type": "execute_result"
    }
   ],
   "source": [
    "b.hasnans "
   ]
  },
  {
   "cell_type": "markdown",
   "id": "fa7bfab1",
   "metadata": {},
   "source": [
    "* **Drop NaN's**\n",
    "\n",
    "`Series.dropna(axis=0, inplace=False, how=None)` - Return a new Series with missing values removed.\n",
    "Parameters\n",
    "1. axis{*0 or ‘index’*}, default 0 - There is only one axis to drop values from.\n",
    "\n",
    "2. inplacebool, default False - If True, do operation inplace and return None.\n",
    "\n",
    "3. howstr, optional - Not in use. Kept for compatibility."
   ]
  },
  {
   "cell_type": "code",
   "execution_count": 35,
   "id": "47ab09c5",
   "metadata": {},
   "outputs": [
    {
     "data": {
      "text/plain": [
       "0    1.0\n",
       "1    2.0\n",
       "2    3.0\n",
       "3    4.0\n",
       "dtype: float64"
      ]
     },
     "execution_count": 35,
     "metadata": {},
     "output_type": "execute_result"
    }
   ],
   "source": [
    "ser = pd.Series([1., 2., 3., 4., np.nan])\n",
    "ser.dropna()"
   ]
  },
  {
   "cell_type": "markdown",
   "id": "0598cebd",
   "metadata": {},
   "source": [
    "* **Fill NaN's**\n",
    "\n",
    "`Series.fillna(value, method, axis, inplace)` - Fill NA/NaN values using the specified method.\n",
    "\n",
    "1. valuescalar, dict, Series, or DataFrame - Value to use to fill holes (e.g. 0), alternately a dict/Series/DataFrame of values specifying which value to use for each index (for a Series) or column (for a DataFrame). Values not in the dict/Series/DataFrame will not be filled. This value cannot be a list.\n",
    "\n",
    "2. method{‘*backfill*’, ‘*bfill*’, ‘*pad*’, ‘*ffill*’, *None*}, default None - Method to use for filling holes in reindexed Series pad / ffill: propagate last valid observation forward to next valid backfill / bfill: use next valid observation to fill gap.\n",
    "\n",
    "3. axis{0 or ‘index’} - Axis along which to fill missing values."
   ]
  },
  {
   "cell_type": "code",
   "execution_count": 36,
   "id": "be2490b3",
   "metadata": {},
   "outputs": [
    {
     "data": {
      "text/html": [
       "<div>\n",
       "<style scoped>\n",
       "    .dataframe tbody tr th:only-of-type {\n",
       "        vertical-align: middle;\n",
       "    }\n",
       "\n",
       "    .dataframe tbody tr th {\n",
       "        vertical-align: top;\n",
       "    }\n",
       "\n",
       "    .dataframe thead th {\n",
       "        text-align: right;\n",
       "    }\n",
       "</style>\n",
       "<table border=\"1\" class=\"dataframe\">\n",
       "  <thead>\n",
       "    <tr style=\"text-align: right;\">\n",
       "      <th></th>\n",
       "      <th>A</th>\n",
       "      <th>B</th>\n",
       "      <th>C</th>\n",
       "      <th>D</th>\n",
       "    </tr>\n",
       "  </thead>\n",
       "  <tbody>\n",
       "    <tr>\n",
       "      <th>0</th>\n",
       "      <td>NaN</td>\n",
       "      <td>2.0</td>\n",
       "      <td>NaN</td>\n",
       "      <td>0</td>\n",
       "    </tr>\n",
       "    <tr>\n",
       "      <th>1</th>\n",
       "      <td>3.0</td>\n",
       "      <td>4.0</td>\n",
       "      <td>NaN</td>\n",
       "      <td>1</td>\n",
       "    </tr>\n",
       "    <tr>\n",
       "      <th>2</th>\n",
       "      <td>NaN</td>\n",
       "      <td>NaN</td>\n",
       "      <td>NaN</td>\n",
       "      <td>5</td>\n",
       "    </tr>\n",
       "    <tr>\n",
       "      <th>3</th>\n",
       "      <td>NaN</td>\n",
       "      <td>3.0</td>\n",
       "      <td>NaN</td>\n",
       "      <td>4</td>\n",
       "    </tr>\n",
       "  </tbody>\n",
       "</table>\n",
       "</div>"
      ],
      "text/plain": [
       "     A    B   C  D\n",
       "0  NaN  2.0 NaN  0\n",
       "1  3.0  4.0 NaN  1\n",
       "2  NaN  NaN NaN  5\n",
       "3  NaN  3.0 NaN  4"
      ]
     },
     "execution_count": 36,
     "metadata": {},
     "output_type": "execute_result"
    }
   ],
   "source": [
    "df = pd.DataFrame([[np.nan, 2, np.nan, 0],\n",
    "                   [3, 4, np.nan, 1],\n",
    "                   [np.nan, np.nan, np.nan, 5],\n",
    "                   [np.nan, 3, np.nan, 4]],\n",
    "                  columns=list(\"ABCD\"))\n",
    "df"
   ]
  },
  {
   "cell_type": "code",
   "execution_count": 37,
   "id": "5beb068b",
   "metadata": {},
   "outputs": [
    {
     "data": {
      "text/html": [
       "<div>\n",
       "<style scoped>\n",
       "    .dataframe tbody tr th:only-of-type {\n",
       "        vertical-align: middle;\n",
       "    }\n",
       "\n",
       "    .dataframe tbody tr th {\n",
       "        vertical-align: top;\n",
       "    }\n",
       "\n",
       "    .dataframe thead th {\n",
       "        text-align: right;\n",
       "    }\n",
       "</style>\n",
       "<table border=\"1\" class=\"dataframe\">\n",
       "  <thead>\n",
       "    <tr style=\"text-align: right;\">\n",
       "      <th></th>\n",
       "      <th>A</th>\n",
       "      <th>B</th>\n",
       "      <th>C</th>\n",
       "      <th>D</th>\n",
       "    </tr>\n",
       "  </thead>\n",
       "  <tbody>\n",
       "    <tr>\n",
       "      <th>0</th>\n",
       "      <td>0.0</td>\n",
       "      <td>2.0</td>\n",
       "      <td>0.0</td>\n",
       "      <td>0</td>\n",
       "    </tr>\n",
       "    <tr>\n",
       "      <th>1</th>\n",
       "      <td>3.0</td>\n",
       "      <td>4.0</td>\n",
       "      <td>0.0</td>\n",
       "      <td>1</td>\n",
       "    </tr>\n",
       "    <tr>\n",
       "      <th>2</th>\n",
       "      <td>0.0</td>\n",
       "      <td>0.0</td>\n",
       "      <td>0.0</td>\n",
       "      <td>5</td>\n",
       "    </tr>\n",
       "    <tr>\n",
       "      <th>3</th>\n",
       "      <td>0.0</td>\n",
       "      <td>3.0</td>\n",
       "      <td>0.0</td>\n",
       "      <td>4</td>\n",
       "    </tr>\n",
       "  </tbody>\n",
       "</table>\n",
       "</div>"
      ],
      "text/plain": [
       "     A    B    C  D\n",
       "0  0.0  2.0  0.0  0\n",
       "1  3.0  4.0  0.0  1\n",
       "2  0.0  0.0  0.0  5\n",
       "3  0.0  3.0  0.0  4"
      ]
     },
     "execution_count": 37,
     "metadata": {},
     "output_type": "execute_result"
    }
   ],
   "source": [
    "df.fillna(0) #fill all NaN with 0"
   ]
  },
  {
   "cell_type": "code",
   "execution_count": 38,
   "id": "00305d15",
   "metadata": {},
   "outputs": [
    {
     "data": {
      "text/html": [
       "<div>\n",
       "<style scoped>\n",
       "    .dataframe tbody tr th:only-of-type {\n",
       "        vertical-align: middle;\n",
       "    }\n",
       "\n",
       "    .dataframe tbody tr th {\n",
       "        vertical-align: top;\n",
       "    }\n",
       "\n",
       "    .dataframe thead th {\n",
       "        text-align: right;\n",
       "    }\n",
       "</style>\n",
       "<table border=\"1\" class=\"dataframe\">\n",
       "  <thead>\n",
       "    <tr style=\"text-align: right;\">\n",
       "      <th></th>\n",
       "      <th>A</th>\n",
       "      <th>B</th>\n",
       "      <th>C</th>\n",
       "      <th>D</th>\n",
       "    </tr>\n",
       "  </thead>\n",
       "  <tbody>\n",
       "    <tr>\n",
       "      <th>0</th>\n",
       "      <td>0.0</td>\n",
       "      <td>2.0</td>\n",
       "      <td>2.0</td>\n",
       "      <td>0</td>\n",
       "    </tr>\n",
       "    <tr>\n",
       "      <th>1</th>\n",
       "      <td>3.0</td>\n",
       "      <td>4.0</td>\n",
       "      <td>2.0</td>\n",
       "      <td>1</td>\n",
       "    </tr>\n",
       "    <tr>\n",
       "      <th>2</th>\n",
       "      <td>0.0</td>\n",
       "      <td>1.0</td>\n",
       "      <td>2.0</td>\n",
       "      <td>5</td>\n",
       "    </tr>\n",
       "    <tr>\n",
       "      <th>3</th>\n",
       "      <td>0.0</td>\n",
       "      <td>3.0</td>\n",
       "      <td>2.0</td>\n",
       "      <td>4</td>\n",
       "    </tr>\n",
       "  </tbody>\n",
       "</table>\n",
       "</div>"
      ],
      "text/plain": [
       "     A    B    C  D\n",
       "0  0.0  2.0  2.0  0\n",
       "1  3.0  4.0  2.0  1\n",
       "2  0.0  1.0  2.0  5\n",
       "3  0.0  3.0  2.0  4"
      ]
     },
     "execution_count": 38,
     "metadata": {},
     "output_type": "execute_result"
    }
   ],
   "source": [
    "df.fillna(value = {\"A\": 0, \"B\": 1, \"C\": 2, \"D\": 3}) #Replace all NaN elements with specific values"
   ]
  },
  {
   "cell_type": "markdown",
   "id": "3cea051c",
   "metadata": {},
   "source": [
    "* **Combine 2 series**\n",
    "\n",
    "`s1.combine(s2, func, fill_value)` - Combine the Series with a Series or scalar according to func. Combine the Series and other using func to perform elementwise selection for combined Series. fill_value is assumed when value is missing at some index from one of the two objects being combined."
   ]
  },
  {
   "cell_type": "code",
   "execution_count": 39,
   "id": "c03e4966",
   "metadata": {},
   "outputs": [
    {
     "data": {
      "text/plain": [
       "duck        NaN\n",
       "eagle     200.0\n",
       "falcon    345.0\n",
       "dtype: float64"
      ]
     },
     "execution_count": 39,
     "metadata": {},
     "output_type": "execute_result"
    }
   ],
   "source": [
    "s1 = pd.Series({'falcon': 330.0, 'eagle': 160.0})\n",
    "s2 = pd.Series({'falcon': 345.0, 'eagle': 200.0, 'duck': 30.0})\n",
    "s1.combine(s2, max)"
   ]
  },
  {
   "cell_type": "markdown",
   "id": "be118677",
   "metadata": {},
   "source": [
    "* **Removing Series Elements**\n",
    "\n",
    "`Series.drop(labels, axis, index, columns)` - Remove elements of a Series based on specifying the index labels. When using a multi-index, labels on different levels can be removed by specifying the level.\n",
    "\n",
    "`labels` - Index labels to drop.\n",
    "\n",
    "`axis`, default 0 - Redundant for application on Series.\n",
    "\n",
    "`index` - Redundant for application on Series, but ‘index’ can be used instead of ‘labels’.\n",
    "\n",
    "`columns` - No change is made to the Series; use ‘index’ or ‘labels’ instead."
   ]
  },
  {
   "cell_type": "code",
   "execution_count": 40,
   "id": "1dfb4ac8",
   "metadata": {},
   "outputs": [
    {
     "data": {
      "text/plain": [
       "A    0\n",
       "D    3\n",
       "E    4\n",
       "dtype: int32"
      ]
     },
     "execution_count": 40,
     "metadata": {},
     "output_type": "execute_result"
    }
   ],
   "source": [
    "s = pd.Series(data=np.arange(5), index=['A', 'B', 'C', 'D', 'E'])\n",
    "s.drop(labels=['B', 'C'])"
   ]
  },
  {
   "cell_type": "markdown",
   "id": "33e489c6",
   "metadata": {},
   "source": [
    "* **Find Series Duplicates**\n",
    "\n",
    "Indicate duplicate Series values.\n",
    "\n",
    "`Series.duplicated(keep = 'first')` - Duplicated values are indicated as True values in the resulting Series. Either all duplicates, all except the first or all except the last occurrence of duplicates can be indicated.\n",
    "\n",
    "Parameters - keep{‘first’, ‘last’, False}, default ‘first’. Method to handle dropping duplicates:\n",
    "\n",
    "1. ‘first’ : Mark duplicates as True except for the first occurrence.\n",
    "\n",
    "2. ‘last’ : Mark duplicates as True except for the last occurrence.\n",
    "\n",
    "3. False : Mark all duplicates as True."
   ]
  },
  {
   "cell_type": "code",
   "execution_count": 41,
   "id": "5975deac",
   "metadata": {},
   "outputs": [
    {
     "data": {
      "text/plain": [
       "0    False\n",
       "1    False\n",
       "2     True\n",
       "3    False\n",
       "4     True\n",
       "dtype: bool"
      ]
     },
     "execution_count": 41,
     "metadata": {},
     "output_type": "execute_result"
    }
   ],
   "source": [
    "animals = pd.Series(['lama', 'cow', 'lama', 'beetle', 'lama'])\n",
    "animals.duplicated()"
   ]
  },
  {
   "cell_type": "code",
   "execution_count": 42,
   "id": "bb461c39",
   "metadata": {},
   "outputs": [
    {
     "data": {
      "text/plain": [
       "0     True\n",
       "1    False\n",
       "2     True\n",
       "3    False\n",
       "4     True\n",
       "dtype: bool"
      ]
     },
     "execution_count": 42,
     "metadata": {},
     "output_type": "execute_result"
    }
   ],
   "source": [
    "animals.duplicated(keep = False)"
   ]
  },
  {
   "cell_type": "markdown",
   "id": "8cf6e3bb",
   "metadata": {},
   "source": [
    "## 1.2 DataFrame\n",
    "Pandas DataFrame is a two-dimensional size-mutable, potentially heterogeneous tabular data structure with labeled axes (rows and columns). A Data frame is a two-dimensional data structure, i.e., data is aligned in a tabular fashion in rows and columns. Pandas DataFrame consists of three principal components -  the data, rows, and columns.\n",
    "![dataframe](https://media.geeksforgeeks.org/wp-content/cdn-uploads/creating_dataframe1.png)\n",
    "\n",
    "### 1.2.1 Creating Pandas DataFrame\n",
    "In the real world, a Pandas DataFrame will be created by loading the datasets from existing storage, storage can be SQL Database, CSV file, and Excel file. However, Pandas DataFrame can be created from the lists, dictionary, and from a list of dictionary etc. "
   ]
  },
  {
   "cell_type": "markdown",
   "id": "082f092a",
   "metadata": {},
   "source": [
    "* **Empty Dataframe**"
   ]
  },
  {
   "cell_type": "code",
   "execution_count": 43,
   "id": "bf63347d",
   "metadata": {},
   "outputs": [
    {
     "data": {
      "text/html": [
       "<div>\n",
       "<style scoped>\n",
       "    .dataframe tbody tr th:only-of-type {\n",
       "        vertical-align: middle;\n",
       "    }\n",
       "\n",
       "    .dataframe tbody tr th {\n",
       "        vertical-align: top;\n",
       "    }\n",
       "\n",
       "    .dataframe thead th {\n",
       "        text-align: right;\n",
       "    }\n",
       "</style>\n",
       "<table border=\"1\" class=\"dataframe\">\n",
       "  <thead>\n",
       "    <tr style=\"text-align: right;\">\n",
       "      <th></th>\n",
       "    </tr>\n",
       "  </thead>\n",
       "  <tbody>\n",
       "  </tbody>\n",
       "</table>\n",
       "</div>"
      ],
      "text/plain": [
       "Empty DataFrame\n",
       "Columns: []\n",
       "Index: []"
      ]
     },
     "execution_count": 43,
     "metadata": {},
     "output_type": "execute_result"
    }
   ],
   "source": [
    "pd.DataFrame()"
   ]
  },
  {
   "cell_type": "markdown",
   "id": "2c623e2c",
   "metadata": {},
   "source": [
    "* **Dataframe from List**"
   ]
  },
  {
   "cell_type": "code",
   "execution_count": 44,
   "id": "2616f1ab",
   "metadata": {},
   "outputs": [
    {
     "data": {
      "text/plain": [
       "array(['Volt', 'Excalibur', 'Gauss', 'Mag', 'Xaku', 'Revenant', 'Rhino',\n",
       "       'Garuda', 'Loki', 'Nidus'], dtype='<U9')"
      ]
     },
     "execution_count": 44,
     "metadata": {},
     "output_type": "execute_result"
    }
   ],
   "source": [
    "np.asarray(lst).T #list"
   ]
  },
  {
   "cell_type": "code",
   "execution_count": 45,
   "id": "6ef10aca",
   "metadata": {},
   "outputs": [
    {
     "data": {
      "text/html": [
       "<div>\n",
       "<style scoped>\n",
       "    .dataframe tbody tr th:only-of-type {\n",
       "        vertical-align: middle;\n",
       "    }\n",
       "\n",
       "    .dataframe tbody tr th {\n",
       "        vertical-align: top;\n",
       "    }\n",
       "\n",
       "    .dataframe thead th {\n",
       "        text-align: right;\n",
       "    }\n",
       "</style>\n",
       "<table border=\"1\" class=\"dataframe\">\n",
       "  <thead>\n",
       "    <tr style=\"text-align: right;\">\n",
       "      <th></th>\n",
       "      <th>0</th>\n",
       "    </tr>\n",
       "  </thead>\n",
       "  <tbody>\n",
       "    <tr>\n",
       "      <th>0</th>\n",
       "      <td>Volt</td>\n",
       "    </tr>\n",
       "    <tr>\n",
       "      <th>1</th>\n",
       "      <td>Excalibur</td>\n",
       "    </tr>\n",
       "    <tr>\n",
       "      <th>2</th>\n",
       "      <td>Gauss</td>\n",
       "    </tr>\n",
       "    <tr>\n",
       "      <th>3</th>\n",
       "      <td>Mag</td>\n",
       "    </tr>\n",
       "    <tr>\n",
       "      <th>4</th>\n",
       "      <td>Xaku</td>\n",
       "    </tr>\n",
       "    <tr>\n",
       "      <th>5</th>\n",
       "      <td>Revenant</td>\n",
       "    </tr>\n",
       "    <tr>\n",
       "      <th>6</th>\n",
       "      <td>Rhino</td>\n",
       "    </tr>\n",
       "    <tr>\n",
       "      <th>7</th>\n",
       "      <td>Garuda</td>\n",
       "    </tr>\n",
       "    <tr>\n",
       "      <th>8</th>\n",
       "      <td>Loki</td>\n",
       "    </tr>\n",
       "    <tr>\n",
       "      <th>9</th>\n",
       "      <td>Nidus</td>\n",
       "    </tr>\n",
       "  </tbody>\n",
       "</table>\n",
       "</div>"
      ],
      "text/plain": [
       "           0\n",
       "0       Volt\n",
       "1  Excalibur\n",
       "2      Gauss\n",
       "3        Mag\n",
       "4       Xaku\n",
       "5   Revenant\n",
       "6      Rhino\n",
       "7     Garuda\n",
       "8       Loki\n",
       "9      Nidus"
      ]
     },
     "execution_count": 45,
     "metadata": {},
     "output_type": "execute_result"
    }
   ],
   "source": [
    "pd.DataFrame(lst) #Dataframe from list"
   ]
  },
  {
   "cell_type": "markdown",
   "id": "bd1885b6",
   "metadata": {},
   "source": [
    "* **Dataframe from Dictionary**\n",
    "To create DataFrame from dict of narray/list, all the narray must be of same length. If index is passed then the length index should be equal to the length of arrays. If no index is passed, then by default, index will be range(n) where n is the array length. "
   ]
  },
  {
   "cell_type": "code",
   "execution_count": 46,
   "id": "3a0cb569",
   "metadata": {},
   "outputs": [],
   "source": [
    "data = {'Name':['Tom', 'nick', 'krish', 'jack'], 'Age':[20, 21, 19, 18]}"
   ]
  },
  {
   "cell_type": "code",
   "execution_count": 47,
   "id": "a7c091ce",
   "metadata": {},
   "outputs": [
    {
     "data": {
      "text/html": [
       "<div>\n",
       "<style scoped>\n",
       "    .dataframe tbody tr th:only-of-type {\n",
       "        vertical-align: middle;\n",
       "    }\n",
       "\n",
       "    .dataframe tbody tr th {\n",
       "        vertical-align: top;\n",
       "    }\n",
       "\n",
       "    .dataframe thead th {\n",
       "        text-align: right;\n",
       "    }\n",
       "</style>\n",
       "<table border=\"1\" class=\"dataframe\">\n",
       "  <thead>\n",
       "    <tr style=\"text-align: right;\">\n",
       "      <th></th>\n",
       "      <th>Name</th>\n",
       "      <th>Age</th>\n",
       "    </tr>\n",
       "  </thead>\n",
       "  <tbody>\n",
       "    <tr>\n",
       "      <th>0</th>\n",
       "      <td>Tom</td>\n",
       "      <td>20</td>\n",
       "    </tr>\n",
       "    <tr>\n",
       "      <th>1</th>\n",
       "      <td>nick</td>\n",
       "      <td>21</td>\n",
       "    </tr>\n",
       "    <tr>\n",
       "      <th>2</th>\n",
       "      <td>krish</td>\n",
       "      <td>19</td>\n",
       "    </tr>\n",
       "    <tr>\n",
       "      <th>3</th>\n",
       "      <td>jack</td>\n",
       "      <td>18</td>\n",
       "    </tr>\n",
       "  </tbody>\n",
       "</table>\n",
       "</div>"
      ],
      "text/plain": [
       "    Name  Age\n",
       "0    Tom   20\n",
       "1   nick   21\n",
       "2  krish   19\n",
       "3   jack   18"
      ]
     },
     "execution_count": 47,
     "metadata": {},
     "output_type": "execute_result"
    }
   ],
   "source": [
    "pd.DataFrame(data)"
   ]
  },
  {
   "cell_type": "markdown",
   "id": "da194d7b",
   "metadata": {},
   "source": [
    "### 1.2.2. Rows and Columns Selection\n",
    "* **Rows Selection**  Pandas provide a unique method to retrieve rows from a Data frame. `DataFrame.loc[]` method is used to retrieve rows from Pandas DataFrame. Rows can also be selected by passing integer location to an `iloc[]` function."
   ]
  },
  {
   "cell_type": "code",
   "execution_count": 48,
   "id": "43546e48",
   "metadata": {},
   "outputs": [
    {
     "data": {
      "text/plain": [
       "sepal_length       4.6\n",
       "sepal_width        3.1\n",
       "petal_length       1.5\n",
       "petal_width        0.2\n",
       "species         setosa\n",
       "Name: 3, dtype: object"
      ]
     },
     "execution_count": 48,
     "metadata": {},
     "output_type": "execute_result"
    }
   ],
   "source": [
    "iris.loc[3]             # 3rd index record"
   ]
  },
  {
   "cell_type": "markdown",
   "id": "0701f431",
   "metadata": {},
   "source": [
    "**OR**"
   ]
  },
  {
   "cell_type": "code",
   "execution_count": 49,
   "id": "bd5dc934",
   "metadata": {},
   "outputs": [
    {
     "data": {
      "text/html": [
       "<div>\n",
       "<style scoped>\n",
       "    .dataframe tbody tr th:only-of-type {\n",
       "        vertical-align: middle;\n",
       "    }\n",
       "\n",
       "    .dataframe tbody tr th {\n",
       "        vertical-align: top;\n",
       "    }\n",
       "\n",
       "    .dataframe thead th {\n",
       "        text-align: right;\n",
       "    }\n",
       "</style>\n",
       "<table border=\"1\" class=\"dataframe\">\n",
       "  <thead>\n",
       "    <tr style=\"text-align: right;\">\n",
       "      <th></th>\n",
       "      <th>sepal_length</th>\n",
       "      <th>sepal_width</th>\n",
       "      <th>petal_length</th>\n",
       "      <th>petal_width</th>\n",
       "      <th>species</th>\n",
       "    </tr>\n",
       "  </thead>\n",
       "  <tbody>\n",
       "    <tr>\n",
       "      <th>0</th>\n",
       "      <td>5.1</td>\n",
       "      <td>3.5</td>\n",
       "      <td>1.4</td>\n",
       "      <td>0.2</td>\n",
       "      <td>setosa</td>\n",
       "    </tr>\n",
       "    <tr>\n",
       "      <th>1</th>\n",
       "      <td>4.9</td>\n",
       "      <td>3.0</td>\n",
       "      <td>1.4</td>\n",
       "      <td>0.2</td>\n",
       "      <td>setosa</td>\n",
       "    </tr>\n",
       "    <tr>\n",
       "      <th>2</th>\n",
       "      <td>4.7</td>\n",
       "      <td>3.2</td>\n",
       "      <td>1.3</td>\n",
       "      <td>0.2</td>\n",
       "      <td>setosa</td>\n",
       "    </tr>\n",
       "    <tr>\n",
       "      <th>3</th>\n",
       "      <td>4.6</td>\n",
       "      <td>3.1</td>\n",
       "      <td>1.5</td>\n",
       "      <td>0.2</td>\n",
       "      <td>setosa</td>\n",
       "    </tr>\n",
       "    <tr>\n",
       "      <th>4</th>\n",
       "      <td>5.0</td>\n",
       "      <td>3.6</td>\n",
       "      <td>1.4</td>\n",
       "      <td>0.2</td>\n",
       "      <td>setosa</td>\n",
       "    </tr>\n",
       "  </tbody>\n",
       "</table>\n",
       "</div>"
      ],
      "text/plain": [
       "   sepal_length  sepal_width  petal_length  petal_width species\n",
       "0           5.1          3.5           1.4          0.2  setosa\n",
       "1           4.9          3.0           1.4          0.2  setosa\n",
       "2           4.7          3.2           1.3          0.2  setosa\n",
       "3           4.6          3.1           1.5          0.2  setosa\n",
       "4           5.0          3.6           1.4          0.2  setosa"
      ]
     },
     "execution_count": 49,
     "metadata": {},
     "output_type": "execute_result"
    }
   ],
   "source": [
    "iris.loc[:4]             # First 5 records"
   ]
  },
  {
   "cell_type": "code",
   "execution_count": 50,
   "id": "d42b4723",
   "metadata": {},
   "outputs": [
    {
     "data": {
      "text/html": [
       "<div>\n",
       "<style scoped>\n",
       "    .dataframe tbody tr th:only-of-type {\n",
       "        vertical-align: middle;\n",
       "    }\n",
       "\n",
       "    .dataframe tbody tr th {\n",
       "        vertical-align: top;\n",
       "    }\n",
       "\n",
       "    .dataframe thead th {\n",
       "        text-align: right;\n",
       "    }\n",
       "</style>\n",
       "<table border=\"1\" class=\"dataframe\">\n",
       "  <thead>\n",
       "    <tr style=\"text-align: right;\">\n",
       "      <th></th>\n",
       "      <th>sepal_length</th>\n",
       "      <th>species</th>\n",
       "    </tr>\n",
       "  </thead>\n",
       "  <tbody>\n",
       "    <tr>\n",
       "      <th>0</th>\n",
       "      <td>5.1</td>\n",
       "      <td>setosa</td>\n",
       "    </tr>\n",
       "    <tr>\n",
       "      <th>1</th>\n",
       "      <td>4.9</td>\n",
       "      <td>setosa</td>\n",
       "    </tr>\n",
       "    <tr>\n",
       "      <th>2</th>\n",
       "      <td>4.7</td>\n",
       "      <td>setosa</td>\n",
       "    </tr>\n",
       "    <tr>\n",
       "      <th>3</th>\n",
       "      <td>4.6</td>\n",
       "      <td>setosa</td>\n",
       "    </tr>\n",
       "    <tr>\n",
       "      <th>4</th>\n",
       "      <td>5.0</td>\n",
       "      <td>setosa</td>\n",
       "    </tr>\n",
       "  </tbody>\n",
       "</table>\n",
       "</div>"
      ],
      "text/plain": [
       "   sepal_length species\n",
       "0           5.1  setosa\n",
       "1           4.9  setosa\n",
       "2           4.7  setosa\n",
       "3           4.6  setosa\n",
       "4           5.0  setosa"
      ]
     },
     "execution_count": 50,
     "metadata": {},
     "output_type": "execute_result"
    }
   ],
   "source": [
    "iris.loc[:4,['sepal_length','species']]  # First 5 records with specific columns"
   ]
  },
  {
   "cell_type": "code",
   "execution_count": 51,
   "id": "f1811855",
   "metadata": {},
   "outputs": [
    {
     "data": {
      "text/html": [
       "<div>\n",
       "<style scoped>\n",
       "    .dataframe tbody tr th:only-of-type {\n",
       "        vertical-align: middle;\n",
       "    }\n",
       "\n",
       "    .dataframe tbody tr th {\n",
       "        vertical-align: top;\n",
       "    }\n",
       "\n",
       "    .dataframe thead th {\n",
       "        text-align: right;\n",
       "    }\n",
       "</style>\n",
       "<table border=\"1\" class=\"dataframe\">\n",
       "  <thead>\n",
       "    <tr style=\"text-align: right;\">\n",
       "      <th></th>\n",
       "      <th>sepal_length</th>\n",
       "      <th>sepal_width</th>\n",
       "      <th>petal_length</th>\n",
       "      <th>petal_width</th>\n",
       "      <th>species</th>\n",
       "    </tr>\n",
       "  </thead>\n",
       "  <tbody>\n",
       "    <tr>\n",
       "      <th>3</th>\n",
       "      <td>4.6</td>\n",
       "      <td>3.1</td>\n",
       "      <td>1.5</td>\n",
       "      <td>0.2</td>\n",
       "      <td>setosa</td>\n",
       "    </tr>\n",
       "    <tr>\n",
       "      <th>5</th>\n",
       "      <td>5.4</td>\n",
       "      <td>3.9</td>\n",
       "      <td>1.7</td>\n",
       "      <td>0.4</td>\n",
       "      <td>setosa</td>\n",
       "    </tr>\n",
       "    <tr>\n",
       "      <th>7</th>\n",
       "      <td>5.0</td>\n",
       "      <td>3.4</td>\n",
       "      <td>1.5</td>\n",
       "      <td>0.2</td>\n",
       "      <td>setosa</td>\n",
       "    </tr>\n",
       "  </tbody>\n",
       "</table>\n",
       "</div>"
      ],
      "text/plain": [
       "   sepal_length  sepal_width  petal_length  petal_width species\n",
       "3           4.6          3.1           1.5          0.2  setosa\n",
       "5           5.4          3.9           1.7          0.4  setosa\n",
       "7           5.0          3.4           1.5          0.2  setosa"
      ]
     },
     "execution_count": 51,
     "metadata": {},
     "output_type": "execute_result"
    }
   ],
   "source": [
    "iris.loc[[3,5,7]]  #Specific Records - note the double brackets"
   ]
  },
  {
   "cell_type": "code",
   "execution_count": 52,
   "id": "41a9bc19",
   "metadata": {},
   "outputs": [
    {
     "data": {
      "text/html": [
       "<div>\n",
       "<style scoped>\n",
       "    .dataframe tbody tr th:only-of-type {\n",
       "        vertical-align: middle;\n",
       "    }\n",
       "\n",
       "    .dataframe tbody tr th {\n",
       "        vertical-align: top;\n",
       "    }\n",
       "\n",
       "    .dataframe thead th {\n",
       "        text-align: right;\n",
       "    }\n",
       "</style>\n",
       "<table border=\"1\" class=\"dataframe\">\n",
       "  <thead>\n",
       "    <tr style=\"text-align: right;\">\n",
       "      <th></th>\n",
       "      <th>sepal_length</th>\n",
       "      <th>sepal_width</th>\n",
       "      <th>petal_length</th>\n",
       "      <th>petal_width</th>\n",
       "      <th>species</th>\n",
       "    </tr>\n",
       "  </thead>\n",
       "  <tbody>\n",
       "    <tr>\n",
       "      <th>84</th>\n",
       "      <td>5.4</td>\n",
       "      <td>3.0</td>\n",
       "      <td>4.5</td>\n",
       "      <td>1.5</td>\n",
       "      <td>versicolor</td>\n",
       "    </tr>\n",
       "    <tr>\n",
       "      <th>52</th>\n",
       "      <td>6.9</td>\n",
       "      <td>3.1</td>\n",
       "      <td>4.9</td>\n",
       "      <td>1.5</td>\n",
       "      <td>versicolor</td>\n",
       "    </tr>\n",
       "    <tr>\n",
       "      <th>27</th>\n",
       "      <td>5.2</td>\n",
       "      <td>3.5</td>\n",
       "      <td>1.5</td>\n",
       "      <td>0.2</td>\n",
       "      <td>setosa</td>\n",
       "    </tr>\n",
       "    <tr>\n",
       "      <th>3</th>\n",
       "      <td>4.6</td>\n",
       "      <td>3.1</td>\n",
       "      <td>1.5</td>\n",
       "      <td>0.2</td>\n",
       "      <td>setosa</td>\n",
       "    </tr>\n",
       "    <tr>\n",
       "      <th>104</th>\n",
       "      <td>6.5</td>\n",
       "      <td>3.0</td>\n",
       "      <td>5.8</td>\n",
       "      <td>2.2</td>\n",
       "      <td>virginica</td>\n",
       "    </tr>\n",
       "  </tbody>\n",
       "</table>\n",
       "</div>"
      ],
      "text/plain": [
       "     sepal_length  sepal_width  petal_length  petal_width     species\n",
       "84            5.4          3.0           4.5          1.5  versicolor\n",
       "52            6.9          3.1           4.9          1.5  versicolor\n",
       "27            5.2          3.5           1.5          0.2      setosa\n",
       "3             4.6          3.1           1.5          0.2      setosa\n",
       "104           6.5          3.0           5.8          2.2   virginica"
      ]
     },
     "execution_count": 52,
     "metadata": {},
     "output_type": "execute_result"
    }
   ],
   "source": [
    "iris.sample(frac = 0.5).head() #Randomly select fraction of rows."
   ]
  },
  {
   "cell_type": "code",
   "execution_count": 53,
   "id": "38ede871",
   "metadata": {},
   "outputs": [
    {
     "data": {
      "text/html": [
       "<div>\n",
       "<style scoped>\n",
       "    .dataframe tbody tr th:only-of-type {\n",
       "        vertical-align: middle;\n",
       "    }\n",
       "\n",
       "    .dataframe tbody tr th {\n",
       "        vertical-align: top;\n",
       "    }\n",
       "\n",
       "    .dataframe thead th {\n",
       "        text-align: right;\n",
       "    }\n",
       "</style>\n",
       "<table border=\"1\" class=\"dataframe\">\n",
       "  <thead>\n",
       "    <tr style=\"text-align: right;\">\n",
       "      <th></th>\n",
       "      <th>sepal_length</th>\n",
       "      <th>sepal_width</th>\n",
       "      <th>petal_length</th>\n",
       "      <th>petal_width</th>\n",
       "      <th>species</th>\n",
       "    </tr>\n",
       "  </thead>\n",
       "  <tbody>\n",
       "    <tr>\n",
       "      <th>125</th>\n",
       "      <td>7.2</td>\n",
       "      <td>3.2</td>\n",
       "      <td>6.0</td>\n",
       "      <td>1.8</td>\n",
       "      <td>virginica</td>\n",
       "    </tr>\n",
       "    <tr>\n",
       "      <th>119</th>\n",
       "      <td>6.0</td>\n",
       "      <td>2.2</td>\n",
       "      <td>5.0</td>\n",
       "      <td>1.5</td>\n",
       "      <td>virginica</td>\n",
       "    </tr>\n",
       "    <tr>\n",
       "      <th>124</th>\n",
       "      <td>6.7</td>\n",
       "      <td>3.3</td>\n",
       "      <td>5.7</td>\n",
       "      <td>2.1</td>\n",
       "      <td>virginica</td>\n",
       "    </tr>\n",
       "  </tbody>\n",
       "</table>\n",
       "</div>"
      ],
      "text/plain": [
       "     sepal_length  sepal_width  petal_length  petal_width    species\n",
       "125           7.2          3.2           6.0          1.8  virginica\n",
       "119           6.0          2.2           5.0          1.5  virginica\n",
       "124           6.7          3.3           5.7          2.1  virginica"
      ]
     },
     "execution_count": 53,
     "metadata": {},
     "output_type": "execute_result"
    }
   ],
   "source": [
    "iris.sample(n = 34).head(3)  #Randomly select 'n' rows"
   ]
  },
  {
   "cell_type": "markdown",
   "id": "3dfa373c",
   "metadata": {},
   "source": [
    "* **Column Selection** In Order to select a column in Pandas DataFrame, we can either access the columns by calling them by their columns name."
   ]
  },
  {
   "cell_type": "code",
   "execution_count": 54,
   "id": "a247d3ca",
   "metadata": {},
   "outputs": [
    {
     "data": {
      "text/plain": [
       "0    3.5\n",
       "1    3.0\n",
       "2    3.2\n",
       "3    3.1\n",
       "4    3.6\n",
       "5    3.9\n",
       "Name: sepal_width, dtype: float64"
      ]
     },
     "execution_count": 54,
     "metadata": {},
     "output_type": "execute_result"
    }
   ],
   "source": [
    "iris['sepal_width'][:6] # First 6 entries in column named 'sepal_width'"
   ]
  },
  {
   "cell_type": "code",
   "execution_count": 55,
   "id": "301a7319",
   "metadata": {},
   "outputs": [
    {
     "data": {
      "text/html": [
       "<div>\n",
       "<style scoped>\n",
       "    .dataframe tbody tr th:only-of-type {\n",
       "        vertical-align: middle;\n",
       "    }\n",
       "\n",
       "    .dataframe tbody tr th {\n",
       "        vertical-align: top;\n",
       "    }\n",
       "\n",
       "    .dataframe thead th {\n",
       "        text-align: right;\n",
       "    }\n",
       "</style>\n",
       "<table border=\"1\" class=\"dataframe\">\n",
       "  <thead>\n",
       "    <tr style=\"text-align: right;\">\n",
       "      <th></th>\n",
       "      <th>sepal_width</th>\n",
       "      <th>petal_length</th>\n",
       "    </tr>\n",
       "  </thead>\n",
       "  <tbody>\n",
       "    <tr>\n",
       "      <th>0</th>\n",
       "      <td>3.5</td>\n",
       "      <td>1.4</td>\n",
       "    </tr>\n",
       "    <tr>\n",
       "      <th>1</th>\n",
       "      <td>3.0</td>\n",
       "      <td>1.4</td>\n",
       "    </tr>\n",
       "    <tr>\n",
       "      <th>2</th>\n",
       "      <td>3.2</td>\n",
       "      <td>1.3</td>\n",
       "    </tr>\n",
       "    <tr>\n",
       "      <th>3</th>\n",
       "      <td>3.1</td>\n",
       "      <td>1.5</td>\n",
       "    </tr>\n",
       "    <tr>\n",
       "      <th>4</th>\n",
       "      <td>3.6</td>\n",
       "      <td>1.4</td>\n",
       "    </tr>\n",
       "  </tbody>\n",
       "</table>\n",
       "</div>"
      ],
      "text/plain": [
       "   sepal_width  petal_length\n",
       "0          3.5           1.4\n",
       "1          3.0           1.4\n",
       "2          3.2           1.3\n",
       "3          3.1           1.5\n",
       "4          3.6           1.4"
      ]
     },
     "execution_count": 55,
     "metadata": {},
     "output_type": "execute_result"
    }
   ],
   "source": [
    "iris[iris.columns[1:3]].head() #Select 2nd to 3rd column."
   ]
  },
  {
   "cell_type": "code",
   "execution_count": 56,
   "id": "0a32a196",
   "metadata": {},
   "outputs": [
    {
     "data": {
      "text/html": [
       "<div>\n",
       "<style scoped>\n",
       "    .dataframe tbody tr th:only-of-type {\n",
       "        vertical-align: middle;\n",
       "    }\n",
       "\n",
       "    .dataframe tbody tr th {\n",
       "        vertical-align: top;\n",
       "    }\n",
       "\n",
       "    .dataframe thead th {\n",
       "        text-align: right;\n",
       "    }\n",
       "</style>\n",
       "<table border=\"1\" class=\"dataframe\">\n",
       "  <thead>\n",
       "    <tr style=\"text-align: right;\">\n",
       "      <th></th>\n",
       "      <th>sepal_width</th>\n",
       "      <th>petal_length</th>\n",
       "      <th>petal_width</th>\n",
       "    </tr>\n",
       "  </thead>\n",
       "  <tbody>\n",
       "    <tr>\n",
       "      <th>3</th>\n",
       "      <td>3.1</td>\n",
       "      <td>1.5</td>\n",
       "      <td>0.2</td>\n",
       "    </tr>\n",
       "    <tr>\n",
       "      <th>4</th>\n",
       "      <td>3.6</td>\n",
       "      <td>1.4</td>\n",
       "      <td>0.2</td>\n",
       "    </tr>\n",
       "    <tr>\n",
       "      <th>5</th>\n",
       "      <td>3.9</td>\n",
       "      <td>1.7</td>\n",
       "      <td>0.4</td>\n",
       "    </tr>\n",
       "    <tr>\n",
       "      <th>6</th>\n",
       "      <td>3.4</td>\n",
       "      <td>1.4</td>\n",
       "      <td>0.3</td>\n",
       "    </tr>\n",
       "    <tr>\n",
       "      <th>7</th>\n",
       "      <td>3.4</td>\n",
       "      <td>1.5</td>\n",
       "      <td>0.2</td>\n",
       "    </tr>\n",
       "    <tr>\n",
       "      <th>8</th>\n",
       "      <td>2.9</td>\n",
       "      <td>1.4</td>\n",
       "      <td>0.2</td>\n",
       "    </tr>\n",
       "    <tr>\n",
       "      <th>9</th>\n",
       "      <td>3.1</td>\n",
       "      <td>1.5</td>\n",
       "      <td>0.1</td>\n",
       "    </tr>\n",
       "  </tbody>\n",
       "</table>\n",
       "</div>"
      ],
      "text/plain": [
       "   sepal_width  petal_length  petal_width\n",
       "3          3.1           1.5          0.2\n",
       "4          3.6           1.4          0.2\n",
       "5          3.9           1.7          0.4\n",
       "6          3.4           1.4          0.3\n",
       "7          3.4           1.5          0.2\n",
       "8          2.9           1.4          0.2\n",
       "9          3.1           1.5          0.1"
      ]
     },
     "execution_count": 56,
     "metadata": {},
     "output_type": "execute_result"
    }
   ],
   "source": [
    "iris.loc[3:9,'sepal_width':'petal_width']  #Continuous Selection of columns"
   ]
  },
  {
   "cell_type": "markdown",
   "id": "309f7a48",
   "metadata": {},
   "source": [
    "* **Explicit Selection**\n"
   ]
  },
  {
   "cell_type": "code",
   "execution_count": 57,
   "id": "d212a6ae",
   "metadata": {},
   "outputs": [
    {
     "data": {
      "text/html": [
       "<div>\n",
       "<style scoped>\n",
       "    .dataframe tbody tr th:only-of-type {\n",
       "        vertical-align: middle;\n",
       "    }\n",
       "\n",
       "    .dataframe tbody tr th {\n",
       "        vertical-align: top;\n",
       "    }\n",
       "\n",
       "    .dataframe thead th {\n",
       "        text-align: right;\n",
       "    }\n",
       "</style>\n",
       "<table border=\"1\" class=\"dataframe\">\n",
       "  <thead>\n",
       "    <tr style=\"text-align: right;\">\n",
       "      <th></th>\n",
       "      <th>sepal_width</th>\n",
       "      <th>petal_length</th>\n",
       "    </tr>\n",
       "  </thead>\n",
       "  <tbody>\n",
       "    <tr>\n",
       "      <th>0</th>\n",
       "      <td>3.5</td>\n",
       "      <td>1.4</td>\n",
       "    </tr>\n",
       "    <tr>\n",
       "      <th>1</th>\n",
       "      <td>3.0</td>\n",
       "      <td>1.4</td>\n",
       "    </tr>\n",
       "    <tr>\n",
       "      <th>2</th>\n",
       "      <td>3.2</td>\n",
       "      <td>1.3</td>\n",
       "    </tr>\n",
       "    <tr>\n",
       "      <th>3</th>\n",
       "      <td>3.1</td>\n",
       "      <td>1.5</td>\n",
       "    </tr>\n",
       "    <tr>\n",
       "      <th>4</th>\n",
       "      <td>3.6</td>\n",
       "      <td>1.4</td>\n",
       "    </tr>\n",
       "  </tbody>\n",
       "</table>\n",
       "</div>"
      ],
      "text/plain": [
       "   sepal_width  petal_length\n",
       "0          3.5           1.4\n",
       "1          3.0           1.4\n",
       "2          3.2           1.3\n",
       "3          3.1           1.5\n",
       "4          3.6           1.4"
      ]
     },
     "execution_count": 57,
     "metadata": {},
     "output_type": "execute_result"
    }
   ],
   "source": [
    "iris.iloc[0:5, 1:3]"
   ]
  },
  {
   "cell_type": "markdown",
   "id": "6b22a984",
   "metadata": {},
   "source": [
    "### 1.2.3 Handling Missing Data\n",
    "Missing Data can occur when no information is provided for one or more items or for a whole unit. Missing Data is a very big problem in real life scenario. Missing Data can also refer to as NA(Not Available) values in pandas.\n",
    "\n",
    "* **Checking for missing values using `isnull()` and `notnull()`** : In order to check missing values in Pandas DataFrame, we use a function `isnull()` and `notnull()`. Both function help in checking whether a value is NaN or not. These function can also be used in Pandas Series in order to find null values in a series."
   ]
  },
  {
   "cell_type": "code",
   "execution_count": 58,
   "id": "0c344d03",
   "metadata": {},
   "outputs": [
    {
     "data": {
      "text/html": [
       "<div>\n",
       "<style scoped>\n",
       "    .dataframe tbody tr th:only-of-type {\n",
       "        vertical-align: middle;\n",
       "    }\n",
       "\n",
       "    .dataframe tbody tr th {\n",
       "        vertical-align: top;\n",
       "    }\n",
       "\n",
       "    .dataframe thead th {\n",
       "        text-align: right;\n",
       "    }\n",
       "</style>\n",
       "<table border=\"1\" class=\"dataframe\">\n",
       "  <thead>\n",
       "    <tr style=\"text-align: right;\">\n",
       "      <th></th>\n",
       "      <th>A</th>\n",
       "      <th>B</th>\n",
       "      <th>C</th>\n",
       "      <th>D</th>\n",
       "    </tr>\n",
       "  </thead>\n",
       "  <tbody>\n",
       "    <tr>\n",
       "      <th>0</th>\n",
       "      <td>NaN</td>\n",
       "      <td>2.0</td>\n",
       "      <td>NaN</td>\n",
       "      <td>0</td>\n",
       "    </tr>\n",
       "    <tr>\n",
       "      <th>1</th>\n",
       "      <td>3.0</td>\n",
       "      <td>4.0</td>\n",
       "      <td>NaN</td>\n",
       "      <td>1</td>\n",
       "    </tr>\n",
       "    <tr>\n",
       "      <th>2</th>\n",
       "      <td>NaN</td>\n",
       "      <td>NaN</td>\n",
       "      <td>NaN</td>\n",
       "      <td>5</td>\n",
       "    </tr>\n",
       "    <tr>\n",
       "      <th>3</th>\n",
       "      <td>NaN</td>\n",
       "      <td>3.0</td>\n",
       "      <td>NaN</td>\n",
       "      <td>4</td>\n",
       "    </tr>\n",
       "  </tbody>\n",
       "</table>\n",
       "</div>"
      ],
      "text/plain": [
       "     A    B   C  D\n",
       "0  NaN  2.0 NaN  0\n",
       "1  3.0  4.0 NaN  1\n",
       "2  NaN  NaN NaN  5\n",
       "3  NaN  3.0 NaN  4"
      ]
     },
     "execution_count": 58,
     "metadata": {},
     "output_type": "execute_result"
    }
   ],
   "source": [
    "df"
   ]
  },
  {
   "cell_type": "code",
   "execution_count": 59,
   "id": "1a42a0b6",
   "metadata": {},
   "outputs": [
    {
     "data": {
      "text/html": [
       "<div>\n",
       "<style scoped>\n",
       "    .dataframe tbody tr th:only-of-type {\n",
       "        vertical-align: middle;\n",
       "    }\n",
       "\n",
       "    .dataframe tbody tr th {\n",
       "        vertical-align: top;\n",
       "    }\n",
       "\n",
       "    .dataframe thead th {\n",
       "        text-align: right;\n",
       "    }\n",
       "</style>\n",
       "<table border=\"1\" class=\"dataframe\">\n",
       "  <thead>\n",
       "    <tr style=\"text-align: right;\">\n",
       "      <th></th>\n",
       "      <th>A</th>\n",
       "      <th>B</th>\n",
       "      <th>C</th>\n",
       "      <th>D</th>\n",
       "    </tr>\n",
       "  </thead>\n",
       "  <tbody>\n",
       "    <tr>\n",
       "      <th>0</th>\n",
       "      <td>True</td>\n",
       "      <td>False</td>\n",
       "      <td>True</td>\n",
       "      <td>False</td>\n",
       "    </tr>\n",
       "    <tr>\n",
       "      <th>1</th>\n",
       "      <td>False</td>\n",
       "      <td>False</td>\n",
       "      <td>True</td>\n",
       "      <td>False</td>\n",
       "    </tr>\n",
       "    <tr>\n",
       "      <th>2</th>\n",
       "      <td>True</td>\n",
       "      <td>True</td>\n",
       "      <td>True</td>\n",
       "      <td>False</td>\n",
       "    </tr>\n",
       "    <tr>\n",
       "      <th>3</th>\n",
       "      <td>True</td>\n",
       "      <td>False</td>\n",
       "      <td>True</td>\n",
       "      <td>False</td>\n",
       "    </tr>\n",
       "  </tbody>\n",
       "</table>\n",
       "</div>"
      ],
      "text/plain": [
       "       A      B     C      D\n",
       "0   True  False  True  False\n",
       "1  False  False  True  False\n",
       "2   True   True  True  False\n",
       "3   True  False  True  False"
      ]
     },
     "execution_count": 59,
     "metadata": {},
     "output_type": "execute_result"
    }
   ],
   "source": [
    "df.isnull()"
   ]
  },
  {
   "cell_type": "markdown",
   "id": "681fff30",
   "metadata": {},
   "source": [
    "* **Fill missing values using `fillna()`,`replace()`,`interpolate()`** : These functions replace NaN values with some value of their own. All these function help in filling a null values in datasets of a DataFrame. `Interpolate()` function is basically used to fill NA values in the dataframe but it uses various interpolation technique to fill the missing values rather than hard-coding the value."
   ]
  },
  {
   "cell_type": "code",
   "execution_count": 60,
   "id": "5f39cf24",
   "metadata": {},
   "outputs": [
    {
     "data": {
      "text/html": [
       "<div>\n",
       "<style scoped>\n",
       "    .dataframe tbody tr th:only-of-type {\n",
       "        vertical-align: middle;\n",
       "    }\n",
       "\n",
       "    .dataframe tbody tr th {\n",
       "        vertical-align: top;\n",
       "    }\n",
       "\n",
       "    .dataframe thead th {\n",
       "        text-align: right;\n",
       "    }\n",
       "</style>\n",
       "<table border=\"1\" class=\"dataframe\">\n",
       "  <thead>\n",
       "    <tr style=\"text-align: right;\">\n",
       "      <th></th>\n",
       "      <th>A</th>\n",
       "      <th>B</th>\n",
       "      <th>C</th>\n",
       "      <th>D</th>\n",
       "    </tr>\n",
       "  </thead>\n",
       "  <tbody>\n",
       "    <tr>\n",
       "      <th>0</th>\n",
       "      <td>0.0</td>\n",
       "      <td>2.0</td>\n",
       "      <td>0.0</td>\n",
       "      <td>0</td>\n",
       "    </tr>\n",
       "    <tr>\n",
       "      <th>1</th>\n",
       "      <td>3.0</td>\n",
       "      <td>4.0</td>\n",
       "      <td>0.0</td>\n",
       "      <td>1</td>\n",
       "    </tr>\n",
       "    <tr>\n",
       "      <th>2</th>\n",
       "      <td>0.0</td>\n",
       "      <td>0.0</td>\n",
       "      <td>0.0</td>\n",
       "      <td>5</td>\n",
       "    </tr>\n",
       "    <tr>\n",
       "      <th>3</th>\n",
       "      <td>0.0</td>\n",
       "      <td>3.0</td>\n",
       "      <td>0.0</td>\n",
       "      <td>4</td>\n",
       "    </tr>\n",
       "  </tbody>\n",
       "</table>\n",
       "</div>"
      ],
      "text/plain": [
       "     A    B    C  D\n",
       "0  0.0  2.0  0.0  0\n",
       "1  3.0  4.0  0.0  1\n",
       "2  0.0  0.0  0.0  5\n",
       "3  0.0  3.0  0.0  4"
      ]
     },
     "execution_count": 60,
     "metadata": {},
     "output_type": "execute_result"
    }
   ],
   "source": [
    "df.fillna(0.0)"
   ]
  },
  {
   "cell_type": "code",
   "execution_count": 61,
   "id": "4ca2a56a",
   "metadata": {},
   "outputs": [
    {
     "data": {
      "text/html": [
       "<div>\n",
       "<style scoped>\n",
       "    .dataframe tbody tr th:only-of-type {\n",
       "        vertical-align: middle;\n",
       "    }\n",
       "\n",
       "    .dataframe tbody tr th {\n",
       "        vertical-align: top;\n",
       "    }\n",
       "\n",
       "    .dataframe thead th {\n",
       "        text-align: right;\n",
       "    }\n",
       "</style>\n",
       "<table border=\"1\" class=\"dataframe\">\n",
       "  <thead>\n",
       "    <tr style=\"text-align: right;\">\n",
       "      <th></th>\n",
       "      <th>A</th>\n",
       "      <th>B</th>\n",
       "      <th>C</th>\n",
       "      <th>D</th>\n",
       "    </tr>\n",
       "  </thead>\n",
       "  <tbody>\n",
       "    <tr>\n",
       "      <th>0</th>\n",
       "      <td>NaN</td>\n",
       "      <td>2.0</td>\n",
       "      <td>NaN</td>\n",
       "      <td>0</td>\n",
       "    </tr>\n",
       "    <tr>\n",
       "      <th>1</th>\n",
       "      <td>3.0</td>\n",
       "      <td>4.0</td>\n",
       "      <td>NaN</td>\n",
       "      <td>1</td>\n",
       "    </tr>\n",
       "    <tr>\n",
       "      <th>2</th>\n",
       "      <td>3.0</td>\n",
       "      <td>3.5</td>\n",
       "      <td>NaN</td>\n",
       "      <td>5</td>\n",
       "    </tr>\n",
       "    <tr>\n",
       "      <th>3</th>\n",
       "      <td>3.0</td>\n",
       "      <td>3.0</td>\n",
       "      <td>NaN</td>\n",
       "      <td>4</td>\n",
       "    </tr>\n",
       "  </tbody>\n",
       "</table>\n",
       "</div>"
      ],
      "text/plain": [
       "     A    B   C  D\n",
       "0  NaN  2.0 NaN  0\n",
       "1  3.0  4.0 NaN  1\n",
       "2  3.0  3.5 NaN  5\n",
       "3  3.0  3.0 NaN  4"
      ]
     },
     "execution_count": 61,
     "metadata": {},
     "output_type": "execute_result"
    }
   ],
   "source": [
    "df.interpolate()"
   ]
  },
  {
   "cell_type": "markdown",
   "id": "0f35b03a",
   "metadata": {},
   "source": [
    "As we can see the output, values in the first row could not get filled as the direction of filling of values is forward and there is no previous value which could have been used in interpolation."
   ]
  },
  {
   "cell_type": "code",
   "execution_count": 62,
   "id": "00843ece",
   "metadata": {},
   "outputs": [
    {
     "data": {
      "text/html": [
       "<div>\n",
       "<style scoped>\n",
       "    .dataframe tbody tr th:only-of-type {\n",
       "        vertical-align: middle;\n",
       "    }\n",
       "\n",
       "    .dataframe tbody tr th {\n",
       "        vertical-align: top;\n",
       "    }\n",
       "\n",
       "    .dataframe thead th {\n",
       "        text-align: right;\n",
       "    }\n",
       "</style>\n",
       "<table border=\"1\" class=\"dataframe\">\n",
       "  <thead>\n",
       "    <tr style=\"text-align: right;\">\n",
       "      <th></th>\n",
       "      <th>A</th>\n",
       "      <th>B</th>\n",
       "      <th>C</th>\n",
       "      <th>D</th>\n",
       "    </tr>\n",
       "  </thead>\n",
       "  <tbody>\n",
       "    <tr>\n",
       "      <th>0</th>\n",
       "      <td>NaN</td>\n",
       "      <td>2.0</td>\n",
       "      <td>NaN</td>\n",
       "      <td>0</td>\n",
       "    </tr>\n",
       "    <tr>\n",
       "      <th>1</th>\n",
       "      <td>3.0</td>\n",
       "      <td>4.0</td>\n",
       "      <td>NaN</td>\n",
       "      <td>1</td>\n",
       "    </tr>\n",
       "    <tr>\n",
       "      <th>2</th>\n",
       "      <td>3.0</td>\n",
       "      <td>4.0</td>\n",
       "      <td>NaN</td>\n",
       "      <td>5</td>\n",
       "    </tr>\n",
       "    <tr>\n",
       "      <th>3</th>\n",
       "      <td>3.0</td>\n",
       "      <td>3.0</td>\n",
       "      <td>NaN</td>\n",
       "      <td>4</td>\n",
       "    </tr>\n",
       "  </tbody>\n",
       "</table>\n",
       "</div>"
      ],
      "text/plain": [
       "     A    B   C  D\n",
       "0  NaN  2.0 NaN  0\n",
       "1  3.0  4.0 NaN  1\n",
       "2  3.0  4.0 NaN  5\n",
       "3  3.0  3.0 NaN  4"
      ]
     },
     "execution_count": 62,
     "metadata": {},
     "output_type": "execute_result"
    }
   ],
   "source": [
    "df.fillna(method = 'pad') #Filling null values with the previous ones"
   ]
  },
  {
   "cell_type": "code",
   "execution_count": 63,
   "id": "b825b030",
   "metadata": {},
   "outputs": [
    {
     "data": {
      "text/html": [
       "<div>\n",
       "<style scoped>\n",
       "    .dataframe tbody tr th:only-of-type {\n",
       "        vertical-align: middle;\n",
       "    }\n",
       "\n",
       "    .dataframe tbody tr th {\n",
       "        vertical-align: top;\n",
       "    }\n",
       "\n",
       "    .dataframe thead th {\n",
       "        text-align: right;\n",
       "    }\n",
       "</style>\n",
       "<table border=\"1\" class=\"dataframe\">\n",
       "  <thead>\n",
       "    <tr style=\"text-align: right;\">\n",
       "      <th></th>\n",
       "      <th>A</th>\n",
       "      <th>B</th>\n",
       "      <th>C</th>\n",
       "      <th>D</th>\n",
       "    </tr>\n",
       "  </thead>\n",
       "  <tbody>\n",
       "    <tr>\n",
       "      <th>0</th>\n",
       "      <td>3.0</td>\n",
       "      <td>2.0</td>\n",
       "      <td>NaN</td>\n",
       "      <td>0</td>\n",
       "    </tr>\n",
       "    <tr>\n",
       "      <th>1</th>\n",
       "      <td>3.0</td>\n",
       "      <td>4.0</td>\n",
       "      <td>NaN</td>\n",
       "      <td>1</td>\n",
       "    </tr>\n",
       "    <tr>\n",
       "      <th>2</th>\n",
       "      <td>NaN</td>\n",
       "      <td>3.0</td>\n",
       "      <td>NaN</td>\n",
       "      <td>5</td>\n",
       "    </tr>\n",
       "    <tr>\n",
       "      <th>3</th>\n",
       "      <td>NaN</td>\n",
       "      <td>3.0</td>\n",
       "      <td>NaN</td>\n",
       "      <td>4</td>\n",
       "    </tr>\n",
       "  </tbody>\n",
       "</table>\n",
       "</div>"
      ],
      "text/plain": [
       "     A    B   C  D\n",
       "0  3.0  2.0 NaN  0\n",
       "1  3.0  4.0 NaN  1\n",
       "2  NaN  3.0 NaN  5\n",
       "3  NaN  3.0 NaN  4"
      ]
     },
     "execution_count": 63,
     "metadata": {},
     "output_type": "execute_result"
    }
   ],
   "source": [
    "df.fillna(method ='bfill') #Filling null value with the next ones"
   ]
  },
  {
   "cell_type": "markdown",
   "id": "ccc63614",
   "metadata": {},
   "source": [
    "* **Dropping missing values using `dropna()`** : In order to drop a null values from a dataframe, we used `dropna()` function this fuction drop Rows/Columns of datasets with Null values in different ways."
   ]
  },
  {
   "cell_type": "code",
   "execution_count": 64,
   "id": "fe98f3be",
   "metadata": {},
   "outputs": [],
   "source": [
    "dict = {'First Score':[100, 90, np.nan, 95],\n",
    "        'Second Score': [30, np.nan, 45, 56],\n",
    "        'Third Score':[52, 40, 80, 98],\n",
    "        'Fourth Score':[np.nan, np.nan, np.nan, 65],\n",
    "        'Fifth Score':[12, 78, 45, 90]}"
   ]
  },
  {
   "cell_type": "code",
   "execution_count": 65,
   "id": "98409ef8",
   "metadata": {},
   "outputs": [
    {
     "data": {
      "text/html": [
       "<div>\n",
       "<style scoped>\n",
       "    .dataframe tbody tr th:only-of-type {\n",
       "        vertical-align: middle;\n",
       "    }\n",
       "\n",
       "    .dataframe tbody tr th {\n",
       "        vertical-align: top;\n",
       "    }\n",
       "\n",
       "    .dataframe thead th {\n",
       "        text-align: right;\n",
       "    }\n",
       "</style>\n",
       "<table border=\"1\" class=\"dataframe\">\n",
       "  <thead>\n",
       "    <tr style=\"text-align: right;\">\n",
       "      <th></th>\n",
       "      <th>First Score</th>\n",
       "      <th>Second Score</th>\n",
       "      <th>Third Score</th>\n",
       "      <th>Fourth Score</th>\n",
       "      <th>Fifth Score</th>\n",
       "    </tr>\n",
       "  </thead>\n",
       "  <tbody>\n",
       "    <tr>\n",
       "      <th>0</th>\n",
       "      <td>100.0</td>\n",
       "      <td>30.0</td>\n",
       "      <td>52</td>\n",
       "      <td>NaN</td>\n",
       "      <td>12</td>\n",
       "    </tr>\n",
       "    <tr>\n",
       "      <th>1</th>\n",
       "      <td>90.0</td>\n",
       "      <td>NaN</td>\n",
       "      <td>40</td>\n",
       "      <td>NaN</td>\n",
       "      <td>78</td>\n",
       "    </tr>\n",
       "    <tr>\n",
       "      <th>2</th>\n",
       "      <td>NaN</td>\n",
       "      <td>45.0</td>\n",
       "      <td>80</td>\n",
       "      <td>NaN</td>\n",
       "      <td>45</td>\n",
       "    </tr>\n",
       "    <tr>\n",
       "      <th>3</th>\n",
       "      <td>95.0</td>\n",
       "      <td>56.0</td>\n",
       "      <td>98</td>\n",
       "      <td>65.0</td>\n",
       "      <td>90</td>\n",
       "    </tr>\n",
       "  </tbody>\n",
       "</table>\n",
       "</div>"
      ],
      "text/plain": [
       "   First Score  Second Score  Third Score  Fourth Score  Fifth Score\n",
       "0        100.0          30.0           52           NaN           12\n",
       "1         90.0           NaN           40           NaN           78\n",
       "2          NaN          45.0           80           NaN           45\n",
       "3         95.0          56.0           98          65.0           90"
      ]
     },
     "execution_count": 65,
     "metadata": {},
     "output_type": "execute_result"
    }
   ],
   "source": [
    "DT = pd.DataFrame(dict)\n",
    "DT"
   ]
  },
  {
   "cell_type": "code",
   "execution_count": 66,
   "id": "07f2d0cd",
   "metadata": {},
   "outputs": [
    {
     "data": {
      "text/html": [
       "<div>\n",
       "<style scoped>\n",
       "    .dataframe tbody tr th:only-of-type {\n",
       "        vertical-align: middle;\n",
       "    }\n",
       "\n",
       "    .dataframe tbody tr th {\n",
       "        vertical-align: top;\n",
       "    }\n",
       "\n",
       "    .dataframe thead th {\n",
       "        text-align: right;\n",
       "    }\n",
       "</style>\n",
       "<table border=\"1\" class=\"dataframe\">\n",
       "  <thead>\n",
       "    <tr style=\"text-align: right;\">\n",
       "      <th></th>\n",
       "      <th>First Score</th>\n",
       "      <th>Second Score</th>\n",
       "      <th>Third Score</th>\n",
       "      <th>Fourth Score</th>\n",
       "    </tr>\n",
       "  </thead>\n",
       "  <tbody>\n",
       "    <tr>\n",
       "      <th>0</th>\n",
       "      <td>100.0</td>\n",
       "      <td>30.0</td>\n",
       "      <td>52.0</td>\n",
       "      <td>NaN</td>\n",
       "    </tr>\n",
       "    <tr>\n",
       "      <th>1</th>\n",
       "      <td>NaN</td>\n",
       "      <td>NaN</td>\n",
       "      <td>NaN</td>\n",
       "      <td>NaN</td>\n",
       "    </tr>\n",
       "    <tr>\n",
       "      <th>2</th>\n",
       "      <td>NaN</td>\n",
       "      <td>45.0</td>\n",
       "      <td>80.0</td>\n",
       "      <td>NaN</td>\n",
       "    </tr>\n",
       "    <tr>\n",
       "      <th>3</th>\n",
       "      <td>95.0</td>\n",
       "      <td>56.0</td>\n",
       "      <td>98.0</td>\n",
       "      <td>65.0</td>\n",
       "    </tr>\n",
       "  </tbody>\n",
       "</table>\n",
       "</div>"
      ],
      "text/plain": [
       "   First Score  Second Score  Third Score  Fourth Score\n",
       "0        100.0          30.0         52.0           NaN\n",
       "1          NaN           NaN          NaN           NaN\n",
       "2          NaN          45.0         80.0           NaN\n",
       "3         95.0          56.0         98.0          65.0"
      ]
     },
     "execution_count": 66,
     "metadata": {},
     "output_type": "execute_result"
    }
   ],
   "source": [
    "dict_2 = {'First Score':[100, np.nan, np.nan, 95],\n",
    "        'Second Score': [30, np.nan, 45, 56],\n",
    "        'Third Score':[52, np.nan, 80, 98],\n",
    "        'Fourth Score':[np.nan, np.nan, np.nan, 65]}\n",
    "DT_2 = pd.DataFrame(dict_2)\n",
    "DT_2"
   ]
  },
  {
   "cell_type": "code",
   "execution_count": 67,
   "id": "bc14c917",
   "metadata": {},
   "outputs": [
    {
     "data": {
      "text/html": [
       "<div>\n",
       "<style scoped>\n",
       "    .dataframe tbody tr th:only-of-type {\n",
       "        vertical-align: middle;\n",
       "    }\n",
       "\n",
       "    .dataframe tbody tr th {\n",
       "        vertical-align: top;\n",
       "    }\n",
       "\n",
       "    .dataframe thead th {\n",
       "        text-align: right;\n",
       "    }\n",
       "</style>\n",
       "<table border=\"1\" class=\"dataframe\">\n",
       "  <thead>\n",
       "    <tr style=\"text-align: right;\">\n",
       "      <th></th>\n",
       "      <th>First Score</th>\n",
       "      <th>Second Score</th>\n",
       "      <th>Third Score</th>\n",
       "      <th>Fourth Score</th>\n",
       "    </tr>\n",
       "  </thead>\n",
       "  <tbody>\n",
       "    <tr>\n",
       "      <th>0</th>\n",
       "      <td>100.0</td>\n",
       "      <td>30.0</td>\n",
       "      <td>52.0</td>\n",
       "      <td>NaN</td>\n",
       "    </tr>\n",
       "    <tr>\n",
       "      <th>2</th>\n",
       "      <td>NaN</td>\n",
       "      <td>45.0</td>\n",
       "      <td>80.0</td>\n",
       "      <td>NaN</td>\n",
       "    </tr>\n",
       "    <tr>\n",
       "      <th>3</th>\n",
       "      <td>95.0</td>\n",
       "      <td>56.0</td>\n",
       "      <td>98.0</td>\n",
       "      <td>65.0</td>\n",
       "    </tr>\n",
       "  </tbody>\n",
       "</table>\n",
       "</div>"
      ],
      "text/plain": [
       "   First Score  Second Score  Third Score  Fourth Score\n",
       "0        100.0          30.0         52.0           NaN\n",
       "2          NaN          45.0         80.0           NaN\n",
       "3         95.0          56.0         98.0          65.0"
      ]
     },
     "execution_count": 67,
     "metadata": {},
     "output_type": "execute_result"
    }
   ],
   "source": [
    "DT_2.dropna(axis = 0, how = 'all') # drop rows whose all data is missing or contain null values(NaN)"
   ]
  },
  {
   "cell_type": "code",
   "execution_count": 68,
   "id": "4b1f24f0",
   "metadata": {},
   "outputs": [
    {
     "data": {
      "text/html": [
       "<div>\n",
       "<style scoped>\n",
       "    .dataframe tbody tr th:only-of-type {\n",
       "        vertical-align: middle;\n",
       "    }\n",
       "\n",
       "    .dataframe tbody tr th {\n",
       "        vertical-align: top;\n",
       "    }\n",
       "\n",
       "    .dataframe thead th {\n",
       "        text-align: right;\n",
       "    }\n",
       "</style>\n",
       "<table border=\"1\" class=\"dataframe\">\n",
       "  <thead>\n",
       "    <tr style=\"text-align: right;\">\n",
       "      <th></th>\n",
       "      <th>First Score</th>\n",
       "      <th>Second Score</th>\n",
       "      <th>Third Score</th>\n",
       "      <th>Fourth Score</th>\n",
       "      <th>Fifth Score</th>\n",
       "    </tr>\n",
       "  </thead>\n",
       "  <tbody>\n",
       "    <tr>\n",
       "      <th>3</th>\n",
       "      <td>95.0</td>\n",
       "      <td>56.0</td>\n",
       "      <td>98</td>\n",
       "      <td>65.0</td>\n",
       "      <td>90</td>\n",
       "    </tr>\n",
       "  </tbody>\n",
       "</table>\n",
       "</div>"
      ],
      "text/plain": [
       "   First Score  Second Score  Third Score  Fourth Score  Fifth Score\n",
       "3         95.0          56.0           98          65.0           90"
      ]
     },
     "execution_count": 68,
     "metadata": {},
     "output_type": "execute_result"
    }
   ],
   "source": [
    "DT.dropna()                       #Dropping rows with atleast 1 NaN"
   ]
  },
  {
   "cell_type": "code",
   "execution_count": 69,
   "id": "a23a2f5f",
   "metadata": {},
   "outputs": [
    {
     "data": {
      "text/html": [
       "<div>\n",
       "<style scoped>\n",
       "    .dataframe tbody tr th:only-of-type {\n",
       "        vertical-align: middle;\n",
       "    }\n",
       "\n",
       "    .dataframe tbody tr th {\n",
       "        vertical-align: top;\n",
       "    }\n",
       "\n",
       "    .dataframe thead th {\n",
       "        text-align: right;\n",
       "    }\n",
       "</style>\n",
       "<table border=\"1\" class=\"dataframe\">\n",
       "  <thead>\n",
       "    <tr style=\"text-align: right;\">\n",
       "      <th></th>\n",
       "      <th>Third Score</th>\n",
       "      <th>Fifth Score</th>\n",
       "    </tr>\n",
       "  </thead>\n",
       "  <tbody>\n",
       "    <tr>\n",
       "      <th>0</th>\n",
       "      <td>52</td>\n",
       "      <td>12</td>\n",
       "    </tr>\n",
       "    <tr>\n",
       "      <th>1</th>\n",
       "      <td>40</td>\n",
       "      <td>78</td>\n",
       "    </tr>\n",
       "    <tr>\n",
       "      <th>2</th>\n",
       "      <td>80</td>\n",
       "      <td>45</td>\n",
       "    </tr>\n",
       "    <tr>\n",
       "      <th>3</th>\n",
       "      <td>98</td>\n",
       "      <td>90</td>\n",
       "    </tr>\n",
       "  </tbody>\n",
       "</table>\n",
       "</div>"
      ],
      "text/plain": [
       "   Third Score  Fifth Score\n",
       "0           52           12\n",
       "1           40           78\n",
       "2           80           45\n",
       "3           98           90"
      ]
     },
     "execution_count": 69,
     "metadata": {},
     "output_type": "execute_result"
    }
   ],
   "source": [
    "DT.dropna(axis = 1)               #Dropping Columns with with atleast 1 NaN"
   ]
  },
  {
   "cell_type": "markdown",
   "id": "1b6112c8",
   "metadata": {},
   "source": [
    "### 1.2.4 Iterating over Dataframe\n",
    "Pandas DataFrame consists of rows and columns so, in order to iterate over dataframe, we have to iterate a dataframe like a dictionary.\n",
    "* **Iterating Over Rows** : In order to iterate over rows, we can use three function `iteritems()`, `iterrows()`, `itertuples()` . These three function will help in iteration over rows."
   ]
  },
  {
   "cell_type": "code",
   "execution_count": 70,
   "id": "ca4cc48a",
   "metadata": {
    "scrolled": true
   },
   "outputs": [
    {
     "name": "stdout",
     "output_type": "stream",
     "text": [
      "0 sepal_length       5.1\n",
      "sepal_width        3.5\n",
      "petal_length       1.4\n",
      "petal_width        0.2\n",
      "species         setosa\n",
      "Name: 0, dtype: object\n",
      "1 sepal_length       4.9\n",
      "sepal_width        3.0\n",
      "petal_length       1.4\n",
      "petal_width        0.2\n",
      "species         setosa\n",
      "Name: 1, dtype: object\n",
      "2 sepal_length       4.7\n",
      "sepal_width        3.2\n",
      "petal_length       1.3\n",
      "petal_width        0.2\n",
      "species         setosa\n",
      "Name: 2, dtype: object\n",
      "3 sepal_length       4.6\n",
      "sepal_width        3.1\n",
      "petal_length       1.5\n",
      "petal_width        0.2\n",
      "species         setosa\n",
      "Name: 3, dtype: object\n",
      "4 sepal_length       5.0\n",
      "sepal_width        3.6\n",
      "petal_length       1.4\n",
      "petal_width        0.2\n",
      "species         setosa\n",
      "Name: 4, dtype: object\n",
      "5 sepal_length       5.4\n",
      "sepal_width        3.9\n",
      "petal_length       1.7\n",
      "petal_width        0.4\n",
      "species         setosa\n",
      "Name: 5, dtype: object\n",
      "6 sepal_length       4.6\n",
      "sepal_width        3.4\n",
      "petal_length       1.4\n",
      "petal_width        0.3\n",
      "species         setosa\n",
      "Name: 6, dtype: object\n",
      "7 sepal_length       5.0\n",
      "sepal_width        3.4\n",
      "petal_length       1.5\n",
      "petal_width        0.2\n",
      "species         setosa\n",
      "Name: 7, dtype: object\n",
      "8 sepal_length       4.4\n",
      "sepal_width        2.9\n",
      "petal_length       1.4\n",
      "petal_width        0.2\n",
      "species         setosa\n",
      "Name: 8, dtype: object\n",
      "9 sepal_length       4.9\n",
      "sepal_width        3.1\n",
      "petal_length       1.5\n",
      "petal_width        0.1\n",
      "species         setosa\n",
      "Name: 9, dtype: object\n",
      "10 sepal_length       5.4\n",
      "sepal_width        3.7\n",
      "petal_length       1.5\n",
      "petal_width        0.2\n",
      "species         setosa\n",
      "Name: 10, dtype: object\n",
      "11 sepal_length       4.8\n",
      "sepal_width        3.4\n",
      "petal_length       1.6\n",
      "petal_width        0.2\n",
      "species         setosa\n",
      "Name: 11, dtype: object\n",
      "12 sepal_length       4.8\n",
      "sepal_width        3.0\n",
      "petal_length       1.4\n",
      "petal_width        0.1\n",
      "species         setosa\n",
      "Name: 12, dtype: object\n",
      "13 sepal_length       4.3\n",
      "sepal_width        3.0\n",
      "petal_length       1.1\n",
      "petal_width        0.1\n",
      "species         setosa\n",
      "Name: 13, dtype: object\n",
      "14 sepal_length       5.8\n",
      "sepal_width        4.0\n",
      "petal_length       1.2\n",
      "petal_width        0.2\n",
      "species         setosa\n",
      "Name: 14, dtype: object\n",
      "15 sepal_length       5.7\n",
      "sepal_width        4.4\n",
      "petal_length       1.5\n",
      "petal_width        0.4\n",
      "species         setosa\n",
      "Name: 15, dtype: object\n",
      "16 sepal_length       5.4\n",
      "sepal_width        3.9\n",
      "petal_length       1.3\n",
      "petal_width        0.4\n",
      "species         setosa\n",
      "Name: 16, dtype: object\n",
      "17 sepal_length       5.1\n",
      "sepal_width        3.5\n",
      "petal_length       1.4\n",
      "petal_width        0.3\n",
      "species         setosa\n",
      "Name: 17, dtype: object\n",
      "18 sepal_length       5.7\n",
      "sepal_width        3.8\n",
      "petal_length       1.7\n",
      "petal_width        0.3\n",
      "species         setosa\n",
      "Name: 18, dtype: object\n",
      "19 sepal_length       5.1\n",
      "sepal_width        3.8\n",
      "petal_length       1.5\n",
      "petal_width        0.3\n",
      "species         setosa\n",
      "Name: 19, dtype: object\n",
      "20 sepal_length       5.4\n",
      "sepal_width        3.4\n",
      "petal_length       1.7\n",
      "petal_width        0.2\n",
      "species         setosa\n",
      "Name: 20, dtype: object\n",
      "21 sepal_length       5.1\n",
      "sepal_width        3.7\n",
      "petal_length       1.5\n",
      "petal_width        0.4\n",
      "species         setosa\n",
      "Name: 21, dtype: object\n",
      "22 sepal_length       4.6\n",
      "sepal_width        3.6\n",
      "petal_length       1.0\n",
      "petal_width        0.2\n",
      "species         setosa\n",
      "Name: 22, dtype: object\n",
      "23 sepal_length       5.1\n",
      "sepal_width        3.3\n",
      "petal_length       1.7\n",
      "petal_width        0.5\n",
      "species         setosa\n",
      "Name: 23, dtype: object\n",
      "24 sepal_length       4.8\n",
      "sepal_width        3.4\n",
      "petal_length       1.9\n",
      "petal_width        0.2\n",
      "species         setosa\n",
      "Name: 24, dtype: object\n",
      "25 sepal_length       5.0\n",
      "sepal_width        3.0\n",
      "petal_length       1.6\n",
      "petal_width        0.2\n",
      "species         setosa\n",
      "Name: 25, dtype: object\n",
      "26 sepal_length       5.0\n",
      "sepal_width        3.4\n",
      "petal_length       1.6\n",
      "petal_width        0.4\n",
      "species         setosa\n",
      "Name: 26, dtype: object\n",
      "27 sepal_length       5.2\n",
      "sepal_width        3.5\n",
      "petal_length       1.5\n",
      "petal_width        0.2\n",
      "species         setosa\n",
      "Name: 27, dtype: object\n",
      "28 sepal_length       5.2\n",
      "sepal_width        3.4\n",
      "petal_length       1.4\n",
      "petal_width        0.2\n",
      "species         setosa\n",
      "Name: 28, dtype: object\n",
      "29 sepal_length       4.7\n",
      "sepal_width        3.2\n",
      "petal_length       1.6\n",
      "petal_width        0.2\n",
      "species         setosa\n",
      "Name: 29, dtype: object\n",
      "30 sepal_length       4.8\n",
      "sepal_width        3.1\n",
      "petal_length       1.6\n",
      "petal_width        0.2\n",
      "species         setosa\n",
      "Name: 30, dtype: object\n",
      "31 sepal_length       5.4\n",
      "sepal_width        3.4\n",
      "petal_length       1.5\n",
      "petal_width        0.4\n",
      "species         setosa\n",
      "Name: 31, dtype: object\n",
      "32 sepal_length       5.2\n",
      "sepal_width        4.1\n",
      "petal_length       1.5\n",
      "petal_width        0.1\n",
      "species         setosa\n",
      "Name: 32, dtype: object\n",
      "33 sepal_length       5.5\n",
      "sepal_width        4.2\n",
      "petal_length       1.4\n",
      "petal_width        0.2\n",
      "species         setosa\n",
      "Name: 33, dtype: object\n",
      "34 sepal_length       4.9\n",
      "sepal_width        3.1\n",
      "petal_length       1.5\n",
      "petal_width        0.2\n",
      "species         setosa\n",
      "Name: 34, dtype: object\n",
      "35 sepal_length       5.0\n",
      "sepal_width        3.2\n",
      "petal_length       1.2\n",
      "petal_width        0.2\n",
      "species         setosa\n",
      "Name: 35, dtype: object\n",
      "36 sepal_length       5.5\n",
      "sepal_width        3.5\n",
      "petal_length       1.3\n",
      "petal_width        0.2\n",
      "species         setosa\n",
      "Name: 36, dtype: object\n",
      "37 sepal_length       4.9\n",
      "sepal_width        3.6\n",
      "petal_length       1.4\n",
      "petal_width        0.1\n",
      "species         setosa\n",
      "Name: 37, dtype: object\n",
      "38 sepal_length       4.4\n",
      "sepal_width        3.0\n",
      "petal_length       1.3\n",
      "petal_width        0.2\n",
      "species         setosa\n",
      "Name: 38, dtype: object\n",
      "39 sepal_length       5.1\n",
      "sepal_width        3.4\n",
      "petal_length       1.5\n",
      "petal_width        0.2\n",
      "species         setosa\n",
      "Name: 39, dtype: object\n",
      "40 sepal_length       5.0\n",
      "sepal_width        3.5\n",
      "petal_length       1.3\n",
      "petal_width        0.3\n",
      "species         setosa\n",
      "Name: 40, dtype: object\n",
      "41 sepal_length       4.5\n",
      "sepal_width        2.3\n",
      "petal_length       1.3\n",
      "petal_width        0.3\n",
      "species         setosa\n",
      "Name: 41, dtype: object\n",
      "42 sepal_length       4.4\n",
      "sepal_width        3.2\n",
      "petal_length       1.3\n",
      "petal_width        0.2\n",
      "species         setosa\n",
      "Name: 42, dtype: object\n",
      "43 sepal_length       5.0\n",
      "sepal_width        3.5\n",
      "petal_length       1.6\n",
      "petal_width        0.6\n",
      "species         setosa\n",
      "Name: 43, dtype: object\n",
      "44 sepal_length       5.1\n",
      "sepal_width        3.8\n",
      "petal_length       1.9\n",
      "petal_width        0.4\n",
      "species         setosa\n",
      "Name: 44, dtype: object\n",
      "45 sepal_length       4.8\n",
      "sepal_width        3.0\n",
      "petal_length       1.4\n",
      "petal_width        0.3\n",
      "species         setosa\n",
      "Name: 45, dtype: object\n",
      "46 sepal_length       5.1\n",
      "sepal_width        3.8\n",
      "petal_length       1.6\n",
      "petal_width        0.2\n",
      "species         setosa\n",
      "Name: 46, dtype: object\n",
      "47 sepal_length       4.6\n",
      "sepal_width        3.2\n",
      "petal_length       1.4\n",
      "petal_width        0.2\n",
      "species         setosa\n",
      "Name: 47, dtype: object\n",
      "48 sepal_length       5.3\n",
      "sepal_width        3.7\n",
      "petal_length       1.5\n",
      "petal_width        0.2\n",
      "species         setosa\n",
      "Name: 48, dtype: object\n",
      "49 sepal_length       5.0\n",
      "sepal_width        3.3\n",
      "petal_length       1.4\n",
      "petal_width        0.2\n",
      "species         setosa\n",
      "Name: 49, dtype: object\n",
      "50 sepal_length           7.0\n",
      "sepal_width            3.2\n",
      "petal_length           4.7\n",
      "petal_width            1.4\n",
      "species         versicolor\n",
      "Name: 50, dtype: object\n",
      "51 sepal_length           6.4\n",
      "sepal_width            3.2\n",
      "petal_length           4.5\n",
      "petal_width            1.5\n",
      "species         versicolor\n",
      "Name: 51, dtype: object\n",
      "52 sepal_length           6.9\n",
      "sepal_width            3.1\n",
      "petal_length           4.9\n",
      "petal_width            1.5\n",
      "species         versicolor\n",
      "Name: 52, dtype: object\n",
      "53 sepal_length           5.5\n",
      "sepal_width            2.3\n",
      "petal_length           4.0\n",
      "petal_width            1.3\n",
      "species         versicolor\n",
      "Name: 53, dtype: object\n",
      "54 sepal_length           6.5\n",
      "sepal_width            2.8\n",
      "petal_length           4.6\n",
      "petal_width            1.5\n",
      "species         versicolor\n",
      "Name: 54, dtype: object\n",
      "55 sepal_length           5.7\n",
      "sepal_width            2.8\n",
      "petal_length           4.5\n",
      "petal_width            1.3\n",
      "species         versicolor\n",
      "Name: 55, dtype: object\n",
      "56 sepal_length           6.3\n",
      "sepal_width            3.3\n",
      "petal_length           4.7\n",
      "petal_width            1.6\n",
      "species         versicolor\n",
      "Name: 56, dtype: object\n",
      "57 sepal_length           4.9\n",
      "sepal_width            2.4\n",
      "petal_length           3.3\n",
      "petal_width            1.0\n",
      "species         versicolor\n",
      "Name: 57, dtype: object\n",
      "58 sepal_length           6.6\n",
      "sepal_width            2.9\n",
      "petal_length           4.6\n",
      "petal_width            1.3\n",
      "species         versicolor\n",
      "Name: 58, dtype: object\n",
      "59 sepal_length           5.2\n",
      "sepal_width            2.7\n",
      "petal_length           3.9\n",
      "petal_width            1.4\n",
      "species         versicolor\n",
      "Name: 59, dtype: object\n",
      "60 sepal_length           5.0\n",
      "sepal_width            2.0\n",
      "petal_length           3.5\n",
      "petal_width            1.0\n",
      "species         versicolor\n",
      "Name: 60, dtype: object\n",
      "61 sepal_length           5.9\n",
      "sepal_width            3.0\n",
      "petal_length           4.2\n",
      "petal_width            1.5\n",
      "species         versicolor\n",
      "Name: 61, dtype: object\n",
      "62 sepal_length           6.0\n",
      "sepal_width            2.2\n",
      "petal_length           4.0\n",
      "petal_width            1.0\n",
      "species         versicolor\n",
      "Name: 62, dtype: object\n",
      "63 sepal_length           6.1\n",
      "sepal_width            2.9\n",
      "petal_length           4.7\n",
      "petal_width            1.4\n",
      "species         versicolor\n",
      "Name: 63, dtype: object\n",
      "64 sepal_length           5.6\n",
      "sepal_width            2.9\n",
      "petal_length           3.6\n",
      "petal_width            1.3\n",
      "species         versicolor\n",
      "Name: 64, dtype: object\n",
      "65 sepal_length           6.7\n",
      "sepal_width            3.1\n",
      "petal_length           4.4\n",
      "petal_width            1.4\n",
      "species         versicolor\n",
      "Name: 65, dtype: object\n",
      "66 sepal_length           5.6\n",
      "sepal_width            3.0\n",
      "petal_length           4.5\n",
      "petal_width            1.5\n",
      "species         versicolor\n",
      "Name: 66, dtype: object\n",
      "67 sepal_length           5.8\n",
      "sepal_width            2.7\n",
      "petal_length           4.1\n",
      "petal_width            1.0\n",
      "species         versicolor\n",
      "Name: 67, dtype: object\n",
      "68 sepal_length           6.2\n",
      "sepal_width            2.2\n",
      "petal_length           4.5\n",
      "petal_width            1.5\n",
      "species         versicolor\n",
      "Name: 68, dtype: object\n",
      "69 sepal_length           5.6\n",
      "sepal_width            2.5\n",
      "petal_length           3.9\n",
      "petal_width            1.1\n",
      "species         versicolor\n",
      "Name: 69, dtype: object\n",
      "70 sepal_length           5.9\n",
      "sepal_width            3.2\n",
      "petal_length           4.8\n",
      "petal_width            1.8\n",
      "species         versicolor\n",
      "Name: 70, dtype: object\n",
      "71 sepal_length           6.1\n",
      "sepal_width            2.8\n",
      "petal_length           4.0\n",
      "petal_width            1.3\n",
      "species         versicolor\n",
      "Name: 71, dtype: object\n",
      "72 sepal_length           6.3\n",
      "sepal_width            2.5\n",
      "petal_length           4.9\n",
      "petal_width            1.5\n",
      "species         versicolor\n",
      "Name: 72, dtype: object\n",
      "73 sepal_length           6.1\n",
      "sepal_width            2.8\n",
      "petal_length           4.7\n",
      "petal_width            1.2\n",
      "species         versicolor\n",
      "Name: 73, dtype: object\n",
      "74 sepal_length           6.4\n",
      "sepal_width            2.9\n",
      "petal_length           4.3\n",
      "petal_width            1.3\n",
      "species         versicolor\n",
      "Name: 74, dtype: object\n",
      "75 sepal_length           6.6\n",
      "sepal_width            3.0\n",
      "petal_length           4.4\n",
      "petal_width            1.4\n",
      "species         versicolor\n",
      "Name: 75, dtype: object\n",
      "76 sepal_length           6.8\n",
      "sepal_width            2.8\n",
      "petal_length           4.8\n",
      "petal_width            1.4\n",
      "species         versicolor\n",
      "Name: 76, dtype: object\n",
      "77 sepal_length           6.7\n",
      "sepal_width            3.0\n",
      "petal_length           5.0\n",
      "petal_width            1.7\n",
      "species         versicolor\n",
      "Name: 77, dtype: object\n",
      "78 sepal_length           6.0\n",
      "sepal_width            2.9\n",
      "petal_length           4.5\n",
      "petal_width            1.5\n",
      "species         versicolor\n",
      "Name: 78, dtype: object\n",
      "79 sepal_length           5.7\n",
      "sepal_width            2.6\n",
      "petal_length           3.5\n",
      "petal_width            1.0\n",
      "species         versicolor\n",
      "Name: 79, dtype: object\n",
      "80 sepal_length           5.5\n",
      "sepal_width            2.4\n",
      "petal_length           3.8\n",
      "petal_width            1.1\n",
      "species         versicolor\n",
      "Name: 80, dtype: object\n",
      "81 sepal_length           5.5\n",
      "sepal_width            2.4\n",
      "petal_length           3.7\n",
      "petal_width            1.0\n",
      "species         versicolor\n",
      "Name: 81, dtype: object\n",
      "82 sepal_length           5.8\n",
      "sepal_width            2.7\n",
      "petal_length           3.9\n",
      "petal_width            1.2\n",
      "species         versicolor\n",
      "Name: 82, dtype: object\n",
      "83 sepal_length           6.0\n",
      "sepal_width            2.7\n",
      "petal_length           5.1\n",
      "petal_width            1.6\n",
      "species         versicolor\n",
      "Name: 83, dtype: object\n",
      "84 sepal_length           5.4\n",
      "sepal_width            3.0\n",
      "petal_length           4.5\n",
      "petal_width            1.5\n",
      "species         versicolor\n",
      "Name: 84, dtype: object\n",
      "85 sepal_length           6.0\n",
      "sepal_width            3.4\n",
      "petal_length           4.5\n",
      "petal_width            1.6\n",
      "species         versicolor\n",
      "Name: 85, dtype: object\n",
      "86 sepal_length           6.7\n",
      "sepal_width            3.1\n",
      "petal_length           4.7\n",
      "petal_width            1.5\n",
      "species         versicolor\n",
      "Name: 86, dtype: object\n",
      "87 sepal_length           6.3\n",
      "sepal_width            2.3\n",
      "petal_length           4.4\n",
      "petal_width            1.3\n",
      "species         versicolor\n",
      "Name: 87, dtype: object\n",
      "88 sepal_length           5.6\n",
      "sepal_width            3.0\n",
      "petal_length           4.1\n",
      "petal_width            1.3\n",
      "species         versicolor\n",
      "Name: 88, dtype: object\n"
     ]
    },
    {
     "name": "stdout",
     "output_type": "stream",
     "text": [
      "89 sepal_length           5.5\n",
      "sepal_width            2.5\n",
      "petal_length           4.0\n",
      "petal_width            1.3\n",
      "species         versicolor\n",
      "Name: 89, dtype: object\n",
      "90 sepal_length           5.5\n",
      "sepal_width            2.6\n",
      "petal_length           4.4\n",
      "petal_width            1.2\n",
      "species         versicolor\n",
      "Name: 90, dtype: object\n",
      "91 sepal_length           6.1\n",
      "sepal_width            3.0\n",
      "petal_length           4.6\n",
      "petal_width            1.4\n",
      "species         versicolor\n",
      "Name: 91, dtype: object\n",
      "92 sepal_length           5.8\n",
      "sepal_width            2.6\n",
      "petal_length           4.0\n",
      "petal_width            1.2\n",
      "species         versicolor\n",
      "Name: 92, dtype: object\n",
      "93 sepal_length           5.0\n",
      "sepal_width            2.3\n",
      "petal_length           3.3\n",
      "petal_width            1.0\n",
      "species         versicolor\n",
      "Name: 93, dtype: object\n",
      "94 sepal_length           5.6\n",
      "sepal_width            2.7\n",
      "petal_length           4.2\n",
      "petal_width            1.3\n",
      "species         versicolor\n",
      "Name: 94, dtype: object\n",
      "95 sepal_length           5.7\n",
      "sepal_width            3.0\n",
      "petal_length           4.2\n",
      "petal_width            1.2\n",
      "species         versicolor\n",
      "Name: 95, dtype: object\n",
      "96 sepal_length           5.7\n",
      "sepal_width            2.9\n",
      "petal_length           4.2\n",
      "petal_width            1.3\n",
      "species         versicolor\n",
      "Name: 96, dtype: object\n",
      "97 sepal_length           6.2\n",
      "sepal_width            2.9\n",
      "petal_length           4.3\n",
      "petal_width            1.3\n",
      "species         versicolor\n",
      "Name: 97, dtype: object\n",
      "98 sepal_length           5.1\n",
      "sepal_width            2.5\n",
      "petal_length           3.0\n",
      "petal_width            1.1\n",
      "species         versicolor\n",
      "Name: 98, dtype: object\n",
      "99 sepal_length           5.7\n",
      "sepal_width            2.8\n",
      "petal_length           4.1\n",
      "petal_width            1.3\n",
      "species         versicolor\n",
      "Name: 99, dtype: object\n",
      "100 sepal_length          6.3\n",
      "sepal_width           3.3\n",
      "petal_length          6.0\n",
      "petal_width           2.5\n",
      "species         virginica\n",
      "Name: 100, dtype: object\n",
      "101 sepal_length          5.8\n",
      "sepal_width           2.7\n",
      "petal_length          5.1\n",
      "petal_width           1.9\n",
      "species         virginica\n",
      "Name: 101, dtype: object\n",
      "102 sepal_length          7.1\n",
      "sepal_width           3.0\n",
      "petal_length          5.9\n",
      "petal_width           2.1\n",
      "species         virginica\n",
      "Name: 102, dtype: object\n",
      "103 sepal_length          6.3\n",
      "sepal_width           2.9\n",
      "petal_length          5.6\n",
      "petal_width           1.8\n",
      "species         virginica\n",
      "Name: 103, dtype: object\n",
      "104 sepal_length          6.5\n",
      "sepal_width           3.0\n",
      "petal_length          5.8\n",
      "petal_width           2.2\n",
      "species         virginica\n",
      "Name: 104, dtype: object\n",
      "105 sepal_length          7.6\n",
      "sepal_width           3.0\n",
      "petal_length          6.6\n",
      "petal_width           2.1\n",
      "species         virginica\n",
      "Name: 105, dtype: object\n",
      "106 sepal_length          4.9\n",
      "sepal_width           2.5\n",
      "petal_length          4.5\n",
      "petal_width           1.7\n",
      "species         virginica\n",
      "Name: 106, dtype: object\n",
      "107 sepal_length          7.3\n",
      "sepal_width           2.9\n",
      "petal_length          6.3\n",
      "petal_width           1.8\n",
      "species         virginica\n",
      "Name: 107, dtype: object\n",
      "108 sepal_length          6.7\n",
      "sepal_width           2.5\n",
      "petal_length          5.8\n",
      "petal_width           1.8\n",
      "species         virginica\n",
      "Name: 108, dtype: object\n",
      "109 sepal_length          7.2\n",
      "sepal_width           3.6\n",
      "petal_length          6.1\n",
      "petal_width           2.5\n",
      "species         virginica\n",
      "Name: 109, dtype: object\n",
      "110 sepal_length          6.5\n",
      "sepal_width           3.2\n",
      "petal_length          5.1\n",
      "petal_width           2.0\n",
      "species         virginica\n",
      "Name: 110, dtype: object\n",
      "111 sepal_length          6.4\n",
      "sepal_width           2.7\n",
      "petal_length          5.3\n",
      "petal_width           1.9\n",
      "species         virginica\n",
      "Name: 111, dtype: object\n",
      "112 sepal_length          6.8\n",
      "sepal_width           3.0\n",
      "petal_length          5.5\n",
      "petal_width           2.1\n",
      "species         virginica\n",
      "Name: 112, dtype: object\n",
      "113 sepal_length          5.7\n",
      "sepal_width           2.5\n",
      "petal_length          5.0\n",
      "petal_width           2.0\n",
      "species         virginica\n",
      "Name: 113, dtype: object\n",
      "114 sepal_length          5.8\n",
      "sepal_width           2.8\n",
      "petal_length          5.1\n",
      "petal_width           2.4\n",
      "species         virginica\n",
      "Name: 114, dtype: object\n",
      "115 sepal_length          6.4\n",
      "sepal_width           3.2\n",
      "petal_length          5.3\n",
      "petal_width           2.3\n",
      "species         virginica\n",
      "Name: 115, dtype: object\n",
      "116 sepal_length          6.5\n",
      "sepal_width           3.0\n",
      "petal_length          5.5\n",
      "petal_width           1.8\n",
      "species         virginica\n",
      "Name: 116, dtype: object\n",
      "117 sepal_length          7.7\n",
      "sepal_width           3.8\n",
      "petal_length          6.7\n",
      "petal_width           2.2\n",
      "species         virginica\n",
      "Name: 117, dtype: object\n",
      "118 sepal_length          7.7\n",
      "sepal_width           2.6\n",
      "petal_length          6.9\n",
      "petal_width           2.3\n",
      "species         virginica\n",
      "Name: 118, dtype: object\n",
      "119 sepal_length          6.0\n",
      "sepal_width           2.2\n",
      "petal_length          5.0\n",
      "petal_width           1.5\n",
      "species         virginica\n",
      "Name: 119, dtype: object\n",
      "120 sepal_length          6.9\n",
      "sepal_width           3.2\n",
      "petal_length          5.7\n",
      "petal_width           2.3\n",
      "species         virginica\n",
      "Name: 120, dtype: object\n",
      "121 sepal_length          5.6\n",
      "sepal_width           2.8\n",
      "petal_length          4.9\n",
      "petal_width           2.0\n",
      "species         virginica\n",
      "Name: 121, dtype: object\n",
      "122 sepal_length          7.7\n",
      "sepal_width           2.8\n",
      "petal_length          6.7\n",
      "petal_width           2.0\n",
      "species         virginica\n",
      "Name: 122, dtype: object\n",
      "123 sepal_length          6.3\n",
      "sepal_width           2.7\n",
      "petal_length          4.9\n",
      "petal_width           1.8\n",
      "species         virginica\n",
      "Name: 123, dtype: object\n",
      "124 sepal_length          6.7\n",
      "sepal_width           3.3\n",
      "petal_length          5.7\n",
      "petal_width           2.1\n",
      "species         virginica\n",
      "Name: 124, dtype: object\n",
      "125 sepal_length          7.2\n",
      "sepal_width           3.2\n",
      "petal_length          6.0\n",
      "petal_width           1.8\n",
      "species         virginica\n",
      "Name: 125, dtype: object\n",
      "126 sepal_length          6.2\n",
      "sepal_width           2.8\n",
      "petal_length          4.8\n",
      "petal_width           1.8\n",
      "species         virginica\n",
      "Name: 126, dtype: object\n",
      "127 sepal_length          6.1\n",
      "sepal_width           3.0\n",
      "petal_length          4.9\n",
      "petal_width           1.8\n",
      "species         virginica\n",
      "Name: 127, dtype: object\n",
      "128 sepal_length          6.4\n",
      "sepal_width           2.8\n",
      "petal_length          5.6\n",
      "petal_width           2.1\n",
      "species         virginica\n",
      "Name: 128, dtype: object\n",
      "129 sepal_length          7.2\n",
      "sepal_width           3.0\n",
      "petal_length          5.8\n",
      "petal_width           1.6\n",
      "species         virginica\n",
      "Name: 129, dtype: object\n",
      "130 sepal_length          7.4\n",
      "sepal_width           2.8\n",
      "petal_length          6.1\n",
      "petal_width           1.9\n",
      "species         virginica\n",
      "Name: 130, dtype: object\n",
      "131 sepal_length          7.9\n",
      "sepal_width           3.8\n",
      "petal_length          6.4\n",
      "petal_width           2.0\n",
      "species         virginica\n",
      "Name: 131, dtype: object\n",
      "132 sepal_length          6.4\n",
      "sepal_width           2.8\n",
      "petal_length          5.6\n",
      "petal_width           2.2\n",
      "species         virginica\n",
      "Name: 132, dtype: object\n",
      "133 sepal_length          6.3\n",
      "sepal_width           2.8\n",
      "petal_length          5.1\n",
      "petal_width           1.5\n",
      "species         virginica\n",
      "Name: 133, dtype: object\n",
      "134 sepal_length          6.1\n",
      "sepal_width           2.6\n",
      "petal_length          5.6\n",
      "petal_width           1.4\n",
      "species         virginica\n",
      "Name: 134, dtype: object\n",
      "135 sepal_length          7.7\n",
      "sepal_width           3.0\n",
      "petal_length          6.1\n",
      "petal_width           2.3\n",
      "species         virginica\n",
      "Name: 135, dtype: object\n",
      "136 sepal_length          6.3\n",
      "sepal_width           3.4\n",
      "petal_length          5.6\n",
      "petal_width           2.4\n",
      "species         virginica\n",
      "Name: 136, dtype: object\n",
      "137 sepal_length          6.4\n",
      "sepal_width           3.1\n",
      "petal_length          5.5\n",
      "petal_width           1.8\n",
      "species         virginica\n",
      "Name: 137, dtype: object\n",
      "138 sepal_length          6.0\n",
      "sepal_width           3.0\n",
      "petal_length          4.8\n",
      "petal_width           1.8\n",
      "species         virginica\n",
      "Name: 138, dtype: object\n",
      "139 sepal_length          6.9\n",
      "sepal_width           3.1\n",
      "petal_length          5.4\n",
      "petal_width           2.1\n",
      "species         virginica\n",
      "Name: 139, dtype: object\n",
      "140 sepal_length          6.7\n",
      "sepal_width           3.1\n",
      "petal_length          5.6\n",
      "petal_width           2.4\n",
      "species         virginica\n",
      "Name: 140, dtype: object\n",
      "141 sepal_length          6.9\n",
      "sepal_width           3.1\n",
      "petal_length          5.1\n",
      "petal_width           2.3\n",
      "species         virginica\n",
      "Name: 141, dtype: object\n",
      "142 sepal_length          5.8\n",
      "sepal_width           2.7\n",
      "petal_length          5.1\n",
      "petal_width           1.9\n",
      "species         virginica\n",
      "Name: 142, dtype: object\n",
      "143 sepal_length          6.8\n",
      "sepal_width           3.2\n",
      "petal_length          5.9\n",
      "petal_width           2.3\n",
      "species         virginica\n",
      "Name: 143, dtype: object\n",
      "144 sepal_length          6.7\n",
      "sepal_width           3.3\n",
      "petal_length          5.7\n",
      "petal_width           2.5\n",
      "species         virginica\n",
      "Name: 144, dtype: object\n",
      "145 sepal_length          6.7\n",
      "sepal_width           3.0\n",
      "petal_length          5.2\n",
      "petal_width           2.3\n",
      "species         virginica\n",
      "Name: 145, dtype: object\n",
      "146 sepal_length          6.3\n",
      "sepal_width           2.5\n",
      "petal_length          5.0\n",
      "petal_width           1.9\n",
      "species         virginica\n",
      "Name: 146, dtype: object\n",
      "147 sepal_length          6.5\n",
      "sepal_width           3.0\n",
      "petal_length          5.2\n",
      "petal_width           2.0\n",
      "species         virginica\n",
      "Name: 147, dtype: object\n",
      "148 sepal_length          6.2\n",
      "sepal_width           3.4\n",
      "petal_length          5.4\n",
      "petal_width           2.3\n",
      "species         virginica\n",
      "Name: 148, dtype: object\n",
      "149 sepal_length          5.9\n",
      "sepal_width           3.0\n",
      "petal_length          5.1\n",
      "petal_width           1.8\n",
      "species         virginica\n",
      "Name: 149, dtype: object\n"
     ]
    }
   ],
   "source": [
    "for i,j in iris.iterrows():\n",
    "    print(i,j)"
   ]
  },
  {
   "cell_type": "markdown",
   "id": "89bb1ae1",
   "metadata": {},
   "source": [
    "* **Iterating over Columns** :In order to iterate over columns, we need to create a list of dataframe columns and then iterate through that list to pull out the dataframe columns."
   ]
  },
  {
   "cell_type": "code",
   "execution_count": 71,
   "id": "65ff3e9d",
   "metadata": {},
   "outputs": [
    {
     "data": {
      "text/plain": [
       "['sepal_length', 'sepal_width', 'petal_length', 'petal_width', 'species']"
      ]
     },
     "execution_count": 71,
     "metadata": {},
     "output_type": "execute_result"
    }
   ],
   "source": [
    "list(iris)"
   ]
  },
  {
   "cell_type": "code",
   "execution_count": 72,
   "id": "8e03f6f7",
   "metadata": {
    "scrolled": true
   },
   "outputs": [
    {
     "name": "stdout",
     "output_type": "stream",
     "text": [
      "4.7\n",
      "3.2\n",
      "1.3\n",
      "0.2\n",
      "setosa\n"
     ]
    }
   ],
   "source": [
    "for i in list(iris):\n",
    "    print(iris[i][2])    #print details of 3rd record"
   ]
  },
  {
   "cell_type": "markdown",
   "id": "63b604d1",
   "metadata": {},
   "source": [
    "**which is same as**"
   ]
  },
  {
   "cell_type": "code",
   "execution_count": 73,
   "id": "7a3eebc8",
   "metadata": {},
   "outputs": [
    {
     "data": {
      "text/plain": [
       "sepal_length       4.7\n",
       "sepal_width        3.2\n",
       "petal_length       1.3\n",
       "petal_width        0.2\n",
       "species         setosa\n",
       "Name: 2, dtype: object"
      ]
     },
     "execution_count": 73,
     "metadata": {},
     "output_type": "execute_result"
    }
   ],
   "source": [
    "iris.loc[2]"
   ]
  },
  {
   "cell_type": "markdown",
   "id": "817c0af6",
   "metadata": {},
   "source": [
    "### 1.2.5 Miscellaneous Dataframe Operations"
   ]
  },
  {
   "cell_type": "markdown",
   "id": "4fa612ef",
   "metadata": {},
   "source": [
    "* **First 5 Entries**"
   ]
  },
  {
   "cell_type": "code",
   "execution_count": 74,
   "id": "6030d00f",
   "metadata": {},
   "outputs": [
    {
     "data": {
      "text/html": [
       "<div>\n",
       "<style scoped>\n",
       "    .dataframe tbody tr th:only-of-type {\n",
       "        vertical-align: middle;\n",
       "    }\n",
       "\n",
       "    .dataframe tbody tr th {\n",
       "        vertical-align: top;\n",
       "    }\n",
       "\n",
       "    .dataframe thead th {\n",
       "        text-align: right;\n",
       "    }\n",
       "</style>\n",
       "<table border=\"1\" class=\"dataframe\">\n",
       "  <thead>\n",
       "    <tr style=\"text-align: right;\">\n",
       "      <th></th>\n",
       "      <th>sepal_length</th>\n",
       "      <th>sepal_width</th>\n",
       "      <th>petal_length</th>\n",
       "      <th>petal_width</th>\n",
       "      <th>species</th>\n",
       "    </tr>\n",
       "  </thead>\n",
       "  <tbody>\n",
       "    <tr>\n",
       "      <th>0</th>\n",
       "      <td>5.1</td>\n",
       "      <td>3.5</td>\n",
       "      <td>1.4</td>\n",
       "      <td>0.2</td>\n",
       "      <td>setosa</td>\n",
       "    </tr>\n",
       "    <tr>\n",
       "      <th>1</th>\n",
       "      <td>4.9</td>\n",
       "      <td>3.0</td>\n",
       "      <td>1.4</td>\n",
       "      <td>0.2</td>\n",
       "      <td>setosa</td>\n",
       "    </tr>\n",
       "    <tr>\n",
       "      <th>2</th>\n",
       "      <td>4.7</td>\n",
       "      <td>3.2</td>\n",
       "      <td>1.3</td>\n",
       "      <td>0.2</td>\n",
       "      <td>setosa</td>\n",
       "    </tr>\n",
       "    <tr>\n",
       "      <th>3</th>\n",
       "      <td>4.6</td>\n",
       "      <td>3.1</td>\n",
       "      <td>1.5</td>\n",
       "      <td>0.2</td>\n",
       "      <td>setosa</td>\n",
       "    </tr>\n",
       "    <tr>\n",
       "      <th>4</th>\n",
       "      <td>5.0</td>\n",
       "      <td>3.6</td>\n",
       "      <td>1.4</td>\n",
       "      <td>0.2</td>\n",
       "      <td>setosa</td>\n",
       "    </tr>\n",
       "  </tbody>\n",
       "</table>\n",
       "</div>"
      ],
      "text/plain": [
       "   sepal_length  sepal_width  petal_length  petal_width species\n",
       "0           5.1          3.5           1.4          0.2  setosa\n",
       "1           4.9          3.0           1.4          0.2  setosa\n",
       "2           4.7          3.2           1.3          0.2  setosa\n",
       "3           4.6          3.1           1.5          0.2  setosa\n",
       "4           5.0          3.6           1.4          0.2  setosa"
      ]
     },
     "execution_count": 74,
     "metadata": {},
     "output_type": "execute_result"
    }
   ],
   "source": [
    "iris.head() "
   ]
  },
  {
   "cell_type": "markdown",
   "id": "7779b374",
   "metadata": {},
   "source": [
    "* **Last 5 entries**"
   ]
  },
  {
   "cell_type": "code",
   "execution_count": 75,
   "id": "6216bfd2",
   "metadata": {},
   "outputs": [
    {
     "data": {
      "text/html": [
       "<div>\n",
       "<style scoped>\n",
       "    .dataframe tbody tr th:only-of-type {\n",
       "        vertical-align: middle;\n",
       "    }\n",
       "\n",
       "    .dataframe tbody tr th {\n",
       "        vertical-align: top;\n",
       "    }\n",
       "\n",
       "    .dataframe thead th {\n",
       "        text-align: right;\n",
       "    }\n",
       "</style>\n",
       "<table border=\"1\" class=\"dataframe\">\n",
       "  <thead>\n",
       "    <tr style=\"text-align: right;\">\n",
       "      <th></th>\n",
       "      <th>sepal_length</th>\n",
       "      <th>sepal_width</th>\n",
       "      <th>petal_length</th>\n",
       "      <th>petal_width</th>\n",
       "      <th>species</th>\n",
       "    </tr>\n",
       "  </thead>\n",
       "  <tbody>\n",
       "    <tr>\n",
       "      <th>145</th>\n",
       "      <td>6.7</td>\n",
       "      <td>3.0</td>\n",
       "      <td>5.2</td>\n",
       "      <td>2.3</td>\n",
       "      <td>virginica</td>\n",
       "    </tr>\n",
       "    <tr>\n",
       "      <th>146</th>\n",
       "      <td>6.3</td>\n",
       "      <td>2.5</td>\n",
       "      <td>5.0</td>\n",
       "      <td>1.9</td>\n",
       "      <td>virginica</td>\n",
       "    </tr>\n",
       "    <tr>\n",
       "      <th>147</th>\n",
       "      <td>6.5</td>\n",
       "      <td>3.0</td>\n",
       "      <td>5.2</td>\n",
       "      <td>2.0</td>\n",
       "      <td>virginica</td>\n",
       "    </tr>\n",
       "    <tr>\n",
       "      <th>148</th>\n",
       "      <td>6.2</td>\n",
       "      <td>3.4</td>\n",
       "      <td>5.4</td>\n",
       "      <td>2.3</td>\n",
       "      <td>virginica</td>\n",
       "    </tr>\n",
       "    <tr>\n",
       "      <th>149</th>\n",
       "      <td>5.9</td>\n",
       "      <td>3.0</td>\n",
       "      <td>5.1</td>\n",
       "      <td>1.8</td>\n",
       "      <td>virginica</td>\n",
       "    </tr>\n",
       "  </tbody>\n",
       "</table>\n",
       "</div>"
      ],
      "text/plain": [
       "     sepal_length  sepal_width  petal_length  petal_width    species\n",
       "145           6.7          3.0           5.2          2.3  virginica\n",
       "146           6.3          2.5           5.0          1.9  virginica\n",
       "147           6.5          3.0           5.2          2.0  virginica\n",
       "148           6.2          3.4           5.4          2.3  virginica\n",
       "149           5.9          3.0           5.1          1.8  virginica"
      ]
     },
     "execution_count": 75,
     "metadata": {},
     "output_type": "execute_result"
    }
   ],
   "source": [
    "iris.tail()  "
   ]
  },
  {
   "cell_type": "markdown",
   "id": "d79e6bd7",
   "metadata": {},
   "source": [
    "* **Descriptive statistics.**"
   ]
  },
  {
   "cell_type": "code",
   "execution_count": 76,
   "id": "379010a9",
   "metadata": {},
   "outputs": [
    {
     "data": {
      "text/html": [
       "<div>\n",
       "<style scoped>\n",
       "    .dataframe tbody tr th:only-of-type {\n",
       "        vertical-align: middle;\n",
       "    }\n",
       "\n",
       "    .dataframe tbody tr th {\n",
       "        vertical-align: top;\n",
       "    }\n",
       "\n",
       "    .dataframe thead th {\n",
       "        text-align: right;\n",
       "    }\n",
       "</style>\n",
       "<table border=\"1\" class=\"dataframe\">\n",
       "  <thead>\n",
       "    <tr style=\"text-align: right;\">\n",
       "      <th></th>\n",
       "      <th>sepal_length</th>\n",
       "      <th>sepal_width</th>\n",
       "      <th>petal_length</th>\n",
       "      <th>petal_width</th>\n",
       "    </tr>\n",
       "  </thead>\n",
       "  <tbody>\n",
       "    <tr>\n",
       "      <th>count</th>\n",
       "      <td>150.000000</td>\n",
       "      <td>150.000000</td>\n",
       "      <td>150.000000</td>\n",
       "      <td>150.000000</td>\n",
       "    </tr>\n",
       "    <tr>\n",
       "      <th>mean</th>\n",
       "      <td>5.843333</td>\n",
       "      <td>3.057333</td>\n",
       "      <td>3.758000</td>\n",
       "      <td>1.199333</td>\n",
       "    </tr>\n",
       "    <tr>\n",
       "      <th>std</th>\n",
       "      <td>0.828066</td>\n",
       "      <td>0.435866</td>\n",
       "      <td>1.765298</td>\n",
       "      <td>0.762238</td>\n",
       "    </tr>\n",
       "    <tr>\n",
       "      <th>min</th>\n",
       "      <td>4.300000</td>\n",
       "      <td>2.000000</td>\n",
       "      <td>1.000000</td>\n",
       "      <td>0.100000</td>\n",
       "    </tr>\n",
       "    <tr>\n",
       "      <th>25%</th>\n",
       "      <td>5.100000</td>\n",
       "      <td>2.800000</td>\n",
       "      <td>1.600000</td>\n",
       "      <td>0.300000</td>\n",
       "    </tr>\n",
       "    <tr>\n",
       "      <th>50%</th>\n",
       "      <td>5.800000</td>\n",
       "      <td>3.000000</td>\n",
       "      <td>4.350000</td>\n",
       "      <td>1.300000</td>\n",
       "    </tr>\n",
       "    <tr>\n",
       "      <th>75%</th>\n",
       "      <td>6.400000</td>\n",
       "      <td>3.300000</td>\n",
       "      <td>5.100000</td>\n",
       "      <td>1.800000</td>\n",
       "    </tr>\n",
       "    <tr>\n",
       "      <th>max</th>\n",
       "      <td>7.900000</td>\n",
       "      <td>4.400000</td>\n",
       "      <td>6.900000</td>\n",
       "      <td>2.500000</td>\n",
       "    </tr>\n",
       "  </tbody>\n",
       "</table>\n",
       "</div>"
      ],
      "text/plain": [
       "       sepal_length  sepal_width  petal_length  petal_width\n",
       "count    150.000000   150.000000    150.000000   150.000000\n",
       "mean       5.843333     3.057333      3.758000     1.199333\n",
       "std        0.828066     0.435866      1.765298     0.762238\n",
       "min        4.300000     2.000000      1.000000     0.100000\n",
       "25%        5.100000     2.800000      1.600000     0.300000\n",
       "50%        5.800000     3.000000      4.350000     1.300000\n",
       "75%        6.400000     3.300000      5.100000     1.800000\n",
       "max        7.900000     4.400000      6.900000     2.500000"
      ]
     },
     "execution_count": 76,
     "metadata": {},
     "output_type": "execute_result"
    }
   ],
   "source": [
    "iris.describe()  "
   ]
  },
  {
   "cell_type": "code",
   "execution_count": 77,
   "id": "6f6c5473",
   "metadata": {},
   "outputs": [
    {
     "data": {
      "text/plain": [
       "RangeIndex(start=0, stop=150, step=1)"
      ]
     },
     "execution_count": 77,
     "metadata": {},
     "output_type": "execute_result"
    }
   ],
   "source": [
    "iris.index  #The index (row labels) of the DataFrame."
   ]
  },
  {
   "cell_type": "code",
   "execution_count": 78,
   "id": "a8e3fc1d",
   "metadata": {},
   "outputs": [
    {
     "data": {
      "text/plain": [
       "Index(['sepal_length', 'sepal_width', 'petal_length', 'petal_width',\n",
       "       'species'],\n",
       "      dtype='object')"
      ]
     },
     "execution_count": 78,
     "metadata": {},
     "output_type": "execute_result"
    }
   ],
   "source": [
    "iris.columns #The column labels of the DataFrame."
   ]
  },
  {
   "cell_type": "markdown",
   "id": "02245320",
   "metadata": {},
   "source": [
    "**OR**"
   ]
  },
  {
   "cell_type": "code",
   "execution_count": 79,
   "id": "13eb36b8",
   "metadata": {},
   "outputs": [
    {
     "data": {
      "text/plain": [
       "['sepal_length', 'sepal_width', 'petal_length', 'petal_width', 'species']"
      ]
     },
     "execution_count": 79,
     "metadata": {},
     "output_type": "execute_result"
    }
   ],
   "source": [
    "list(iris)"
   ]
  },
  {
   "cell_type": "markdown",
   "id": "09094ef4",
   "metadata": {},
   "source": [
    "Use `sorted(df)` to get column names in alphabetical order."
   ]
  },
  {
   "cell_type": "markdown",
   "id": "fc7da0fd",
   "metadata": {},
   "source": [
    "* **No. of Columns**"
   ]
  },
  {
   "cell_type": "code",
   "execution_count": 80,
   "id": "ad1f7cc2",
   "metadata": {},
   "outputs": [
    {
     "data": {
      "text/plain": [
       "5"
      ]
     },
     "execution_count": 80,
     "metadata": {},
     "output_type": "execute_result"
    }
   ],
   "source": [
    "len(iris.columns)  "
   ]
  },
  {
   "cell_type": "markdown",
   "id": "4a0a23af",
   "metadata": {},
   "source": [
    "* **No. of Rows**"
   ]
  },
  {
   "cell_type": "code",
   "execution_count": 81,
   "id": "c5fd02aa",
   "metadata": {},
   "outputs": [
    {
     "data": {
      "text/plain": [
       "150"
      ]
     },
     "execution_count": 81,
     "metadata": {},
     "output_type": "execute_result"
    }
   ],
   "source": [
    "len(iris)  #no. of rows in dataframe"
   ]
  },
  {
   "cell_type": "markdown",
   "id": "46be04be",
   "metadata": {},
   "source": [
    "* **Concise summary of a DataFrame.**"
   ]
  },
  {
   "cell_type": "code",
   "execution_count": 82,
   "id": "8023b51b",
   "metadata": {},
   "outputs": [
    {
     "name": "stdout",
     "output_type": "stream",
     "text": [
      "<class 'pandas.core.frame.DataFrame'>\n",
      "RangeIndex: 150 entries, 0 to 149\n",
      "Data columns (total 5 columns):\n",
      " #   Column        Non-Null Count  Dtype  \n",
      "---  ------        --------------  -----  \n",
      " 0   sepal_length  150 non-null    float64\n",
      " 1   sepal_width   150 non-null    float64\n",
      " 2   petal_length  150 non-null    float64\n",
      " 3   petal_width   150 non-null    float64\n",
      " 4   species       150 non-null    object \n",
      "dtypes: float64(4), object(1)\n",
      "memory usage: 6.0+ KB\n"
     ]
    }
   ],
   "source": [
    "iris.info()  "
   ]
  },
  {
   "cell_type": "markdown",
   "id": "bdf14fe3",
   "metadata": {},
   "source": [
    "* **Datatypes of DataFrame**"
   ]
  },
  {
   "cell_type": "code",
   "execution_count": 83,
   "id": "991866e8",
   "metadata": {},
   "outputs": [
    {
     "data": {
      "text/plain": [
       "sepal_length    float64\n",
       "sepal_width     float64\n",
       "petal_length    float64\n",
       "petal_width     float64\n",
       "species          object\n",
       "dtype: object"
      ]
     },
     "execution_count": 83,
     "metadata": {},
     "output_type": "execute_result"
    }
   ],
   "source": [
    "iris.dtypes  "
   ]
  },
  {
   "cell_type": "markdown",
   "id": "39d17703",
   "metadata": {},
   "source": [
    "* **Numpy Representation of DataFrame**"
   ]
  },
  {
   "cell_type": "code",
   "execution_count": 84,
   "id": "ec27481f",
   "metadata": {},
   "outputs": [
    {
     "data": {
      "text/plain": [
       "array([[5.1, 3.5, 1.4, 0.2, 'setosa'],\n",
       "       [4.9, 3.0, 1.4, 0.2, 'setosa'],\n",
       "       [4.7, 3.2, 1.3, 0.2, 'setosa'],\n",
       "       [4.6, 3.1, 1.5, 0.2, 'setosa'],\n",
       "       [5.0, 3.6, 1.4, 0.2, 'setosa']], dtype=object)"
      ]
     },
     "execution_count": 84,
     "metadata": {},
     "output_type": "execute_result"
    }
   ],
   "source": [
    "iris.values[:5]  "
   ]
  },
  {
   "cell_type": "code",
   "execution_count": 85,
   "id": "441ced09",
   "metadata": {},
   "outputs": [
    {
     "data": {
      "text/plain": [
       "numpy.ndarray"
      ]
     },
     "execution_count": 85,
     "metadata": {},
     "output_type": "execute_result"
    }
   ],
   "source": [
    "type(iris.values[:5])"
   ]
  },
  {
   "cell_type": "code",
   "execution_count": 86,
   "id": "33e519a4",
   "metadata": {},
   "outputs": [
    {
     "data": {
      "text/plain": [
       "2"
      ]
     },
     "execution_count": 86,
     "metadata": {},
     "output_type": "execute_result"
    }
   ],
   "source": [
    "iris.ndim #Return an int representing the number of axes / array dimensions."
   ]
  },
  {
   "cell_type": "code",
   "execution_count": 87,
   "id": "deb9753a",
   "metadata": {},
   "outputs": [
    {
     "data": {
      "text/plain": [
       "750"
      ]
     },
     "execution_count": 87,
     "metadata": {},
     "output_type": "execute_result"
    }
   ],
   "source": [
    "iris.size  #Return an int representing the number of elements in this object."
   ]
  },
  {
   "cell_type": "code",
   "execution_count": 88,
   "id": "15047fec",
   "metadata": {},
   "outputs": [
    {
     "data": {
      "text/plain": [
       "Index            128\n",
       "sepal_length    1200\n",
       "sepal_width     1200\n",
       "petal_length    1200\n",
       "petal_width     1200\n",
       "species         1200\n",
       "dtype: int64"
      ]
     },
     "execution_count": 88,
     "metadata": {},
     "output_type": "execute_result"
    }
   ],
   "source": [
    "iris.memory_usage()   #Return the memory usage of each column in bytes."
   ]
  },
  {
   "cell_type": "markdown",
   "id": "b9c35a13",
   "metadata": {},
   "source": [
    "* **Convert to NumPy Array**\n",
    "\n",
    "DataFrame can be converted to NumPy ndarray with the help of `Dataframe.to_numpy()` method."
   ]
  },
  {
   "cell_type": "code",
   "execution_count": 89,
   "id": "1a357e51",
   "metadata": {},
   "outputs": [
    {
     "data": {
      "text/plain": [
       "array([[5.1, 3.5, 1.4, 0.2, 'setosa'],\n",
       "       [4.9, 3.0, 1.4, 0.2, 'setosa'],\n",
       "       [4.7, 3.2, 1.3, 0.2, 'setosa'],\n",
       "       [4.6, 3.1, 1.5, 0.2, 'setosa'],\n",
       "       [5.0, 3.6, 1.4, 0.2, 'setosa']], dtype=object)"
      ]
     },
     "execution_count": 89,
     "metadata": {},
     "output_type": "execute_result"
    }
   ],
   "source": [
    "iris.to_numpy()[:5]"
   ]
  },
  {
   "cell_type": "markdown",
   "id": "38a7ed6c",
   "metadata": {},
   "source": [
    "* **Accessing Specific Value**\n",
    "\n",
    "Pandas `at[]` is used to return data in a dataframe at the passed location. The passed location is in the format [position, Column Name]. This method works in a similar way to Pandas `loc[ ]` but `at[ ]` is used to return an only single value and hence works faster than it.\n",
    "\n",
    "*Note*\n",
    "\n",
    "1. Unlike, `DataFrame.loc[ ]`, this method only returns single value. Hence `DataFrame.at[3:6, label]` will return an error.\n",
    "2. Since this method only works for single values, it is faster than `DataFrame.loc[]` method."
   ]
  },
  {
   "cell_type": "code",
   "execution_count": 90,
   "id": "09ba89a6",
   "metadata": {},
   "outputs": [
    {
     "data": {
      "text/plain": [
       "'setosa'"
      ]
     },
     "execution_count": 90,
     "metadata": {},
     "output_type": "execute_result"
    }
   ],
   "source": [
    "iris.at[3,'species']"
   ]
  }
 ],
 "metadata": {
  "kernelspec": {
   "display_name": "Python 3",
   "language": "python",
   "name": "python3"
  },
  "language_info": {
   "codemirror_mode": {
    "name": "ipython",
    "version": 3
   },
   "file_extension": ".py",
   "mimetype": "text/x-python",
   "name": "python",
   "nbconvert_exporter": "python",
   "pygments_lexer": "ipython3",
   "version": "3.8.8"
  }
 },
 "nbformat": 4,
 "nbformat_minor": 5
}
