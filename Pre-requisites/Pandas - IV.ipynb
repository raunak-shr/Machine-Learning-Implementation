{
 "cells": [
  {
   "cell_type": "markdown",
   "id": "b53ce6f7",
   "metadata": {},
   "source": [
    "![pandas](https://i.redd.it/c6h7rok9c2v31.jpg)\n",
    "*By Shreeyansh Das, Source: gfg, Pandas Documentation*"
   ]
  },
  {
   "cell_type": "code",
   "execution_count": 1,
   "id": "7b8cd154",
   "metadata": {},
   "outputs": [],
   "source": [
    "import pandas as pd\n",
    "import numpy as np\n",
    "import seaborn as sns"
   ]
  },
  {
   "cell_type": "markdown",
   "id": "2019a9e2",
   "metadata": {},
   "source": [
    "# Working with CSV, Excel Files and JSON Files\n",
    "Opening a CSV file through pandasis easy. But there are many others thing one can do through this function only to change the returned object completely. For instance, one can read a csv file not only locally, but from a URL through `read_csv` or one can choose what columns are needed to export so that we don’t have to edit the array later."
   ]
  },
  {
   "cell_type": "markdown",
   "id": "1c95783f",
   "metadata": {},
   "source": [
    "## 1. <u>Reading CSV's</u>\n",
    "**Syntax:**\n",
    "\n",
    "`pd.read_csv(filepath_or_buffer, sep = ' ', delimiter = None, header = 'infer', names = None, index_col = None, usecols = None, squeeze = False, prefix = None, dtype=None, [etc....])`\n",
    "\n",
    "* `filepath_or_buffer` - URL or Dir location of file\n",
    "* `sep` - Stands for separator, default is ',' as in csv(comma separated values)\n",
    "* `index_col` - Makes passed column as index instead of 0, 1, 2, 3…, r\n",
    "* `header` - Makes passed row/s (int/int list) as header\n",
    "* `use_cols` - Only uses the passed col[string list] to make data frame\n",
    "* `squeeze` - If true and only one column is passed, returns pandas series\n",
    "* `skiprows` - Skips passed rows in new data frame"
   ]
  },
  {
   "cell_type": "code",
   "execution_count": 3,
   "id": "eebe242e",
   "metadata": {},
   "outputs": [],
   "source": [
    "airtravel = pd.read_csv(\"https://people.sc.fsu.edu/~jburkardt/data/csv/airtravel.csv\")"
   ]
  },
  {
   "cell_type": "code",
   "execution_count": 4,
   "id": "153319ee",
   "metadata": {},
   "outputs": [
    {
     "data": {
      "text/html": [
       "<div>\n",
       "<style scoped>\n",
       "    .dataframe tbody tr th:only-of-type {\n",
       "        vertical-align: middle;\n",
       "    }\n",
       "\n",
       "    .dataframe tbody tr th {\n",
       "        vertical-align: top;\n",
       "    }\n",
       "\n",
       "    .dataframe thead th {\n",
       "        text-align: right;\n",
       "    }\n",
       "</style>\n",
       "<table border=\"1\" class=\"dataframe\">\n",
       "  <thead>\n",
       "    <tr style=\"text-align: right;\">\n",
       "      <th></th>\n",
       "      <th>Month</th>\n",
       "      <th>\"1958\"</th>\n",
       "      <th>\"1959\"</th>\n",
       "      <th>\"1960\"</th>\n",
       "    </tr>\n",
       "  </thead>\n",
       "  <tbody>\n",
       "    <tr>\n",
       "      <th>0</th>\n",
       "      <td>JAN</td>\n",
       "      <td>340</td>\n",
       "      <td>360</td>\n",
       "      <td>417</td>\n",
       "    </tr>\n",
       "    <tr>\n",
       "      <th>1</th>\n",
       "      <td>FEB</td>\n",
       "      <td>318</td>\n",
       "      <td>342</td>\n",
       "      <td>391</td>\n",
       "    </tr>\n",
       "    <tr>\n",
       "      <th>2</th>\n",
       "      <td>MAR</td>\n",
       "      <td>362</td>\n",
       "      <td>406</td>\n",
       "      <td>419</td>\n",
       "    </tr>\n",
       "    <tr>\n",
       "      <th>3</th>\n",
       "      <td>APR</td>\n",
       "      <td>348</td>\n",
       "      <td>396</td>\n",
       "      <td>461</td>\n",
       "    </tr>\n",
       "    <tr>\n",
       "      <th>4</th>\n",
       "      <td>MAY</td>\n",
       "      <td>363</td>\n",
       "      <td>420</td>\n",
       "      <td>472</td>\n",
       "    </tr>\n",
       "  </tbody>\n",
       "</table>\n",
       "</div>"
      ],
      "text/plain": [
       "  Month   \"1958\"   \"1959\"   \"1960\"\n",
       "0   JAN      340      360      417\n",
       "1   FEB      318      342      391\n",
       "2   MAR      362      406      419\n",
       "3   APR      348      396      461\n",
       "4   MAY      363      420      472"
      ]
     },
     "execution_count": 4,
     "metadata": {},
     "output_type": "execute_result"
    }
   ],
   "source": [
    "airtravel.head(5)"
   ]
  },
  {
   "cell_type": "markdown",
   "id": "55522198",
   "metadata": {},
   "source": [
    "## 2. <u>Saving a Pandas DataFrame as CSV</u>\n"
   ]
  },
  {
   "cell_type": "markdown",
   "id": "ecd66d29",
   "metadata": {},
   "source": [
    "**Save CSV to Working Directory**"
   ]
  },
  {
   "cell_type": "code",
   "execution_count": 5,
   "id": "42d6c804",
   "metadata": {},
   "outputs": [],
   "source": [
    "iris = sns.load_dataset('iris')"
   ]
  },
  {
   "cell_type": "code",
   "execution_count": 6,
   "id": "b5819fe9",
   "metadata": {},
   "outputs": [],
   "source": [
    "iris.to_csv('Iris')"
   ]
  },
  {
   "cell_type": "markdown",
   "id": "ba7e1f85",
   "metadata": {},
   "source": [
    "**Saving CSV without headers and index**"
   ]
  },
  {
   "cell_type": "code",
   "execution_count": 7,
   "id": "23900038",
   "metadata": {},
   "outputs": [],
   "source": [
    "iris.to_csv('Iris2', header = False, index = False)"
   ]
  },
  {
   "cell_type": "markdown",
   "id": "85ef182b",
   "metadata": {},
   "source": [
    "**Save csv file to a specified location**\n",
    "\n",
    "Columns are automatically seperated in this case"
   ]
  },
  {
   "cell_type": "code",
   "execution_count": 8,
   "id": "0135975e",
   "metadata": {},
   "outputs": [],
   "source": [
    "iris.to_csv(r\"C:\\Users\\dell\\Desktop\\DevT\\Python and Data Science\\iPyNb's\\Iris3.csv\")"
   ]
  },
  {
   "cell_type": "markdown",
   "id": "d463bee4",
   "metadata": {},
   "source": [
    "**Write a DataFrame to CSV file using separator**\n",
    "\n",
    "Columns are automatically seperated in this case aslo"
   ]
  },
  {
   "cell_type": "code",
   "execution_count": 9,
   "id": "f5a2ab1f",
   "metadata": {},
   "outputs": [],
   "source": [
    "iris.to_csv('Iris4', sep = '\\t')"
   ]
  },
  {
   "cell_type": "markdown",
   "id": "4b43d07b",
   "metadata": {},
   "source": [
    "## 3. <u>Loading Excel spreadsheet as pandas DataFrame</u>\n",
    "\n",
    "We first need to load excel file, and then parse excel file sheets as a Pandas dataframe."
   ]
  },
  {
   "cell_type": "code",
   "execution_count": 17,
   "id": "28257089",
   "metadata": {},
   "outputs": [],
   "source": [
    "df = pd.ExcelFile('Financial Sample.xlsx')"
   ]
  },
  {
   "cell_type": "code",
   "execution_count": 18,
   "id": "dd618891",
   "metadata": {},
   "outputs": [
    {
     "data": {
      "text/plain": [
       "['Sheet1']"
      ]
     },
     "execution_count": 18,
     "metadata": {},
     "output_type": "execute_result"
    }
   ],
   "source": [
    "df.sheet_names"
   ]
  },
  {
   "cell_type": "markdown",
   "id": "6a2058b9",
   "metadata": {},
   "source": [
    "Only 1 sheet in the file named as 'Sheet1'"
   ]
  },
  {
   "cell_type": "code",
   "execution_count": 19,
   "id": "3da1bad3",
   "metadata": {},
   "outputs": [],
   "source": [
    "df_2 = df.parse('Sheet1')"
   ]
  },
  {
   "cell_type": "code",
   "execution_count": 21,
   "id": "4d013a51",
   "metadata": {},
   "outputs": [
    {
     "data": {
      "text/html": [
       "<div>\n",
       "<style scoped>\n",
       "    .dataframe tbody tr th:only-of-type {\n",
       "        vertical-align: middle;\n",
       "    }\n",
       "\n",
       "    .dataframe tbody tr th {\n",
       "        vertical-align: top;\n",
       "    }\n",
       "\n",
       "    .dataframe thead th {\n",
       "        text-align: right;\n",
       "    }\n",
       "</style>\n",
       "<table border=\"1\" class=\"dataframe\">\n",
       "  <thead>\n",
       "    <tr style=\"text-align: right;\">\n",
       "      <th></th>\n",
       "      <th>Segment</th>\n",
       "      <th>Country</th>\n",
       "      <th>Product</th>\n",
       "      <th>Discount Band</th>\n",
       "      <th>Units Sold</th>\n",
       "      <th>Manufacturing Price</th>\n",
       "      <th>Sale Price</th>\n",
       "      <th>Gross Sales</th>\n",
       "      <th>Discounts</th>\n",
       "      <th>Sales</th>\n",
       "      <th>COGS</th>\n",
       "      <th>Profit</th>\n",
       "      <th>Date</th>\n",
       "      <th>Month Number</th>\n",
       "      <th>Month Name</th>\n",
       "      <th>Year</th>\n",
       "    </tr>\n",
       "  </thead>\n",
       "  <tbody>\n",
       "    <tr>\n",
       "      <th>0</th>\n",
       "      <td>Government</td>\n",
       "      <td>Canada</td>\n",
       "      <td>Carretera</td>\n",
       "      <td>None</td>\n",
       "      <td>1618.5</td>\n",
       "      <td>3</td>\n",
       "      <td>20</td>\n",
       "      <td>32370.0</td>\n",
       "      <td>0.0</td>\n",
       "      <td>32370.0</td>\n",
       "      <td>16185.0</td>\n",
       "      <td>16185.0</td>\n",
       "      <td>2014-01-01</td>\n",
       "      <td>1</td>\n",
       "      <td>January</td>\n",
       "      <td>2014</td>\n",
       "    </tr>\n",
       "    <tr>\n",
       "      <th>1</th>\n",
       "      <td>Government</td>\n",
       "      <td>Germany</td>\n",
       "      <td>Carretera</td>\n",
       "      <td>None</td>\n",
       "      <td>1321.0</td>\n",
       "      <td>3</td>\n",
       "      <td>20</td>\n",
       "      <td>26420.0</td>\n",
       "      <td>0.0</td>\n",
       "      <td>26420.0</td>\n",
       "      <td>13210.0</td>\n",
       "      <td>13210.0</td>\n",
       "      <td>2014-01-01</td>\n",
       "      <td>1</td>\n",
       "      <td>January</td>\n",
       "      <td>2014</td>\n",
       "    </tr>\n",
       "    <tr>\n",
       "      <th>2</th>\n",
       "      <td>Midmarket</td>\n",
       "      <td>France</td>\n",
       "      <td>Carretera</td>\n",
       "      <td>None</td>\n",
       "      <td>2178.0</td>\n",
       "      <td>3</td>\n",
       "      <td>15</td>\n",
       "      <td>32670.0</td>\n",
       "      <td>0.0</td>\n",
       "      <td>32670.0</td>\n",
       "      <td>21780.0</td>\n",
       "      <td>10890.0</td>\n",
       "      <td>2014-06-01</td>\n",
       "      <td>6</td>\n",
       "      <td>June</td>\n",
       "      <td>2014</td>\n",
       "    </tr>\n",
       "  </tbody>\n",
       "</table>\n",
       "</div>"
      ],
      "text/plain": [
       "      Segment  Country    Product Discount Band  Units Sold  \\\n",
       "0  Government   Canada  Carretera          None      1618.5   \n",
       "1  Government  Germany  Carretera          None      1321.0   \n",
       "2   Midmarket   France  Carretera          None      2178.0   \n",
       "\n",
       "   Manufacturing Price  Sale Price  Gross Sales  Discounts    Sales     COGS  \\\n",
       "0                    3          20      32370.0        0.0  32370.0  16185.0   \n",
       "1                    3          20      26420.0        0.0  26420.0  13210.0   \n",
       "2                    3          15      32670.0        0.0  32670.0  21780.0   \n",
       "\n",
       "    Profit       Date  Month Number Month Name  Year  \n",
       "0  16185.0 2014-01-01             1    January  2014  \n",
       "1  13210.0 2014-01-01             1    January  2014  \n",
       "2  10890.0 2014-06-01             6       June  2014  "
      ]
     },
     "execution_count": 21,
     "metadata": {},
     "output_type": "execute_result"
    }
   ],
   "source": [
    "df_2.head(3)"
   ]
  },
  {
   "cell_type": "markdown",
   "id": "a49d91c2",
   "metadata": {},
   "source": [
    "* One can also read specific columns using '`usecols`' parameter of `read_excel()` method. \n",
    "* Pass the `sheet_name` argument to directly read a sheet while loading the file.\n",
    "* Pass `na_values` to replace NaN's with specific values."
   ]
  },
  {
   "cell_type": "code",
   "execution_count": 27,
   "id": "c5714cd0",
   "metadata": {},
   "outputs": [],
   "source": [
    "fs = pd.read_excel('Financial Sample.xlsx', usecols = ['Segment','Units Sold'])"
   ]
  },
  {
   "cell_type": "code",
   "execution_count": 28,
   "id": "d7103bac",
   "metadata": {},
   "outputs": [
    {
     "data": {
      "text/html": [
       "<div>\n",
       "<style scoped>\n",
       "    .dataframe tbody tr th:only-of-type {\n",
       "        vertical-align: middle;\n",
       "    }\n",
       "\n",
       "    .dataframe tbody tr th {\n",
       "        vertical-align: top;\n",
       "    }\n",
       "\n",
       "    .dataframe thead th {\n",
       "        text-align: right;\n",
       "    }\n",
       "</style>\n",
       "<table border=\"1\" class=\"dataframe\">\n",
       "  <thead>\n",
       "    <tr style=\"text-align: right;\">\n",
       "      <th></th>\n",
       "      <th>Segment</th>\n",
       "      <th>Units Sold</th>\n",
       "    </tr>\n",
       "  </thead>\n",
       "  <tbody>\n",
       "    <tr>\n",
       "      <th>0</th>\n",
       "      <td>Government</td>\n",
       "      <td>1618.5</td>\n",
       "    </tr>\n",
       "    <tr>\n",
       "      <th>1</th>\n",
       "      <td>Government</td>\n",
       "      <td>1321.0</td>\n",
       "    </tr>\n",
       "    <tr>\n",
       "      <th>2</th>\n",
       "      <td>Midmarket</td>\n",
       "      <td>2178.0</td>\n",
       "    </tr>\n",
       "  </tbody>\n",
       "</table>\n",
       "</div>"
      ],
      "text/plain": [
       "      Segment  Units Sold\n",
       "0  Government      1618.5\n",
       "1  Government      1321.0\n",
       "2   Midmarket      2178.0"
      ]
     },
     "execution_count": 28,
     "metadata": {},
     "output_type": "execute_result"
    }
   ],
   "source": [
    "fs.head(3)"
   ]
  },
  {
   "attachments": {
    "image.png": {
     "image/png": "[encoded data removed]"
    }
   },
   "cell_type": "markdown",
   "id": "243229be",
   "metadata": {},
   "source": [
    "# 3. Reading JSON Files\n",
    "The full-form of JSON is JavaScript Object Notation. It essentially means a script (executable) file which is made of text in a programming language, and is used to store and transfer the data. Python supports JSON through a built-in package called `json`. To use this feature, we import the `json` package in Python script. The text in JSON is done through quoted string which contains the value in key-value mapping within `{ }`.\n",
    "\n",
    "**Deserialization of JSON**\n",
    "\n",
    "The Deserialization of JSON means the conversion of JSON objects into their respective Python objects. The `load()/loads()` method is used for it. If you have used JSON data from another program or obtained as a string format of JSON, then it can easily be deserialized with `load()/loads()`, which is usually used to load from string, otherwise the root object is in list or dict.\n",
    "\n",
    "![image.png](attachment:image.png)"
   ]
  },
  {
   "cell_type": "markdown",
   "id": "de164538",
   "metadata": {},
   "source": [
    "* `json.load()`: It accepts file object, parses the JSON data, populates a Python dictionary with the data and returns it back to you."
   ]
  },
  {
   "cell_type": "code",
   "execution_count": 30,
   "id": "a380db92",
   "metadata": {},
   "outputs": [],
   "source": [
    "import json"
   ]
  },
  {
   "cell_type": "code",
   "execution_count": 33,
   "id": "d81019df",
   "metadata": {},
   "outputs": [],
   "source": [
    "file = open(\"data.json\")"
   ]
  },
  {
   "cell_type": "code",
   "execution_count": 34,
   "id": "14a16f13",
   "metadata": {},
   "outputs": [],
   "source": [
    "dct = json.load(file)"
   ]
  },
  {
   "cell_type": "code",
   "execution_count": 35,
   "id": "bfe0c3b6",
   "metadata": {},
   "outputs": [
    {
     "data": {
      "text/plain": [
       "[{'id': '0001',\n",
       "  'type': 'donut',\n",
       "  'name': 'Cake',\n",
       "  'ppu': 0.55,\n",
       "  'batters': {'batter': [{'id': '1001', 'type': 'Regular'},\n",
       "    {'id': '1002', 'type': 'Chocolate'},\n",
       "    {'id': '1003', 'type': 'Blueberry'},\n",
       "    {'id': '1004', 'type': \"Devil's Food\"}]},\n",
       "  'topping': [{'id': '5001', 'type': 'None'},\n",
       "   {'id': '5002', 'type': 'Glazed'},\n",
       "   {'id': '5005', 'type': 'Sugar'},\n",
       "   {'id': '5007', 'type': 'Powdered Sugar'},\n",
       "   {'id': '5006', 'type': 'Chocolate with Sprinkles'},\n",
       "   {'id': '5003', 'type': 'Chocolate'},\n",
       "   {'id': '5004', 'type': 'Maple'}]},\n",
       " {'id': '0002',\n",
       "  'type': 'donut',\n",
       "  'name': 'Raised',\n",
       "  'ppu': 0.55,\n",
       "  'batters': {'batter': [{'id': '1001', 'type': 'Regular'}]},\n",
       "  'topping': [{'id': '5001', 'type': 'None'},\n",
       "   {'id': '5002', 'type': 'Glazed'},\n",
       "   {'id': '5005', 'type': 'Sugar'},\n",
       "   {'id': '5003', 'type': 'Chocolate'},\n",
       "   {'id': '5004', 'type': 'Maple'}]},\n",
       " {'id': '0003',\n",
       "  'type': 'donut',\n",
       "  'name': 'Old Fashioned',\n",
       "  'ppu': 0.55,\n",
       "  'batters': {'batter': [{'id': '1001', 'type': 'Regular'},\n",
       "    {'id': '1002', 'type': 'Chocolate'}]},\n",
       "  'topping': [{'id': '5001', 'type': 'None'},\n",
       "   {'id': '5002', 'type': 'Glazed'},\n",
       "   {'id': '5003', 'type': 'Chocolate'},\n",
       "   {'id': '5004', 'type': 'Maple'}]}]"
      ]
     },
     "execution_count": 35,
     "metadata": {},
     "output_type": "execute_result"
    }
   ],
   "source": [
    "dct"
   ]
  },
  {
   "cell_type": "markdown",
   "id": "0ed7a5fc",
   "metadata": {},
   "source": [
    "* `json.loads()`: If you have a JSON string, you can parse it by using the `json.loads()` method. It does not take the file path, but the file contents as a string. Using `fileobject.read()` with it we can return the content of the file."
   ]
  },
  {
   "cell_type": "code",
   "execution_count": 36,
   "id": "7337fcf1",
   "metadata": {},
   "outputs": [
    {
     "name": "stdout",
     "output_type": "stream",
     "text": [
      "JSON string =  {'name': 'Bob', 'languages': 'English'}\n",
      "\n"
     ]
    },
    {
     "data": {
      "text/plain": [
       "[{'id': '0001',\n",
       "  'type': 'donut',\n",
       "  'name': 'Cake',\n",
       "  'ppu': 0.55,\n",
       "  'batters': {'batter': [{'id': '1001', 'type': 'Regular'},\n",
       "    {'id': '1002', 'type': 'Chocolate'},\n",
       "    {'id': '1003', 'type': 'Blueberry'},\n",
       "    {'id': '1004', 'type': \"Devil's Food\"}]},\n",
       "  'topping': [{'id': '5001', 'type': 'None'},\n",
       "   {'id': '5002', 'type': 'Glazed'},\n",
       "   {'id': '5005', 'type': 'Sugar'},\n",
       "   {'id': '5007', 'type': 'Powdered Sugar'},\n",
       "   {'id': '5006', 'type': 'Chocolate with Sprinkles'},\n",
       "   {'id': '5003', 'type': 'Chocolate'},\n",
       "   {'id': '5004', 'type': 'Maple'}]},\n",
       " {'id': '0002',\n",
       "  'type': 'donut',\n",
       "  'name': 'Raised',\n",
       "  'ppu': 0.55,\n",
       "  'batters': {'batter': [{'id': '1001', 'type': 'Regular'}]},\n",
       "  'topping': [{'id': '5001', 'type': 'None'},\n",
       "   {'id': '5002', 'type': 'Glazed'},\n",
       "   {'id': '5005', 'type': 'Sugar'},\n",
       "   {'id': '5003', 'type': 'Chocolate'},\n",
       "   {'id': '5004', 'type': 'Maple'}]},\n",
       " {'id': '0003',\n",
       "  'type': 'donut',\n",
       "  'name': 'Old Fashioned',\n",
       "  'ppu': 0.55,\n",
       "  'batters': {'batter': [{'id': '1001', 'type': 'Regular'},\n",
       "    {'id': '1002', 'type': 'Chocolate'}]},\n",
       "  'topping': [{'id': '5001', 'type': 'None'},\n",
       "   {'id': '5002', 'type': 'Glazed'},\n",
       "   {'id': '5003', 'type': 'Chocolate'},\n",
       "   {'id': '5004', 'type': 'Maple'}]}]"
      ]
     },
     "execution_count": 36,
     "metadata": {},
     "output_type": "execute_result"
    }
   ],
   "source": [
    "a = '{\"name\": \"Bob\", \"languages\": \"English\"}'\n",
    " \n",
    "# deserializes into dict\n",
    "# and returns dict.\n",
    "y = json.loads(a)\n",
    " \n",
    "print(\"JSON string = \", y)\n",
    "print()\n",
    " \n",
    " \n",
    " \n",
    "# JSON file\n",
    "f = open ('data.json', \"r\")\n",
    " \n",
    "# Reading from file\n",
    "data = json.loads(f.read())\n",
    " \n",
    "data"
   ]
  }
 ],
 "metadata": {
  "kernelspec": {
   "display_name": "Python 3",
   "language": "python",
   "name": "python3"
  },
  "language_info": {
   "codemirror_mode": {
    "name": "ipython",
    "version": 3
   },
   "file_extension": ".py",
   "mimetype": "text/x-python",
   "name": "python",
   "nbconvert_exporter": "python",
   "pygments_lexer": "ipython3",
   "version": "3.8.8"
  }
 },
 "nbformat": 4,
 "nbformat_minor": 5
}
