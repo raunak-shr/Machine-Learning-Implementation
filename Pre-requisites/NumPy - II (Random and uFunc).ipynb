{
 "cells": [
  {
   "cell_type": "markdown",
   "id": "4f8cc2e0",
   "metadata": {},
   "source": [
    "![numPy](https://upload.wikimedia.org/wikipedia/commons/3/31/NumPy_logo_2020.svg)\n",
    "\n",
    "*By Shreeyansh, source: w3schools.net, tutorialspoint.com*\n",
    "*Prerequisite: seaborn basics*"
   ]
  },
  {
   "cell_type": "markdown",
   "id": "b315139a",
   "metadata": {},
   "source": [
    "---\n",
    "# Random Module\n",
    "---\n",
    "\n",
    "* **What is a Random Number?**\n",
    "Random number does NOT mean a different number every time. Random means something that can not be predicted logically.\n",
    "\n",
    "* **Pseudo Random and True Random.**\n",
    "Computers work on programs, and programs are definitive set of instructions. So it means there must be some algorithm to generate a random number as well. If there is a program to generate random number it can be predicted, thus it is not truly random.\n",
    "\n",
    "*Random numbers generated through a generation algorithm are called pseudo random.*\n",
    "\n",
    "* **Can we make truly random numbers?**\n",
    "\n",
    "Yes. In order to generate a truly random number on our computers we need to get the random data from some outside source. This outside source is generally our keystrokes, mouse movements, data on network etc. We do not need truly random numbers, unless its related to security (e.g. encryption keys) or the basis of application is the randomness (e.g. Digital roulette wheels).\n",
    "\n",
    "In this tutorial we will be using pseudo random numbers. Numpy offers the `random` module to work with random numbers. "
   ]
  },
  {
   "cell_type": "code",
   "execution_count": 1,
   "id": "30c941f5",
   "metadata": {},
   "outputs": [],
   "source": [
    "import matplotlib.pyplot as plt\n",
    "from numpy import random as rnd\n",
    "import seaborn as sns"
   ]
  },
  {
   "cell_type": "markdown",
   "id": "2ec392c1",
   "metadata": {},
   "source": [
    "Generate  random integer **from 0 to 100** by using `randint`"
   ]
  },
  {
   "cell_type": "code",
   "execution_count": 2,
   "id": "c1eda2bd",
   "metadata": {},
   "outputs": [
    {
     "data": {
      "text/plain": [
       "21"
      ]
     },
     "execution_count": 2,
     "metadata": {},
     "output_type": "execute_result"
    }
   ],
   "source": [
    "rnd.randint(100)"
   ]
  },
  {
   "cell_type": "markdown",
   "id": "514e7c88",
   "metadata": {},
   "source": [
    "To get a random float from 0 to 1 use `random`'s `rand` method"
   ]
  },
  {
   "cell_type": "code",
   "execution_count": 3,
   "id": "ea0e9512",
   "metadata": {},
   "outputs": [
    {
     "data": {
      "text/plain": [
       "0.6502925048592226"
      ]
     },
     "execution_count": 3,
     "metadata": {},
     "output_type": "execute_result"
    }
   ],
   "source": [
    "rnd.rand()"
   ]
  },
  {
   "cell_type": "markdown",
   "id": "e6138ff7",
   "metadata": {},
   "source": [
    "## 1. Generate a Random Array\n",
    "The `randint()` method takes a `size` parameter where you can specify the shape of an array."
   ]
  },
  {
   "cell_type": "code",
   "execution_count": 4,
   "id": "1acb5bfe",
   "metadata": {},
   "outputs": [
    {
     "data": {
      "text/plain": [
       "array([66, 16, 52,  8, 18, 97, 94, 14, 28,  3])"
      ]
     },
     "execution_count": 4,
     "metadata": {},
     "output_type": "execute_result"
    }
   ],
   "source": [
    "rnd.randint(100, size = 10)"
   ]
  },
  {
   "cell_type": "code",
   "execution_count": 5,
   "id": "e0d25474",
   "metadata": {},
   "outputs": [
    {
     "data": {
      "text/plain": [
       "array([[81, 78,  6, 62, 21, 84, 77],\n",
       "       [83, 67, 60, 36, 76, 76, 66],\n",
       "       [80,  6, 76,  1, 74,  9, 34],\n",
       "       [74, 60, 17,  7, 25, 43, 18],\n",
       "       [25, 39, 54, 16,  3, 22, 11],\n",
       "       [84, 33, 42, 10, 70, 27, 51]])"
      ]
     },
     "execution_count": 5,
     "metadata": {},
     "output_type": "execute_result"
    }
   ],
   "source": [
    "rnd.randint(100, size = (6,7))"
   ]
  },
  {
   "cell_type": "code",
   "execution_count": 6,
   "id": "c2b08908",
   "metadata": {},
   "outputs": [
    {
     "data": {
      "text/plain": [
       "array([[[ 4, 59, 91],\n",
       "        [37, 49, 39],\n",
       "        [ 0, 58,  9]],\n",
       "\n",
       "       [[11, 21, 41],\n",
       "        [22, 69, 96],\n",
       "        [89, 93,  9]]])"
      ]
     },
     "execution_count": 6,
     "metadata": {},
     "output_type": "execute_result"
    }
   ],
   "source": [
    "rnd.randint(100, size = (2,3,3))"
   ]
  },
  {
   "cell_type": "markdown",
   "id": "27549e90",
   "metadata": {},
   "source": [
    "The `rand()` method also takes the argument `size` to generate random array with float values b/w 0 and 1"
   ]
  },
  {
   "cell_type": "code",
   "execution_count": 7,
   "id": "5b55cf36",
   "metadata": {},
   "outputs": [
    {
     "data": {
      "text/plain": [
       "array([[0.94540857, 0.15933393, 0.97607795, 0.2469021 ],\n",
       "       [0.79462126, 0.89279348, 0.46699591, 0.17506256],\n",
       "       [0.52929401, 0.78264455, 0.12153618, 0.71408397]])"
      ]
     },
     "execution_count": 7,
     "metadata": {},
     "output_type": "execute_result"
    }
   ],
   "source": [
    "rnd.rand(3,4)"
   ]
  },
  {
   "cell_type": "markdown",
   "id": "83998d62",
   "metadata": {},
   "source": [
    "## 2. Choose Random Number from Given Array\n",
    "\n",
    "The `choice()` method allows you to generate a random value based on an array of values. It takes an array as a parameter and randomly returns one of the values."
   ]
  },
  {
   "cell_type": "code",
   "execution_count": 8,
   "id": "c085a02c",
   "metadata": {},
   "outputs": [
    {
     "data": {
      "text/plain": [
       "3"
      ]
     },
     "execution_count": 8,
     "metadata": {},
     "output_type": "execute_result"
    }
   ],
   "source": [
    "rnd.choice(rnd.randint(100))"
   ]
  },
  {
   "cell_type": "code",
   "execution_count": 9,
   "id": "456614cb",
   "metadata": {},
   "outputs": [
    {
     "data": {
      "text/plain": [
       "700"
      ]
     },
     "execution_count": 9,
     "metadata": {},
     "output_type": "execute_result"
    }
   ],
   "source": [
    "rnd.choice([100,200,300,400,500,600,700])"
   ]
  },
  {
   "cell_type": "markdown",
   "id": "b999a064",
   "metadata": {},
   "source": [
    "## 3. Data Distribution\n",
    "\n",
    "Data Distribution is a list of all possible values, and how often each value occurs. Such lists are important when working with statistics and data science. The random module offer methods that returns randomly generated data distributions.\n",
    "\n",
    "* **Random Distribution**: A random distribution is a set of random numbers that follow a certain probability density function.\n",
    "* **Discrete Distribution**:The distribution is defined at separate set of events, e.g. a coin toss's result is discrete as it can be only head or tails whereas height of people is continuous as it can be 170, 170.1, 170.11 and so on.\n",
    "* **Probability Density Function**: A function that describes a continuous probability. i.e. probability of all values in an array.\n",
    "\n",
    "We can generate random numbers based on defined probabilities using the `choice()` method of the random module. The `choice()` method allows us to specify the probability for each value. The probability is set by a number between 0 and 1, where 0 means that the value will never occur and 1 means that the value will always occur. **The sum of all probabilities should be 1**.\n",
    "\n",
    "You can return arrays of any shape and size by specifying the `shape` in the size parameter."
   ]
  },
  {
   "cell_type": "code",
   "execution_count": 10,
   "id": "c58debf0",
   "metadata": {},
   "outputs": [
    {
     "name": "stdout",
     "output_type": "stream",
     "text": [
      "[5 5 7 3 3 5 7 5 7 7]\n"
     ]
    }
   ],
   "source": [
    "#Generate a 1-D array containing 100 values, where each value has to be 3, 5, 7 or 9.\n",
    "#The probability for the value to be 3 is set to be 0.1\n",
    "#The probability for the value to be 5 is set to be 0.3\n",
    "#The probability for the value to be 7 is set to be 0.6\n",
    "#The probability for the value to be 9 is set to be 0\n",
    "\n",
    "x = rnd.choice([3, 5, 7, 9], p=[0.1, 0.3, 0.6, 0.0], size=(10))\n",
    "\n",
    "print(x)"
   ]
  },
  {
   "cell_type": "code",
   "execution_count": 11,
   "id": "4128f3c8",
   "metadata": {},
   "outputs": [
    {
     "data": {
      "text/plain": [
       "array([[7, 3, 5, 7, 7],\n",
       "       [3, 7, 5, 7, 7],\n",
       "       [3, 7, 5, 5, 7]])"
      ]
     },
     "execution_count": 11,
     "metadata": {},
     "output_type": "execute_result"
    }
   ],
   "source": [
    "rnd.choice([3,5,7,9], p = [0.1,0.3,0.6,0.0], size=(3,5))"
   ]
  },
  {
   "cell_type": "markdown",
   "id": "f7c0556d",
   "metadata": {},
   "source": [
    "## 4. Random Permutation\n",
    "\n",
    "A permutation refers to an arrangement of elements. e.g. [3, 2, 1] is a permutation of [1, 2, 3] and vice-versa. The NumPy Random module provides two methods for this: `shuffle()` and `permutation()`. The `permutation()` method generates random permutations of array (Gives a random shuffle out of all possible shuffles). **`shuffle` method makes changes to original array.**"
   ]
  },
  {
   "cell_type": "code",
   "execution_count": 12,
   "id": "d6aa1c21",
   "metadata": {},
   "outputs": [
    {
     "data": {
      "text/plain": [
       "array([55, 26, 85, 85, 55,  2,  2, 71, 94, 75])"
      ]
     },
     "execution_count": 12,
     "metadata": {},
     "output_type": "execute_result"
    }
   ],
   "source": [
    "x = rnd.randint(100, size = (10))\n",
    "x"
   ]
  },
  {
   "cell_type": "code",
   "execution_count": 13,
   "id": "52b504b9",
   "metadata": {},
   "outputs": [
    {
     "data": {
      "text/plain": [
       "array([ 2,  2, 26, 55, 55, 71, 75, 85, 85, 94])"
      ]
     },
     "execution_count": 13,
     "metadata": {},
     "output_type": "execute_result"
    }
   ],
   "source": [
    "import numpy as np\n",
    "np.sort(x)"
   ]
  },
  {
   "cell_type": "code",
   "execution_count": 14,
   "id": "2bcf2452",
   "metadata": {},
   "outputs": [
    {
     "data": {
      "text/plain": [
       "array([75,  2, 94, 85, 85, 71, 26,  2, 55, 55])"
      ]
     },
     "execution_count": 14,
     "metadata": {},
     "output_type": "execute_result"
    }
   ],
   "source": [
    "rnd.shuffle(x)\n",
    "x"
   ]
  },
  {
   "cell_type": "code",
   "execution_count": 15,
   "id": "26e7df41",
   "metadata": {},
   "outputs": [
    {
     "data": {
      "text/plain": [
       "array([85, 55, 94, 71, 85,  2,  2, 55, 75, 26])"
      ]
     },
     "execution_count": 15,
     "metadata": {},
     "output_type": "execute_result"
    }
   ],
   "source": [
    "rnd.permutation(x)"
   ]
  },
  {
   "cell_type": "markdown",
   "id": "9daa54c6",
   "metadata": {},
   "source": [
    "---\n",
    "# Basic Data Distributions\n",
    "---"
   ]
  },
  {
   "cell_type": "markdown",
   "id": "53528366",
   "metadata": {},
   "source": [
    "## 1. Normal Distribution\n",
    "\n",
    "The Normal Distribution is one of the most important distributions. It is also called the Gaussian Distribution after the German mathematician Carl Friedrich Gauss. It fits the probability distribution of many events, eg. IQ Scores, Heartbeat etc.\n",
    "Use the `random.normal()` method to get a Normal Data Distribution.\n",
    "\n",
    "It has three parameters:\n",
    "\n",
    "* **`loc`** - (Mean) where the peak of the bell exists.\n",
    "\n",
    "* **`scale`** - (Standard Deviation) how flat the graph distribution should be.\n",
    "\n",
    "* **`size`** - The shape of the returned array."
   ]
  },
  {
   "cell_type": "code",
   "execution_count": 16,
   "id": "0738297f",
   "metadata": {
    "scrolled": true
   },
   "outputs": [
    {
     "name": "stdout",
     "output_type": "stream",
     "text": [
      "[[2.09902951 2.09231334 1.64350852 5.31776458 2.37480643]\n",
      " [4.19154413 2.1264263  5.85638421 3.43637533 4.01912743]]\n"
     ]
    }
   ],
   "source": [
    "x = rnd.normal(loc = 3, scale = (1.5), size = (2,5))\n",
    "print(x)"
   ]
  },
  {
   "cell_type": "code",
   "execution_count": 17,
   "id": "ac4b2a3b",
   "metadata": {
    "scrolled": true
   },
   "outputs": [
    {
     "name": "stderr",
     "output_type": "stream",
     "text": [
      "C:\\ProgramData\\Anaconda3\\lib\\site-packages\\seaborn\\distributions.py:2557: FutureWarning: `distplot` is a deprecated function and will be removed in a future version. Please adapt your code to use either `displot` (a figure-level function with similar flexibility) or `histplot` (an axes-level function for histograms).\n",
      "  warnings.warn(msg, FutureWarning)\n"
     ]
    },
    {
     "data": {
      "image/png": "[encoded data removed]",
      "text/plain": [
       "<Figure size 432x288 with 1 Axes>"
      ]
     },
     "metadata": {
      "needs_background": "light"
     },
     "output_type": "display_data"
    }
   ],
   "source": [
    "sns.distplot(x, hist = True)\n",
    "plt.show()"
   ]
  },
  {
   "cell_type": "code",
   "execution_count": 18,
   "id": "cb806b9c",
   "metadata": {},
   "outputs": [
    {
     "name": "stderr",
     "output_type": "stream",
     "text": [
      "C:\\ProgramData\\Anaconda3\\lib\\site-packages\\seaborn\\distributions.py:2557: FutureWarning: `distplot` is a deprecated function and will be removed in a future version. Please adapt your code to use either `displot` (a figure-level function with similar flexibility) or `kdeplot` (an axes-level function for kernel density plots).\n",
      "  warnings.warn(msg, FutureWarning)\n"
     ]
    },
    {
     "data": {
      "image/png": "[encoded data removed]",
      "text/plain": [
       "<Figure size 432x288 with 1 Axes>"
      ]
     },
     "metadata": {
      "needs_background": "light"
     },
     "output_type": "display_data"
    }
   ],
   "source": [
    "sns.distplot(rnd.normal(size = 1000), hist = False)\n",
    "plt.show()"
   ]
  },
  {
   "cell_type": "markdown",
   "id": "5a20b3c2",
   "metadata": {},
   "source": [
    "## 2. Binomial Distribution\n",
    "\n",
    "Binomial Distribution is a Discrete Distribution. It describes the outcome of binary scenarios, e.g. toss of a coin, it will either be head or tails.\n",
    "\n",
    "It has three parameters:\n",
    "\n",
    "* **`n`** - number of trials.\n",
    "\n",
    "* **`p`** - probability of occurence of each trial (e.g. for toss of a coin 0.5 each).\n",
    "\n",
    "* **`size`** - The shape of the returned array."
   ]
  },
  {
   "cell_type": "code",
   "execution_count": 19,
   "id": "b34bdb42",
   "metadata": {},
   "outputs": [
    {
     "data": {
      "text/plain": [
       "array([[34, 22, 33, 35, 33],\n",
       "       [30, 20, 34, 33, 22]])"
      ]
     },
     "execution_count": 19,
     "metadata": {},
     "output_type": "execute_result"
    }
   ],
   "source": [
    "x = rnd.binomial(n = 100, p =0.3, size = (2,5))\n",
    "x"
   ]
  },
  {
   "cell_type": "code",
   "execution_count": 20,
   "id": "7d16ce3a",
   "metadata": {},
   "outputs": [
    {
     "name": "stderr",
     "output_type": "stream",
     "text": [
      "C:\\ProgramData\\Anaconda3\\lib\\site-packages\\seaborn\\distributions.py:2557: FutureWarning: `distplot` is a deprecated function and will be removed in a future version. Please adapt your code to use either `displot` (a figure-level function with similar flexibility) or `histplot` (an axes-level function for histograms).\n",
      "  warnings.warn(msg, FutureWarning)\n"
     ]
    },
    {
     "data": {
      "image/png": "[encoded data removed]",
      "text/plain": [
       "<Figure size 432x288 with 1 Axes>"
      ]
     },
     "metadata": {
      "needs_background": "light"
     },
     "output_type": "display_data"
    }
   ],
   "source": [
    "sns.distplot(rnd.binomial(n = 10, p = 0.3, size = 1000), hist = True, kde = False)\n",
    "plt.show()"
   ]
  },
  {
   "cell_type": "code",
   "execution_count": 21,
   "id": "5db138d9",
   "metadata": {},
   "outputs": [
    {
     "data": {
      "image/png": "[encoded data removed]",
      "text/plain": [
       "<Figure size 432x288 with 1 Axes>"
      ]
     },
     "metadata": {
      "needs_background": "light"
     },
     "output_type": "display_data"
    }
   ],
   "source": [
    "sns.distplot(rnd.binomial(n = 10, p = 0.3, size = 1000), hist = True, kde = True)\n",
    "plt.show()"
   ]
  },
  {
   "cell_type": "markdown",
   "id": "3564967d",
   "metadata": {},
   "source": [
    "## Difference b/w Normal and Binomial Distribution\n",
    "\n",
    "The main difference is that normal distribution is continous whereas binomial is discrete, but if there are enough data points it will be quite similar to normal distribution with certain `loc` and `scale`."
   ]
  },
  {
   "cell_type": "code",
   "execution_count": 22,
   "id": "f8daa968",
   "metadata": {
    "scrolled": false
   },
   "outputs": [
    {
     "name": "stderr",
     "output_type": "stream",
     "text": [
      "C:\\ProgramData\\Anaconda3\\lib\\site-packages\\seaborn\\distributions.py:2557: FutureWarning: `distplot` is a deprecated function and will be removed in a future version. Please adapt your code to use either `displot` (a figure-level function with similar flexibility) or `kdeplot` (an axes-level function for kernel density plots).\n",
      "  warnings.warn(msg, FutureWarning)\n",
      "C:\\ProgramData\\Anaconda3\\lib\\site-packages\\seaborn\\distributions.py:2557: FutureWarning: `distplot` is a deprecated function and will be removed in a future version. Please adapt your code to use either `displot` (a figure-level function with similar flexibility) or `kdeplot` (an axes-level function for kernel density plots).\n",
      "  warnings.warn(msg, FutureWarning)\n"
     ]
    },
    {
     "data": {
      "image/png": "[encoded data removed]",
      "text/plain": [
       "<Figure size 432x288 with 1 Axes>"
      ]
     },
     "metadata": {
      "needs_background": "light"
     },
     "output_type": "display_data"
    }
   ],
   "source": [
    "sns.distplot(rnd.normal(loc=50, scale=5, size=1000), hist=False)\n",
    "sns.distplot(rnd.binomial(n=100, p=0.5, size=1000), hist=False)\n",
    "plt.legend([\"Normal\", \"Binomial\"])\n",
    "\n",
    "plt.show()"
   ]
  },
  {
   "cell_type": "markdown",
   "id": "b5d37704",
   "metadata": {},
   "source": [
    "## 3. Poisson Distribution\n",
    "\n",
    "Poisson Distribution is a Discrete Distribution. It estimates how many times an event can happen in a specified time. e.g. If someone eats twice a day what is probability he will eat thrice?\n",
    "\n",
    "It has two parameters:\n",
    "\n",
    "* **`lam`** - rate or known number of occurences e.g. 2 for above problem.\n",
    "\n",
    "* **`size`** - The shape of the returned array."
   ]
  },
  {
   "cell_type": "code",
   "execution_count": 23,
   "id": "fd36369a",
   "metadata": {},
   "outputs": [
    {
     "data": {
      "text/plain": [
       "array([1, 0, 2, 2, 4, 0, 3, 2, 3, 1])"
      ]
     },
     "execution_count": 23,
     "metadata": {},
     "output_type": "execute_result"
    }
   ],
   "source": [
    "#Generate a random 1x10 distribution for occurence 2\n",
    "\n",
    "x = rnd.poisson(lam = 2, size = 10)\n",
    "x"
   ]
  },
  {
   "cell_type": "code",
   "execution_count": 24,
   "id": "90ef4e77",
   "metadata": {},
   "outputs": [
    {
     "name": "stderr",
     "output_type": "stream",
     "text": [
      "C:\\ProgramData\\Anaconda3\\lib\\site-packages\\seaborn\\distributions.py:2557: FutureWarning: `distplot` is a deprecated function and will be removed in a future version. Please adapt your code to use either `displot` (a figure-level function with similar flexibility) or `histplot` (an axes-level function for histograms).\n",
      "  warnings.warn(msg, FutureWarning)\n"
     ]
    },
    {
     "data": {
      "text/plain": [
       "<AxesSubplot:>"
      ]
     },
     "execution_count": 24,
     "metadata": {},
     "output_type": "execute_result"
    },
    {
     "data": {
      "image/png": "[encoded data removed]",
      "text/plain": [
       "<Figure size 432x288 with 1 Axes>"
      ]
     },
     "metadata": {
      "needs_background": "light"
     },
     "output_type": "display_data"
    }
   ],
   "source": [
    "sns.distplot(rnd.poisson(lam = 2, size = 1000), hist = True, kde = False)"
   ]
  },
  {
   "cell_type": "markdown",
   "id": "91a6a7bf",
   "metadata": {},
   "source": [
    "## Difference b/w Normal and Poisson Distribution\n",
    "\n",
    "Normal distribution is continous whereas poisson is discrete. But we can see that similar to binomial for a large enough poisson distribution it will become similar to normal distribution with certain std dev and mean."
   ]
  },
  {
   "cell_type": "code",
   "execution_count": 25,
   "id": "f26f0a4d",
   "metadata": {},
   "outputs": [
    {
     "name": "stderr",
     "output_type": "stream",
     "text": [
      "C:\\ProgramData\\Anaconda3\\lib\\site-packages\\seaborn\\distributions.py:2557: FutureWarning: `distplot` is a deprecated function and will be removed in a future version. Please adapt your code to use either `displot` (a figure-level function with similar flexibility) or `kdeplot` (an axes-level function for kernel density plots).\n",
      "  warnings.warn(msg, FutureWarning)\n",
      "C:\\ProgramData\\Anaconda3\\lib\\site-packages\\seaborn\\distributions.py:2557: FutureWarning: `distplot` is a deprecated function and will be removed in a future version. Please adapt your code to use either `displot` (a figure-level function with similar flexibility) or `kdeplot` (an axes-level function for kernel density plots).\n",
      "  warnings.warn(msg, FutureWarning)\n"
     ]
    },
    {
     "data": {
      "image/png": "[encoded data removed]",
      "text/plain": [
       "<Figure size 432x288 with 1 Axes>"
      ]
     },
     "metadata": {
      "needs_background": "light"
     },
     "output_type": "display_data"
    }
   ],
   "source": [
    "sns.distplot(rnd.normal(loc = 50, scale = 7, size = 1000), hist = False)\n",
    "sns.distplot(rnd.poisson(lam = 50, size = 1000), hist = False)\n",
    "\n",
    "plt.legend([\"Normal\",\"Poisson\"])\n",
    "plt.show()"
   ]
  },
  {
   "cell_type": "markdown",
   "id": "57a5e2cd",
   "metadata": {},
   "source": [
    "## 4. Uniform Distribution\n",
    "\n",
    "Used to describe probability where every event has equal chances of occuring. E.g. Generation of random numbers.\n",
    "\n",
    "It has three parameters:\n",
    "\n",
    "* **`a`** - lower bound - default 0 .0.\n",
    "* **`b`** - upper bound - default 1.0.\n",
    "* **`size`** - The shape of the returned array."
   ]
  },
  {
   "cell_type": "code",
   "execution_count": 26,
   "id": "2ce70dd4",
   "metadata": {},
   "outputs": [
    {
     "data": {
      "text/plain": [
       "array([[0.36609814, 0.94897095, 0.27317761],\n",
       "       [0.92302136, 0.16543711, 0.10628474]])"
      ]
     },
     "execution_count": 26,
     "metadata": {},
     "output_type": "execute_result"
    }
   ],
   "source": [
    "rnd.uniform(size = (2,3))"
   ]
  },
  {
   "cell_type": "code",
   "execution_count": 27,
   "id": "44cdb3c8",
   "metadata": {},
   "outputs": [
    {
     "data": {
      "text/plain": [
       "<seaborn.axisgrid.FacetGrid at 0x1e96551a3a0>"
      ]
     },
     "execution_count": 27,
     "metadata": {},
     "output_type": "execute_result"
    },
    {
     "data": {
      "image/png": "[encoded data removed]",
      "text/plain": [
       "<Figure size 360x360 with 1 Axes>"
      ]
     },
     "metadata": {
      "needs_background": "light"
     },
     "output_type": "display_data"
    }
   ],
   "source": [
    "#using displot instead of distplot\n",
    "sns.displot(rnd.uniform(size=100), kde = True)"
   ]
  },
  {
   "cell_type": "markdown",
   "id": "03cd3de5",
   "metadata": {},
   "source": [
    "## 5. Chi-Squared Distribution\n",
    "\n",
    "Chi Square distribution is used as a basis to verify the hypothesis.\n",
    "\n",
    "It has two parameters:\n",
    "\n",
    "* **`df`** - (degree of freedom).\n",
    "\n",
    "* **`size`** - The shape of the returned array."
   ]
  },
  {
   "cell_type": "code",
   "execution_count": 28,
   "id": "965fa9da",
   "metadata": {},
   "outputs": [
    {
     "data": {
      "text/plain": [
       "array([[3.84001428, 0.61661746, 4.13670803, 1.01972729, 1.55056861],\n",
       "       [2.30124501, 0.71041148, 0.25871092, 4.57614446, 1.24508486],\n",
       "       [0.81098575, 3.2293004 , 3.61960754, 4.53723142, 1.52465053]])"
      ]
     },
     "execution_count": 28,
     "metadata": {},
     "output_type": "execute_result"
    }
   ],
   "source": [
    "rnd.chisquare(df = 2, size = (3,5))"
   ]
  },
  {
   "cell_type": "code",
   "execution_count": 29,
   "id": "e268452f",
   "metadata": {},
   "outputs": [
    {
     "name": "stderr",
     "output_type": "stream",
     "text": [
      "C:\\ProgramData\\Anaconda3\\lib\\site-packages\\seaborn\\distributions.py:2557: FutureWarning: `distplot` is a deprecated function and will be removed in a future version. Please adapt your code to use either `displot` (a figure-level function with similar flexibility) or `kdeplot` (an axes-level function for kernel density plots).\n",
      "  warnings.warn(msg, FutureWarning)\n"
     ]
    },
    {
     "data": {
      "text/plain": [
       "<AxesSubplot:ylabel='Density'>"
      ]
     },
     "execution_count": 29,
     "metadata": {},
     "output_type": "execute_result"
    },
    {
     "data": {
      "image/png": "[encoded data removed]",
      "text/plain": [
       "<Figure size 432x288 with 1 Axes>"
      ]
     },
     "metadata": {
      "needs_background": "light"
     },
     "output_type": "display_data"
    }
   ],
   "source": [
    "sns.distplot(rnd.chisquare(df=2, size = 1000), hist = False)"
   ]
  },
  {
   "cell_type": "markdown",
   "id": "a99f8c12",
   "metadata": {},
   "source": [
    "---\n",
    "# Numpy uFunc\n",
    "---\n",
    "**What are ufuncs?**\n",
    "\n",
    "ufuncs stands for \"Universal Functions\" and they are NumPy functions that operates on the ndarray object.\n",
    "\n",
    "**Why use ufuncs?**\n",
    "\n",
    "ufuncs are used to implement *vectorization in NumPy which is way faster than iterating over elements.*\n",
    "\n",
    "They also provide broadcasting and additional methods like reduce, accumulate etc. that are very helpful for computation.\n",
    "\n",
    "ufuncs also take additional arguments, like:\n",
    "\n",
    "`where` boolean array or condition defining where the operations should take place.\n",
    "\n",
    "`dtype` defining the return type of elements.\n",
    "\n",
    "`out` output array where the return value should be copied."
   ]
  },
  {
   "cell_type": "code",
   "execution_count": 30,
   "id": "fc8a26f1",
   "metadata": {},
   "outputs": [],
   "source": [
    "x = np.matrix(rnd.randint(100, size = (4,3)))\n",
    "y = np.matrix(rnd.randint(100, size = (4,3)))\n",
    "a = x.reshape(-1)\n",
    "b = y.reshape(-1)"
   ]
  },
  {
   "cell_type": "code",
   "execution_count": 31,
   "id": "24bc0c30",
   "metadata": {},
   "outputs": [
    {
     "name": "stdout",
     "output_type": "stream",
     "text": [
      "[[25  1  6 88 35 62 10 99 78  1 73 81]]\n",
      "[[26 45 75 89 90 39 59 88  0 65 80 55]]\n"
     ]
    }
   ],
   "source": [
    "print(a)\n",
    "print(b)"
   ]
  },
  {
   "cell_type": "markdown",
   "id": "f4e75288",
   "metadata": {},
   "source": [
    "## 1. Basic Arithmeric"
   ]
  },
  {
   "cell_type": "code",
   "execution_count": 32,
   "id": "ea5ff42c",
   "metadata": {},
   "outputs": [
    {
     "data": {
      "text/plain": [
       "matrix([[ 51,  46,  81, 177, 125, 101,  69, 187,  78,  66, 153, 136]])"
      ]
     },
     "execution_count": 32,
     "metadata": {},
     "output_type": "execute_result"
    }
   ],
   "source": [
    "np.add(a, b)"
   ]
  },
  {
   "cell_type": "code",
   "execution_count": 33,
   "id": "ab318b51",
   "metadata": {},
   "outputs": [
    {
     "data": {
      "text/plain": [
       "matrix([[ -1, -44, -69,  -1, -55,  23, -49,  11,  78, -64,  -7,  26]])"
      ]
     },
     "execution_count": 33,
     "metadata": {},
     "output_type": "execute_result"
    }
   ],
   "source": [
    "np.subtract(a,b)"
   ]
  },
  {
   "cell_type": "markdown",
   "id": "20630427",
   "metadata": {},
   "source": [
    "### Element-wise Multiplication"
   ]
  },
  {
   "cell_type": "code",
   "execution_count": 34,
   "id": "68eff85c",
   "metadata": {},
   "outputs": [
    {
     "data": {
      "text/plain": [
       "matrix([[ 650,   45,  450, 7832, 3150, 2418,  590, 8712,    0,   65,\n",
       "         5840, 4455]])"
      ]
     },
     "execution_count": 34,
     "metadata": {},
     "output_type": "execute_result"
    }
   ],
   "source": [
    "np.multiply(a,b)"
   ]
  },
  {
   "cell_type": "markdown",
   "id": "5b08512b",
   "metadata": {},
   "source": [
    "### Element-wise Division"
   ]
  },
  {
   "cell_type": "code",
   "execution_count": 35,
   "id": "b8ee6e6c",
   "metadata": {},
   "outputs": [
    {
     "name": "stderr",
     "output_type": "stream",
     "text": [
      "<ipython-input-35-c364992e28ce>:1: RuntimeWarning: divide by zero encountered in true_divide\n",
      "  np.divide(a,b)\n"
     ]
    },
    {
     "data": {
      "text/plain": [
       "matrix([[0.96153846, 0.02222222, 0.08      , 0.98876404, 0.38888889,\n",
       "         1.58974359, 0.16949153, 1.125     ,        inf, 0.01538462,\n",
       "         0.9125    , 1.47272727]])"
      ]
     },
     "execution_count": 35,
     "metadata": {},
     "output_type": "execute_result"
    }
   ],
   "source": [
    "np.divide(a,b)"
   ]
  },
  {
   "cell_type": "markdown",
   "id": "c15e53ed",
   "metadata": {},
   "source": [
    "### Element-wise Exponentiation\n",
    "\n",
    "$(arr_1) ^{arr2}$"
   ]
  },
  {
   "cell_type": "code",
   "execution_count": 36,
   "id": "4f23e6c5",
   "metadata": {},
   "outputs": [
    {
     "data": {
      "text/plain": [
       "matrix([[ 625],\n",
       "        [   1],\n",
       "        [  36],\n",
       "        [7744],\n",
       "        [1225],\n",
       "        [3844],\n",
       "        [ 100],\n",
       "        [9801],\n",
       "        [6084],\n",
       "        [   1],\n",
       "        [5329],\n",
       "        [6561]], dtype=int32)"
      ]
     },
     "execution_count": 36,
     "metadata": {},
     "output_type": "execute_result"
    }
   ],
   "source": [
    "#Raise the valules in arr1 to the power of values in arr2\n",
    "np.power(a.T, 2*np.ones_like(a.T))"
   ]
  },
  {
   "cell_type": "markdown",
   "id": "c31b268d",
   "metadata": {},
   "source": [
    "* Both the `mod()` and the `remainder()` functions return the remainder of the values in the first array corresponding to the values in the second array, and return the results in a new array."
   ]
  },
  {
   "cell_type": "code",
   "execution_count": 37,
   "id": "cb7d41a0",
   "metadata": {},
   "outputs": [
    {
     "name": "stderr",
     "output_type": "stream",
     "text": [
      "<ipython-input-37-2a4695c40758>:1: RuntimeWarning: divide by zero encountered in remainder\n",
      "  np.mod(a,b)\n"
     ]
    },
    {
     "data": {
      "text/plain": [
       "matrix([[25,  1,  6, 88, 35, 23, 10, 11,  0,  1, 73, 26]], dtype=int32)"
      ]
     },
     "execution_count": 37,
     "metadata": {},
     "output_type": "execute_result"
    }
   ],
   "source": [
    "np.mod(a,b)"
   ]
  },
  {
   "cell_type": "markdown",
   "id": "591011a1",
   "metadata": {},
   "source": [
    "* The `divmod()` function return both the quotient and the the mod. The return value is two arrays, the first array contains the quotient and second array contains the mod."
   ]
  },
  {
   "cell_type": "code",
   "execution_count": 38,
   "id": "6e0bb9d0",
   "metadata": {},
   "outputs": [
    {
     "name": "stderr",
     "output_type": "stream",
     "text": [
      "<ipython-input-38-c60d8d90d7dd>:1: RuntimeWarning: divide by zero encountered in divmod\n",
      "  np.divmod(a, b)\n"
     ]
    },
    {
     "data": {
      "text/plain": [
       "(matrix([[0, 0, 0, 0, 0, 1, 0, 1, 0, 0, 0, 1]], dtype=int32),\n",
       " matrix([[25,  1,  6, 88, 35, 23, 10, 11,  0,  1, 73, 26]], dtype=int32))"
      ]
     },
     "execution_count": 38,
     "metadata": {},
     "output_type": "execute_result"
    }
   ],
   "source": [
    "np.divmod(a, b)"
   ]
  },
  {
   "cell_type": "markdown",
   "id": "6bcaeb47",
   "metadata": {},
   "source": [
    "* Both the `absolute()` and the `abs()` functions do the same absolute operation element-wise but we should use `absolute()` to avoid confusion with python's inbuilt `math.abs()`"
   ]
  },
  {
   "cell_type": "code",
   "execution_count": 39,
   "id": "a76296bb",
   "metadata": {},
   "outputs": [
    {
     "data": {
      "text/plain": [
       "array([  0.,  25.,  50.,  75., 100.])"
      ]
     },
     "execution_count": 39,
     "metadata": {},
     "output_type": "execute_result"
    }
   ],
   "source": [
    "q = np.linspace(0,-100,5)\n",
    "np.absolute(q)"
   ]
  },
  {
   "cell_type": "markdown",
   "id": "a50ea9d6",
   "metadata": {},
   "source": [
    "## 2. Rounding Decimals\n",
    "There are primarily five ways of rounding off decimals in NumPy:\n",
    "\n",
    "* truncation\n",
    "* fix\n",
    "* rounding\n",
    "* floor\n",
    "* ceil"
   ]
  },
  {
   "cell_type": "code",
   "execution_count": 40,
   "id": "221486ab",
   "metadata": {},
   "outputs": [
    {
     "data": {
      "text/plain": [
       "array([[-0.65515175, -0.02897767, -0.30441253],\n",
       "       [ 0.15224227, -0.66593262,  0.43104705],\n",
       "       [-0.99217391,  0.77876444, -0.29291255],\n",
       "       [ 1.70462243,  0.90092629,  0.31930816]])"
      ]
     },
     "execution_count": 40,
     "metadata": {},
     "output_type": "execute_result"
    }
   ],
   "source": [
    "j = rnd.normal(size = (4,3))\n",
    "j"
   ]
  },
  {
   "cell_type": "code",
   "execution_count": 41,
   "id": "335c1e59",
   "metadata": {},
   "outputs": [
    {
     "data": {
      "text/plain": [
       "array([[-0., -0., -0.],\n",
       "       [ 0., -0.,  0.],\n",
       "       [-0.,  0., -0.],\n",
       "       [ 1.,  0.,  0.]])"
      ]
     },
     "execution_count": 41,
     "metadata": {},
     "output_type": "execute_result"
    }
   ],
   "source": [
    "np.trunc(j)"
   ]
  },
  {
   "cell_type": "code",
   "execution_count": 42,
   "id": "3a12a844",
   "metadata": {},
   "outputs": [
    {
     "data": {
      "text/plain": [
       "array([[-0., -0., -0.],\n",
       "       [ 0., -0.,  0.],\n",
       "       [-0.,  0., -0.],\n",
       "       [ 1.,  0.,  0.]])"
      ]
     },
     "execution_count": 42,
     "metadata": {},
     "output_type": "execute_result"
    }
   ],
   "source": [
    "np.fix(j)   #same as np.truncate(x)"
   ]
  },
  {
   "cell_type": "code",
   "execution_count": 43,
   "id": "0f3f9ac8",
   "metadata": {},
   "outputs": [
    {
     "data": {
      "text/plain": [
       "array([[-1., -1., -1.],\n",
       "       [ 0., -1.,  0.],\n",
       "       [-1.,  0., -1.],\n",
       "       [ 1.,  0.,  0.]])"
      ]
     },
     "execution_count": 43,
     "metadata": {},
     "output_type": "execute_result"
    }
   ],
   "source": [
    "np.floor(j)"
   ]
  },
  {
   "cell_type": "code",
   "execution_count": 44,
   "id": "15a25e5e",
   "metadata": {},
   "outputs": [
    {
     "data": {
      "text/plain": [
       "array([[-0., -0., -0.],\n",
       "       [ 1., -0.,  1.],\n",
       "       [-0.,  1., -0.],\n",
       "       [ 2.,  1.,  1.]])"
      ]
     },
     "execution_count": 44,
     "metadata": {},
     "output_type": "execute_result"
    }
   ],
   "source": [
    "np.ceil(j)"
   ]
  },
  {
   "cell_type": "markdown",
   "id": "4ee2d456",
   "metadata": {},
   "source": [
    "The `around()` function increments preceding digit or decimal by 1 if >=5 else do nothing.\n",
    "\n",
    "E.g. round off to 1 decimal point, 3.16666 is 3.2"
   ]
  },
  {
   "cell_type": "code",
   "execution_count": 45,
   "id": "7d921b63",
   "metadata": {},
   "outputs": [
    {
     "data": {
      "text/plain": [
       "3.17"
      ]
     },
     "execution_count": 45,
     "metadata": {},
     "output_type": "execute_result"
    }
   ],
   "source": [
    "np.around(3.16666,2)"
   ]
  },
  {
   "cell_type": "markdown",
   "id": "ed26f2b6",
   "metadata": {},
   "source": [
    "## 3. Logs\n",
    "If $ a^x = m$ then $x = log_a (m)$"
   ]
  },
  {
   "cell_type": "code",
   "execution_count": 46,
   "id": "973cf46e",
   "metadata": {},
   "outputs": [
    {
     "data": {
      "text/plain": [
       "array([[0.21627925, 2.29586515, 1.03868886],\n",
       "       [0.78093561, 0.82785583, 1.20252987],\n",
       "       [0.95994943, 1.90789986, 1.04323822],\n",
       "       [1.91374691, 0.1216029 , 1.90304291]])"
      ]
     },
     "execution_count": 46,
     "metadata": {},
     "output_type": "execute_result"
    }
   ],
   "source": [
    "l = np.abs(rnd.normal(size = (4,3)))\n",
    "l"
   ]
  },
  {
   "cell_type": "markdown",
   "id": "f2457682",
   "metadata": {},
   "source": [
    "By default, `np.log(x)` takes logartim to the base $e$"
   ]
  },
  {
   "cell_type": "code",
   "execution_count": 47,
   "id": "d94ccec2",
   "metadata": {},
   "outputs": [
    {
     "data": {
      "text/plain": [
       "array([[-1.5311849 ,  0.83110974,  0.03795921],\n",
       "       [-0.24726257, -0.18891625,  0.18442756],\n",
       "       [-0.04087467,  0.64600309,  0.04232955],\n",
       "       [ 0.64906305, -2.10699445,  0.64345414]])"
      ]
     },
     "execution_count": 47,
     "metadata": {},
     "output_type": "execute_result"
    }
   ],
   "source": [
    "np.log(l)"
   ]
  },
  {
   "cell_type": "markdown",
   "id": "9a16409d",
   "metadata": {},
   "source": [
    "Logarithm to base $2$ is taken by `np.log2(x)`"
   ]
  },
  {
   "cell_type": "code",
   "execution_count": 48,
   "id": "a66513d1",
   "metadata": {},
   "outputs": [
    {
     "data": {
      "text/plain": [
       "array([[-2.20903286,  1.19903791,  0.05476357],\n",
       "       [-0.35672449, -0.27254854,  0.26607273],\n",
       "       [-0.05896968,  0.93198545,  0.06106862],\n",
       "       [ 0.93640005, -3.03975044,  0.92830809]])"
      ]
     },
     "execution_count": 48,
     "metadata": {},
     "output_type": "execute_result"
    }
   ],
   "source": [
    "np.log2(l)"
   ]
  },
  {
   "cell_type": "markdown",
   "id": "dd1d342c",
   "metadata": {},
   "source": [
    "Logarithm to base $10$ is taken by `np.log10(x)`"
   ]
  },
  {
   "cell_type": "code",
   "execution_count": 49,
   "id": "a2b0b970",
   "metadata": {},
   "outputs": [
    {
     "data": {
      "text/plain": [
       "array([[-0.66498515,  0.36094638,  0.01648548],\n",
       "       [-0.10738477, -0.08204529,  0.08009587],\n",
       "       [-0.01775164,  0.28055558,  0.01838349],\n",
       "       [ 0.2818845 , -0.91505606,  0.27944858]])"
      ]
     },
     "execution_count": 49,
     "metadata": {},
     "output_type": "execute_result"
    }
   ],
   "source": [
    "np.log10(l)"
   ]
  },
  {
   "cell_type": "markdown",
   "id": "48eb8585",
   "metadata": {},
   "source": [
    "### Log at Any Base\n",
    "NumPy does not provide any function to take log at any base, so we can use the `frompyfunc()` function along with inbuilt function `math.log()` with two input parameters and one output parameter:"
   ]
  },
  {
   "cell_type": "code",
   "execution_count": 50,
   "id": "c256da76",
   "metadata": {},
   "outputs": [
    {
     "data": {
      "text/plain": [
       "1.7005483074552052"
      ]
     },
     "execution_count": 50,
     "metadata": {},
     "output_type": "execute_result"
    }
   ],
   "source": [
    "from math import log\n",
    "nplog = np.frompyfunc(log, 2, 1)\n",
    "nplog(100,15)"
   ]
  },
  {
   "cell_type": "markdown",
   "id": "f696f00e",
   "metadata": {},
   "source": [
    "## 4. Summations\n",
    "Addition is done between two arguments whereas summation happens over $n$ elements."
   ]
  },
  {
   "cell_type": "code",
   "execution_count": 51,
   "id": "a6ce58d8",
   "metadata": {},
   "outputs": [
    {
     "name": "stdout",
     "output_type": "stream",
     "text": [
      "[[81 68]\n",
      " [29 86]\n",
      " [35 43]\n",
      " [83 87]]\n",
      "[[49]\n",
      " [ 5]\n",
      " [67]\n",
      " [70]]\n"
     ]
    }
   ],
   "source": [
    "o = rnd.randint(100, size = (4,2))\n",
    "k = rnd.randint(100, size = (4,1))\n",
    "print(o)\n",
    "print(k)"
   ]
  },
  {
   "cell_type": "code",
   "execution_count": 52,
   "id": "376e8e1e",
   "metadata": {},
   "outputs": [
    {
     "data": {
      "text/plain": [
       "array([[130, 117],\n",
       "       [ 34,  91],\n",
       "       [102, 110],\n",
       "       [153, 157]])"
      ]
     },
     "execution_count": 52,
     "metadata": {},
     "output_type": "execute_result"
    }
   ],
   "source": [
    "np.add(o,k) #broadcasting done automatically"
   ]
  },
  {
   "cell_type": "markdown",
   "id": "06c56a60",
   "metadata": {},
   "source": [
    "### Summation Over Axis"
   ]
  },
  {
   "cell_type": "code",
   "execution_count": 53,
   "id": "037e2be7",
   "metadata": {},
   "outputs": [
    {
     "name": "stdout",
     "output_type": "stream",
     "text": [
      "[[ 9 34 67 78]\n",
      " [53 98  1 28]\n",
      " [20 37 31 19]\n",
      " [92 74 44 64]]\n"
     ]
    }
   ],
   "source": [
    "x = rnd.randint(100, size = (4,4))\n",
    "print(x)"
   ]
  },
  {
   "cell_type": "markdown",
   "id": "99d19e6c",
   "metadata": {},
   "source": [
    "**Add all the elements**"
   ]
  },
  {
   "cell_type": "code",
   "execution_count": 54,
   "id": "6f065bfd",
   "metadata": {},
   "outputs": [
    {
     "data": {
      "text/plain": [
       "749"
      ]
     },
     "execution_count": 54,
     "metadata": {},
     "output_type": "execute_result"
    }
   ],
   "source": [
    "np.sum(x)"
   ]
  },
  {
   "cell_type": "markdown",
   "id": "d23a8503",
   "metadata": {},
   "source": [
    "**Sum along columns** : \n",
    "Add *column* elements\n",
    "\n",
    "[ [$55+98+73+71$]\n",
    "\n",
    "  [$69+93+93+38$]...]"
   ]
  },
  {
   "cell_type": "code",
   "execution_count": 55,
   "id": "762ffb4b",
   "metadata": {},
   "outputs": [
    {
     "data": {
      "text/plain": [
       "array([188, 180, 107, 274])"
      ]
     },
     "execution_count": 55,
     "metadata": {},
     "output_type": "execute_result"
    }
   ],
   "source": [
    "np.sum(x, axis = 1)"
   ]
  },
  {
   "cell_type": "markdown",
   "id": "3836c5ed",
   "metadata": {},
   "source": [
    "**Sum along rows** : Add *row* elements\n",
    "\n",
    "[$55 + 69 + 61 + 70$ ,  $98 + 93 + 31 + 59,...$]\n",
    "\n",
    "Remember that row vectors and column vector are same in numpy so you can't expect a column vector return when summing over rows"
   ]
  },
  {
   "cell_type": "code",
   "execution_count": 56,
   "id": "d4fb64bb",
   "metadata": {},
   "outputs": [
    {
     "data": {
      "text/plain": [
       "array([174, 243, 143, 189])"
      ]
     },
     "execution_count": 56,
     "metadata": {},
     "output_type": "execute_result"
    }
   ],
   "source": [
    "np.sum(x, axis = 0)  "
   ]
  },
  {
   "cell_type": "markdown",
   "id": "d76bf2dd",
   "metadata": {},
   "source": [
    "**Cumulative sum**\n",
    "\n",
    "Cummulative sum means partially adding the elements in array.\n",
    "\n",
    "E.g. The partial sum of $[1, 2, 3, 4]$ would be $[1,  1+2,  1+2+3,  1+2+3+4] = [1, 3, 6, 10].$\n",
    "\n",
    "Perfom partial sum with the `cumsum()` function."
   ]
  },
  {
   "cell_type": "code",
   "execution_count": 57,
   "id": "308bbbf8",
   "metadata": {},
   "outputs": [
    {
     "data": {
      "text/plain": [
       "array([  9,  43, 110, 188, 241, 339, 340, 368, 388, 425, 456, 475, 567,\n",
       "       641, 685, 749], dtype=int32)"
      ]
     },
     "execution_count": 57,
     "metadata": {},
     "output_type": "execute_result"
    }
   ],
   "source": [
    "np.cumsum(x)"
   ]
  },
  {
   "cell_type": "code",
   "execution_count": 58,
   "id": "11133104",
   "metadata": {},
   "outputs": [
    {
     "data": {
      "text/plain": [
       "array([[  9,  34,  67,  78],\n",
       "       [ 62, 132,  68, 106],\n",
       "       [ 82, 169,  99, 125],\n",
       "       [174, 243, 143, 189]], dtype=int32)"
      ]
     },
     "execution_count": 58,
     "metadata": {},
     "output_type": "execute_result"
    }
   ],
   "source": [
    "np.cumsum(x, axis = 0)"
   ]
  },
  {
   "cell_type": "markdown",
   "id": "511871ee",
   "metadata": {},
   "source": [
    "## 5. Products"
   ]
  },
  {
   "cell_type": "code",
   "execution_count": 59,
   "id": "a5d84374",
   "metadata": {},
   "outputs": [
    {
     "data": {
      "text/plain": [
       "array([[ 9, 34, 67, 78],\n",
       "       [53, 98,  1, 28],\n",
       "       [20, 37, 31, 19],\n",
       "       [92, 74, 44, 64]])"
      ]
     },
     "execution_count": 59,
     "metadata": {},
     "output_type": "execute_result"
    }
   ],
   "source": [
    "x"
   ]
  },
  {
   "cell_type": "markdown",
   "id": "00877264",
   "metadata": {},
   "source": [
    "### `np.prod( )`\n",
    "\n",
    "**Product of all Elements**"
   ]
  },
  {
   "cell_type": "code",
   "execution_count": 60,
   "id": "6b320eec",
   "metadata": {},
   "outputs": [
    {
     "data": {
      "text/plain": [
       "-993263616"
      ]
     },
     "execution_count": 60,
     "metadata": {},
     "output_type": "execute_result"
    }
   ],
   "source": [
    "np.prod(x)"
   ]
  },
  {
   "cell_type": "markdown",
   "id": "07ab46ec",
   "metadata": {},
   "source": [
    "**Product along rows**\n",
    "\n",
    "[$55\\times69\\times61\\times70,   98\\times93\\times31\\times59, ...$]"
   ]
  },
  {
   "cell_type": "code",
   "execution_count": 61,
   "id": "5e2b41e5",
   "metadata": {},
   "outputs": [
    {
     "data": {
      "text/plain": [
       "array([ 877680, 9123016,   91388, 2655744])"
      ]
     },
     "execution_count": 61,
     "metadata": {},
     "output_type": "execute_result"
    }
   ],
   "source": [
    "np.prod(x, axis = 0)"
   ]
  },
  {
   "cell_type": "markdown",
   "id": "5b39c832",
   "metadata": {},
   "source": [
    "**Product along columns**\n",
    "\n",
    "$[55\\times98\\times73\\times71,  69\\times93\\times93\\times38, ...]$"
   ]
  },
  {
   "cell_type": "code",
   "execution_count": 62,
   "id": "d3dd308b",
   "metadata": {},
   "outputs": [
    {
     "data": {
      "text/plain": [
       "array([ 1599156,   145432,   435860, 19171328])"
      ]
     },
     "execution_count": 62,
     "metadata": {},
     "output_type": "execute_result"
    }
   ],
   "source": [
    "np.prod(x, axis = 1)"
   ]
  },
  {
   "cell_type": "markdown",
   "id": "81125ff8",
   "metadata": {},
   "source": [
    "### `np.dot( )`\n",
    "\n",
    "Dot product of two arrays. Specifically,\n",
    "\n",
    "* If both a and b are 1-D arrays, it is inner product of vectors (without complex conjugation).\n",
    "\n",
    "* If both a and b are 2-D arrays, it is matrix multiplication, but using `matmul` or `a @ b` is preferred.\n",
    "\n",
    "* If either a or b is 0-D (scalar), it is equivalent to multiply and using `numpy.multiply(a, b)` or `a * b` is preferred.\n",
    "\n",
    "* If a is an N-D array and b is a 1-D array, it is a sum product over the last axis of a and b.\n",
    "\n"
   ]
  },
  {
   "cell_type": "code",
   "execution_count": 63,
   "id": "a7d64df5",
   "metadata": {},
   "outputs": [
    {
     "data": {
      "text/plain": [
       "156"
      ]
     },
     "execution_count": 63,
     "metadata": {},
     "output_type": "execute_result"
    }
   ],
   "source": [
    "np.dot(12,13)"
   ]
  },
  {
   "cell_type": "code",
   "execution_count": 64,
   "id": "de467c76",
   "metadata": {},
   "outputs": [
    {
     "name": "stdout",
     "output_type": "stream",
     "text": [
      "[[ 9 34 67 78]\n",
      " [53 98  1 28]\n",
      " [20 37 31 19]\n",
      " [92 74 44 64]]\n",
      "[[26 45 75]\n",
      " [89 90 39]\n",
      " [59 88  0]\n",
      " [65 80 55]]\n"
     ]
    }
   ],
   "source": [
    "print(x)\n",
    "print(y)\n"
   ]
  },
  {
   "cell_type": "markdown",
   "id": "82b22aae",
   "metadata": {},
   "source": [
    "### Matrix Dot - Product and Cross - Product\n",
    "\n",
    "Same as `np.matmul(x,y)`. For element-wise product use `np.multiply(x,y)`. For cross product use `np.cross(x,y`"
   ]
  },
  {
   "cell_type": "code",
   "execution_count": 65,
   "id": "039d8854",
   "metadata": {
    "scrolled": false
   },
   "outputs": [
    {
     "data": {
      "text/plain": [
       "matrix([[12283, 15601,  6291],\n",
       "        [11979, 13533,  9337],\n",
       "        [ 6877,  8478,  3988],\n",
       "        [15734, 19792, 13306]])"
      ]
     },
     "execution_count": 65,
     "metadata": {},
     "output_type": "execute_result"
    }
   ],
   "source": [
    "np.dot(x,y)"
   ]
  },
  {
   "cell_type": "markdown",
   "id": "ef976f53",
   "metadata": {},
   "source": [
    "## 6. Differences\n",
    "\n",
    "A discrete difference means subtracting two successive elements.\n",
    "\n",
    "E.g. for $[1, 2, 3, 4]$, the discrete difference would be $[2-1, 3-2, 4-3] = [1, 1, 1]$\n",
    "\n",
    "To find the discrete difference, use the `diff()` function.\n",
    "We can perform this operation repeatedly by giving parameter n.\n",
    "\n",
    "E.g. for $[1, 2, 3, 4]$, the discrete difference with `n = 2` would be $[2-1, 3-2, 4-3]$ = $[1, 1, 1]$ , then, since `n=2`, we will do it once more, with the new result: $[1-1, 1-1] = [0, 0]$"
   ]
  },
  {
   "cell_type": "code",
   "execution_count": 66,
   "id": "fe7a42c7",
   "metadata": {},
   "outputs": [
    {
     "data": {
      "text/plain": [
       "array([  5, -30])"
      ]
     },
     "execution_count": 66,
     "metadata": {},
     "output_type": "execute_result"
    }
   ],
   "source": [
    "arr = np.array([10, 15, 25, 5])\n",
    "\n",
    "np.diff(arr, n = 2)"
   ]
  },
  {
   "cell_type": "markdown",
   "id": "beaeae41",
   "metadata": {},
   "source": [
    "## 7. Miscellaneous\n",
    "\n",
    "### LCM and GCD\n",
    "To find the Lowest Common Multiple of all values in an array, you can use the `reduce()` method. The `reduce()` method will use the ufunc, in this case the `lcm()` function, on each element, and reduce the array by one dimension."
   ]
  },
  {
   "cell_type": "code",
   "execution_count": 67,
   "id": "a182f8a2",
   "metadata": {},
   "outputs": [
    {
     "data": {
      "text/plain": [
       "array([13, 26, 39, 52, 65])"
      ]
     },
     "execution_count": 67,
     "metadata": {},
     "output_type": "execute_result"
    }
   ],
   "source": [
    "t = np.linspace(13,65,5).astype(int)\n",
    "t"
   ]
  },
  {
   "cell_type": "code",
   "execution_count": 68,
   "id": "2ed80b24",
   "metadata": {
    "scrolled": true
   },
   "outputs": [
    {
     "data": {
      "text/plain": [
       "780"
      ]
     },
     "execution_count": 68,
     "metadata": {},
     "output_type": "execute_result"
    }
   ],
   "source": [
    "np.lcm.reduce(t)"
   ]
  },
  {
   "cell_type": "code",
   "execution_count": 69,
   "id": "b074e112",
   "metadata": {},
   "outputs": [
    {
     "data": {
      "text/plain": [
       "13"
      ]
     },
     "execution_count": 69,
     "metadata": {},
     "output_type": "execute_result"
    }
   ],
   "source": [
    "np.gcd.reduce(t)"
   ]
  },
  {
   "cell_type": "markdown",
   "id": "187fbb6f",
   "metadata": {},
   "source": [
    "### Trigonometry\n",
    "\n",
    "NumPy provides the ufuncs `sin()`, `cos()` and `tan()` that *take values in radians* and produce the corresponding sin, cos and tan values."
   ]
  },
  {
   "cell_type": "code",
   "execution_count": 70,
   "id": "ce0d2087",
   "metadata": {},
   "outputs": [
    {
     "data": {
      "text/plain": [
       "array([[  1.   ,   5.125,   9.25 ,  13.375,  17.5  ],\n",
       "       [ 21.625,  25.75 ,  29.875,  34.   ,  38.125],\n",
       "       [ 42.25 ,  46.375,  50.5  ,  54.625,  58.75 ],\n",
       "       [ 62.875,  67.   ,  71.125,  75.25 ,  79.375],\n",
       "       [ 83.5  ,  87.625,  91.75 ,  95.875, 100.   ]])"
      ]
     },
     "execution_count": 70,
     "metadata": {},
     "output_type": "execute_result"
    }
   ],
   "source": [
    "arr = np.linspace(1,100,25).reshape(5,5)\n",
    "arr"
   ]
  },
  {
   "cell_type": "code",
   "execution_count": 71,
   "id": "dda64857",
   "metadata": {},
   "outputs": [
    {
     "data": {
      "text/plain": [
       "array([[ 0.84147098, -0.91607692,  0.17388949,  0.72334146, -0.97562601],\n",
       "       [ 0.35802197,  0.57880195, -0.99955393,  0.52908269,  0.41312976],\n",
       "       [-0.98698706,  0.68082602,  0.23237376, -0.93838423,  0.80771166],\n",
       "       [ 0.04313354, -0.85551998,  0.90510688, -0.14768153, -0.74141977],\n",
       "       [ 0.96945567, -0.33310459, -0.60024952,  0.99840858, -0.50636564]])"
      ]
     },
     "execution_count": 71,
     "metadata": {},
     "output_type": "execute_result"
    }
   ],
   "source": [
    "np.sin(arr)"
   ]
  },
  {
   "cell_type": "code",
   "execution_count": 72,
   "id": "1f800b08",
   "metadata": {},
   "outputs": [
    {
     "data": {
      "text/plain": [
       "array([[ 0.54030231,  0.40100259, -0.98476517,  0.6904905 ,  0.21943996],\n",
       "       [-0.93371316,  0.81546815,  0.02986535, -0.84857027,  0.91067217],\n",
       "       [-0.16079968, -0.73244517,  0.97262656, -0.34559374, -0.5895777 ],\n",
       "       [ 0.99906932, -0.5177698 , -0.42518412,  0.98903497, -0.67104152],\n",
       "       [-0.2452666 ,  0.94288988, -0.7998128 , -0.05639413,  0.86231887]])"
      ]
     },
     "execution_count": 72,
     "metadata": {},
     "output_type": "execute_result"
    }
   ],
   "source": [
    "np.cos(arr)"
   ]
  },
  {
   "cell_type": "markdown",
   "id": "a51c3a17",
   "metadata": {},
   "source": [
    "`np.rad2deg` converts radian to degree and `np.deg2rad` does vice-versa."
   ]
  },
  {
   "cell_type": "code",
   "execution_count": 73,
   "id": "462bea4e",
   "metadata": {},
   "outputs": [
    {
     "data": {
      "text/plain": [
       "90.0"
      ]
     },
     "execution_count": 73,
     "metadata": {},
     "output_type": "execute_result"
    }
   ],
   "source": [
    "np.rad2deg(np.arcsin(1))"
   ]
  },
  {
   "cell_type": "markdown",
   "id": "0053834d",
   "metadata": {},
   "source": [
    "NumPy provides the `hypot(base, perp)` function that takes the base and perpendicular values and produces hypotenues based on pythagoras theorem."
   ]
  },
  {
   "cell_type": "code",
   "execution_count": 74,
   "id": "e2c0dd20",
   "metadata": {},
   "outputs": [
    {
     "data": {
      "text/plain": [
       "5.0"
      ]
     },
     "execution_count": 74,
     "metadata": {},
     "output_type": "execute_result"
    }
   ],
   "source": [
    "np.hypot(3,4)"
   ]
  },
  {
   "cell_type": "markdown",
   "id": "0f002081",
   "metadata": {},
   "source": [
    "### Set Operations\n",
    "\n",
    "We can use NumPy's `unique()` method to find unique elements from any array. E.g. create a set array, but remember that the set arrays should only be 1-D arrays.\n",
    "\n",
    "* **Union**: To find the unique values of two arrays, use the `union1d()` method.\n",
    "* **Intersection**: To find only the values that are present in both arrays, use the `intersect1d()` method.\n",
    "* **Difference**: To find only the values in the first set that is NOT present in the seconds set, use the `setdiff1d()` method.\n",
    "* **Symmetric Difference**: To find only the values that are NOT present in BOTH sets, use the `setxor1d()` method.\n",
    "\n",
    "**Note**: the `setxor1d()` method takes an optional argument `assume_unique`, which if set to `True` can speed up computation. *It should always be set to True when dealing with sets.*"
   ]
  },
  {
   "cell_type": "code",
   "execution_count": 75,
   "id": "d2d7976b",
   "metadata": {},
   "outputs": [],
   "source": [
    "arr = np.array([1, 1, 1, 2, 3, 4, 5, 5, 6, 7])"
   ]
  },
  {
   "cell_type": "code",
   "execution_count": 76,
   "id": "4b382677",
   "metadata": {},
   "outputs": [
    {
     "data": {
      "text/plain": [
       "array([1, 2, 3, 4, 5, 6, 7])"
      ]
     },
     "execution_count": 76,
     "metadata": {},
     "output_type": "execute_result"
    }
   ],
   "source": [
    "np.unique(arr)"
   ]
  },
  {
   "cell_type": "code",
   "execution_count": 77,
   "id": "e051aaa5",
   "metadata": {},
   "outputs": [
    {
     "data": {
      "text/plain": [
       "array([1, 2, 3, 4, 5, 6])"
      ]
     },
     "execution_count": 77,
     "metadata": {},
     "output_type": "execute_result"
    }
   ],
   "source": [
    "arr1 = np.array([1, 2, 3, 4])\n",
    "arr2 = np.array([3, 4, 5, 6])\n",
    "\n",
    "np.union1d(arr1, arr2)"
   ]
  },
  {
   "cell_type": "code",
   "execution_count": 78,
   "id": "18bb710e",
   "metadata": {},
   "outputs": [
    {
     "data": {
      "text/plain": [
       "array([3, 4])"
      ]
     },
     "execution_count": 78,
     "metadata": {},
     "output_type": "execute_result"
    }
   ],
   "source": [
    "arr1 = np.array([1, 2, 3, 4])\n",
    "arr2 = np.array([3, 4, 5, 6])\n",
    "\n",
    "np.intersect1d(arr1, arr2, assume_unique=True)"
   ]
  },
  {
   "cell_type": "code",
   "execution_count": 79,
   "id": "c37a499d",
   "metadata": {},
   "outputs": [
    {
     "data": {
      "text/plain": [
       "array([1, 2])"
      ]
     },
     "execution_count": 79,
     "metadata": {},
     "output_type": "execute_result"
    }
   ],
   "source": [
    "set1 = np.array([1, 2, 3, 4])\n",
    "set2 = np.array([3, 4, 5, 6])\n",
    "\n",
    "np.setdiff1d(set1, set2, assume_unique=True)"
   ]
  },
  {
   "cell_type": "code",
   "execution_count": 80,
   "id": "1d6fb6fe",
   "metadata": {},
   "outputs": [
    {
     "data": {
      "text/plain": [
       "array([1, 2, 5, 6])"
      ]
     },
     "execution_count": 80,
     "metadata": {},
     "output_type": "execute_result"
    }
   ],
   "source": [
    "set1 = np.array([1, 2, 3, 4])\n",
    "set2 = np.array([3, 4, 5, 6])\n",
    "\n",
    "np.setxor1d(set1, set2, assume_unique=True)"
   ]
  },
  {
   "cell_type": "markdown",
   "id": "5973b49e",
   "metadata": {},
   "source": [
    "---\n",
    "# $END$\n",
    "---"
   ]
  }
 ],
 "metadata": {
  "kernelspec": {
   "display_name": "Python 3",
   "language": "python",
   "name": "python3"
  },
  "language_info": {
   "codemirror_mode": {
    "name": "ipython",
    "version": 3
   },
   "file_extension": ".py",
   "mimetype": "text/x-python",
   "name": "python",
   "nbconvert_exporter": "python",
   "pygments_lexer": "ipython3",
   "version": "3.8.8"
  }
 },
 "nbformat": 4,
 "nbformat_minor": 5
}
