{
 "cells": [
  {
   "cell_type": "markdown",
   "id": "ac6dfe68",
   "metadata": {},
   "source": [
    "![Numpy](https://upload.wikimedia.org/wikipedia/commons/3/31/NumPy_logo_2020.svg)\n",
    "\n",
    "\n",
    "*By Shreeyansh, Source: w3 Schools, NumPy Documentation*"
   ]
  },
  {
   "cell_type": "markdown",
   "id": "eb39c3c2",
   "metadata": {},
   "source": [
    "---\n",
    "\n",
    "NumPy is a Python library used for working with arrays. It also has functions for working in domain of linear algebra, fourier transform, and matrices. In Python we have lists that serve the purpose of arrays, but they are slow to process.\n",
    "\n",
    "NumPy aims to provide an array object that is up to 50x faster than traditional Python lists.\n",
    "\n",
    "The array object in NumPy is called ndarray, it provides a lot of supporting functions that make working with ndarray very easy.\n",
    "\n",
    "Arrays are very frequently used in data science, where speed and resources are very important.\n",
    "\n",
    "---"
   ]
  },
  {
   "cell_type": "markdown",
   "id": "01184ba5",
   "metadata": {},
   "source": [
    "### Why Numpy is faster than lists?"
   ]
  },
  {
   "cell_type": "markdown",
   "id": "7eaea02e",
   "metadata": {},
   "source": [
    "---\n",
    "\n",
    "NumPy arrays are stored at one continuous place in memory unlike lists, so processes can access and manipulate them very efficiently.\n",
    "\n",
    "This behavior is called locality of reference in computer science.\n",
    "\n",
    "This is the main reason why NumPy is faster than lists. Also it is optimized to work with latest CPU architectures.\n",
    "\n",
    "Numpy is partially ritten in python but most of the parts that require fast computation are written in C and C++.\n",
    "\n",
    "---"
   ]
  },
  {
   "cell_type": "markdown",
   "id": "ba18ac8c",
   "metadata": {},
   "source": [
    "To use Numpy library, we need to import it first"
   ]
  },
  {
   "cell_type": "code",
   "execution_count": 1,
   "id": "9a8cf089",
   "metadata": {},
   "outputs": [],
   "source": [
    "import numpy as np"
   ]
  },
  {
   "cell_type": "code",
   "execution_count": 2,
   "id": "98c8ffeb",
   "metadata": {},
   "outputs": [
    {
     "name": "stdout",
     "output_type": "stream",
     "text": [
      "1.20.1\n"
     ]
    }
   ],
   "source": [
    "print(np.__version__)"
   ]
  },
  {
   "cell_type": "code",
   "execution_count": 3,
   "id": "fb8b2ba6",
   "metadata": {},
   "outputs": [],
   "source": [
    "my_list = [34,67,89,80,24,56]"
   ]
  },
  {
   "cell_type": "markdown",
   "id": "2aca3132",
   "metadata": {},
   "source": [
    "To create an array we use the `np.array()` function."
   ]
  },
  {
   "cell_type": "code",
   "execution_count": 4,
   "id": "da8c6c5e",
   "metadata": {},
   "outputs": [],
   "source": [
    "arr = np.array(my_list)                   #way 1 to create a numpy array - Pass a pre-created list/tuple as an argument"
   ]
  },
  {
   "cell_type": "code",
   "execution_count": 5,
   "id": "1097dba6",
   "metadata": {},
   "outputs": [
    {
     "name": "stdout",
     "output_type": "stream",
     "text": [
      "[34 67 89 80 24 56]\n"
     ]
    }
   ],
   "source": [
    "print(arr)"
   ]
  },
  {
   "cell_type": "code",
   "execution_count": 6,
   "id": "215c0239",
   "metadata": {},
   "outputs": [
    {
     "data": {
      "text/plain": [
       "numpy.ndarray"
      ]
     },
     "execution_count": 6,
     "metadata": {},
     "output_type": "execute_result"
    }
   ],
   "source": [
    "type(arr)"
   ]
  },
  {
   "cell_type": "code",
   "execution_count": 7,
   "id": "d3f4dab9",
   "metadata": {},
   "outputs": [
    {
     "name": "stdout",
     "output_type": "stream",
     "text": [
      "[16 34 67 59 42]\n"
     ]
    }
   ],
   "source": [
    "arr1 = np.array([16,34,67,59,42])       #way 2 to create a numpy array - Manually enter elements of the array\n",
    "print(arr1)"
   ]
  },
  {
   "cell_type": "code",
   "execution_count": 8,
   "id": "acab9e46",
   "metadata": {},
   "outputs": [
    {
     "name": "stdout",
     "output_type": "stream",
     "text": [
      "[34 78 44 89 36]\n"
     ]
    }
   ],
   "source": [
    "arr2 = np.array((34,78,44,89,36))       #way 3 to create a numpy array - Manually enter a tuple/list of elements as argument\n",
    "print(arr2)"
   ]
  },
  {
   "cell_type": "markdown",
   "id": "9cef72c2",
   "metadata": {},
   "source": [
    "---\n",
    "## 0. Basics\n",
    "---"
   ]
  },
  {
   "cell_type": "markdown",
   "id": "9dec80ed",
   "metadata": {},
   "source": [
    "### `np.ones(size)` \n",
    "\n",
    "Return arrays of Ones"
   ]
  },
  {
   "cell_type": "code",
   "execution_count": 9,
   "id": "05b402cc",
   "metadata": {},
   "outputs": [
    {
     "name": "stdout",
     "output_type": "stream",
     "text": [
      "[[1. 1. 1. 1. 1.]\n",
      " [1. 1. 1. 1. 1.]\n",
      " [1. 1. 1. 1. 1.]\n",
      " [1. 1. 1. 1. 1.]]\n"
     ]
    }
   ],
   "source": [
    "Q = np.ones((4,5))\n",
    "print(Q)"
   ]
  },
  {
   "cell_type": "markdown",
   "id": "226f770a",
   "metadata": {},
   "source": [
    "### `np.zeros(size)` \n",
    " Return arrays of Zeros"
   ]
  },
  {
   "cell_type": "code",
   "execution_count": 10,
   "id": "c049a537",
   "metadata": {},
   "outputs": [
    {
     "name": "stdout",
     "output_type": "stream",
     "text": [
      "[[0. 0. 0.]\n",
      " [0. 0. 0.]\n",
      " [0. 0. 0.]\n",
      " [0. 0. 0.]\n",
      " [0. 0. 0.]\n",
      " [0. 0. 0.]]\n"
     ]
    }
   ],
   "source": [
    "R = np.zeros((6,3))\n",
    "print(R)"
   ]
  },
  {
   "cell_type": "markdown",
   "id": "686517b5",
   "metadata": {},
   "source": [
    "### `np.empty(size)` \n",
    "Return a new array of given shape and type, without initializing entries.\n",
    "`empty`, unlike `zeros`, does not set the array values to zero, and may therefore be marginally faster. On the other hand, it requires the user to manually set all the values in the array, and should be used with caution."
   ]
  },
  {
   "cell_type": "code",
   "execution_count": 11,
   "id": "9c5bf611",
   "metadata": {},
   "outputs": [
    {
     "name": "stdout",
     "output_type": "stream",
     "text": [
      "[[1.01421523e-311 3.16202013e-322 0.00000000e+000 0.00000000e+000]\n",
      " [0.00000000e+000 8.37524822e+169 9.41531521e-067 1.04091413e-071]\n",
      " [2.22944852e+180 2.31786971e-052 3.11278513e+179 6.64087537e-066]]\n"
     ]
    }
   ],
   "source": [
    "S = np.empty((3, 4))\n",
    "print(S)"
   ]
  },
  {
   "cell_type": "markdown",
   "id": "a6f970c7",
   "metadata": {},
   "source": [
    "### `np.eye(size)` \n",
    " Return a 2-D array with ones on the diagonal and zeros elsewhere."
   ]
  },
  {
   "cell_type": "code",
   "execution_count": 12,
   "id": "f52283f2",
   "metadata": {},
   "outputs": [
    {
     "name": "stdout",
     "output_type": "stream",
     "text": [
      "[[1. 0. 0. 0. 0.]\n",
      " [0. 1. 0. 0. 0.]\n",
      " [0. 0. 1. 0. 0.]\n",
      " [0. 0. 0. 1. 0.]]\n"
     ]
    }
   ],
   "source": [
    "T = np.eye(4,5)\n",
    "print(T)"
   ]
  },
  {
   "cell_type": "markdown",
   "id": "0b9dcce7",
   "metadata": {},
   "source": [
    "### `np.identity(size)` \n",
    " Return the identity array."
   ]
  },
  {
   "cell_type": "code",
   "execution_count": 13,
   "id": "c3598565",
   "metadata": {},
   "outputs": [
    {
     "name": "stdout",
     "output_type": "stream",
     "text": [
      "[[1. 0. 0. 0. 0.]\n",
      " [0. 1. 0. 0. 0.]\n",
      " [0. 0. 1. 0. 0.]\n",
      " [0. 0. 0. 1. 0.]\n",
      " [0. 0. 0. 0. 1.]]\n"
     ]
    }
   ],
   "source": [
    "U = np.identity(5)\n",
    "print(U)"
   ]
  },
  {
   "cell_type": "markdown",
   "id": "4b7f47ff",
   "metadata": {},
   "source": [
    "### `np.full(size, fill_value)` \n",
    " Return a new array of given shape and type, filled with *fill_value*."
   ]
  },
  {
   "cell_type": "code",
   "execution_count": 14,
   "id": "8eba25a3",
   "metadata": {},
   "outputs": [
    {
     "name": "stdout",
     "output_type": "stream",
     "text": [
      "[[63.45 63.45 63.45 63.45 63.45]\n",
      " [63.45 63.45 63.45 63.45 63.45]\n",
      " [63.45 63.45 63.45 63.45 63.45]]\n"
     ]
    }
   ],
   "source": [
    "V = np.full((3,5),63.45)\n",
    "print(V)"
   ]
  },
  {
   "cell_type": "markdown",
   "id": "0bc9262c",
   "metadata": {},
   "source": [
    "### Constants in NumPy"
   ]
  },
  {
   "cell_type": "markdown",
   "id": "aa27e4b0",
   "metadata": {},
   "source": [
    "* `numpy.Inf` - IEEE 754 floating point representation of (positive) infinity.\n",
    "* `numpy.Infinity` - IEEE 754 floating point representation of (positive) infinity.\n",
    "* `numpy.NAN` - IEEE 754 floating point representation of Not a Number (NaN).NaN and NAN are equivalent definitions of nan.  Please use nan instead of NAN.\n",
    "* `numpy.NINF` - IEEE 754 floating point representation of negative infinity. \n",
    "* `numpy.NZERO` - IEEE 754 floating point representation of negative zero.\n",
    "* `numpy.PINF` - IEEE 754 floating point representation of (positive) infinity. Use inf because Inf, Infinity, PINF and infty are aliases for inf. For more details, see inf.\n",
    "* `numpy.PZERO` - IEEE 754 floating point representation of positive zero.\n",
    "* `numpy.e` - Euler’s constant, base of natural logarithms, Napier’s constant. e = 2.71828...\n",
    "* `numpy.pi` - Constant pi = 3.1415926..."
   ]
  },
  {
   "cell_type": "markdown",
   "id": "1e0e3bd3",
   "metadata": {},
   "source": [
    "---\n",
    "## 1. Dimensions in Arrays\n",
    "---\n",
    "\n",
    "* NumPy Arrays provides the `ndim` attribute that returns an integer that tells us how many dimensions the array have.\n",
    "* NumPy arrays have an attribute `shape` that returns a tuple with each index having the number of corresponding  elements.\n",
    "* NumPy arrays have an attribute `reshape` that can change the shape of an array\n",
    "\n",
    "**Can We Reshape Into any Shape?**\n",
    "\n",
    "Yes, as long as the elements required for reshaping are equal in both shapes.\n",
    "\n",
    "We can reshape an 8 elements 1D array into 4 elements in 2 rows 2D array but we cannot reshape it into a 3 elements 3 rows 2D array as that would require 3x3 = 9 elements.\n",
    "\n",
    "**Unknown Dimension**\n",
    "\n",
    "You are allowed to have one \"unknown\" dimension. Meaning that you do not have to specify an exact number for one of the dimensions in the reshape method. Pass `-1` as the value, and NumPy will calculate this number for you. *Note: We can not pass -1 to more than one dimension.*"
   ]
  },
  {
   "cell_type": "markdown",
   "id": "18f8e5f8",
   "metadata": {},
   "source": [
    "###  *Zero Dimensional Array*"
   ]
  },
  {
   "cell_type": "code",
   "execution_count": 15,
   "id": "8a9f354a",
   "metadata": {},
   "outputs": [
    {
     "name": "stdout",
     "output_type": "stream",
     "text": [
      "42\n"
     ]
    }
   ],
   "source": [
    "Zero_Dim = np.array(42)\n",
    "print(Zero_Dim)"
   ]
  },
  {
   "cell_type": "code",
   "execution_count": 16,
   "id": "dcfaee63",
   "metadata": {
    "scrolled": true
   },
   "outputs": [
    {
     "name": "stdout",
     "output_type": "stream",
     "text": [
      "Type of object <class 'numpy.ndarray'>\n",
      "#Dimensions =  0\n",
      "Shape =  ()\n"
     ]
    }
   ],
   "source": [
    "print(\"Type of object\",type(Zero_Dim))\n",
    "print(\"#Dimensions = \",Zero_Dim.ndim)\n",
    "print(\"Shape = \",Zero_Dim.shape)"
   ]
  },
  {
   "cell_type": "markdown",
   "id": "1f31e6c3",
   "metadata": {},
   "source": [
    "### *One Dimensional Array*"
   ]
  },
  {
   "cell_type": "code",
   "execution_count": 17,
   "id": "1b77f9de",
   "metadata": {},
   "outputs": [
    {
     "name": "stdout",
     "output_type": "stream",
     "text": [
      "[89 56 67 43 55 37]\n"
     ]
    }
   ],
   "source": [
    "One_Dim = np.array([89,56,67,43,55,37])                                   #0 plane - Single row []\n",
    "print(One_Dim)"
   ]
  },
  {
   "cell_type": "code",
   "execution_count": 18,
   "id": "505692c4",
   "metadata": {},
   "outputs": [
    {
     "name": "stdout",
     "output_type": "stream",
     "text": [
      "Type of object <class 'numpy.ndarray'>\n",
      "#Dimensions =  1\n",
      "Shape =  (6,)\n"
     ]
    }
   ],
   "source": [
    "print(\"Type of object\",type(One_Dim))\n",
    "print(\"#Dimensions = \",One_Dim.ndim)\n",
    "print(\"Shape = \",One_Dim.shape)"
   ]
  },
  {
   "cell_type": "code",
   "execution_count": 19,
   "id": "fef213d8",
   "metadata": {},
   "outputs": [
    {
     "data": {
      "text/plain": [
       "array([[89, 56],\n",
       "       [67, 43],\n",
       "       [55, 37]])"
      ]
     },
     "execution_count": 19,
     "metadata": {},
     "output_type": "execute_result"
    }
   ],
   "source": [
    "One_Dim.reshape(3,2)"
   ]
  },
  {
   "cell_type": "markdown",
   "id": "05f6886b",
   "metadata": {},
   "source": [
    "### *Two Dimensional Array*"
   ]
  },
  {
   "cell_type": "code",
   "execution_count": 20,
   "id": "b39d4786",
   "metadata": {},
   "outputs": [
    {
     "name": "stdout",
     "output_type": "stream",
     "text": [
      "[[1 2 3]\n",
      " [4 5 6]]\n"
     ]
    }
   ],
   "source": [
    "Two_Dim = np.array([ [1,2,3],[4,5,6] ])                                        #1 plane - [ [],[] ]\n",
    "print(Two_Dim)"
   ]
  },
  {
   "cell_type": "code",
   "execution_count": 21,
   "id": "af024ce0",
   "metadata": {},
   "outputs": [
    {
     "name": "stdout",
     "output_type": "stream",
     "text": [
      "Type of object <class 'numpy.ndarray'>\n",
      "#Dimensions =  2\n",
      "Shape =  (2, 3)\n"
     ]
    }
   ],
   "source": [
    "print(\"Type of object\",type(Two_Dim))\n",
    "print(\"#Dimensions = \",Two_Dim.ndim)\n",
    "print(\"Shape = \",Two_Dim.shape)"
   ]
  },
  {
   "cell_type": "code",
   "execution_count": 22,
   "id": "b037464d",
   "metadata": {},
   "outputs": [
    {
     "data": {
      "text/plain": [
       "array([[1],\n",
       "       [2],\n",
       "       [3],\n",
       "       [4],\n",
       "       [5],\n",
       "       [6]])"
      ]
     },
     "execution_count": 22,
     "metadata": {},
     "output_type": "execute_result"
    }
   ],
   "source": [
    "Two_Dim.reshape(6,1)"
   ]
  },
  {
   "cell_type": "markdown",
   "id": "78a9395b",
   "metadata": {},
   "source": [
    "### *Three Dimensional Array*"
   ]
  },
  {
   "cell_type": "code",
   "execution_count": 23,
   "id": "d9d8d9f8",
   "metadata": {},
   "outputs": [
    {
     "name": "stdout",
     "output_type": "stream",
     "text": [
      "[[[ 1  2  3]\n",
      "  [ 4  5  6]]\n",
      "\n",
      " [[ 7  8  9]\n",
      "  [10 11 12]]]\n"
     ]
    }
   ],
   "source": [
    "Three_Dim = np.array([ [ [1,2,3],[4,5,6] ], [ [7,8,9],[10,11,12] ] ])      #2 planes - [ [],[] ] , [ [],[] ] - one more extra \n",
    "print(Three_Dim)                                                          #outer bracket to contain both the planes\n"
   ]
  },
  {
   "cell_type": "code",
   "execution_count": 24,
   "id": "6caad473",
   "metadata": {},
   "outputs": [
    {
     "name": "stdout",
     "output_type": "stream",
     "text": [
      "Type of object <class 'numpy.ndarray'>\n",
      "#Dimensions =  3\n",
      "Shape =  (2, 2, 3)\n"
     ]
    }
   ],
   "source": [
    "print(\"Type of object\",type(Three_Dim))\n",
    "print(\"#Dimensions = \",Three_Dim.ndim)\n",
    "print(\"Shape = \",Three_Dim.shape)     # O/P -> (#planes, #rows, #columns)"
   ]
  },
  {
   "cell_type": "markdown",
   "id": "47ba759b",
   "metadata": {},
   "source": [
    "### *Transposing an Array*\n",
    "\n",
    "Reverse or permute the axes of an array; returns the modified array. For an array *a* with two axes, transpose(a) gives the matrix transpose."
   ]
  },
  {
   "cell_type": "code",
   "execution_count": 25,
   "id": "bdcee144",
   "metadata": {},
   "outputs": [
    {
     "name": "stdout",
     "output_type": "stream",
     "text": [
      "[[1. 1. 1. 1. 1. 1.]]\n"
     ]
    }
   ],
   "source": [
    "O = np.ones((1,6))\n",
    "print(O)"
   ]
  },
  {
   "cell_type": "markdown",
   "id": "34f7e92e",
   "metadata": {},
   "source": [
    "**Method 1 - Using `np.transpose(array)`**"
   ]
  },
  {
   "cell_type": "code",
   "execution_count": 26,
   "id": "2feadf08",
   "metadata": {},
   "outputs": [
    {
     "data": {
      "text/plain": [
       "array([[1.],\n",
       "       [1.],\n",
       "       [1.],\n",
       "       [1.],\n",
       "       [1.],\n",
       "       [1.]])"
      ]
     },
     "execution_count": 26,
     "metadata": {},
     "output_type": "execute_result"
    }
   ],
   "source": [
    "np.transpose(O)       "
   ]
  },
  {
   "cell_type": "markdown",
   "id": "26b3d3a4",
   "metadata": {},
   "source": [
    "**Method 2 - Using `array.T`**"
   ]
  },
  {
   "cell_type": "code",
   "execution_count": 27,
   "id": "1e6ea59a",
   "metadata": {},
   "outputs": [
    {
     "data": {
      "text/plain": [
       "array([[1.],\n",
       "       [1.],\n",
       "       [1.],\n",
       "       [1.],\n",
       "       [1.],\n",
       "       [1.]])"
      ]
     },
     "execution_count": 27,
     "metadata": {},
     "output_type": "execute_result"
    }
   ],
   "source": [
    "O.T"
   ]
  },
  {
   "cell_type": "markdown",
   "id": "f268d6a7",
   "metadata": {},
   "source": [
    "***NB***: Transposing a 1D array has no efect on its view. The variable O above is a matrix (notice the double square bracket). There are some ways to do it though,\n",
    "* Pass the array **as a matrix** via using `np.matrix(1d array).T`"
   ]
  },
  {
   "cell_type": "code",
   "execution_count": 28,
   "id": "b6ee0363",
   "metadata": {
    "scrolled": true
   },
   "outputs": [
    {
     "data": {
      "text/plain": [
       "matrix([[1],\n",
       "        [2],\n",
       "        [2],\n",
       "        [3],\n",
       "        [3],\n",
       "        [3],\n",
       "        [4],\n",
       "        [4],\n",
       "        [4],\n",
       "        [4],\n",
       "        [4]])"
      ]
     },
     "execution_count": 28,
     "metadata": {},
     "output_type": "execute_result"
    }
   ],
   "source": [
    "np.matrix([1,2,2,3,3,3,4,4,4,4,4]).T"
   ]
  },
  {
   "cell_type": "markdown",
   "id": "ac6c6ef2",
   "metadata": {},
   "source": [
    "* Pass the array as matrix in `np.transpose()` via using [array]"
   ]
  },
  {
   "cell_type": "code",
   "execution_count": 29,
   "id": "d2d54d34",
   "metadata": {},
   "outputs": [
    {
     "data": {
      "text/plain": [
       "array([[  0.],\n",
       "       [ 25.],\n",
       "       [ 50.],\n",
       "       [ 75.],\n",
       "       [100.]])"
      ]
     },
     "execution_count": 29,
     "metadata": {},
     "output_type": "execute_result"
    }
   ],
   "source": [
    "x = np.linspace(0,100,5)\n",
    "np.transpose([x])"
   ]
  },
  {
   "cell_type": "markdown",
   "id": "265553a0",
   "metadata": {},
   "source": [
    "* Use `array.reshpe((-1,1))`"
   ]
  },
  {
   "cell_type": "code",
   "execution_count": 30,
   "id": "1faed50a",
   "metadata": {},
   "outputs": [
    {
     "data": {
      "text/plain": [
       "array([[  0.],\n",
       "       [ 25.],\n",
       "       [ 50.],\n",
       "       [ 75.],\n",
       "       [100.]])"
      ]
     },
     "execution_count": 30,
     "metadata": {},
     "output_type": "execute_result"
    }
   ],
   "source": [
    "x.reshape((-1,1))"
   ]
  },
  {
   "cell_type": "markdown",
   "id": "00c4a874",
   "metadata": {},
   "source": [
    "---\n",
    "## 2. Flattening Array\n",
    "---\n",
    "\n",
    "Flattening array means converting a multidimensional array into a 1D array. We can use `reshape(-1)` to do this. There are a lot of functions for changing the shapes of arrays in numpy `flatten`, `ravel` and also for rearranging the elements `rot90`, `flip`, `fliplr`, `flipud` etc.\n",
    "\n",
    "*To read the array in row/column major form there are certain orders to follow - '**C**', '**F**', '**A**', '**K**'*\n",
    "\n",
    "‘C’ means to flatten in row-major (C-style) order. ‘F’ means to flatten in column-major (Fortran- style) order. ‘A’ means to flatten in column-major order if array is Fortran contiguous in memory, row-major order otherwise. ‘K’ means to flatten array in the order the elements occur in memory. The default is ‘C’."
   ]
  },
  {
   "cell_type": "markdown",
   "id": "1a72cd26",
   "metadata": {},
   "source": [
    "**Method 1 - Using `arr.reshape(-1)`: Elements read in row-major order**"
   ]
  },
  {
   "cell_type": "code",
   "execution_count": 31,
   "id": "fdf38e76",
   "metadata": {
    "scrolled": false
   },
   "outputs": [
    {
     "name": "stdout",
     "output_type": "stream",
     "text": [
      "[1 2 3 4 5 6]\n"
     ]
    }
   ],
   "source": [
    "arr = np.array([[1, 2, 3], [4, 5, 6]])\n",
    "\n",
    "arr_flattened = arr.reshape(-1)     \n",
    "print(arr_flattened)"
   ]
  },
  {
   "cell_type": "markdown",
   "id": "c588d361",
   "metadata": {},
   "source": [
    "**Method 2 - Using `np.ravel(array, order)`**"
   ]
  },
  {
   "cell_type": "code",
   "execution_count": 32,
   "id": "6351a96b",
   "metadata": {},
   "outputs": [
    {
     "name": "stdout",
     "output_type": "stream",
     "text": [
      "Original Array: \n",
      "[[1 2 3]\n",
      " [4 5 6]\n",
      " [7 8 9]]\n",
      "Row Major Order:  [1 2 3 4 5 6 7 8 9]\n",
      "Column Major Order:  [1 4 7 2 5 8 3 6 9]\n"
     ]
    }
   ],
   "source": [
    "x = np.array([[1, 2, 3], [4, 5, 6],[7, 8, 9]])\n",
    "print(\"Original Array: \")\n",
    "print(x)\n",
    "\n",
    "row_major = np.ravel(x, order = 'C')     \n",
    "print(\"Row Major Order: \",row_major)      \n",
    "\n",
    "column_major = np.ravel(x, order = 'F')\n",
    "print(\"Column Major Order: \",column_major)"
   ]
  },
  {
   "cell_type": "markdown",
   "id": "6b0cc8f5",
   "metadata": {},
   "source": [
    "**Method 3 - Using `array.flatten(order)`**"
   ]
  },
  {
   "cell_type": "code",
   "execution_count": 33,
   "id": "2709c058",
   "metadata": {},
   "outputs": [
    {
     "name": "stdout",
     "output_type": "stream",
     "text": [
      "[1 2 3 4 5 6 7 8 9]\n"
     ]
    }
   ],
   "source": [
    "flattened_array = x.flatten()    #default order is 'C'\n",
    "print(flattened_array)"
   ]
  },
  {
   "cell_type": "code",
   "execution_count": 34,
   "id": "bc5bb3ab",
   "metadata": {},
   "outputs": [
    {
     "name": "stdout",
     "output_type": "stream",
     "text": [
      "[1 4 7 2 5 8 3 6 9]\n"
     ]
    }
   ],
   "source": [
    "print(x.flatten('F'))          "
   ]
  },
  {
   "cell_type": "markdown",
   "id": "4918a46d",
   "metadata": {},
   "source": [
    "***\n",
    "## 3. Array Indexing\n",
    "***\n",
    "\n",
    "Indexing is similar to that of C/C++, just, instead of writing each index in seperate brackets, use single bracket for all indices seperated by commas."
   ]
  },
  {
   "cell_type": "code",
   "execution_count": 35,
   "id": "15eaf3b2",
   "metadata": {},
   "outputs": [
    {
     "data": {
      "text/plain": [
       "43"
      ]
     },
     "execution_count": 35,
     "metadata": {},
     "output_type": "execute_result"
    }
   ],
   "source": [
    "One_Dim[3]          #Element at 3rd index"
   ]
  },
  {
   "cell_type": "code",
   "execution_count": 36,
   "id": "0aec752c",
   "metadata": {},
   "outputs": [
    {
     "data": {
      "text/plain": [
       "6"
      ]
     },
     "execution_count": 36,
     "metadata": {},
     "output_type": "execute_result"
    }
   ],
   "source": [
    "Two_Dim[1,2]       #Element at 2nd Row (1), 3rd column(2) (indexing of each dimension starts at 0)"
   ]
  },
  {
   "cell_type": "code",
   "execution_count": 37,
   "id": "8958057a",
   "metadata": {},
   "outputs": [
    {
     "data": {
      "text/plain": [
       "6"
      ]
     },
     "execution_count": 37,
     "metadata": {},
     "output_type": "execute_result"
    }
   ],
   "source": [
    "Three_Dim[0,1,2]   #Element at 1st plane (0), 2nd Row (1), 3rd Column (2)"
   ]
  },
  {
   "cell_type": "markdown",
   "id": "4c5cf0da",
   "metadata": {},
   "source": [
    "***Negative Indexing is used to access an array from the end***"
   ]
  },
  {
   "cell_type": "code",
   "execution_count": 38,
   "id": "1f44fa3d",
   "metadata": {},
   "outputs": [
    {
     "data": {
      "text/plain": [
       "6"
      ]
     },
     "execution_count": 38,
     "metadata": {},
     "output_type": "execute_result"
    }
   ],
   "source": [
    "Two_Dim[1,-1]     #Last element at 2nd row"
   ]
  },
  {
   "cell_type": "markdown",
   "id": "10e23b37",
   "metadata": {},
   "source": [
    "---\n",
    "## 4. Array Slicing\n",
    "---\n",
    "\n",
    "Slicing in python means taking elements from one given index to another given index.We pass slice instead of index like this: `[start:end].`We can also define the step, like this: `[start:end:step].`\n",
    "\n",
    "* If we don't pass start its considered 0\n",
    "\n",
    "* If we don't pass end its considered length of array in that dimension\n",
    "\n",
    "* If we don't pass step its considered 1\n",
    "\n",
    "***The result includes the start index, but excludes the end index.***"
   ]
  },
  {
   "cell_type": "code",
   "execution_count": 39,
   "id": "af7d7daa",
   "metadata": {},
   "outputs": [
    {
     "name": "stdout",
     "output_type": "stream",
     "text": [
      "[56 67 43]\n"
     ]
    }
   ],
   "source": [
    "print(One_Dim[1:4])   #1st Index to 3rd Index"
   ]
  },
  {
   "cell_type": "code",
   "execution_count": 40,
   "id": "8865e563",
   "metadata": {},
   "outputs": [
    {
     "name": "stdout",
     "output_type": "stream",
     "text": [
      "[5 6]\n"
     ]
    }
   ],
   "source": [
    "print(Two_Dim[1, 1:3]) #2nd Row --> elements 1st and 2nd"
   ]
  },
  {
   "cell_type": "code",
   "execution_count": 41,
   "id": "bcfa0d82",
   "metadata": {},
   "outputs": [
    {
     "name": "stdout",
     "output_type": "stream",
     "text": [
      "Original:\n",
      "[[ 1  2  3  4  5]\n",
      " [ 6  7  8  9 10]]\n",
      "\r\n",
      "Sliced:  [3 8]\n"
     ]
    }
   ],
   "source": [
    "arr = np.array([[1, 2, 3, 4, 5], [6, 7, 8, 9, 10]])\n",
    "print(\"Original:\")\n",
    "print(arr)\n",
    "print(\"\\r\")\n",
    "print(\"Sliced: \",arr[0:2, 2])   #From both rows (0:2), return 2nd index"
   ]
  },
  {
   "cell_type": "code",
   "execution_count": 42,
   "id": "0c76d0f1",
   "metadata": {},
   "outputs": [
    {
     "name": "stdout",
     "output_type": "stream",
     "text": [
      "[[2 3 4]\n",
      " [7 8 9]]\n"
     ]
    }
   ],
   "source": [
    "arr2 = np.array([[1, 2, 3, 4, 5], [6, 7, 8, 9, 10]])\n",
    "\n",
    "print(arr2[0:2, 1:4])  #From both rows, return 1st to 3rd indices"
   ]
  },
  {
   "cell_type": "markdown",
   "id": "d0de007d",
   "metadata": {},
   "source": [
    "---\n",
    "## 5. Datatypes in NumPy\n",
    "---\n",
    "\n",
    "NumPy has some extra data types, and refer to data types with one character, like `i` for integers, `u` for unsigned integers etc.\n",
    "\n",
    "Below is a list of all data types in NumPy and the characters used to represent them.\n",
    "\n",
    "* `i` - integer\n",
    "* `b` - boolean\n",
    "* `u` - unsigned integer\n",
    "* `f` - float\n",
    "* `c` - complex float\n",
    "* `m` - timedelta\n",
    "* `M` - datetime\n",
    "* `O` - object\n",
    "* `S` - string\n",
    "* `U` - unicode string\n",
    "* `V` - fixed chunk of memory for other type ( void )\n",
    "\n",
    "The NumPy array object has a property called `dtype` that returns the data type of the array:"
   ]
  },
  {
   "cell_type": "code",
   "execution_count": 43,
   "id": "f4419404",
   "metadata": {},
   "outputs": [
    {
     "name": "stdout",
     "output_type": "stream",
     "text": [
      "int32\n"
     ]
    }
   ],
   "source": [
    "print(Three_Dim.dtype)"
   ]
  },
  {
   "cell_type": "markdown",
   "id": "99bcb5e9",
   "metadata": {},
   "source": [
    "We use the `array()` function to create arrays, this function can take an optional argument: `dtype` that allows us to define the expected data type of the array elements:"
   ]
  },
  {
   "cell_type": "code",
   "execution_count": 44,
   "id": "cc086f4d",
   "metadata": {},
   "outputs": [
    {
     "name": "stdout",
     "output_type": "stream",
     "text": [
      "[b'1' b'2' b'3' b'4']\n",
      "|S1\n"
     ]
    }
   ],
   "source": [
    "arr = np.array([1, 2, 3, 4], dtype='S')\n",
    "\n",
    "print(arr)\n",
    "print(arr.dtype)"
   ]
  },
  {
   "cell_type": "markdown",
   "id": "035938b4",
   "metadata": {},
   "source": [
    "For `i`, `u`, `f`, `S` and `U` we can define size as well."
   ]
  },
  {
   "cell_type": "code",
   "execution_count": 45,
   "id": "886aadc2",
   "metadata": {},
   "outputs": [
    {
     "name": "stdout",
     "output_type": "stream",
     "text": [
      "[1 2 3 4]\n",
      "int32\n"
     ]
    }
   ],
   "source": [
    "arr = np.array([1, 2, 3, 4], dtype='i4')  #Create an array with data type 4 byte integers\n",
    "\n",
    "print(arr)\n",
    "print(arr.dtype)"
   ]
  },
  {
   "cell_type": "markdown",
   "id": "0ef5b387",
   "metadata": {},
   "source": [
    "### *Converting datatype on existing array*\n",
    "\n",
    "The best way to change the data type of an existing array, is to make a copy of the array with the `astype()` method.\n",
    "\n",
    "The `astype()` function creates a copy of the array, and allows you to specify the data type as a parameter.\n",
    "\n",
    "The data type can be specified using a string, like `f` for float, `i` for integer etc. or you can use the data type directly like float for float and int for integer."
   ]
  },
  {
   "cell_type": "code",
   "execution_count": 46,
   "id": "e0d8f26d",
   "metadata": {},
   "outputs": [
    {
     "name": "stdout",
     "output_type": "stream",
     "text": [
      "[1 2 3]\n",
      "int32\n"
     ]
    }
   ],
   "source": [
    "arr = np.array([1.1, 2.1, 3.1])\n",
    "\n",
    "newarr = arr.astype('i')\n",
    "\n",
    "print(newarr)\n",
    "print(newarr.dtype)"
   ]
  },
  {
   "cell_type": "markdown",
   "id": "a50b822a",
   "metadata": {},
   "source": [
    "---\n",
    "## 6. Copy vs View\n",
    "---"
   ]
  },
  {
   "cell_type": "markdown",
   "id": "117c3ee7",
   "metadata": {},
   "source": [
    "The main difference between a copy and a view of an array is that the copy is a new array, and the view is just a view of the original array.\n",
    "\n",
    "* The copy owns the data and any changes made to the copy will not affect original array, and any changes made to the original array will not affect the copy. The copy SHOULD NOT be affected by the changes made to the original array.\n",
    "\n",
    "* The view does not own the data and any changes made to the view will affect the original array, and any changes made to the original array will affect the view. The view SHOULD be affected by the changes made to the original array.\n",
    "\n"
   ]
  },
  {
   "cell_type": "code",
   "execution_count": 47,
   "id": "9c8fa09a",
   "metadata": {},
   "outputs": [
    {
     "name": "stdout",
     "output_type": "stream",
     "text": [
      "[89 56 67 43 55 37]\n"
     ]
    }
   ],
   "source": [
    "alias_copy = One_Dim.copy()\n",
    "print(alias_copy)"
   ]
  },
  {
   "cell_type": "code",
   "execution_count": 48,
   "id": "0e22709e",
   "metadata": {},
   "outputs": [
    {
     "name": "stdout",
     "output_type": "stream",
     "text": [
      "Original's Address:  2052809110992\n",
      "Copy's Address:  2052809279504\n"
     ]
    }
   ],
   "source": [
    "print(\"Original's Address: \",id(One_Dim))\n",
    "print(\"Copy's Address: \",id(alias_copy))\n"
   ]
  },
  {
   "cell_type": "code",
   "execution_count": 49,
   "id": "f13e74f9",
   "metadata": {},
   "outputs": [
    {
     "name": "stdout",
     "output_type": "stream",
     "text": [
      "[89 56 67 43 55 37]\n"
     ]
    }
   ],
   "source": [
    "alias_view = One_Dim.view()\n",
    "print(alias_view)"
   ]
  },
  {
   "cell_type": "code",
   "execution_count": 50,
   "id": "fd3f2e05",
   "metadata": {},
   "outputs": [
    {
     "name": "stdout",
     "output_type": "stream",
     "text": [
      "Original's Address:  2052809110992\n",
      "View's Address:  2052809281232\n"
     ]
    }
   ],
   "source": [
    "print(\"Original's Address: \",id(One_Dim))\n",
    "print(\"View's Address: \",id(alias_view))"
   ]
  },
  {
   "cell_type": "code",
   "execution_count": 51,
   "id": "341247ff",
   "metadata": {},
   "outputs": [
    {
     "name": "stdout",
     "output_type": "stream",
     "text": [
      "[89 23 67 43 55 37]\n",
      "[89 23 67 43 55 37]\n"
     ]
    }
   ],
   "source": [
    "alias_view[1] = 23\n",
    "print(alias_view)\n",
    "print(One_Dim)   #Original Object Changed if view changed "
   ]
  },
  {
   "cell_type": "code",
   "execution_count": 52,
   "id": "e8b1f4de",
   "metadata": {},
   "outputs": [
    {
     "name": "stdout",
     "output_type": "stream",
     "text": [
      "[89 56 23 43 55 37]\n",
      "[89 23 67 43 55 37]\n"
     ]
    }
   ],
   "source": [
    "alias_copy[2] = 23\n",
    "print(alias_copy)\n",
    "print(One_Dim)     #Original Object Unchanged if copy changed"
   ]
  },
  {
   "cell_type": "markdown",
   "id": "8a47f7f7",
   "metadata": {},
   "source": [
    "### *Check if Array Owns Its's Data*"
   ]
  },
  {
   "cell_type": "markdown",
   "id": "93e2b450",
   "metadata": {},
   "source": [
    "As mentioned above, copies owns the data, and views does not own the data, but how can we check this? Every NumPy array has the attribute `base` that returns `None` if the array owns the data. Otherwise, the base  attribute refers to the original object."
   ]
  },
  {
   "cell_type": "code",
   "execution_count": 53,
   "id": "1a86ff02",
   "metadata": {},
   "outputs": [
    {
     "name": "stdout",
     "output_type": "stream",
     "text": [
      "None\n",
      "[1 2 3 4 5]\n"
     ]
    }
   ],
   "source": [
    "arr = np.array([1, 2, 3, 4, 5])\n",
    "\n",
    "x = arr.copy()\n",
    "y = arr.view()\n",
    "\n",
    "print(x.base)\n",
    "print(y.base)"
   ]
  },
  {
   "cell_type": "code",
   "execution_count": 54,
   "id": "c4eaeda4",
   "metadata": {},
   "outputs": [
    {
     "data": {
      "text/plain": [
       "array([1, 2, 3, 4, 5])"
      ]
     },
     "execution_count": 54,
     "metadata": {},
     "output_type": "execute_result"
    }
   ],
   "source": [
    "x.reshape(5,1).base"
   ]
  },
  {
   "cell_type": "markdown",
   "id": "e9623e2f",
   "metadata": {},
   "source": [
    "---\n",
    "## 7. Iterating over arrays\n",
    "---\n",
    "\n",
    "The function `nditer()` is a helping function that can be used from very basic to very advanced iterations. It solves some basic issues which we face in iteration.\n",
    "\n",
    "* **Iterating on Each Scalar Element** -  In basic 'for' loops, iterating through each scalar of an array we need to use *n* 'for' loops for *n*-dimensional array which can be difficult to write for arrays with very high dimensionality."
   ]
  },
  {
   "cell_type": "code",
   "execution_count": 55,
   "id": "53decf4d",
   "metadata": {},
   "outputs": [
    {
     "name": "stdout",
     "output_type": "stream",
     "text": [
      "1\n",
      "2\n",
      "3\n",
      "4\n",
      "5\n",
      "6\n",
      "7\n",
      "8\n"
     ]
    }
   ],
   "source": [
    "arr = np.array([[[1, 2], [3, 4]], [[5, 6], [7, 8]]])\n",
    "\n",
    "for x in np.nditer(arr):\n",
    "  print(x)"
   ]
  },
  {
   "cell_type": "markdown",
   "id": "450036f8",
   "metadata": {},
   "source": [
    "* **Iterating Array With Different Data Types** - \n",
    "We can use `op_dtypes` argument and pass it the expected datatype to change the datatype of elements while iterating. NumPy does not change the data type of the element in-place (where the element is in array) so it needs some other space to perform this action, that extra space is called buffer, and in order to enable it in `nditer()` we pass `flags=['buffered'].`"
   ]
  },
  {
   "cell_type": "code",
   "execution_count": 56,
   "id": "18d44295",
   "metadata": {
    "scrolled": true
   },
   "outputs": [
    {
     "name": "stdout",
     "output_type": "stream",
     "text": [
      "b'1'\n",
      "b'2'\n",
      "b'3'\n"
     ]
    }
   ],
   "source": [
    "arr = np.array([1, 2, 3])\n",
    "\n",
    "for x in np.nditer(arr, flags=['buffered'], op_dtypes=['S']):\n",
    "  print(x)"
   ]
  },
  {
   "cell_type": "markdown",
   "id": "84d83b35",
   "metadata": {},
   "source": [
    "* **Iterating With Different Step Size** - We can use filtering and followed by iteration."
   ]
  },
  {
   "cell_type": "code",
   "execution_count": 57,
   "id": "a6f29d7b",
   "metadata": {},
   "outputs": [
    {
     "name": "stdout",
     "output_type": "stream",
     "text": [
      "1\n",
      "3\n",
      "5\n",
      "7\n"
     ]
    }
   ],
   "source": [
    "arr = np.array([[1, 2, 3, 4], [5, 6, 7, 8]])\n",
    "\n",
    "for x in np.nditer(arr[:, ::2]):     #Iterate with step of 2\n",
    "  print(x)"
   ]
  },
  {
   "cell_type": "markdown",
   "id": "512af37b",
   "metadata": {},
   "source": [
    "* **Enumerated Iteration Using `ndenumerate()`** - Sometimes we require corresponding index of the element while iterating, the `ndenumerate()` method can be used for those usecases."
   ]
  },
  {
   "cell_type": "code",
   "execution_count": 58,
   "id": "cd3e3468",
   "metadata": {},
   "outputs": [
    {
     "name": "stdout",
     "output_type": "stream",
     "text": [
      "(0,) 1\n",
      "(1,) 2\n",
      "(2,) 3\n"
     ]
    }
   ],
   "source": [
    "arr = np.array([1, 2, 3])\n",
    "\n",
    "for idx, x in np.ndenumerate(arr):\n",
    "  print(idx, x)"
   ]
  },
  {
   "cell_type": "markdown",
   "id": "96580dbc",
   "metadata": {},
   "source": [
    "---\n",
    "## 8. Joining Arrays\n",
    "---\n",
    "In SQL we join tables based on a key, whereas in NumPy we join arrays by axes. We pass a sequence of arrays that we want to join to the `concatenate()` function, along with the axis. If axis is not explicitly passed, it is taken as 0.\n",
    "\n",
    "`axis = 0`- row wise\n",
    "\n",
    "`axis = 1`- column wise"
   ]
  },
  {
   "cell_type": "code",
   "execution_count": 59,
   "id": "ac1f7e7d",
   "metadata": {
    "scrolled": true
   },
   "outputs": [
    {
     "name": "stdout",
     "output_type": "stream",
     "text": [
      "[[69 80 89 96 42]\n",
      " [88 56 70 93 53]\n",
      " [36 24 17 64 63]]\n",
      "\r\n",
      "[[82 82 19 70 78]\n",
      " [59 33 70 38 82]\n",
      " [85 46 12 60 60]]\n",
      "\r\n",
      "Joined: \r\n",
      "[[69 80 89 96 42]\n",
      " [88 56 70 93 53]\n",
      " [36 24 17 64 63]\n",
      " [82 82 19 70 78]\n",
      " [59 33 70 38 82]\n",
      " [85 46 12 60 60]]\n"
     ]
    }
   ],
   "source": [
    "from numpy import random\n",
    "arr1 = random.randint(100, size=(3,5))\n",
    "arr2 = random.randint(100, size=(3,5))\n",
    "\n",
    "arr3 = np.concatenate((arr1,arr2))\n",
    "print(arr1)\n",
    "print(\"\\r\")\n",
    "print(arr2)\n",
    "print(\"\\r\")\n",
    "print(\"Joined: \\r\")\n",
    "print(arr3)\n"
   ]
  },
  {
   "cell_type": "markdown",
   "id": "85f43f41",
   "metadata": {},
   "source": [
    "* **Stack Functions** \n",
    "\n",
    "Stacking is same as concatenation, the only difference is that stacking is done along a new axis. We can concatenate two 1-D arrays along the second axis which would result in putting them one over the other, ie. stacking. We pass a sequence of arrays that we want to join to the `stack()` method along with the axis. If axis is not explicitly passed it is taken as 0."
   ]
  },
  {
   "cell_type": "code",
   "execution_count": 60,
   "id": "11a51fbe",
   "metadata": {},
   "outputs": [
    {
     "name": "stdout",
     "output_type": "stream",
     "text": [
      "[[[69 80 89 96 42]\n",
      "  [88 56 70 93 53]\n",
      "  [36 24 17 64 63]]\n",
      "\n",
      " [[82 82 19 70 78]\n",
      "  [59 33 70 38 82]\n",
      "  [85 46 12 60 60]]]\n"
     ]
    }
   ],
   "source": [
    "arr3 = np.stack((arr1,arr2), axis = 0)\n",
    "print(arr3)"
   ]
  },
  {
   "cell_type": "code",
   "execution_count": 61,
   "id": "558effb0",
   "metadata": {},
   "outputs": [
    {
     "name": "stdout",
     "output_type": "stream",
     "text": [
      "[[[69 80 89 96 42]\n",
      "  [82 82 19 70 78]]\n",
      "\n",
      " [[88 56 70 93 53]\n",
      "  [59 33 70 38 82]]\n",
      "\n",
      " [[36 24 17 64 63]\n",
      "  [85 46 12 60 60]]]\n"
     ]
    }
   ],
   "source": [
    "arr3 = np.stack((arr1,arr2), axis = 1)\n",
    "print(arr3)"
   ]
  },
  {
   "cell_type": "markdown",
   "id": "05e5396f",
   "metadata": {},
   "source": [
    "* **Stacking Along Rows** - \n",
    "\n",
    "NumPy provides a helper function: `hstack()` to stack along rows."
   ]
  },
  {
   "cell_type": "code",
   "execution_count": 62,
   "id": "7c4c7228",
   "metadata": {},
   "outputs": [
    {
     "name": "stdout",
     "output_type": "stream",
     "text": [
      "[[69 80 89 96 42 82 82 19 70 78]\n",
      " [88 56 70 93 53 59 33 70 38 82]\n",
      " [36 24 17 64 63 85 46 12 60 60]]\n"
     ]
    }
   ],
   "source": [
    "arr3 = np.hstack((arr1,arr2))\n",
    "print(arr3)\n",
    "\n",
    "\n",
    "# -----     -----     ----- -----\n",
    "# |   |  +  |   |  =  |   | |   |\n",
    "# |   |     |   |     |   | |   |  \n",
    "# -----     -----     ----- -----\n"
   ]
  },
  {
   "cell_type": "markdown",
   "id": "5634a6be",
   "metadata": {},
   "source": [
    "* **Stacking Along Columns** - \n",
    "\n",
    "NumPy provides a helper function: `vstack()`  to stack along columns."
   ]
  },
  {
   "cell_type": "code",
   "execution_count": 63,
   "id": "e22abe34",
   "metadata": {},
   "outputs": [
    {
     "name": "stdout",
     "output_type": "stream",
     "text": [
      "[[69 80 89 96 42]\n",
      " [88 56 70 93 53]\n",
      " [36 24 17 64 63]\n",
      " [82 82 19 70 78]\n",
      " [59 33 70 38 82]\n",
      " [85 46 12 60 60]]\n"
     ]
    }
   ],
   "source": [
    "arr4 = np.vstack((arr1,arr2))\n",
    "print(arr4)\n",
    "\n",
    "# -----     -----     ----- \n",
    "# |   |  +  |   |  =  |   | \n",
    "# |   |     |   |     |   | \n",
    "# -----     -----     ----- \n",
    "#                     -----\n",
    "#                     |   |\n",
    "#                     |   |\n",
    "#                     -----"
   ]
  },
  {
   "cell_type": "markdown",
   "id": "5ec39c01",
   "metadata": {},
   "source": [
    "* **Stacking Along Depth/Height**\n",
    "\n",
    "NumPy provides a helper function: `dstack()` to stack along height, which is the same as depth."
   ]
  },
  {
   "cell_type": "code",
   "execution_count": 64,
   "id": "81807b8a",
   "metadata": {},
   "outputs": [
    {
     "name": "stdout",
     "output_type": "stream",
     "text": [
      "[[69 80 89 96 42]\n",
      " [88 56 70 93 53]\n",
      " [36 24 17 64 63]]\n",
      "\r\n",
      "[[82 82 19 70 78]\n",
      " [59 33 70 38 82]\n",
      " [85 46 12 60 60]]\n",
      "\r",
      "\r\n",
      "[[[69 82]\n",
      "  [80 82]\n",
      "  [89 19]\n",
      "  [96 70]\n",
      "  [42 78]]\n",
      "\n",
      " [[88 59]\n",
      "  [56 33]\n",
      "  [70 70]\n",
      "  [93 38]\n",
      "  [53 82]]\n",
      "\n",
      " [[36 85]\n",
      "  [24 46]\n",
      "  [17 12]\n",
      "  [64 60]\n",
      "  [63 60]]]\n"
     ]
    }
   ],
   "source": [
    "arr5 = np.dstack((arr1,arr2))\n",
    "print(arr1)\n",
    "print(\"\\r\")\n",
    "print(arr2)\n",
    "print(\"\\r\\r\")\n",
    "print(arr5)"
   ]
  },
  {
   "cell_type": "markdown",
   "id": "05536e31",
   "metadata": {},
   "source": [
    "---\n",
    "## 9. Splitting Array\n",
    "---\n",
    "\n",
    "Splitting is reverse operation of Joining. Joining merges multiple arrays into one and Splitting breaks one array into multiple. We use \n",
    "\n",
    "`array_split(array, #parts, axis)` for splitting arrays, we pass it the array we want to split and the number of splits. `axis` is optional argument whose value by default is 0."
   ]
  },
  {
   "cell_type": "code",
   "execution_count": 65,
   "id": "22602db7",
   "metadata": {},
   "outputs": [
    {
     "name": "stdout",
     "output_type": "stream",
     "text": [
      "[[69 80 89 96 42]\n",
      " [88 56 70 93 53]\n",
      " [36 24 17 64 63]]\n",
      "\r",
      "\r\n",
      "[array([[69, 80, 89, 96, 42]]), array([[88, 56, 70, 93, 53]]), array([[36, 24, 17, 64, 63]])]\n"
     ]
    }
   ],
   "source": [
    "x = np.array_split(arr1, 3)\n",
    "print(arr1)\n",
    "print(\"\\r\\r\")\n",
    "print(x)"
   ]
  },
  {
   "cell_type": "markdown",
   "id": "e193c8e2",
   "metadata": {},
   "source": [
    "**If the array has less elements than required, it will adjust from the end accordingly.**"
   ]
  },
  {
   "cell_type": "code",
   "execution_count": 66,
   "id": "d7bbe7cd",
   "metadata": {},
   "outputs": [
    {
     "name": "stdout",
     "output_type": "stream",
     "text": [
      "[[69 80 89 96 42]\n",
      " [88 56 70 93 53]\n",
      " [36 24 17 64 63]]\n",
      "\r",
      "\r\n",
      "[array([[69, 80, 89, 96, 42]]), array([[88, 56, 70, 93, 53]]), array([[36, 24, 17, 64, 63]]), array([], shape=(0, 5), dtype=int32)]\n"
     ]
    }
   ],
   "source": [
    "x = np.array_split(arr1, 4)\n",
    "print(arr1)\n",
    "print(\"\\r\\r\")\n",
    "print(x)"
   ]
  },
  {
   "cell_type": "code",
   "execution_count": 67,
   "id": "376aaa81",
   "metadata": {},
   "outputs": [
    {
     "name": "stdout",
     "output_type": "stream",
     "text": [
      "[[69 80 89 96 42]]\n",
      "[[88 56 70 93 53]]\n",
      "[[36 24 17 64 63]]\n",
      "[]\n"
     ]
    }
   ],
   "source": [
    "print(x[0])\n",
    "print(x[1])\n",
    "print(x[2])\n",
    "print(x[3])"
   ]
  },
  {
   "cell_type": "markdown",
   "id": "56137dca",
   "metadata": {},
   "source": [
    "*N.B.:We also have the method `split()` available but it will not adjust the elements when elements are less in source array for splitting like in example above, `array_split()` worked properly but `split()` would fail.*"
   ]
  },
  {
   "cell_type": "code",
   "execution_count": 68,
   "id": "2da3fa99",
   "metadata": {},
   "outputs": [
    {
     "name": "stdout",
     "output_type": "stream",
     "text": [
      "Before Split:\r\n",
      "[[69 80 89 96 42]\n",
      " [88 56 70 93 53]\n",
      " [36 24 17 64 63]\n",
      " [82 82 19 70 78]\n",
      " [59 33 70 38 82]\n",
      " [85 46 12 60 60]]\n",
      "After Split:\r\n",
      "[array([[69, 80, 89, 96, 42],\n",
      "       [88, 56, 70, 93, 53],\n",
      "       [36, 24, 17, 64, 63]]), array([[82, 82, 19, 70, 78],\n",
      "       [59, 33, 70, 38, 82],\n",
      "       [85, 46, 12, 60, 60]])]\n",
      "y[0] =\r",
      "\r\n",
      "[[69 80 89 96 42]\n",
      " [88 56 70 93 53]\n",
      " [36 24 17 64 63]]\n",
      "y[1] = \r",
      "\r\n",
      "[[82 82 19 70 78]\n",
      " [59 33 70 38 82]\n",
      " [85 46 12 60 60]]\n"
     ]
    }
   ],
   "source": [
    "print(\"Before Split:\\r\")\n",
    "print(arr4)                                   #6 rows\n",
    "y = np.array_split(arr4,2)                    #split in 2 parts therefore 3 - 3 pair\n",
    "print(\"After Split:\\r\")\n",
    "print(y)\n",
    "print(\"y[0] =\\r\\r\")\n",
    "print(y[0])\n",
    "print(\"y[1] = \\r\\r\")\n",
    "print(y[1])"
   ]
  },
  {
   "cell_type": "markdown",
   "id": "f48ceed2",
   "metadata": {},
   "source": [
    "**In addition, you can specify which axis you want to do the split around.**\n",
    "\n",
    "Split along rows, `axis = 0`\n",
    "Split along columns, `axis = 1`"
   ]
  },
  {
   "cell_type": "code",
   "execution_count": 69,
   "id": "94c72a14",
   "metadata": {},
   "outputs": [
    {
     "name": "stdout",
     "output_type": "stream",
     "text": [
      "[[50 65 84 37]\n",
      " [10 88 58 79]\n",
      " [51 83 21 24]\n",
      " [78 60 60 60]]\n",
      "Row Split\n",
      "[array([[50, 65, 84, 37],\n",
      "       [10, 88, 58, 79]]), array([[51, 83, 21, 24],\n",
      "       [78, 60, 60, 60]])]\n",
      "\n",
      "[[50 65 84 37]\n",
      " [10 88 58 79]]\n",
      "[[51 83 21 24]\n",
      " [78 60 60 60]]\n"
     ]
    }
   ],
   "source": [
    "Q = random.randint(100, size = (4,4))\n",
    "print(Q)\n",
    "print(\"Row Split\\r\\r\")\n",
    "L = np.array_split(Q, 2, axis = 0)\n",
    "print(L)\n",
    "print(\"\\r\\r\")\n",
    "print(L[0])\n",
    "print(L[1])\n"
   ]
  },
  {
   "cell_type": "code",
   "execution_count": 70,
   "id": "ef62c461",
   "metadata": {},
   "outputs": [
    {
     "name": "stdout",
     "output_type": "stream",
     "text": [
      "[[50 65 84 37]\n",
      " [10 88 58 79]\n",
      " [51 83 21 24]\n",
      " [78 60 60 60]]\n",
      "Column Split\r",
      "\r\n",
      "[array([[50, 65],\n",
      "       [10, 88],\n",
      "       [51, 83],\n",
      "       [78, 60]]), array([[84, 37],\n",
      "       [58, 79],\n",
      "       [21, 24],\n",
      "       [60, 60]])]\n",
      "\r",
      "\r\n",
      "[[50 65]\n",
      " [10 88]\n",
      " [51 83]\n",
      " [78 60]]\n",
      "[[84 37]\n",
      " [58 79]\n",
      " [21 24]\n",
      " [60 60]]\n"
     ]
    }
   ],
   "source": [
    "print(Q)\n",
    "print(\"Column Split\\r\\r\")\n",
    "M = np.array_split(Q, 2, axis = 1)\n",
    "print(M)\n",
    "print(\"\\r\\r\")\n",
    "print(M[0])\n",
    "print(M[1])"
   ]
  },
  {
   "cell_type": "markdown",
   "id": "aaad81dd",
   "metadata": {},
   "source": [
    "**`hsplit()` and `vsplit()`**\n",
    "* `hsplit()` - Split an array into multiple sub-arrays horizontally (column-wise).\n",
    "* `vsplit()` - Split an array into multiple sub-arrays vertically (row-wise).\n",
    "\n",
    "**Try Not to use this one, use `np.split(array, #parts, axis)` instead**"
   ]
  },
  {
   "cell_type": "code",
   "execution_count": 71,
   "id": "6f560f2f",
   "metadata": {
    "scrolled": true
   },
   "outputs": [
    {
     "name": "stdout",
     "output_type": "stream",
     "text": [
      "[[50 65 84 37]\n",
      " [10 88 58 79]\n",
      " [51 83 21 24]\n",
      " [78 60 60 60]]\n",
      "[array([[50, 65],\n",
      "       [10, 88],\n",
      "       [51, 83],\n",
      "       [78, 60]]), array([[84, 37],\n",
      "       [58, 79],\n",
      "       [21, 24],\n",
      "       [60, 60]])]\n",
      "[[50 65]\n",
      " [10 88]\n",
      " [51 83]\n",
      " [78 60]]\n",
      "[[84 37]\n",
      " [58 79]\n",
      " [21 24]\n",
      " [60 60]]\n"
     ]
    }
   ],
   "source": [
    "print(Q)\n",
    "A = np.hsplit(Q,2)\n",
    "print(A)\n",
    "print(A[0])\n",
    "print(A[1])"
   ]
  },
  {
   "cell_type": "code",
   "execution_count": 72,
   "id": "5d3ff21f",
   "metadata": {},
   "outputs": [
    {
     "name": "stdout",
     "output_type": "stream",
     "text": [
      "[[50 65 84 37]\n",
      " [10 88 58 79]\n",
      " [51 83 21 24]\n",
      " [78 60 60 60]]\n",
      "[array([[50, 65, 84, 37],\n",
      "       [10, 88, 58, 79]]), array([[51, 83, 21, 24],\n",
      "       [78, 60, 60, 60]])]\n",
      "[[50 65 84 37]\n",
      " [10 88 58 79]]\n",
      "[[51 83 21 24]\n",
      " [78 60 60 60]]\n"
     ]
    }
   ],
   "source": [
    "print(Q)\n",
    "A = np.vsplit(Q,2)\n",
    "print(A)\n",
    "print(A[0])\n",
    "print(A[1])"
   ]
  },
  {
   "cell_type": "markdown",
   "id": "d6b1c3ac",
   "metadata": {},
   "source": [
    "---\n",
    "## 10. Searching\n",
    "---\n",
    "You can search an array for a certain value, and return the indexes that get a match. To search an array, use the `where()` method."
   ]
  },
  {
   "cell_type": "code",
   "execution_count": 73,
   "id": "5cc719ed",
   "metadata": {},
   "outputs": [
    {
     "name": "stdout",
     "output_type": "stream",
     "text": [
      "(array([3, 5, 6], dtype=int64),)\n"
     ]
    }
   ],
   "source": [
    "arr = np.array([1, 2, 3, 4, 5, 4, 4])\n",
    "\n",
    "x = np.where(arr == 4)    #returns a tuple of indices indicating where the search element is present\n",
    "\n",
    "print(x)                "
   ]
  },
  {
   "cell_type": "markdown",
   "id": "e2293464",
   "metadata": {},
   "source": [
    "### `searchsorted()`\n",
    "\n",
    "There is a method called `searchsorted()` which performs a binary search in the array, and returns the index **where the specified value would be inserted to maintain the search order.**\n",
    "\n",
    "***The `searchsorted()` method is assumed to be used on sorted arrays.***"
   ]
  },
  {
   "cell_type": "code",
   "execution_count": 74,
   "id": "757951ef",
   "metadata": {},
   "outputs": [
    {
     "name": "stdout",
     "output_type": "stream",
     "text": [
      "1\n"
     ]
    }
   ],
   "source": [
    "arr = np.array([6, 7, 8, 9])\n",
    "\n",
    "x = np.searchsorted(arr, 7)\n",
    "print(x)"
   ]
  },
  {
   "cell_type": "markdown",
   "id": "8f8d487c",
   "metadata": {},
   "source": [
    "### Searching for Multiple Values\n",
    "\n",
    "To search for more than one value, use an array with the specified values."
   ]
  },
  {
   "cell_type": "code",
   "execution_count": 75,
   "id": "3b6e1752",
   "metadata": {},
   "outputs": [
    {
     "name": "stdout",
     "output_type": "stream",
     "text": [
      "[1 2 3]\n"
     ]
    }
   ],
   "source": [
    "arr = np.array([1, 3, 5, 7])\n",
    "\n",
    "x = np.searchsorted(arr, [2, 4, 6])\n",
    "\n",
    "print(x)\n"
   ]
  },
  {
   "cell_type": "markdown",
   "id": "4b8b0426",
   "metadata": {},
   "source": [
    "The return value is an array: [1 2 3] containing the three indexes where 2, 4, 6 would be inserted in the original array to maintain the order."
   ]
  },
  {
   "cell_type": "markdown",
   "id": "57c39394",
   "metadata": {},
   "source": [
    "---\n",
    "## 11. Sorting an array\n",
    "---\n",
    "\n",
    "Sorting means putting elements in an ordered sequence.\n",
    "\n",
    "Ordered sequence is any sequence that has an order corresponding to elements, like numeric or alphabetical, ascending or descending.\n",
    "\n",
    "The NumPy ndarray object has a function called `sort()`, that will sort a specified array.\n",
    "***Note: This method returns a copy of the array, leaving the original array unchanged.***"
   ]
  },
  {
   "cell_type": "code",
   "execution_count": 76,
   "id": "7584c199",
   "metadata": {},
   "outputs": [
    {
     "name": "stdout",
     "output_type": "stream",
     "text": [
      "[0 1 2 3]\n"
     ]
    }
   ],
   "source": [
    "arr = np.array([3, 2, 0, 1])\n",
    "\n",
    "print(np.sort(arr))"
   ]
  },
  {
   "cell_type": "code",
   "execution_count": 77,
   "id": "6b574ed6",
   "metadata": {},
   "outputs": [
    {
     "name": "stdout",
     "output_type": "stream",
     "text": [
      "['apple' 'banana' 'cherry']\n"
     ]
    }
   ],
   "source": [
    "arr = np.array(['banana', 'cherry', 'apple'])\n",
    "\n",
    "print(np.sort(arr))"
   ]
  },
  {
   "cell_type": "code",
   "execution_count": 78,
   "id": "09590679",
   "metadata": {},
   "outputs": [
    {
     "name": "stdout",
     "output_type": "stream",
     "text": [
      "[[2 3 4]\n",
      " [0 1 5]]\n"
     ]
    }
   ],
   "source": [
    "arr = np.array([[3, 2, 4], [5, 0, 1]])\n",
    "\n",
    "print(np.sort(arr))\n"
   ]
  },
  {
   "cell_type": "markdown",
   "id": "1fa585c7",
   "metadata": {},
   "source": [
    "---\n",
    "## 12. NumPy Filter Array\n",
    "---\n",
    "\n",
    "Getting some elements out of an existing array and creating a new array out of them is called filtering.\n",
    "\n",
    "In NumPy, you filter an array using a boolean index list which is a list of booleans corresponding to indexes in the array.\n",
    "\n",
    "If the value at an index is True that element is contained in the filtered array, if the value at that index is False that element is excluded from the filtered array."
   ]
  },
  {
   "cell_type": "code",
   "execution_count": 79,
   "id": "69f6f8a5",
   "metadata": {},
   "outputs": [
    {
     "name": "stdout",
     "output_type": "stream",
     "text": [
      "[41 43]\n"
     ]
    }
   ],
   "source": [
    "arr = np.array([41, 42, 43, 44])\n",
    "\n",
    "x = [True, False, True, False]\n",
    "\n",
    "newarr = arr[x]\n",
    "\n",
    "print(newarr)"
   ]
  },
  {
   "cell_type": "markdown",
   "id": "a8ffcc87",
   "metadata": {},
   "source": [
    "### Creating a Filter array\n",
    "\n",
    "In the example above we hard-coded the `True` and `False` values, but the common use is to create a filter array based on conditions."
   ]
  },
  {
   "cell_type": "code",
   "execution_count": 80,
   "id": "702b0528",
   "metadata": {},
   "outputs": [
    {
     "name": "stdout",
     "output_type": "stream",
     "text": [
      "[False, False, True, True]\n",
      "[43 44]\n"
     ]
    }
   ],
   "source": [
    "arr = np.array([41, 42, 43, 44])\n",
    "\n",
    "# Create an empty list\n",
    "filter_arr = []\n",
    "\n",
    "# go through each element in arr\n",
    "for element in arr:\n",
    "  # if the element is higher than 42, set the value to True, otherwise False:\n",
    "  if element > 42:\n",
    "    filter_arr.append(True)\n",
    "  else:\n",
    "    filter_arr.append(False)\n",
    "\n",
    "newarr = arr[filter_arr]\n",
    "\n",
    "print(filter_arr)\n",
    "print(newarr)"
   ]
  },
  {
   "cell_type": "markdown",
   "id": "562b7220",
   "metadata": {},
   "source": [
    "### Creating Filter array directly from array\n",
    "\n",
    "The above example is quite a common task in NumPy and NumPy provides a nice way to tackle it.\n",
    "\n",
    "We can directly substitute the array instead of the iterable variable in our condition and it will work just as we expect it to."
   ]
  },
  {
   "cell_type": "code",
   "execution_count": 81,
   "id": "ca39a364",
   "metadata": {},
   "outputs": [
    {
     "name": "stdout",
     "output_type": "stream",
     "text": [
      "[False False  True  True]\n",
      "[43 44]\n"
     ]
    }
   ],
   "source": [
    "#Creating a filter array that will return true iff element>42\n",
    "arr = np.array([41, 42, 43, 44])\n",
    "\n",
    "filter_arr = arr > 42\n",
    "\n",
    "newarr = arr[filter_arr]\n",
    "\n",
    "print(filter_arr)\n",
    "print(newarr)\n"
   ]
  },
  {
   "cell_type": "markdown",
   "id": "973d89df",
   "metadata": {},
   "source": [
    "---\n",
    "## 13. Miscellaneous Functions\n",
    "---"
   ]
  },
  {
   "cell_type": "markdown",
   "id": "a2c5179f",
   "metadata": {},
   "source": [
    "### `np.arange()` - Return evenly spaced values within a given interval.\n",
    "\n",
    "Values are generated within the half-open interval [start, stop) (in other words, the interval including start but excluding stop). For integer arguments the function is equivalent to the Python built-in range function, but returns an ndarray rather than a list.\n",
    "\n",
    "Syntax: `np.arange(start,stop,step)`\n",
    "\n",
    "When using a non-integer step, such as 0.1, the results will often not be consistent. It is better to use `numpy.linspace` for these cases."
   ]
  },
  {
   "cell_type": "code",
   "execution_count": 82,
   "id": "9e6929b8",
   "metadata": {},
   "outputs": [
    {
     "name": "stdout",
     "output_type": "stream",
     "text": [
      "[0 1 2 3 4 5 6 7 8 9] [0 1 2 3 4 5 6 7 8 9] [0 2 4 6 8]\n"
     ]
    }
   ],
   "source": [
    "import numpy as np\n",
    "x = np.arange(10) #with only 1 argument, its assumed as end value with start from 0 and step size 1\n",
    "y = np.arange(0,10) #with only 2 arguments, these are assumed as start and end value with step size 1\n",
    "z = np.arange(0,10,2)\n",
    "print(x,y,z)"
   ]
  },
  {
   "cell_type": "markdown",
   "id": "e225195a",
   "metadata": {},
   "source": [
    "### `np.linspace()` - Return evenly spaced numbers over a specified interval.\n",
    "\n",
    "Returns `num` evenly spaced samples, calculated over the interval `[start, stop]`. The endpoint of the interval can optionally be excluded. ***NOTE THAT ITS `LIN` NOT `LINE`***"
   ]
  },
  {
   "cell_type": "code",
   "execution_count": 83,
   "id": "e0dc99f5",
   "metadata": {},
   "outputs": [
    {
     "data": {
      "text/plain": [
       "array([2.  , 2.25, 2.5 , 2.75, 3.  ])"
      ]
     },
     "execution_count": 83,
     "metadata": {},
     "output_type": "execute_result"
    }
   ],
   "source": [
    "np.linspace(2,3, num = 5)"
   ]
  },
  {
   "cell_type": "markdown",
   "id": "12c12a25",
   "metadata": {},
   "source": [
    "### `np.broadcast()` - Produce an object that mimics broadcasting"
   ]
  },
  {
   "cell_type": "code",
   "execution_count": 84,
   "id": "a100e711",
   "metadata": {},
   "outputs": [
    {
     "name": "stdout",
     "output_type": "stream",
     "text": [
      "<numpy.broadcast object at 0x000001DDF42D2CE0>\n"
     ]
    }
   ],
   "source": [
    "x = np.array([[1], [2], [3]])\n",
    "y = np.array([4, 5, 6])\n",
    "b = np.broadcast(x, y)\n",
    "print(b)"
   ]
  },
  {
   "cell_type": "code",
   "execution_count": 85,
   "id": "74c28102",
   "metadata": {},
   "outputs": [
    {
     "data": {
      "text/plain": [
       "array([[5., 6., 7.],\n",
       "       [6., 7., 8.],\n",
       "       [7., 8., 9.]])"
      ]
     },
     "execution_count": 85,
     "metadata": {},
     "output_type": "execute_result"
    }
   ],
   "source": [
    "out = np.empty(b.shape)\n",
    "out.flat = [u+v for (u,v) in b]\n",
    "out"
   ]
  },
  {
   "cell_type": "markdown",
   "id": "a2b8db15",
   "metadata": {},
   "source": [
    "*Compare against built-in broadcasting*"
   ]
  },
  {
   "cell_type": "code",
   "execution_count": 86,
   "id": "2f510b4e",
   "metadata": {},
   "outputs": [
    {
     "data": {
      "text/plain": [
       "array([[5, 6, 7],\n",
       "       [6, 7, 8],\n",
       "       [7, 8, 9]])"
      ]
     },
     "execution_count": 86,
     "metadata": {},
     "output_type": "execute_result"
    }
   ],
   "source": [
    "x+y"
   ]
  },
  {
   "cell_type": "markdown",
   "id": "6be82f64",
   "metadata": {},
   "source": [
    "### `np.squeeze()` - Remove axes of length one from array."
   ]
  },
  {
   "cell_type": "code",
   "execution_count": 87,
   "id": "1ed1505b",
   "metadata": {},
   "outputs": [
    {
     "data": {
      "text/plain": [
       "(1, 3, 1)"
      ]
     },
     "execution_count": 87,
     "metadata": {},
     "output_type": "execute_result"
    }
   ],
   "source": [
    "x = np.array([[[0], [1], [2]]])\n",
    "x.shape"
   ]
  },
  {
   "cell_type": "code",
   "execution_count": 88,
   "id": "d8c983c6",
   "metadata": {},
   "outputs": [
    {
     "data": {
      "text/plain": [
       "array([0, 1, 2])"
      ]
     },
     "execution_count": 88,
     "metadata": {},
     "output_type": "execute_result"
    }
   ],
   "source": [
    "np.squeeze(x)"
   ]
  },
  {
   "cell_type": "code",
   "execution_count": 89,
   "id": "098a13ff",
   "metadata": {},
   "outputs": [
    {
     "data": {
      "text/plain": [
       "(3,)"
      ]
     },
     "execution_count": 89,
     "metadata": {},
     "output_type": "execute_result"
    }
   ],
   "source": [
    "np.squeeze(x).shape"
   ]
  },
  {
   "cell_type": "code",
   "execution_count": 90,
   "id": "9cab0cfa",
   "metadata": {},
   "outputs": [
    {
     "name": "stdout",
     "output_type": "stream",
     "text": [
      "[[50 65 84 37]\n",
      " [10 88 58 79]\n",
      " [51 83 21 24]\n",
      " [78 60 60 60]]\n"
     ]
    }
   ],
   "source": [
    "print(Q)"
   ]
  },
  {
   "cell_type": "code",
   "execution_count": 91,
   "id": "e1521d9d",
   "metadata": {},
   "outputs": [
    {
     "data": {
      "text/plain": [
       "array([[50, 65, 84, 37],\n",
       "       [10, 88, 58, 79],\n",
       "       [51, 83, 21, 24],\n",
       "       [78, 60, 60, 60]])"
      ]
     },
     "execution_count": 91,
     "metadata": {},
     "output_type": "execute_result"
    }
   ],
   "source": [
    "np.squeeze(Q)"
   ]
  },
  {
   "cell_type": "code",
   "execution_count": 92,
   "id": "10b95a0b",
   "metadata": {},
   "outputs": [
    {
     "data": {
      "text/plain": [
       "(4, 4)"
      ]
     },
     "execution_count": 92,
     "metadata": {},
     "output_type": "execute_result"
    }
   ],
   "source": [
    "np.squeeze(Q).shape"
   ]
  },
  {
   "cell_type": "code",
   "execution_count": 93,
   "id": "03f81e00",
   "metadata": {},
   "outputs": [
    {
     "data": {
      "text/plain": [
       "(4, 4)"
      ]
     },
     "execution_count": 93,
     "metadata": {},
     "output_type": "execute_result"
    }
   ],
   "source": [
    "Q.shape"
   ]
  },
  {
   "cell_type": "markdown",
   "id": "4e4ca27b",
   "metadata": {},
   "source": [
    "### `np.delete()` - Return a new array with sub-arrays along an axis deleted. \n",
    "\n",
    "For a one dimensional array, this returns those entries not returned by arr[obj].\n",
    "\n",
    "`numpy.delete(arr, idx, axis=None)`\n",
    "\n",
    "Parameters\n",
    "1. **arr: array_like** - Input array.\n",
    "\n",
    "2. **obj/idx: slice, int or array of ints** - Indicate indices of sub-arrays to remove along the specified axis.\n",
    "\n",
    "\n",
    "3. **axis: int, optional** - The axis along which to delete the subarray defined by obj. If axis is None, obj is applied to the flattened array."
   ]
  },
  {
   "cell_type": "code",
   "execution_count": 94,
   "id": "529585fd",
   "metadata": {},
   "outputs": [
    {
     "data": {
      "text/plain": [
       "array([[ 1,  2,  3,  4],\n",
       "       [ 5,  6,  7,  8],\n",
       "       [ 9, 10, 11, 12]])"
      ]
     },
     "execution_count": 94,
     "metadata": {},
     "output_type": "execute_result"
    }
   ],
   "source": [
    "arr = np.array([[1,2,3,4], [5,6,7,8], [9,10,11,12]])\n",
    "arr"
   ]
  },
  {
   "cell_type": "code",
   "execution_count": 95,
   "id": "71a64d5f",
   "metadata": {},
   "outputs": [
    {
     "data": {
      "text/plain": [
       "array([[ 1,  2,  3,  4],\n",
       "       [ 9, 10, 11, 12]])"
      ]
     },
     "execution_count": 95,
     "metadata": {},
     "output_type": "execute_result"
    }
   ],
   "source": [
    "np.delete(arr, 1, axis = 0)  # 1: remove arr[1], i.e, 2nd row"
   ]
  },
  {
   "cell_type": "code",
   "execution_count": 96,
   "id": "e87d392e",
   "metadata": {},
   "outputs": [
    {
     "data": {
      "text/plain": [
       "array([[ 2,  4],\n",
       "       [ 6,  8],\n",
       "       [10, 12]])"
      ]
     },
     "execution_count": 96,
     "metadata": {},
     "output_type": "execute_result"
    }
   ],
   "source": [
    "np.delete(arr, np.s_[::2], 1)"
   ]
  },
  {
   "cell_type": "code",
   "execution_count": 97,
   "id": "e51e12e5",
   "metadata": {},
   "outputs": [
    {
     "data": {
      "text/plain": [
       "array([ 1,  3,  5,  7,  8,  9, 10, 11, 12])"
      ]
     },
     "execution_count": 97,
     "metadata": {},
     "output_type": "execute_result"
    }
   ],
   "source": [
    "np.delete(arr, [1,3,5], axis = None)"
   ]
  },
  {
   "cell_type": "markdown",
   "id": "0a514f54",
   "metadata": {},
   "source": [
    "### `np.insert()` - Insert values along the given axis before the given indices.\n",
    "\n",
    "`numpy.insert(arr, idx, values, axis=None)`\n",
    "\n",
    "Parameters\n",
    "\n",
    "1. **arr: array_like** - Input array.\n",
    "\n",
    "2. **obj/idx: int**, slice or sequence of ints - Object that defines the index or indices before which values is inserted. Support for multiple insertions when obj is a single scalar or a sequence with one element (similar to calling insert multiple times).\n",
    "\n",
    "3. **values: *array_like*** - Values to insert into arr. If the type of values is different from that of arr, values is converted to the type of arr. values should be shaped so that arr[...,obj,...] = values is legal.\n",
    "\n",
    "4. **axis: int**, optional - Axis along which to insert values. If axis is None then arr is flattened first.\n",
    "\n",
    "***Original array remains unchanged. To keep the changes, assign the modified array to a new object.***"
   ]
  },
  {
   "cell_type": "code",
   "execution_count": 98,
   "id": "cc55b813",
   "metadata": {},
   "outputs": [
    {
     "data": {
      "text/plain": [
       "array([[1, 2, 3],\n",
       "       [4, 5, 6],\n",
       "       [7, 8, 9]])"
      ]
     },
     "execution_count": 98,
     "metadata": {},
     "output_type": "execute_result"
    }
   ],
   "source": [
    "trance = np.array([ [1,2,3],[4,5,6],[7,8,9] ])\n",
    "trance"
   ]
  },
  {
   "cell_type": "code",
   "execution_count": 99,
   "id": "daa7d25b",
   "metadata": {},
   "outputs": [
    {
     "data": {
      "text/plain": [
       "array([[ 1,  2,  3],\n",
       "       [ 4,  5,  6],\n",
       "       [ 7,  8,  9],\n",
       "       [10, 11, 12]])"
      ]
     },
     "execution_count": 99,
     "metadata": {},
     "output_type": "execute_result"
    }
   ],
   "source": [
    "y = np.insert(trance, 3, [10,11,12], axis = 0 )\n",
    "y"
   ]
  },
  {
   "cell_type": "code",
   "execution_count": 100,
   "id": "e640c622",
   "metadata": {},
   "outputs": [
    {
     "data": {
      "text/plain": [
       "array([[ 1,  2,  3, 11],\n",
       "       [ 4,  5,  6, 22],\n",
       "       [ 7,  8,  9, 33],\n",
       "       [10, 11, 12, 44]])"
      ]
     },
     "execution_count": 100,
     "metadata": {},
     "output_type": "execute_result"
    }
   ],
   "source": [
    "np.insert(y, 3, [11,22,33,44], axis = 1)"
   ]
  },
  {
   "cell_type": "code",
   "execution_count": 101,
   "id": "003fb3ed",
   "metadata": {},
   "outputs": [
    {
     "data": {
      "text/plain": [
       "array([[  0, 999,   1,   2, 999,   3],\n",
       "       [  4, 999,   5,   6, 999,   7]])"
      ]
     },
     "execution_count": 101,
     "metadata": {},
     "output_type": "execute_result"
    }
   ],
   "source": [
    "x = np.arange(8).reshape(2, 4)\n",
    "idx = (1, 3)\n",
    "np.insert(x, idx, 999, axis=1)   # 999 broadcasted to all rows"
   ]
  },
  {
   "cell_type": "markdown",
   "id": "7e3d8724",
   "metadata": {},
   "source": [
    "### `np.append()`  - Append values to the end of an array\n",
    "\n",
    "`numpy.append(arr, values, axis=None)`\n",
    "\n",
    "Parameters\n",
    "\n",
    "1. **arr: array_like** - Input array.\n",
    "\n",
    "2. **values: *array_like*** - Values to insert into arr. If the type of values is different from that of arr, values is converted to the type of arr. values should be shaped so that arr[...,obj,...] = values is legal.\n",
    "\n",
    "3. **axis: int**, optional - Axis along which to insert values. Note that append does not occur in-place: a new array is allocated and filled. If *axis* is None then arr is flattened first.\n",
    "\n",
    "***Original array remains unchanged. To keep the changes, assign the modified array to a new object.***\n"
   ]
  },
  {
   "cell_type": "code",
   "execution_count": 102,
   "id": "e0feecfc",
   "metadata": {},
   "outputs": [
    {
     "data": {
      "text/plain": [
       "array([[ 1,  2,  3],\n",
       "       [ 4,  5,  6],\n",
       "       [ 7,  8,  9],\n",
       "       [10, 11, 12]])"
      ]
     },
     "execution_count": 102,
     "metadata": {},
     "output_type": "execute_result"
    }
   ],
   "source": [
    "y"
   ]
  },
  {
   "cell_type": "markdown",
   "id": "90a020f6",
   "metadata": {},
   "source": [
    "When `axis` is specified, values must have the correct shape. Keep track of brackets"
   ]
  },
  {
   "cell_type": "code",
   "execution_count": 103,
   "id": "a4fdba81",
   "metadata": {
    "collapsed": true
   },
   "outputs": [
    {
     "ename": "ValueError",
     "evalue": "all the input arrays must have same number of dimensions, but the array at index 0 has 2 dimension(s) and the array at index 1 has 1 dimension(s)",
     "output_type": "error",
     "traceback": [
      "\u001b[1;31m---------------------------------------------------------------------------\u001b[0m",
      "\u001b[1;31mValueError\u001b[0m                                Traceback (most recent call last)",
      "\u001b[1;32m<ipython-input-103-b0f1cf7dc811>\u001b[0m in \u001b[0;36m<module>\u001b[1;34m\u001b[0m\n\u001b[1;32m----> 1\u001b[1;33m \u001b[0mnp\u001b[0m\u001b[1;33m.\u001b[0m\u001b[0mappend\u001b[0m\u001b[1;33m(\u001b[0m\u001b[0my\u001b[0m\u001b[1;33m,\u001b[0m \u001b[1;33m[\u001b[0m\u001b[1;36m13\u001b[0m\u001b[1;33m,\u001b[0m\u001b[1;36m14\u001b[0m\u001b[1;33m,\u001b[0m\u001b[1;36m15\u001b[0m\u001b[1;33m]\u001b[0m\u001b[1;33m,\u001b[0m \u001b[0maxis\u001b[0m \u001b[1;33m=\u001b[0m \u001b[1;36m0\u001b[0m\u001b[1;33m)\u001b[0m \u001b[1;31m#valueError\u001b[0m\u001b[1;33m\u001b[0m\u001b[1;33m\u001b[0m\u001b[0m\n\u001b[0m",
      "\u001b[1;32m<__array_function__ internals>\u001b[0m in \u001b[0;36mappend\u001b[1;34m(*args, **kwargs)\u001b[0m\n",
      "\u001b[1;32mC:\\ProgramData\\Anaconda3\\lib\\site-packages\\numpy\\lib\\function_base.py\u001b[0m in \u001b[0;36mappend\u001b[1;34m(arr, values, axis)\u001b[0m\n\u001b[0;32m   4743\u001b[0m         \u001b[0mvalues\u001b[0m \u001b[1;33m=\u001b[0m \u001b[0mravel\u001b[0m\u001b[1;33m(\u001b[0m\u001b[0mvalues\u001b[0m\u001b[1;33m)\u001b[0m\u001b[1;33m\u001b[0m\u001b[1;33m\u001b[0m\u001b[0m\n\u001b[0;32m   4744\u001b[0m         \u001b[0maxis\u001b[0m \u001b[1;33m=\u001b[0m \u001b[0marr\u001b[0m\u001b[1;33m.\u001b[0m\u001b[0mndim\u001b[0m\u001b[1;33m-\u001b[0m\u001b[1;36m1\u001b[0m\u001b[1;33m\u001b[0m\u001b[1;33m\u001b[0m\u001b[0m\n\u001b[1;32m-> 4745\u001b[1;33m     \u001b[1;32mreturn\u001b[0m \u001b[0mconcatenate\u001b[0m\u001b[1;33m(\u001b[0m\u001b[1;33m(\u001b[0m\u001b[0marr\u001b[0m\u001b[1;33m,\u001b[0m \u001b[0mvalues\u001b[0m\u001b[1;33m)\u001b[0m\u001b[1;33m,\u001b[0m \u001b[0maxis\u001b[0m\u001b[1;33m=\u001b[0m\u001b[0maxis\u001b[0m\u001b[1;33m)\u001b[0m\u001b[1;33m\u001b[0m\u001b[1;33m\u001b[0m\u001b[0m\n\u001b[0m\u001b[0;32m   4746\u001b[0m \u001b[1;33m\u001b[0m\u001b[0m\n\u001b[0;32m   4747\u001b[0m \u001b[1;33m\u001b[0m\u001b[0m\n",
      "\u001b[1;32m<__array_function__ internals>\u001b[0m in \u001b[0;36mconcatenate\u001b[1;34m(*args, **kwargs)\u001b[0m\n",
      "\u001b[1;31mValueError\u001b[0m: all the input arrays must have same number of dimensions, but the array at index 0 has 2 dimension(s) and the array at index 1 has 1 dimension(s)"
     ]
    }
   ],
   "source": [
    "np.append(y, [13,14,15], axis = 0) #valueError"
   ]
  },
  {
   "cell_type": "code",
   "execution_count": 104,
   "id": "adf1ce13",
   "metadata": {},
   "outputs": [
    {
     "data": {
      "text/plain": [
       "array([[ 1,  2,  3],\n",
       "       [ 4,  5,  6],\n",
       "       [ 7,  8,  9],\n",
       "       [10, 11, 12],\n",
       "       [13, 14, 15]])"
      ]
     },
     "execution_count": 104,
     "metadata": {},
     "output_type": "execute_result"
    }
   ],
   "source": [
    "k = np.append(y,[ [13,14,15] ], axis = 0)\n",
    "k"
   ]
  },
  {
   "cell_type": "code",
   "execution_count": 105,
   "id": "070cf325",
   "metadata": {
    "collapsed": true
   },
   "outputs": [
    {
     "ename": "ValueError",
     "evalue": "all the input arrays must have same number of dimensions, but the array at index 0 has 2 dimension(s) and the array at index 1 has 1 dimension(s)",
     "output_type": "error",
     "traceback": [
      "\u001b[1;31m---------------------------------------------------------------------------\u001b[0m",
      "\u001b[1;31mValueError\u001b[0m                                Traceback (most recent call last)",
      "\u001b[1;32m<ipython-input-105-de376e72d733>\u001b[0m in \u001b[0;36m<module>\u001b[1;34m\u001b[0m\n\u001b[1;32m----> 1\u001b[1;33m \u001b[0mnp\u001b[0m\u001b[1;33m.\u001b[0m\u001b[0mappend\u001b[0m\u001b[1;33m(\u001b[0m\u001b[0mk\u001b[0m \u001b[1;33m,\u001b[0m\u001b[1;33m[\u001b[0m\u001b[1;36m20\u001b[0m\u001b[1;33m,\u001b[0m\u001b[1;36m21\u001b[0m\u001b[1;33m,\u001b[0m\u001b[1;36m22\u001b[0m\u001b[1;33m,\u001b[0m\u001b[1;36m23\u001b[0m\u001b[1;33m,\u001b[0m\u001b[1;36m24\u001b[0m\u001b[1;33m]\u001b[0m\u001b[1;33m,\u001b[0m \u001b[0maxis\u001b[0m \u001b[1;33m=\u001b[0m \u001b[1;36m1\u001b[0m\u001b[1;33m)\u001b[0m \u001b[1;31m#valueError\u001b[0m\u001b[1;33m\u001b[0m\u001b[1;33m\u001b[0m\u001b[0m\n\u001b[0m",
      "\u001b[1;32m<__array_function__ internals>\u001b[0m in \u001b[0;36mappend\u001b[1;34m(*args, **kwargs)\u001b[0m\n",
      "\u001b[1;32mC:\\ProgramData\\Anaconda3\\lib\\site-packages\\numpy\\lib\\function_base.py\u001b[0m in \u001b[0;36mappend\u001b[1;34m(arr, values, axis)\u001b[0m\n\u001b[0;32m   4743\u001b[0m         \u001b[0mvalues\u001b[0m \u001b[1;33m=\u001b[0m \u001b[0mravel\u001b[0m\u001b[1;33m(\u001b[0m\u001b[0mvalues\u001b[0m\u001b[1;33m)\u001b[0m\u001b[1;33m\u001b[0m\u001b[1;33m\u001b[0m\u001b[0m\n\u001b[0;32m   4744\u001b[0m         \u001b[0maxis\u001b[0m \u001b[1;33m=\u001b[0m \u001b[0marr\u001b[0m\u001b[1;33m.\u001b[0m\u001b[0mndim\u001b[0m\u001b[1;33m-\u001b[0m\u001b[1;36m1\u001b[0m\u001b[1;33m\u001b[0m\u001b[1;33m\u001b[0m\u001b[0m\n\u001b[1;32m-> 4745\u001b[1;33m     \u001b[1;32mreturn\u001b[0m \u001b[0mconcatenate\u001b[0m\u001b[1;33m(\u001b[0m\u001b[1;33m(\u001b[0m\u001b[0marr\u001b[0m\u001b[1;33m,\u001b[0m \u001b[0mvalues\u001b[0m\u001b[1;33m)\u001b[0m\u001b[1;33m,\u001b[0m \u001b[0maxis\u001b[0m\u001b[1;33m=\u001b[0m\u001b[0maxis\u001b[0m\u001b[1;33m)\u001b[0m\u001b[1;33m\u001b[0m\u001b[1;33m\u001b[0m\u001b[0m\n\u001b[0m\u001b[0;32m   4746\u001b[0m \u001b[1;33m\u001b[0m\u001b[0m\n\u001b[0;32m   4747\u001b[0m \u001b[1;33m\u001b[0m\u001b[0m\n",
      "\u001b[1;32m<__array_function__ internals>\u001b[0m in \u001b[0;36mconcatenate\u001b[1;34m(*args, **kwargs)\u001b[0m\n",
      "\u001b[1;31mValueError\u001b[0m: all the input arrays must have same number of dimensions, but the array at index 0 has 2 dimension(s) and the array at index 1 has 1 dimension(s)"
     ]
    }
   ],
   "source": [
    "np.append(k ,[20,21,22,23,24], axis = 1) #valueError"
   ]
  },
  {
   "cell_type": "code",
   "execution_count": 106,
   "id": "22556f64",
   "metadata": {
    "collapsed": true
   },
   "outputs": [
    {
     "ename": "ValueError",
     "evalue": "all the input array dimensions for the concatenation axis must match exactly, but along dimension 0, the array at index 0 has size 5 and the array at index 1 has size 1",
     "output_type": "error",
     "traceback": [
      "\u001b[1;31m---------------------------------------------------------------------------\u001b[0m",
      "\u001b[1;31mValueError\u001b[0m                                Traceback (most recent call last)",
      "\u001b[1;32m<ipython-input-106-e107e926d313>\u001b[0m in \u001b[0;36m<module>\u001b[1;34m\u001b[0m\n\u001b[1;32m----> 1\u001b[1;33m \u001b[0mnp\u001b[0m\u001b[1;33m.\u001b[0m\u001b[0mappend\u001b[0m\u001b[1;33m(\u001b[0m\u001b[0mk\u001b[0m \u001b[1;33m,\u001b[0m\u001b[1;33m[\u001b[0m\u001b[1;33m[\u001b[0m\u001b[1;36m20\u001b[0m\u001b[1;33m,\u001b[0m\u001b[1;36m21\u001b[0m\u001b[1;33m,\u001b[0m\u001b[1;36m22\u001b[0m\u001b[1;33m,\u001b[0m\u001b[1;36m23\u001b[0m\u001b[1;33m,\u001b[0m\u001b[1;36m24\u001b[0m\u001b[1;33m]\u001b[0m\u001b[1;33m]\u001b[0m\u001b[1;33m,\u001b[0m \u001b[0maxis\u001b[0m \u001b[1;33m=\u001b[0m \u001b[1;36m1\u001b[0m\u001b[1;33m)\u001b[0m \u001b[1;31m#valueError\u001b[0m\u001b[1;33m\u001b[0m\u001b[1;33m\u001b[0m\u001b[0m\n\u001b[0m",
      "\u001b[1;32m<__array_function__ internals>\u001b[0m in \u001b[0;36mappend\u001b[1;34m(*args, **kwargs)\u001b[0m\n",
      "\u001b[1;32mC:\\ProgramData\\Anaconda3\\lib\\site-packages\\numpy\\lib\\function_base.py\u001b[0m in \u001b[0;36mappend\u001b[1;34m(arr, values, axis)\u001b[0m\n\u001b[0;32m   4743\u001b[0m         \u001b[0mvalues\u001b[0m \u001b[1;33m=\u001b[0m \u001b[0mravel\u001b[0m\u001b[1;33m(\u001b[0m\u001b[0mvalues\u001b[0m\u001b[1;33m)\u001b[0m\u001b[1;33m\u001b[0m\u001b[1;33m\u001b[0m\u001b[0m\n\u001b[0;32m   4744\u001b[0m         \u001b[0maxis\u001b[0m \u001b[1;33m=\u001b[0m \u001b[0marr\u001b[0m\u001b[1;33m.\u001b[0m\u001b[0mndim\u001b[0m\u001b[1;33m-\u001b[0m\u001b[1;36m1\u001b[0m\u001b[1;33m\u001b[0m\u001b[1;33m\u001b[0m\u001b[0m\n\u001b[1;32m-> 4745\u001b[1;33m     \u001b[1;32mreturn\u001b[0m \u001b[0mconcatenate\u001b[0m\u001b[1;33m(\u001b[0m\u001b[1;33m(\u001b[0m\u001b[0marr\u001b[0m\u001b[1;33m,\u001b[0m \u001b[0mvalues\u001b[0m\u001b[1;33m)\u001b[0m\u001b[1;33m,\u001b[0m \u001b[0maxis\u001b[0m\u001b[1;33m=\u001b[0m\u001b[0maxis\u001b[0m\u001b[1;33m)\u001b[0m\u001b[1;33m\u001b[0m\u001b[1;33m\u001b[0m\u001b[0m\n\u001b[0m\u001b[0;32m   4746\u001b[0m \u001b[1;33m\u001b[0m\u001b[0m\n\u001b[0;32m   4747\u001b[0m \u001b[1;33m\u001b[0m\u001b[0m\n",
      "\u001b[1;32m<__array_function__ internals>\u001b[0m in \u001b[0;36mconcatenate\u001b[1;34m(*args, **kwargs)\u001b[0m\n",
      "\u001b[1;31mValueError\u001b[0m: all the input array dimensions for the concatenation axis must match exactly, but along dimension 0, the array at index 0 has size 5 and the array at index 1 has size 1"
     ]
    }
   ],
   "source": [
    "np.append(k ,[[20,21,22,23,24]], axis = 1) #valueError"
   ]
  },
  {
   "cell_type": "code",
   "execution_count": 107,
   "id": "e4de6488",
   "metadata": {},
   "outputs": [
    {
     "data": {
      "text/plain": [
       "array([[ 1,  2,  3, 20],\n",
       "       [ 4,  5,  6, 21],\n",
       "       [ 7,  8,  9, 22],\n",
       "       [10, 11, 12, 23],\n",
       "       [13, 14, 15, 24]])"
      ]
     },
     "execution_count": 107,
     "metadata": {},
     "output_type": "execute_result"
    }
   ],
   "source": [
    "np.append(k ,[[20],[21],[22],[23],[24]], axis = 1)"
   ]
  },
  {
   "cell_type": "markdown",
   "id": "6bd2b83b",
   "metadata": {},
   "source": [
    "### `np.flip()` - Reverse the order of elements in an array along the given axis.\n",
    "\n",
    "The shape of the array is preserved, but the elements are reordered."
   ]
  },
  {
   "cell_type": "code",
   "execution_count": 108,
   "id": "1e290b62",
   "metadata": {},
   "outputs": [
    {
     "data": {
      "text/plain": [
       "array([[50, 65, 84, 37],\n",
       "       [10, 88, 58, 79],\n",
       "       [51, 83, 21, 24],\n",
       "       [78, 60, 60, 60]])"
      ]
     },
     "execution_count": 108,
     "metadata": {},
     "output_type": "execute_result"
    }
   ],
   "source": [
    "Q"
   ]
  },
  {
   "cell_type": "code",
   "execution_count": 109,
   "id": "8490d70d",
   "metadata": {},
   "outputs": [
    {
     "data": {
      "text/plain": [
       "array([[78, 60, 60, 60],\n",
       "       [51, 83, 21, 24],\n",
       "       [10, 88, 58, 79],\n",
       "       [50, 65, 84, 37]])"
      ]
     },
     "execution_count": 109,
     "metadata": {},
     "output_type": "execute_result"
    }
   ],
   "source": [
    "np.flip(Q, axis=0)  "
   ]
  },
  {
   "cell_type": "code",
   "execution_count": 110,
   "id": "6e9b96c3",
   "metadata": {
    "scrolled": true
   },
   "outputs": [
    {
     "data": {
      "text/plain": [
       "array([[37, 84, 65, 50],\n",
       "       [79, 58, 88, 10],\n",
       "       [24, 21, 83, 51],\n",
       "       [60, 60, 60, 78]])"
      ]
     },
     "execution_count": 110,
     "metadata": {},
     "output_type": "execute_result"
    }
   ],
   "source": [
    "np.flip(Q, axis=1)"
   ]
  },
  {
   "cell_type": "markdown",
   "id": "10b7eecd",
   "metadata": {},
   "source": [
    "* `flip(m, 0)` is equivalent to `flipud(m).`\n",
    "\n",
    "* `flip(m, 1)` is equivalent to `fliplr(m).`\n",
    "\n",
    "* `flip(m, n)` corresponds to m[...,::-1,...] with ::-1 at position n.\n",
    "\n",
    "* `flip(m)` corresponds to m[::-1,::-1,...,::-1] with ::-1 at all positions.\n",
    "\n",
    "* `flip(m, (0, 1))` corresponds to m[::-1,::-1,...] with ::-1 at position 0 and position 1."
   ]
  }
 ],
 "metadata": {
  "kernelspec": {
   "display_name": "Python 3",
   "language": "python",
   "name": "python3"
  },
  "language_info": {
   "codemirror_mode": {
    "name": "ipython",
    "version": 3
   },
   "file_extension": ".py",
   "mimetype": "text/x-python",
   "name": "python",
   "nbconvert_exporter": "python",
   "pygments_lexer": "ipython3",
   "version": "3.8.8"
  }
 },
 "nbformat": 4,
 "nbformat_minor": 5
}
