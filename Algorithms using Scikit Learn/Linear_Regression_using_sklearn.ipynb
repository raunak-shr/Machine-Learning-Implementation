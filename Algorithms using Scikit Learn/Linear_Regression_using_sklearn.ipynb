{
 "cells": [
  {
   "cell_type": "markdown",
   "id": "3b8035a3-a5ce-4685-9917-ee7f56ed7881",
   "metadata": {},
   "source": [
    "# <p style=\"text-align:center;\">Linear Regression using Sk-Learn</p>\n",
    "---\n",
    "*<p style=\"text-align:right;\">Reference: Machine Learning by Andrew Ng.</p>*\n"
   ]
  },
  {
   "cell_type": "code",
   "execution_count": 1,
   "id": "93ecd0bc-7c7a-4e5c-934f-72fd3be29d84",
   "metadata": {},
   "outputs": [],
   "source": [
    "import numpy as np\n",
    "import pandas as pd\n",
    "import matplotlib.pyplot as plt\n",
    "import seaborn as sns"
   ]
  },
  {
   "cell_type": "code",
   "execution_count": 2,
   "id": "7abcd539-d930-4de0-aabf-fb90d0936e18",
   "metadata": {},
   "outputs": [],
   "source": [
    "from sklearn import datasets"
   ]
  },
  {
   "cell_type": "markdown",
   "id": "1e99f335-996f-4015-b8e0-b03e253b6eb2",
   "metadata": {},
   "source": [
    "## Assumptions of Linear Regression\n",
    "\n",
    "There are four assumptions associated with a linear regression model:\n",
    "\n",
    "- <b>Linearity</b>: The relationship between X and the mean of Y is linear.\n",
    "- <b>Homoscedasticity</b>: The variance of residual is the same for any value of X. It is an assumption of equal or similar variances in different groups being compared. This is an important assumption of parametric statistical tests because they are sensitive to any dissimilarities. Uneven variances in samples result in biased and skewed test results.\n",
    "- <b>Independence</b>: Observations are independent of each other.\n",
    "- <b>Normality</b>: For any fixed value of X, Y is normally distributed.\n",
    "\n",
    "## California Housing Dataset\n",
    "The target variable is the median house value for California districts, expressed in hundreds of thousands of dollars ($100,000). An household is a group of people residing within a home. Since the average number of rooms and bedrooms in this dataset are provided per household, these columns may take surpinsingly large values for block groups with few households and many empty houses, such as vacation resorts.\n",
    "\n",
    "* Number of Instances : 20640\n",
    "* Number of Attributes : 8 numeric, predictive attributes and the target\n",
    "* MedInc : median income in block group\n",
    "* HouseAge : median house age in block group\n",
    "* AveRooms : average number of rooms per household\n",
    "* AveBedrms : average number of bedrooms per household\n",
    "* Population : block group population\n",
    "* AveOccup : average number of household members\n",
    "* Latitude : block group latitude\n",
    "* Longitude : block group longitude\n",
    "* Missing Attribute Values : None"
   ]
  },
  {
   "cell_type": "code",
   "execution_count": 3,
   "id": "d5861e78-12dd-47e2-ba90-da62589b76b8",
   "metadata": {},
   "outputs": [],
   "source": [
    "X,y = datasets.fetch_california_housing(return_X_y = True, as_frame = True)"
   ]
  },
  {
   "cell_type": "code",
   "execution_count": 4,
   "id": "c86bd122-7414-49fd-88b8-3ccb11c810a1",
   "metadata": {},
   "outputs": [
    {
     "data": {
      "text/html": [
       "<div>\n",
       "<style scoped>\n",
       "    .dataframe tbody tr th:only-of-type {\n",
       "        vertical-align: middle;\n",
       "    }\n",
       "\n",
       "    .dataframe tbody tr th {\n",
       "        vertical-align: top;\n",
       "    }\n",
       "\n",
       "    .dataframe thead th {\n",
       "        text-align: right;\n",
       "    }\n",
       "</style>\n",
       "<table border=\"1\" class=\"dataframe\">\n",
       "  <thead>\n",
       "    <tr style=\"text-align: right;\">\n",
       "      <th></th>\n",
       "      <th>MedInc</th>\n",
       "      <th>HouseAge</th>\n",
       "      <th>AveRooms</th>\n",
       "      <th>AveBedrms</th>\n",
       "      <th>Population</th>\n",
       "      <th>AveOccup</th>\n",
       "      <th>Latitude</th>\n",
       "      <th>Longitude</th>\n",
       "      <th>MedHouseVal</th>\n",
       "    </tr>\n",
       "  </thead>\n",
       "  <tbody>\n",
       "    <tr>\n",
       "      <th>0</th>\n",
       "      <td>8.3252</td>\n",
       "      <td>41.0</td>\n",
       "      <td>6.984127</td>\n",
       "      <td>1.023810</td>\n",
       "      <td>322.0</td>\n",
       "      <td>2.555556</td>\n",
       "      <td>37.88</td>\n",
       "      <td>-122.23</td>\n",
       "      <td>4.526</td>\n",
       "    </tr>\n",
       "    <tr>\n",
       "      <th>1</th>\n",
       "      <td>8.3014</td>\n",
       "      <td>21.0</td>\n",
       "      <td>6.238137</td>\n",
       "      <td>0.971880</td>\n",
       "      <td>2401.0</td>\n",
       "      <td>2.109842</td>\n",
       "      <td>37.86</td>\n",
       "      <td>-122.22</td>\n",
       "      <td>3.585</td>\n",
       "    </tr>\n",
       "    <tr>\n",
       "      <th>2</th>\n",
       "      <td>7.2574</td>\n",
       "      <td>52.0</td>\n",
       "      <td>8.288136</td>\n",
       "      <td>1.073446</td>\n",
       "      <td>496.0</td>\n",
       "      <td>2.802260</td>\n",
       "      <td>37.85</td>\n",
       "      <td>-122.24</td>\n",
       "      <td>3.521</td>\n",
       "    </tr>\n",
       "    <tr>\n",
       "      <th>3</th>\n",
       "      <td>5.6431</td>\n",
       "      <td>52.0</td>\n",
       "      <td>5.817352</td>\n",
       "      <td>1.073059</td>\n",
       "      <td>558.0</td>\n",
       "      <td>2.547945</td>\n",
       "      <td>37.85</td>\n",
       "      <td>-122.25</td>\n",
       "      <td>3.413</td>\n",
       "    </tr>\n",
       "    <tr>\n",
       "      <th>4</th>\n",
       "      <td>3.8462</td>\n",
       "      <td>52.0</td>\n",
       "      <td>6.281853</td>\n",
       "      <td>1.081081</td>\n",
       "      <td>565.0</td>\n",
       "      <td>2.181467</td>\n",
       "      <td>37.85</td>\n",
       "      <td>-122.25</td>\n",
       "      <td>3.422</td>\n",
       "    </tr>\n",
       "  </tbody>\n",
       "</table>\n",
       "</div>"
      ],
      "text/plain": [
       "   MedInc  HouseAge  AveRooms  AveBedrms  Population  AveOccup  Latitude  \\\n",
       "0  8.3252      41.0  6.984127   1.023810       322.0  2.555556     37.88   \n",
       "1  8.3014      21.0  6.238137   0.971880      2401.0  2.109842     37.86   \n",
       "2  7.2574      52.0  8.288136   1.073446       496.0  2.802260     37.85   \n",
       "3  5.6431      52.0  5.817352   1.073059       558.0  2.547945     37.85   \n",
       "4  3.8462      52.0  6.281853   1.081081       565.0  2.181467     37.85   \n",
       "\n",
       "   Longitude  MedHouseVal  \n",
       "0    -122.23        4.526  \n",
       "1    -122.22        3.585  \n",
       "2    -122.24        3.521  \n",
       "3    -122.25        3.413  \n",
       "4    -122.25        3.422  "
      ]
     },
     "execution_count": 4,
     "metadata": {},
     "output_type": "execute_result"
    }
   ],
   "source": [
    "df = pd.concat([X,y], axis = 1)\n",
    "df.head()"
   ]
  },
  {
   "cell_type": "code",
   "execution_count": 5,
   "id": "bd576655-6abb-4d8d-8a28-44d570cfbc90",
   "metadata": {},
   "outputs": [
    {
     "name": "stdout",
     "output_type": "stream",
     "text": [
      "Shape of X: (20640, 8)\n",
      "Shape of Y: (20640,)\n"
     ]
    }
   ],
   "source": [
    "print(\"Shape of X: \" + str(X.shape))\n",
    "print(\"Shape of Y: \" + str(y.shape))"
   ]
  },
  {
   "cell_type": "code",
   "execution_count": 6,
   "id": "d26df743-9b63-4e6b-9075-49452e9b3306",
   "metadata": {},
   "outputs": [
    {
     "data": {
      "text/html": [
       "<div>\n",
       "<style scoped>\n",
       "    .dataframe tbody tr th:only-of-type {\n",
       "        vertical-align: middle;\n",
       "    }\n",
       "\n",
       "    .dataframe tbody tr th {\n",
       "        vertical-align: top;\n",
       "    }\n",
       "\n",
       "    .dataframe thead th {\n",
       "        text-align: right;\n",
       "    }\n",
       "</style>\n",
       "<table border=\"1\" class=\"dataframe\">\n",
       "  <thead>\n",
       "    <tr style=\"text-align: right;\">\n",
       "      <th></th>\n",
       "      <th>MedInc</th>\n",
       "      <th>HouseAge</th>\n",
       "      <th>AveRooms</th>\n",
       "      <th>AveBedrms</th>\n",
       "      <th>Population</th>\n",
       "      <th>AveOccup</th>\n",
       "      <th>Latitude</th>\n",
       "      <th>Longitude</th>\n",
       "      <th>MedHouseVal</th>\n",
       "    </tr>\n",
       "  </thead>\n",
       "  <tbody>\n",
       "    <tr>\n",
       "      <th>count</th>\n",
       "      <td>20640.000000</td>\n",
       "      <td>20640.000000</td>\n",
       "      <td>20640.000000</td>\n",
       "      <td>20640.000000</td>\n",
       "      <td>20640.000000</td>\n",
       "      <td>20640.000000</td>\n",
       "      <td>20640.000000</td>\n",
       "      <td>20640.000000</td>\n",
       "      <td>20640.000000</td>\n",
       "    </tr>\n",
       "    <tr>\n",
       "      <th>mean</th>\n",
       "      <td>3.870671</td>\n",
       "      <td>28.639486</td>\n",
       "      <td>5.429000</td>\n",
       "      <td>1.096675</td>\n",
       "      <td>1425.476744</td>\n",
       "      <td>3.070655</td>\n",
       "      <td>35.631861</td>\n",
       "      <td>-119.569704</td>\n",
       "      <td>2.068558</td>\n",
       "    </tr>\n",
       "    <tr>\n",
       "      <th>std</th>\n",
       "      <td>1.899822</td>\n",
       "      <td>12.585558</td>\n",
       "      <td>2.474173</td>\n",
       "      <td>0.473911</td>\n",
       "      <td>1132.462122</td>\n",
       "      <td>10.386050</td>\n",
       "      <td>2.135952</td>\n",
       "      <td>2.003532</td>\n",
       "      <td>1.153956</td>\n",
       "    </tr>\n",
       "    <tr>\n",
       "      <th>min</th>\n",
       "      <td>0.499900</td>\n",
       "      <td>1.000000</td>\n",
       "      <td>0.846154</td>\n",
       "      <td>0.333333</td>\n",
       "      <td>3.000000</td>\n",
       "      <td>0.692308</td>\n",
       "      <td>32.540000</td>\n",
       "      <td>-124.350000</td>\n",
       "      <td>0.149990</td>\n",
       "    </tr>\n",
       "    <tr>\n",
       "      <th>25%</th>\n",
       "      <td>2.563400</td>\n",
       "      <td>18.000000</td>\n",
       "      <td>4.440716</td>\n",
       "      <td>1.006079</td>\n",
       "      <td>787.000000</td>\n",
       "      <td>2.429741</td>\n",
       "      <td>33.930000</td>\n",
       "      <td>-121.800000</td>\n",
       "      <td>1.196000</td>\n",
       "    </tr>\n",
       "    <tr>\n",
       "      <th>50%</th>\n",
       "      <td>3.534800</td>\n",
       "      <td>29.000000</td>\n",
       "      <td>5.229129</td>\n",
       "      <td>1.048780</td>\n",
       "      <td>1166.000000</td>\n",
       "      <td>2.818116</td>\n",
       "      <td>34.260000</td>\n",
       "      <td>-118.490000</td>\n",
       "      <td>1.797000</td>\n",
       "    </tr>\n",
       "    <tr>\n",
       "      <th>75%</th>\n",
       "      <td>4.743250</td>\n",
       "      <td>37.000000</td>\n",
       "      <td>6.052381</td>\n",
       "      <td>1.099526</td>\n",
       "      <td>1725.000000</td>\n",
       "      <td>3.282261</td>\n",
       "      <td>37.710000</td>\n",
       "      <td>-118.010000</td>\n",
       "      <td>2.647250</td>\n",
       "    </tr>\n",
       "    <tr>\n",
       "      <th>max</th>\n",
       "      <td>15.000100</td>\n",
       "      <td>52.000000</td>\n",
       "      <td>141.909091</td>\n",
       "      <td>34.066667</td>\n",
       "      <td>35682.000000</td>\n",
       "      <td>1243.333333</td>\n",
       "      <td>41.950000</td>\n",
       "      <td>-114.310000</td>\n",
       "      <td>5.000010</td>\n",
       "    </tr>\n",
       "  </tbody>\n",
       "</table>\n",
       "</div>"
      ],
      "text/plain": [
       "             MedInc      HouseAge      AveRooms     AveBedrms    Population  \\\n",
       "count  20640.000000  20640.000000  20640.000000  20640.000000  20640.000000   \n",
       "mean       3.870671     28.639486      5.429000      1.096675   1425.476744   \n",
       "std        1.899822     12.585558      2.474173      0.473911   1132.462122   \n",
       "min        0.499900      1.000000      0.846154      0.333333      3.000000   \n",
       "25%        2.563400     18.000000      4.440716      1.006079    787.000000   \n",
       "50%        3.534800     29.000000      5.229129      1.048780   1166.000000   \n",
       "75%        4.743250     37.000000      6.052381      1.099526   1725.000000   \n",
       "max       15.000100     52.000000    141.909091     34.066667  35682.000000   \n",
       "\n",
       "           AveOccup      Latitude     Longitude   MedHouseVal  \n",
       "count  20640.000000  20640.000000  20640.000000  20640.000000  \n",
       "mean       3.070655     35.631861   -119.569704      2.068558  \n",
       "std       10.386050      2.135952      2.003532      1.153956  \n",
       "min        0.692308     32.540000   -124.350000      0.149990  \n",
       "25%        2.429741     33.930000   -121.800000      1.196000  \n",
       "50%        2.818116     34.260000   -118.490000      1.797000  \n",
       "75%        3.282261     37.710000   -118.010000      2.647250  \n",
       "max     1243.333333     41.950000   -114.310000      5.000010  "
      ]
     },
     "execution_count": 6,
     "metadata": {},
     "output_type": "execute_result"
    }
   ],
   "source": [
    "df.describe()"
   ]
  },
  {
   "cell_type": "markdown",
   "id": "b1884410-f3b0-4dc6-94c5-7f199695d853",
   "metadata": {},
   "source": [
    "Almost all the features have outliers. Median Income has avg. value of \\\\$38,70,671 but the maximum value is \\\\$1,50,00,100. House age has avg. value of 28.6 years but maximum value is 52 years, and so on."
   ]
  },
  {
   "cell_type": "code",
   "execution_count": 7,
   "id": "03052f41-eb00-401e-9ce3-ac62d7396c70",
   "metadata": {},
   "outputs": [
    {
     "data": {
      "text/plain": [
       "<AxesSubplot:>"
      ]
     },
     "execution_count": 7,
     "metadata": {},
     "output_type": "execute_result"
    },
    {
     "data": {
      "image/png": "[encoded data removed]",
      "text/plain": [
       "<Figure size 432x288 with 2 Axes>"
      ]
     },
     "metadata": {
      "needs_background": "light"
     },
     "output_type": "display_data"
    }
   ],
   "source": [
    "correlation_matrix = df.corr()\n",
    "sns.heatmap(correlation_matrix, annot = True, annot_kws = {'color':'black','size' : 8}, cmap = 'plasma', linewidth = 1)"
   ]
  },
  {
   "cell_type": "markdown",
   "id": "f1b015b9-e7ee-47de-a31c-d273f3b740fe",
   "metadata": {},
   "source": [
    "Not much of the features seem to be correlated, so we would have to use all the features here, Multiple Linear Regression that is. Also, we are not going to perform any kind of feature engineering. A thing to mark is that Median House Income and Median House Value have a correlation $ \\approx $ 0.7. So dropping one of the features will be helpful for learning. But here we will use all the features instead just for the sake of implementation. Trying to visualize the 2D analogue of the dataset, we can say that: \n",
    "\n",
    "Our training data set is scattered on the x-y plane. We are trying to make a straight line (defined by $ ℎ_𝜃(𝑥^{(𝑖)}) $) which passes through these scattered data points.\n",
    "\n",
    "<blockquote><em>Idea: Choose, paramenters $ \\theta : (\\theta_0 , \\theta_1, ..., \\theta_n)\\in \\mathbb{R}^{n+1} $, so that $ ℎ_𝜃(𝑥) $ is close to 𝑦 for our training examples (𝑥, 𝑦).</em></blockquote>\n",
    "\n",
    " We now introduce notation for equations where we can have any number of input variables.\n",
    " \n",
    " $ \\large x_j ^{(i)} $ = Value of feature $ j $ in $ i^{th} $ training example\n",
    "<br>$ \\large x^{(i)} $ = feature value vector of $ i^{th} $ training example = $ \\begin{bmatrix} x^{(i)}_0  & x^{(i)}_1 & x^{(i)}_2 & \\ldots & x^{(i)}_n \\end{bmatrix} \\in \\mathbb{R}^{n+1} $ , extra bias feature $ x^{(i)}_0 = 1 $\n",
    "<br>$ \\large m $ = # Training Examples = 14,450 here ,i.e, 70% of all the 20,640 instances \n",
    "<br>$ \\large n $ = # Features (8 here, excluding the o/p feature)\n",
    "<br>$ \\large h(x^{(i)}) $ = prediction of price of $ i^{th} $ training example\n",
    "\n",
    "<center><br><br> \n",
    "    $ \\large X_{train} = \\begin{bmatrix} \\longleftarrow x^{(0)} \\longrightarrow \\\\ \\longleftarrow x^{(1)} \\longrightarrow \\\\ \\longleftarrow x^{(2)} \\longrightarrow \\\\ \\vdots \\\\ \\longleftarrow x^{(14,450)} \\longrightarrow \\end{bmatrix} $ \n",
    "    $ \\large y_{train} = \\begin{bmatrix}y^{(0)} \\\\ y^{(1)} \\\\ y^{(2)} \\\\ \\vdots \\\\ y^{(14,450)} \\end{bmatrix} $ \n",
    "    $ \\large H_{train} = \\begin{bmatrix}h(x^{(0)}) \\\\ h(x^{(1)}) \\\\ h(x^{(2)}) \\\\ \\vdots \\\\ h(x^{(14,450)}) \\end{bmatrix} $ <br><br>\n",
    "    $ \\large X_{test} = \\begin{bmatrix} \\longleftarrow x^{(14,451)} \\longrightarrow \\\\ \\longleftarrow x^{(14,452)} \\longrightarrow \\\\ \\longleftarrow x^{(14,453)} \\longrightarrow \\\\ \\vdots \\\\ \\longleftarrow x^{(20,639)} \\longrightarrow \\end{bmatrix} $ \n",
    "    $ \\large y_{test} = \\begin{bmatrix}y^{(14,451)} \\\\ y^{(14,452)} \\\\ y^{(14,453)} \\\\ \\vdots \\\\ y^{(20,639)} \\end{bmatrix} $ $ \\large H_{test} = \\begin{bmatrix}h(x^{(14,451)}) \\\\ h(x^{(14,452)}) \\\\ h(x^{(14,453)}) \\\\ \\vdots \\\\ h(x^{(20,639)}) \\end{bmatrix} $</center>\n"
   ]
  },
  {
   "cell_type": "markdown",
   "id": "476850f0-10f6-4424-8692-cafd0dd5c929",
   "metadata": {},
   "source": [
    "---\n",
    "# Using Sk-Learn\n",
    "\n",
    "## No Regularization\n",
    "`LinearRegression` fits a linear model with coefficients $ w = (w_1, w_2, ..., w_p) $ to minimize the residual sum of squares between the observed targets in the dataset, and the targets predicted by the linear approximation. Mathematically it solves a problem of the form:\n",
    "\n",
    "<center>$ \\large \\min_{w} || X w - y||_2^2 $</center>\n",
    "\n",
    "$ ||Xw-y||_2 $ represents $ \\ell_2 $ norm of $ Xw - y $"
   ]
  },
  {
   "cell_type": "code",
   "execution_count": 8,
   "id": "670fab53-b887-407b-8184-f2d8a12471ca",
   "metadata": {},
   "outputs": [],
   "source": [
    "from sklearn import linear_model"
   ]
  },
  {
   "cell_type": "markdown",
   "id": "68815a57-5450-4c62-a641-e53da640c040",
   "metadata": {},
   "source": [
    "`LinearRegression` will take in its fit method arrays X, y and will store the coefficients  of the linear model in its coef_ member:\n",
    "- `fit_intercept` : The function takes `fit_intercept` as a boolean value (default - True) so as to whether to calculate the intercept term for the model. If set to False, no intercept will be used in calculations (i.e. data is expected to be centered, i.e, normalized). \n",
    "- `normalize` : The function takes `normalize` as a boolean value(default - false) so as to whether normalize the data before fitting the model. If True, the regressors X will be normalized before regression by subtracting the mean and dividing by the l2-norm. If you wish to standardize, use `StandardScaler` before calling fit on an estimator with `normalize=False`.\n",
    "\n",
    "`fit_intercept` and `normalize` go hand-in-hand. If one is `True` other must be `False`. Here we are not scaling the dataset\n",
    "\n",
    "\n",
    "- `positive` : When set to True (default - False), forces the coefficients to be positive. This option is only supported for dense arrays."
   ]
  },
  {
   "cell_type": "code",
   "execution_count": 9,
   "id": "d4cb8c2d-3d28-4efe-8518-c81942c3a721",
   "metadata": {},
   "outputs": [],
   "source": [
    "regr = linear_model.LinearRegression()"
   ]
  },
  {
   "cell_type": "code",
   "execution_count": 10,
   "id": "2ee0d9a2-05ec-43db-a488-a6e252c89825",
   "metadata": {},
   "outputs": [],
   "source": [
    "from sklearn.model_selection import train_test_split\n",
    "X_train, X_test, y_train, y_test = train_test_split(X,y,test_size = 0.3, random_state = 42)"
   ]
  },
  {
   "cell_type": "markdown",
   "id": "2693ebec-bb82-4117-8765-91f8a84bcc41",
   "metadata": {},
   "source": [
    "Scaling the data using `StandardScaler()`"
   ]
  },
  {
   "cell_type": "code",
   "execution_count": 11,
   "id": "16e8e868-d843-4752-81d9-bc7593f07401",
   "metadata": {},
   "outputs": [],
   "source": [
    "from sklearn.preprocessing import StandardScaler"
   ]
  },
  {
   "cell_type": "code",
   "execution_count": 12,
   "id": "2d9f95a0-4345-49e7-8eea-3b63b12e6ed1",
   "metadata": {},
   "outputs": [],
   "source": [
    "scaler = StandardScaler()"
   ]
  },
  {
   "cell_type": "code",
   "execution_count": 13,
   "id": "223169d6-b3ab-46b4-91de-61f2f1f223c5",
   "metadata": {},
   "outputs": [],
   "source": [
    "X_train_transformed = scaler.fit_transform(X_train)"
   ]
  },
  {
   "cell_type": "markdown",
   "id": "f7fca2e7-2b76-427c-ba89-914d9a9de097",
   "metadata": {},
   "source": [
    "Fitting on the dataset is done with `.fit` method. "
   ]
  },
  {
   "cell_type": "code",
   "execution_count": 14,
   "id": "177cd692-3be9-47a9-b512-6f1f98178f8f",
   "metadata": {},
   "outputs": [],
   "source": [
    "model = regr.fit(X_train_transformed, y_train)"
   ]
  },
  {
   "cell_type": "markdown",
   "id": "55700738-6db4-4e24-998d-bf8d4e5b370c",
   "metadata": {},
   "source": [
    "Coefficients of 'fitted' model can be fetched with `.coef` and `.intercept` methods:"
   ]
  },
  {
   "cell_type": "code",
   "execution_count": 15,
   "id": "56197b4e-78ed-4d37-af3a-658caa5c3597",
   "metadata": {},
   "outputs": [
    {
     "data": {
      "text/plain": [
       "array([ 8.49221760e-01,  1.22119309e-01, -2.99558449e-01,  3.48409673e-01,\n",
       "       -8.84488134e-04, -4.16980388e-02, -8.93855649e-01, -8.68616688e-01])"
      ]
     },
     "execution_count": 15,
     "metadata": {},
     "output_type": "execute_result"
    }
   ],
   "source": [
    "model.coef_"
   ]
  },
  {
   "cell_type": "code",
   "execution_count": 16,
   "id": "86e620dd-1579-4c50-9a69-fed826ba1c07",
   "metadata": {},
   "outputs": [
    {
     "data": {
      "text/plain": [
       "2.0692396089424165"
      ]
     },
     "execution_count": 16,
     "metadata": {},
     "output_type": "execute_result"
    }
   ],
   "source": [
    "model.intercept_"
   ]
  },
  {
   "cell_type": "markdown",
   "id": "5059d60c-04a3-4677-ad0d-265a57fb2c1d",
   "metadata": {},
   "source": [
    "Making predictions on test set using `.predict` method. Note that the test dataset must be `transform`ed and not `fit`ted before predicting otherwise it may lead to inconsistent pre-processing"
   ]
  },
  {
   "cell_type": "code",
   "execution_count": 17,
   "id": "4149b864-4192-49d4-9f0c-f4555c75d643",
   "metadata": {},
   "outputs": [],
   "source": [
    "X_test_transformed = scaler.transform(X_test)"
   ]
  },
  {
   "cell_type": "code",
   "execution_count": 18,
   "id": "15fcd7ab-a8ad-440a-978b-6d5e272bec4d",
   "metadata": {},
   "outputs": [],
   "source": [
    "y_pred = model.predict(X_test_transformed) #same as H_test"
   ]
  },
  {
   "cell_type": "code",
   "execution_count": 19,
   "id": "d2721395-cdbc-4a39-bcc7-ffe9b07aee15",
   "metadata": {},
   "outputs": [
    {
     "data": {
      "text/plain": [
       "array([0.72604907, 1.76743383, 2.71092161, ..., 2.07465531, 1.57371395,\n",
       "       1.82744133])"
      ]
     },
     "execution_count": 19,
     "metadata": {},
     "output_type": "execute_result"
    }
   ],
   "source": [
    "y_pred"
   ]
  },
  {
   "cell_type": "code",
   "execution_count": 20,
   "id": "9c2069d8-5bbd-465e-a412-6aa7c45f0fad",
   "metadata": {},
   "outputs": [
    {
     "data": {
      "text/plain": [
       "20046    0.47700\n",
       "3024     0.45800\n",
       "15663    5.00001\n",
       "20484    2.18600\n",
       "9814     2.78000\n",
       "          ...   \n",
       "17505    2.37500\n",
       "13512    0.67300\n",
       "10842    2.18400\n",
       "16559    1.19400\n",
       "5786     2.09800\n",
       "Name: MedHouseVal, Length: 6192, dtype: float64"
      ]
     },
     "execution_count": 20,
     "metadata": {},
     "output_type": "execute_result"
    }
   ],
   "source": [
    "y_test"
   ]
  },
  {
   "cell_type": "markdown",
   "id": "944c7c32-0056-4261-993f-8b9760abdf8d",
   "metadata": {},
   "source": [
    "Furthermore, we can report the mean squared error, and R squared metrics:"
   ]
  },
  {
   "cell_type": "code",
   "execution_count": 21,
   "id": "49fa1dc5-0fc6-41c1-8261-4475a41ca1c1",
   "metadata": {},
   "outputs": [
    {
     "data": {
      "text/plain": [
       "0.5957702326061664"
      ]
     },
     "execution_count": 21,
     "metadata": {},
     "output_type": "execute_result"
    }
   ],
   "source": [
    "model.score(X_test_transformed, y_test)"
   ]
  },
  {
   "cell_type": "code",
   "execution_count": 22,
   "id": "d96c536c-88a2-45b7-9475-ae7bf7393875",
   "metadata": {},
   "outputs": [],
   "source": [
    "from sklearn.metrics import mean_squared_error, r2_score"
   ]
  },
  {
   "cell_type": "code",
   "execution_count": 23,
   "id": "111a89e0-2040-4c6a-b517-f78450778414",
   "metadata": {},
   "outputs": [],
   "source": [
    "MSE = mean_squared_error(y_test, y_pred)\n",
    "r2score = r2_score(y_test,y_pred)"
   ]
  },
  {
   "cell_type": "code",
   "execution_count": 24,
   "id": "07216bbc-df0e-4b88-b893-8187e8374e9b",
   "metadata": {},
   "outputs": [
    {
     "name": "stdout",
     "output_type": "stream",
     "text": [
      "MSE: 0.53\n",
      "R^2: 0.60\n"
     ]
    }
   ],
   "source": [
    "print('MSE: %.2f' % MSE)\n",
    "print('R^2: %.2f' % r2score) #can also use model.score"
   ]
  },
  {
   "cell_type": "markdown",
   "id": "4ce12a97-57c7-49b5-8e71-3b77f2de88ed",
   "metadata": {},
   "source": [
    "The least squares solution is computed using the singular value decomposition of X. If X is a matrix of shape `(n_samples, n_features)` this method has a cost of \n",
    "\n",
    "$ \\large O(n_{samples} n_{features}^2) $ or $ \\large O(mn^2) $"
   ]
  },
  {
   "cell_type": "markdown",
   "id": "715f1f70-0c4e-488a-8bb8-709a094963c0",
   "metadata": {},
   "source": [
    "## $L_1$-Regularization or Lasso Regression\n",
    "\n",
    "Linear Model trained with L1 prior as regularizer (aka the Lasso).\n",
    "\n",
    "The optimization objective for Lasso(least absolute shrinkage and selection operator) is:\n",
    "\n",
    "<center>$ \\large \\min_{w} || X w - y||_2^2 + \\alpha ||w||_2 $"
   ]
  },
  {
   "cell_type": "code",
   "execution_count": 25,
   "id": "4731323d-3990-4c5b-ac75-94bc6bfd294a",
   "metadata": {},
   "outputs": [],
   "source": [
    "regl = linear_model.Lasso(alpha = 0.02) "
   ]
  },
  {
   "cell_type": "code",
   "execution_count": 26,
   "id": "8200a75b-18bf-497f-8239-49881bff9b13",
   "metadata": {},
   "outputs": [],
   "source": [
    "regl_fit = regl.fit(X_train_transformed, y_train)"
   ]
  },
  {
   "cell_type": "code",
   "execution_count": 27,
   "id": "acd25345-f7ac-4bd7-902d-0a0a08b02f48",
   "metadata": {},
   "outputs": [
    {
     "name": "stdout",
     "output_type": "stream",
     "text": [
      "Coefficients: \n",
      " [ 0.74066563  0.13010627 -0.02386819  0.06944695  0.         -0.02064872\n",
      " -0.68675402 -0.6459667 ]\n",
      "\n",
      "Intercept:\t 2.07\n"
     ]
    }
   ],
   "source": [
    "print(\"Coefficients: \\n\" , regl_fit.coef_)\n",
    "print(\"\\nIntercept:\\t %.2f\" %regl_fit.intercept_)"
   ]
  },
  {
   "cell_type": "code",
   "execution_count": 28,
   "id": "8cdd50bd-1830-4ba6-9f3f-a93fc6ec3a3c",
   "metadata": {},
   "outputs": [],
   "source": [
    "y_pred = regl.predict(X_test_transformed)"
   ]
  },
  {
   "cell_type": "code",
   "execution_count": 29,
   "id": "5f9ecd37-9d33-4491-8b9f-559e5d41568f",
   "metadata": {},
   "outputs": [
    {
     "data": {
      "text/plain": [
       "array([0.86091486, 1.7043388 , 2.41730458, ..., 1.90869354, 1.63161365,\n",
       "       1.68709363])"
      ]
     },
     "execution_count": 29,
     "metadata": {},
     "output_type": "execute_result"
    }
   ],
   "source": [
    "y_pred"
   ]
  },
  {
   "cell_type": "code",
   "execution_count": 30,
   "id": "539074eb-e139-41cf-b02c-f8ff848cf540",
   "metadata": {},
   "outputs": [
    {
     "data": {
      "text/plain": [
       "20046    0.47700\n",
       "3024     0.45800\n",
       "15663    5.00001\n",
       "20484    2.18600\n",
       "9814     2.78000\n",
       "          ...   \n",
       "17505    2.37500\n",
       "13512    0.67300\n",
       "10842    2.18400\n",
       "16559    1.19400\n",
       "5786     2.09800\n",
       "Name: MedHouseVal, Length: 6192, dtype: float64"
      ]
     },
     "execution_count": 30,
     "metadata": {},
     "output_type": "execute_result"
    }
   ],
   "source": [
    "y_test"
   ]
  },
  {
   "cell_type": "code",
   "execution_count": 31,
   "id": "d7895689-e3ca-45d8-9262-0c93b3ed8f45",
   "metadata": {},
   "outputs": [
    {
     "name": "stdout",
     "output_type": "stream",
     "text": [
      "MSE : 0.54\n",
      "R2 Score : 0.59\n",
      "R2 Score : 0.59\n"
     ]
    }
   ],
   "source": [
    "print(\"MSE : %.2f\" %mean_squared_error(y_test, y_pred))\n",
    "#2 ways of calculating r2 score\n",
    "print(\"R2 Score : %.2f\" %regl_fit.score(X_test_transformed,y_test)) \n",
    "print(\"R2 Score : %.2f\" %r2_score(y_test, y_pred))"
   ]
  },
  {
   "cell_type": "markdown",
   "id": "c3d088ed-4a72-4d66-9ddb-923b794afd8e",
   "metadata": {},
   "source": [
    "## $L_2$-Regularization or Ridge Regression\n",
    "Ridge regression addresses some of the problems of Ordinary Least Squares by imposing a penalty on the size of the coefficients. The ridge coefficients minimize a penalized residual sum of squares. Thus its same as regularization, alpha here is same as lambda of cost function:\n",
    "\n",
    "<center>$ \\large \\min_{w} || X w - y||_2^2 + \\alpha ||w||_2^2 $"
   ]
  },
  {
   "cell_type": "code",
   "execution_count": 32,
   "id": "bbff26cc-4843-4c96-9fee-74429e570abd",
   "metadata": {},
   "outputs": [],
   "source": [
    "#note the difference in alpha of both the regressions\n",
    "regr = linear_model.Ridge(alpha = .5)"
   ]
  },
  {
   "cell_type": "code",
   "execution_count": 33,
   "id": "8d2c7b91-ed6e-4919-bd1f-43a115526a40",
   "metadata": {},
   "outputs": [],
   "source": [
    "regr_fit = regr.fit(X_train_transformed,y_train)"
   ]
  },
  {
   "cell_type": "code",
   "execution_count": 34,
   "id": "7dbbdd12-31c8-4187-9304-0e67bc8012d6",
   "metadata": {},
   "outputs": [
    {
     "name": "stdout",
     "output_type": "stream",
     "text": [
      "Coefficients: \n",
      " [ 8.49187003e-01  1.22163915e-01 -2.99433851e-01  3.48256073e-01\n",
      " -8.69308401e-04 -4.17002422e-02 -8.93429192e-01 -8.68184187e-01]\n",
      "\n",
      "Intercept:\t 2.07\n"
     ]
    }
   ],
   "source": [
    "print(\"Coefficients: \\n\" , regr_fit.coef_)\n",
    "print(\"\\nIntercept:\\t %.2f\" %regr_fit.intercept_)"
   ]
  },
  {
   "cell_type": "code",
   "execution_count": 35,
   "id": "a65cdbad-6317-4366-9d58-ea88feda744c",
   "metadata": {},
   "outputs": [],
   "source": [
    "y_pred = regr.predict(X_test_transformed)"
   ]
  },
  {
   "cell_type": "code",
   "execution_count": 36,
   "id": "b969ea30-9861-44c3-a16e-2da6ef1930da",
   "metadata": {},
   "outputs": [
    {
     "data": {
      "text/plain": [
       "array([0.72624432, 1.76733713, 2.71071857, ..., 2.07455396, 1.57379547,\n",
       "       1.82736305])"
      ]
     },
     "execution_count": 36,
     "metadata": {},
     "output_type": "execute_result"
    }
   ],
   "source": [
    "y_pred"
   ]
  },
  {
   "cell_type": "code",
   "execution_count": 37,
   "id": "af9a7d7f-c2c9-4b36-a5a6-481a908b0ade",
   "metadata": {},
   "outputs": [
    {
     "data": {
      "text/plain": [
       "20046    0.47700\n",
       "3024     0.45800\n",
       "15663    5.00001\n",
       "20484    2.18600\n",
       "9814     2.78000\n",
       "          ...   \n",
       "17505    2.37500\n",
       "13512    0.67300\n",
       "10842    2.18400\n",
       "16559    1.19400\n",
       "5786     2.09800\n",
       "Name: MedHouseVal, Length: 6192, dtype: float64"
      ]
     },
     "execution_count": 37,
     "metadata": {},
     "output_type": "execute_result"
    }
   ],
   "source": [
    "y_test"
   ]
  },
  {
   "cell_type": "code",
   "execution_count": 38,
   "id": "da43d625-6268-4810-980c-6cf4086b7838",
   "metadata": {},
   "outputs": [
    {
     "name": "stdout",
     "output_type": "stream",
     "text": [
      "MSE : 0.53\n",
      "R2 Score : 0.60\n",
      "R2 Score : 0.60\n"
     ]
    }
   ],
   "source": [
    "print(\"MSE : %.2f\" %mean_squared_error(y_test, y_pred))\n",
    "#2 ways of calculating r2 score\n",
    "print(\"R2 Score : %.2f\" %regr_fit.score(X_test_transformed,y_test)) \n",
    "print(\"R2 Score : %.2f\" %r2_score(y_test, y_pred))"
   ]
  },
  {
   "cell_type": "markdown",
   "id": "3f37f352-9dea-4168-8098-a6c8dc71a7ab",
   "metadata": {},
   "source": [
    "This method has the same order of complexity as Ordinary Least Squares."
   ]
  },
  {
   "cell_type": "markdown",
   "id": "6a947244-1014-403c-a41c-95921ac48ca8",
   "metadata": {},
   "source": [
    "## Elastic Net Regression\n",
    "\n",
    "Linear regression with combined L1 and L2 priors as regularizer. The lasso penalty function has several limitations. For example, in the \"large p, small n\" case (high-dimensional data with few examples), the LASSO selects at most n variables before it saturates. Also if there is a group of highly correlated variables, then the LASSO tends to select one variable from a group and ignore the others. To overcome these limitations, the elastic net adds a quadratic part to the penalty, which when used alone is ridge regression. The estimates from the elastic net method are defined by\n",
    "\n",
    "<center>$ \\large \\min_{w} || X w - y||_2^2 + \\lambda_1 ||w||_2 + \\lambda_2 ||w||_2^2 $</center>\n",
    "    \n",
    "<br>\n",
    "The quadratic penalty term makes the loss function strongly convex, and it therefore has a unique minimum. The elastic net method includes the LASSO and ridge regression: in other words, each of them is a special case where \n",
    "\n",
    "$$\n",
    "\\large \\lambda_{1}=\\lambda ,\\lambda_{2}=0 \\ or \\lambda_1 = 0, \\lambda_2 = \\lambda   \n",
    "$$"
   ]
  },
  {
   "cell_type": "code",
   "execution_count": 39,
   "id": "4451903a-eda6-426e-95d4-4c21f030892e",
   "metadata": {},
   "outputs": [],
   "source": [
    "from sklearn.linear_model import ElasticNet"
   ]
  },
  {
   "cell_type": "markdown",
   "id": "ce7a19e5-31ac-45af-9eed-95b1364aa422",
   "metadata": {},
   "source": [
    "Selected alpha = 2.85 after several trials"
   ]
  },
  {
   "cell_type": "code",
   "execution_count": 40,
   "id": "b4e85de8-bfad-4159-9101-bf27523ce0ec",
   "metadata": {},
   "outputs": [],
   "source": [
    "rege = linear_model.ElasticNet(alpha = 2.85, random_state = 42)"
   ]
  },
  {
   "cell_type": "code",
   "execution_count": 41,
   "id": "a5750ae3-a405-4448-81ac-28500531cfbe",
   "metadata": {},
   "outputs": [],
   "source": [
    "rege_fit = rege.fit(X_train, y_train)"
   ]
  },
  {
   "cell_type": "code",
   "execution_count": 42,
   "id": "c2650f8e-1f84-4412-a5bb-346f97e1d4a9",
   "metadata": {},
   "outputs": [
    {
     "name": "stdout",
     "output_type": "stream",
     "text": [
      "Coefficients: \n",
      " [ 1.86339500e-02  5.69730713e-04  0.00000000e+00 -0.00000000e+00\n",
      " -2.18644376e-05 -0.00000000e+00 -0.00000000e+00 -0.00000000e+00]\n",
      "\n",
      "Intercept:\t 2.01\n"
     ]
    }
   ],
   "source": [
    "print(\"Coefficients: \\n\" , rege_fit.coef_)\n",
    "print(\"\\nIntercept:\\t %.2f\" %rege_fit.intercept_)"
   ]
  },
  {
   "cell_type": "code",
   "execution_count": 43,
   "id": "e6ce1808-a510-4b26-8b07-74bfdf8168e1",
   "metadata": {},
   "outputs": [],
   "source": [
    "y_pred = rege.predict(X_test_transformed)"
   ]
  },
  {
   "cell_type": "code",
   "execution_count": 44,
   "id": "28cc299a-5c64-49cb-9b99-70ca2d09c5dc",
   "metadata": {},
   "outputs": [
    {
     "data": {
      "text/plain": [
       "array([1.9902984 , 1.99883696, 2.00911713, ..., 2.00773206, 2.00879335,\n",
       "       2.00329454])"
      ]
     },
     "execution_count": 44,
     "metadata": {},
     "output_type": "execute_result"
    }
   ],
   "source": [
    "y_pred"
   ]
  },
  {
   "cell_type": "code",
   "execution_count": 45,
   "id": "e257531f-a5c0-495f-96c5-58113ad1e85d",
   "metadata": {},
   "outputs": [
    {
     "data": {
      "text/plain": [
       "20046    0.47700\n",
       "3024     0.45800\n",
       "15663    5.00001\n",
       "20484    2.18600\n",
       "9814     2.78000\n",
       "          ...   \n",
       "17505    2.37500\n",
       "13512    0.67300\n",
       "10842    2.18400\n",
       "16559    1.19400\n",
       "5786     2.09800\n",
       "Name: MedHouseVal, Length: 6192, dtype: float64"
      ]
     },
     "execution_count": 45,
     "metadata": {},
     "output_type": "execute_result"
    }
   ],
   "source": [
    "y_test"
   ]
  },
  {
   "cell_type": "code",
   "execution_count": 46,
   "id": "b3ce76d8-76c1-49ed-b7c5-6fcddbf83e0b",
   "metadata": {},
   "outputs": [
    {
     "name": "stdout",
     "output_type": "stream",
     "text": [
      "MSE : 1.29\n",
      "R2 Score : 0.02\n",
      "R2 Score : 0.02\n"
     ]
    }
   ],
   "source": [
    "print(\"MSE : %.2f\" %mean_squared_error(y_test, y_pred))\n",
    "#2 ways of calculating r2 score\n",
    "print(\"R2 Score : %.2f\" %rege_fit.score(X_test_transformed,y_test)) \n",
    "print(\"R2 Score : %.2f\" %r2_score(y_test, y_pred))"
   ]
  }
 ],
 "metadata": {
  "kernelspec": {
   "display_name": "Python 3 (ipykernel)",
   "language": "python",
   "name": "python3"
  },
  "language_info": {
   "codemirror_mode": {
    "name": "ipython",
    "version": 3
   },
   "file_extension": ".py",
   "mimetype": "text/x-python",
   "name": "python",
   "nbconvert_exporter": "python",
   "pygments_lexer": "ipython3",
   "version": "3.9.7"
  }
 },
 "nbformat": 4,
 "nbformat_minor": 5
}
